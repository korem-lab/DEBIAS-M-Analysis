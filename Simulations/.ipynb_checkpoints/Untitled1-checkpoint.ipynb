{
 "cells": [
  {
   "cell_type": "code",
   "execution_count": 273,
   "id": "3651c7ea",
   "metadata": {},
   "outputs": [],
   "source": [
    "import numpy as np\n",
    "import pandas as pd\n",
    "from debiasm.sklearn_functions import AdaptationDebiasMClassifier, \\\n",
    "                                            DebiasMClassifier\n",
    "from debiasm.torch_functions import rescale\n",
    "import seaborn as sns\n",
    "import matplotlib.pyplot as plt\n",
    "from scipy.spatial.distance import jensenshannon\n",
    "import torch\n",
    "from sklearn.model_selection import cross_val_score\n",
    "import subprocess\n",
    "def flatten(xss):\n",
    "    return [x for xs in xss for x in xs]"
   ]
  },
  {
   "cell_type": "code",
   "execution_count": 229,
   "id": "77129e16",
   "metadata": {},
   "outputs": [],
   "source": [
    "def set_up_prediction_eval_run(samples_,\n",
    "                               n_studies, \n",
    "                               n_per_study,\n",
    "                               n_features,\n",
    "                               phenotype_std,\n",
    "                               read_depth, \n",
    "                               bcf_stdv = 2, \n",
    "                               linear_weights_stdv = 2,\n",
    "                               seed=0):\n",
    "    \n",
    "    np.random.seed(seed)\n",
    "    torch.manual_seed(seed)\n",
    "    \n",
    "    \n",
    "    # drop samples/features not needed for this run\n",
    "    samples=samples_.sample(n=n_studies * n_per_study, \n",
    "                           replace=False)\\\n",
    "                .T.sample(n=n_features, replace=False).T\n",
    "    \n",
    "    ## simulated bcfs\n",
    "    true_bcfs = np.random.normal(scale=bcf_stdv,\n",
    "                                 size = (n_studies, n_features)\n",
    "                                 )\n",
    "    \n",
    "    ## simulated linear weights\n",
    "    true_weights = np.random.normal(scale=linear_weights_stdv, \n",
    "                                    size = n_features\n",
    "                                    )\n",
    "\n",
    "    ## simulated phenotypes / covariates\n",
    "    phenotypes = samples @ true_weights[:, np.newaxis]\n",
    "    if phenotype_std > 0:\n",
    "        phenotypes += np.random.normal(scale = phenotype_std,\n",
    "                                       size=phenotypes.shape)\n",
    "    \n",
    "    covar_weights = np.random.normal(scale=linear_weights_stdv, \n",
    "                                     size = n_features\n",
    "                                     )\n",
    "    covariates = samples @ true_weights[:, np.newaxis]\n",
    "    if phenotype_std > 0:\n",
    "        covariates += np.random.normal(scale = phenotype_std,\n",
    "                                       size=phenotypes.shape)\n",
    "    \n",
    "    \n",
    "    studies = pd.Series( [ i // n_per_study for i in range(samples.shape[0]) \n",
    "                                     ] , \n",
    "                        index=samples.index, \n",
    "                        name='studies')\n",
    "\n",
    "    samples_transformed = pd.DataFrame( ( rescale( samples.values *\\\n",
    "                                    np.power(2, true_bcfs)[studies] \n",
    "                                    )*read_depth\n",
    "                              ).astype(int), \n",
    "                                       index=samples.index, \n",
    "                                       columns=samples.columns\n",
    "                                      )\n",
    "    \n",
    "    y=phenotypes.values[:, 0] > phenotypes.median().values[0] \n",
    "    cov=covariates.values[:, 0] > covariates.median().values[0]\n",
    "    \n",
    "#     n_samples = samples.shape[0]\n",
    "\n",
    "#     if type( read_depth ) == np.ndarray:\n",
    "#         read_depth=1e4\n",
    "        \n",
    "#     if type(bcf_stdv)==np.ndarray:\n",
    "#         bcf_stdv='varied'\n",
    "        \n",
    "    \n",
    "    \n",
    "#     summary_df = pd.DataFrame({\n",
    "#                                'N_studies':n_studies, \n",
    "#                                'N_per_study':n_per_study, \n",
    "#                                'N_features':n_features, \n",
    "#                                'Pheno_noise':phenotype_std, \n",
    "#                                'Read_depth':read_depth, \n",
    "#                                'BCF_std':bcf_stdv,\n",
    "#                                'run_num':seed\n",
    "#                               })\n",
    "    \n",
    "    run_description = '_'.join( [a.replace('_', '-') + '-' + str(b)\n",
    "                                 for a,b in \n",
    "                                   {'N_studies':n_studies, \n",
    "                                   'N_per_study':n_per_study, \n",
    "                                   'N_features':n_features, \n",
    "                                   'Pheno_noise':phenotype_std, \n",
    "                                   'Read_depth':int(read_depth), \n",
    "                                   'BCF_std':bcf_stdv,\n",
    "                                   'run_num':seed}.items()]\n",
    "                                )\n",
    "    \n",
    "    return(samples_transformed, \n",
    "           y, \n",
    "           cov,\n",
    "           studies, \n",
    "           samples\n",
    "           )"
   ]
  },
  {
   "cell_type": "code",
   "execution_count": null,
   "id": "71af6697",
   "metadata": {},
   "outputs": [],
   "source": [
    "all_true_bcfs = []\n",
    "all_fitted_bcfs = []\n",
    "all_results = []\n",
    "first_run=True\n",
    "for n_features in [10]:\n",
    "    for n_studies in [4]:\n",
    "        for n_per_study in [96]:\n",
    "            for phenotype_std in [1]:\n",
    "                for read_depth in [1e4]:\n",
    "                    for seed in range(1,25):\n",
    "                        all_rocs=[]\n",
    "                        all_names=[]\n",
    "                        np.random.seed(seed)\n",
    "                        torch.manual_seed(seed)\n",
    "                        print(seed)\n",
    "                        samples_transformed,  \\\n",
    "                                   y,  \\\n",
    "                                   cov, \\\n",
    "                                   studies, \\\n",
    "                                samples_true \\\n",
    "                            = set_up_prediction_eval_run(data,\n",
    "                                             n_studies, \n",
    "                                             n_per_study,\n",
    "                                             n_features,\n",
    "                                             phenotype_std,\n",
    "                                             read_depth, \n",
    "                                             bcf_stdv = 2, \n",
    "                                             seed=seed\n",
    "                                             )\n",
    "                        \n",
    "                        s_relab = pd.DataFrame( \n",
    "                                       rescale( samples_transformed.values ), \n",
    "                                       index=samples_transformed.index, \n",
    "                                       columns=samples_transformed.columns )\n",
    "                        raw_auroc=cross_val_score(LogisticRegression(penalty='none'), \n",
    "                                        X=s_relab, \n",
    "                                        y=y, \n",
    "                                        groups=studies,\n",
    "                                        cv=LeaveOneGroupOut(),\n",
    "                                        scoring='roc_auc'\n",
    "                                       )\n",
    "\n",
    "                        all_rocs.append(raw_auroc)\n",
    "                        all_names.append(['Baseline']*n_studies)\n",
    "                        \n",
    "                        samples_transformed_with_batch = pd.concat([studies, \n",
    "                                            samples_transformed\n",
    "                                           ], \n",
    "                                           axis=1 ).values\n",
    "\n",
    "                        dmco=cross_val_predict(DebiasMClassifier(x_val=samples_transformed_with_batch), \n",
    "                                        X=samples_transformed_with_batch, \n",
    "                                        y=y, \n",
    "                                        groups=studies,\n",
    "                                        cv=LeaveOneGroupOut(),\n",
    "                                        method='predict_proba',\n",
    "                                       )\n",
    "                        \n",
    "                        logo=LeaveOneGroupOut()\n",
    "                        all_rocs.append( [ roc_auc_score(y[test_inds],\n",
    "                                                         dmco[:, 1][test_inds] )\n",
    "                                          for train_inds, test_inds in \n",
    "                                         logo.split(samples_transformed_with_batch, \n",
    "                                                    y, \n",
    "                                                    studies) ] )\n",
    "\n",
    "                        all_names.append(['DEBIAS-M']*n_studies)\n",
    "                        \n",
    "                        ### run the R script\n",
    "                        ## os.system....\n",
    "                        \n",
    "                        for a in pths:\n",
    "                            tt=pd.read_csv(a, index_col=0) \n",
    "                            if a not in pths[-2:]:\n",
    "                                tt=rescale(tt.values)\n",
    "                            else:\n",
    "                                tt=tt.values\n",
    "                            print(a)\n",
    "                            sc = cross_val_score(LogisticRegression(penalty='none'), \n",
    "                                                    X=tt, \n",
    "                                                    y=y, \n",
    "                                                    groups=studies,\n",
    "                                                    cv=LeaveOneGroupOut(),\n",
    "                                                    scoring='roc_auc'\n",
    "                                                   )\n",
    "\n",
    "                            all_rocs.append(sc)\n",
    "                            all_names.append([a]*n_studies)\n",
    "                        \n",
    "                        \n",
    "                        all_df= pd.DataFrame({'Group':all_names,\n",
    "                                       'auROC':all_rocs,\n",
    "                                       'N_studies':n_studies, \n",
    "                                       'N_per_study':n_per_study, \n",
    "                                       'N_features':n_features, \n",
    "                                       'Pheno_noise':phenotype_std, \n",
    "                                       'Read_depth':int(read_depth), \n",
    "                                       'run_num':seed}).explode(['Group', 'auROC'])\n",
    "                        \n",
    "                        if first_run:\n",
    "                                all_df.to_csv(out_path)\n",
    "                                first_run=False\n",
    "                            else:\n",
    "                                pd.concat([pd.read_csv(out_path, index_col=0), \n",
    "                                           all_df]).to_csv(out_path)\n",
    "                        break"
   ]
  },
  {
   "cell_type": "code",
   "execution_count": 293,
   "id": "b4138bac",
   "metadata": {},
   "outputs": [
    {
     "data": {
      "text/plain": [
       "(32, 8)"
      ]
     },
     "execution_count": 293,
     "metadata": {},
     "output_type": "execute_result"
    }
   ],
   "source": [
    " pd.DataFrame({'Group':all_names,\n",
    "               'auROC':all_rocs,\n",
    "               'N_studies':n_studies, \n",
    "               'N_per_study':n_per_study, \n",
    "               'N_features':n_features, \n",
    "               'Pheno_noise':phenotype_std, \n",
    "               'Read_depth':int(read_depth), \n",
    "               'run_num':seed}).explode(['Group', 'auROC'])"
   ]
  },
  {
   "cell_type": "code",
   "execution_count": 296,
   "id": "291fd7ae",
   "metadata": {},
   "outputs": [],
   "source": [
    "# 8*4"
   ]
  },
  {
   "cell_type": "code",
   "execution_count": null,
   "id": "9eb3deb9",
   "metadata": {},
   "outputs": [],
   "source": []
  },
  {
   "cell_type": "code",
   "execution_count": 231,
   "id": "6d077238",
   "metadata": {},
   "outputs": [],
   "source": [
    "pd.DataFrame({'label':cov, \n",
    "             'Study':studies}, \n",
    "             index=samples_transformed.index\n",
    "            ).to_csv('tmp-dataset-with-added-bias/md.csv')\n",
    "samples_transformed.to_csv('tmp-dataset-with-added-bias/data.csv')"
   ]
  },
  {
   "cell_type": "code",
   "execution_count": 243,
   "id": "76231634",
   "metadata": {},
   "outputs": [],
   "source": [
    "all_rocs=[]\n",
    "all_names=[]\n",
    "all_phestd=[]"
   ]
  },
  {
   "cell_type": "code",
   "execution_count": 261,
   "id": "52f1a6f7",
   "metadata": {},
   "outputs": [
    {
     "data": {
      "text/plain": [
       "4"
      ]
     },
     "execution_count": 261,
     "metadata": {},
     "output_type": "execute_result"
    }
   ],
   "source": [
    "n_studies"
   ]
  },
  {
   "cell_type": "code",
   "execution_count": 286,
   "id": "bb9b256f",
   "metadata": {},
   "outputs": [
    {
     "data": {
      "text/plain": [
       "'N-studies-4_N-per-study-96_N-features-10_Pheno-noise-1_Read-depth-10000_run-num-1'"
      ]
     },
     "execution_count": 286,
     "metadata": {},
     "output_type": "execute_result"
    }
   ],
   "source": [
    "run_description = '_'.join( [a.replace('_', '-') + '-' + str(b)\n",
    "                                 for a,b in \n",
    "                                   {'N_studies':n_studies, \n",
    "                                   'N_per_study':n_per_study, \n",
    "                                   'N_features':n_features, \n",
    "                                   'Pheno_noise':phenotype_std, \n",
    "                                   'Read_depth':int(read_depth), \n",
    "                                   'run_num':seed}.items()]\n",
    "                                )\n",
    "run_description"
   ]
  },
  {
   "cell_type": "code",
   "execution_count": 281,
   "id": "0627e652",
   "metadata": {},
   "outputs": [
    {
     "data": {
      "text/plain": [
       "{'N_studies': 4,\n",
       " 'N_per_study': 96,\n",
       " 'N_features': 10,\n",
       " 'Pheno_noise': 1,\n",
       " 'Read_depth': 10000,\n",
       " 'run_num': 1}"
      ]
     },
     "execution_count": 281,
     "metadata": {},
     "output_type": "execute_result"
    }
   ],
   "source": [
    " {'N_studies':n_studies, \n",
    "                                   'N_per_study':n_per_study, \n",
    "                                   'N_features':n_features, \n",
    "                                   'Pheno_noise':phenotype_std, \n",
    "                                   'Read_depth':int(read_depth), \n",
    "                                   'run_num':seed}"
   ]
  },
  {
   "cell_type": "code",
   "execution_count": 266,
   "id": "e3533efc",
   "metadata": {},
   "outputs": [],
   "source": [
    "s_relab = pd.DataFrame( \n",
    "                       rescale( samples_transformed.values ), \n",
    "                       index=samples_transformed.index, \n",
    "                       columns=samples_transformed.columns )\n",
    "raw_auroc=cross_val_score(LogisticRegression(penalty='none'), \n",
    "                X=s_relab, \n",
    "                y=y, \n",
    "                groups=studies,\n",
    "                cv=LeaveOneGroupOut(),\n",
    "                scoring='roc_auc'\n",
    "               )\n",
    "\n",
    "all_rocs.append(raw_auroc)\n",
    "all_names.append(['Baseline']*n_studies)\n"
   ]
  },
  {
   "cell_type": "code",
   "execution_count": 277,
   "id": "c3a093a6",
   "metadata": {},
   "outputs": [],
   "source": [
    "all_rocs.append(raw_auroc)\n",
    "all_names.append(['Baseline']*n_studies)\n",
    "# all_phestd.append([phenotype_std]*n_studies)"
   ]
  },
  {
   "cell_type": "code",
   "execution_count": 284,
   "id": "70c7abdd",
   "metadata": {
    "scrolled": true
   },
   "outputs": [],
   "source": [
    "samples_transformed_with_batch = pd.concat([studies, \n",
    "                                            samples_transformed\n",
    "                                           ], \n",
    "                                           axis=1 ).values\n",
    "\n",
    "dmco=cross_val_predict(DebiasMClassifier(x_val=samples_transformed_with_batch), \n",
    "                X=samples_transformed_with_batch, \n",
    "                y=y, \n",
    "                groups=studies,\n",
    "                cv=LeaveOneGroupOut(),\n",
    "                       method='predict_proba',\n",
    "#                 scoring='roc_auc'\n",
    "               )\n",
    "\n",
    "all_rocs.append( [ roc_auc_score(y[test_inds],\n",
    "                                 dmco[:, 1][test_inds] )\n",
    "                  for train_inds, test_inds in \n",
    "                 logo.split(samples_transformed_with_batch, \n",
    "                            y, \n",
    "                            studies) ] )\n",
    "\n",
    "all_names.append(['DEBIAS-M']*n_studies)"
   ]
  },
  {
   "cell_type": "code",
   "execution_count": null,
   "id": "aa4e5012",
   "metadata": {},
   "outputs": [],
   "source": []
  },
  {
   "cell_type": "code",
   "execution_count": 272,
   "id": "4d0c3181",
   "metadata": {},
   "outputs": [
    {
     "ename": "ImportError",
     "evalue": "cannot import name 'flatten' from 'debiasm.sklearn_functions' (/Users/george/opt/anaconda3/envs/r43/lib/python3.8/site-packages/debiasm/sklearn_functions.py)",
     "output_type": "error",
     "traceback": [
      "\u001b[0;31m---------------------------------------------------------------------------\u001b[0m",
      "\u001b[0;31mImportError\u001b[0m                               Traceback (most recent call last)",
      "Cell \u001b[0;32mIn[272], line 1\u001b[0m\n\u001b[0;32m----> 1\u001b[0m \u001b[38;5;28;01mfrom\u001b[39;00m \u001b[38;5;21;01mdebiasm\u001b[39;00m\u001b[38;5;21;01m.\u001b[39;00m\u001b[38;5;21;01msklearn_functions\u001b[39;00m \u001b[38;5;28;01mimport\u001b[39;00m flatten\n",
      "\u001b[0;31mImportError\u001b[0m: cannot import name 'flatten' from 'debiasm.sklearn_functions' (/Users/george/opt/anaconda3/envs/r43/lib/python3.8/site-packages/debiasm/sklearn_functions.py)"
     ]
    }
   ],
   "source": [
    "flatten"
   ]
  },
  {
   "cell_type": "code",
   "execution_count": 275,
   "id": "dbb088f0",
   "metadata": {},
   "outputs": [
    {
     "data": {
      "text/plain": [
       "[array([0.54014919, 0.66608161, 0.39926183, 0.61745549]),\n",
       " array([0.54234313, 0.63580518, 0.5881459 , 0.572297  ]),\n",
       " array([0.57218078, 0.64787187, 0.62353452, 0.5775076 ]),\n",
       " array([0.58666082, 0.6309785 , 0.58336952, 0.56882327]),\n",
       " array([0.57086441, 0.65379552, 0.59379071, 0.59965263]),\n",
       " array([0.55419043, 0.56954805, 0.60182371, 0.61897525]),\n",
       " array([0.54629223, 0.61737604, 0.5801129 , 0.54798089])]"
      ]
     },
     "execution_count": 275,
     "metadata": {},
     "output_type": "execute_result"
    }
   ],
   "source": [
    "all_rocs"
   ]
  },
  {
   "cell_type": "code",
   "execution_count": 276,
   "id": "3eec5a96",
   "metadata": {},
   "outputs": [],
   "source": [
    "# flatten( all_rocs )"
   ]
  },
  {
   "cell_type": "code",
   "execution_count": 298,
   "id": "19054be1",
   "metadata": {},
   "outputs": [
    {
     "name": "stdout",
     "output_type": "stream",
     "text": [
      "dataset-seed-1.csv  dataset-seed-16.csv dataset-seed-22.csv dataset-seed-6.csv\r\n",
      "dataset-seed-10.csv dataset-seed-17.csv dataset-seed-23.csv dataset-seed-7.csv\r\n",
      "dataset-seed-11.csv dataset-seed-18.csv dataset-seed-24.csv dataset-seed-8.csv\r\n",
      "dataset-seed-12.csv dataset-seed-19.csv dataset-seed-25.csv dataset-seed-9.csv\r\n",
      "dataset-seed-13.csv dataset-seed-2.csv  dataset-seed-3.csv\r\n",
      "dataset-seed-14.csv dataset-seed-20.csv dataset-seed-4.csv\r\n",
      "dataset-seed-15.csv dataset-seed-21.csv dataset-seed-5.csv\r\n"
     ]
    }
   ],
   "source": [
    "!ls gut-simulations/generated_gut_datasets/dataset-seed-{}.csv"
   ]
  },
  {
   "cell_type": "code",
   "execution_count": 262,
   "id": "06b372d1",
   "metadata": {},
   "outputs": [
    {
     "name": "stdout",
     "output_type": "stream",
     "text": [
      "tmp-dataset-with-added-bias/percnorm_out.csv\n",
      "tmp-dataset-with-added-bias/combat-out.csv\n",
      "tmp-dataset-with-added-bias/conqur-out.csv\n",
      "tmp-dataset-with-added-bias/MMUPHin_out.csv\n",
      "tmp-dataset-with-added-bias/PLSDAbatch_out.csv\n",
      "tmp-dataset-with-added-bias/voom-snm-out.csv\n"
     ]
    }
   ],
   "source": [
    "pths = ['tmp-dataset-with-added-bias/percnorm_out.csv',\n",
    "        'tmp-dataset-with-added-bias/combat-out.csv',\n",
    "        'tmp-dataset-with-added-bias/conqur-out.csv',\n",
    "        'tmp-dataset-with-added-bias/MMUPHin_out.csv',\n",
    "        'tmp-dataset-with-added-bias/PLSDAbatch_out.csv',\n",
    "        'tmp-dataset-with-added-bias/voom-snm-out.csv'\n",
    "       ]\n",
    "\n",
    "all_rocs=[]\n",
    "all_names=[]\n",
    "all_phestd=[]\n",
    "\n",
    "for a in pths:\n",
    "    tt=pd.read_csv(a, index_col=0) \n",
    "    if a not in pths[-2:]:\n",
    "        tt=rescale(tt.values)\n",
    "    else:\n",
    "        tt=tt.values\n",
    "    print(a)\n",
    "    sc = cross_val_score(LogisticRegression(penalty='none'), \n",
    "                            X=tt, \n",
    "                            y=y, \n",
    "                            groups=studies,\n",
    "                            cv=LeaveOneGroupOut(),\n",
    "                            scoring='roc_auc'\n",
    "                           )\n",
    "    \n",
    "    all_rocs.append(sc)\n",
    "    all_names.append([a]*n_studies)\n",
    "    all_phestd.append([phenotype_std]*n_studies)\n",
    "#     tt = tt - tt.min(axis=0)\n",
    "#     all_df = pd.concat([all_df, \n",
    "#                 pd.DataFrame({'Group':a.split('/')[-1].split('_')[0],\n",
    "#                     'JSD':jensenshannon(tt.T, \n",
    "#                                         samples.T)\n",
    "#                     }, \n",
    "#                    index=samples.index)]).ffill()"
   ]
  },
  {
   "cell_type": "code",
   "execution_count": 244,
   "id": "2cc0afb1",
   "metadata": {},
   "outputs": [
    {
     "data": {
      "text/plain": [
       "array([0.55419043, 0.56954805, 0.60182371, 0.61897525])"
      ]
     },
     "execution_count": 244,
     "metadata": {},
     "output_type": "execute_result"
    }
   ],
   "source": [
    "sc"
   ]
  },
  {
   "cell_type": "code",
   "execution_count": 163,
   "id": "62e00f9e",
   "metadata": {},
   "outputs": [],
   "source": [
    "from sklearn.model_selection import LeaveOneGroupOut, cross_val_predict\n",
    "from sklearn.linear_model import LogisticRegression"
   ]
  },
  {
   "cell_type": "code",
   "execution_count": null,
   "id": "15ae8f64",
   "metadata": {},
   "outputs": [],
   "source": []
  },
  {
   "cell_type": "code",
   "execution_count": 258,
   "id": "426336c8",
   "metadata": {},
   "outputs": [
    {
     "data": {
      "text/plain": [
       "array([0.5594559 , 0.61605968, 0.57967868, 0.54798089])"
      ]
     },
     "execution_count": 258,
     "metadata": {},
     "output_type": "execute_result"
    }
   ],
   "source": [
    "cross_val_score(LogisticRegression(penalty='none', solver='newton-cg'), \n",
    "                X=s_relab, \n",
    "                y=y, \n",
    "                groups=studies,\n",
    "                cv=LeaveOneGroupOut(),\n",
    "                scoring='roc_auc'\n",
    "               )"
   ]
  },
  {
   "cell_type": "code",
   "execution_count": 256,
   "id": "fdbdf984",
   "metadata": {},
   "outputs": [
    {
     "name": "stdout",
     "output_type": "stream",
     "text": [
      "0.6296621325142606\n",
      "0.6366827555945589\n",
      "0.6207121146330873\n",
      "0.5770733825445071\n"
     ]
    }
   ],
   "source": [
    "logo=LeaveOneGroupOut()\n",
    "for train_inds, test_inds in logo.split(samples_transformed_with_batch, \n",
    "                                                      y, \n",
    "                                                      studies):\n",
    "    print( roc_auc_score(y[test_inds],\n",
    "                         dmco[:, 1][test_inds] ) \n",
    "          )"
   ]
  },
  {
   "cell_type": "code",
   "execution_count": null,
   "id": "f9f8f649",
   "metadata": {},
   "outputs": [],
   "source": [
    "AdaptationDebiasMClassifier"
   ]
  },
  {
   "cell_type": "code",
   "execution_count": 253,
   "id": "fe5daf3a",
   "metadata": {},
   "outputs": [],
   "source": [
    "s_relab = pd.DataFrame( \n",
    "                       rescale( samples_transformed.values ), \n",
    "                       index=samples_transformed.index, \n",
    "                       columns=samples_transformed.columns )"
   ]
  },
  {
   "cell_type": "code",
   "execution_count": 257,
   "id": "232595d5",
   "metadata": {},
   "outputs": [],
   "source": [
    "s_relab = pd.DataFrame( \n",
    "                       rescale( samples_true.values ), \n",
    "                       index=samples_transformed.index, \n",
    "                       columns=samples_transformed.columns )"
   ]
  },
  {
   "cell_type": "code",
   "execution_count": 140,
   "id": "f74ae624",
   "metadata": {},
   "outputs": [],
   "source": [
    "# samples_true"
   ]
  },
  {
   "cell_type": "code",
   "execution_count": 133,
   "id": "e0477282",
   "metadata": {},
   "outputs": [],
   "source": [
    "# samples_transformed"
   ]
  },
  {
   "cell_type": "code",
   "execution_count": 239,
   "id": "1c81fc10",
   "metadata": {},
   "outputs": [],
   "source": [
    "samples_transformed_with_batch = pd.concat([studies, \n",
    "                                            samples_transformed\n",
    "                                           ], \n",
    "                                           axis=1 ).values"
   ]
  },
  {
   "cell_type": "code",
   "execution_count": 255,
   "id": "8408d2f0",
   "metadata": {
    "scrolled": true
   },
   "outputs": [
    {
     "name": "stderr",
     "output_type": "stream",
     "text": [
      "GPU available: False, used: False\n",
      "TPU available: False, using: 0 TPU cores\n",
      "IPU available: False, using: 0 IPUs\n",
      "HPU available: False, using: 0 HPUs\n",
      "Trainer was signaled to stop but required minimum epochs (25) or minimum steps (None) has not been met. Training will continue...\n",
      "Trainer was signaled to stop but required minimum epochs (25) or minimum steps (None) has not been met. Training will continue...\n",
      "Trainer was signaled to stop but required minimum epochs (25) or minimum steps (None) has not been met. Training will continue...\n",
      "Trainer was signaled to stop but required minimum epochs (25) or minimum steps (None) has not been met. Training will continue...\n",
      "Trainer was signaled to stop but required minimum epochs (25) or minimum steps (None) has not been met. Training will continue...\n",
      "Trainer was signaled to stop but required minimum epochs (25) or minimum steps (None) has not been met. Training will continue...\n",
      "Trainer was signaled to stop but required minimum epochs (25) or minimum steps (None) has not been met. Training will continue...\n",
      "Trainer was signaled to stop but required minimum epochs (25) or minimum steps (None) has not been met. Training will continue...\n",
      "Trainer was signaled to stop but required minimum epochs (25) or minimum steps (None) has not been met. Training will continue...\n",
      "Trainer was signaled to stop but required minimum epochs (25) or minimum steps (None) has not been met. Training will continue...\n",
      "GPU available: False, used: False\n",
      "TPU available: False, using: 0 TPU cores\n",
      "IPU available: False, using: 0 IPUs\n",
      "HPU available: False, using: 0 HPUs\n",
      "Trainer was signaled to stop but required minimum epochs (25) or minimum steps (None) has not been met. Training will continue...\n",
      "Trainer was signaled to stop but required minimum epochs (25) or minimum steps (None) has not been met. Training will continue...\n",
      "Trainer was signaled to stop but required minimum epochs (25) or minimum steps (None) has not been met. Training will continue...\n",
      "Trainer was signaled to stop but required minimum epochs (25) or minimum steps (None) has not been met. Training will continue...\n",
      "Trainer was signaled to stop but required minimum epochs (25) or minimum steps (None) has not been met. Training will continue...\n",
      "Trainer was signaled to stop but required minimum epochs (25) or minimum steps (None) has not been met. Training will continue...\n",
      "Trainer was signaled to stop but required minimum epochs (25) or minimum steps (None) has not been met. Training will continue...\n",
      "Trainer was signaled to stop but required minimum epochs (25) or minimum steps (None) has not been met. Training will continue...\n",
      "Trainer was signaled to stop but required minimum epochs (25) or minimum steps (None) has not been met. Training will continue...\n",
      "Trainer was signaled to stop but required minimum epochs (25) or minimum steps (None) has not been met. Training will continue...\n",
      "GPU available: False, used: False\n",
      "TPU available: False, using: 0 TPU cores\n",
      "IPU available: False, using: 0 IPUs\n",
      "HPU available: False, using: 0 HPUs\n",
      "Trainer was signaled to stop but required minimum epochs (25) or minimum steps (None) has not been met. Training will continue...\n",
      "Trainer was signaled to stop but required minimum epochs (25) or minimum steps (None) has not been met. Training will continue...\n",
      "Trainer was signaled to stop but required minimum epochs (25) or minimum steps (None) has not been met. Training will continue...\n",
      "Trainer was signaled to stop but required minimum epochs (25) or minimum steps (None) has not been met. Training will continue...\n",
      "Trainer was signaled to stop but required minimum epochs (25) or minimum steps (None) has not been met. Training will continue...\n",
      "Trainer was signaled to stop but required minimum epochs (25) or minimum steps (None) has not been met. Training will continue...\n",
      "Trainer was signaled to stop but required minimum epochs (25) or minimum steps (None) has not been met. Training will continue...\n",
      "Trainer was signaled to stop but required minimum epochs (25) or minimum steps (None) has not been met. Training will continue...\n",
      "Trainer was signaled to stop but required minimum epochs (25) or minimum steps (None) has not been met. Training will continue...\n",
      "GPU available: False, used: False\n",
      "TPU available: False, using: 0 TPU cores\n",
      "IPU available: False, using: 0 IPUs\n",
      "HPU available: False, using: 0 HPUs\n",
      "Trainer was signaled to stop but required minimum epochs (25) or minimum steps (None) has not been met. Training will continue...\n"
     ]
    }
   ],
   "source": [
    "dmco=cross_val_predict(DebiasMClassifier(x_val=samples_transformed_with_batch), \n",
    "                X=samples_transformed_with_batch, \n",
    "                y=y, \n",
    "                groups=studies,\n",
    "                cv=LeaveOneGroupOut(),\n",
    "                       method='predict_proba',\n",
    "#                 scoring='roc_auc'\n",
    "               )"
   ]
  },
  {
   "cell_type": "code",
   "execution_count": null,
   "id": "4d5f75b7",
   "metadata": {},
   "outputs": [],
   "source": []
  },
  {
   "cell_type": "code",
   "execution_count": null,
   "id": "39d2a03f",
   "metadata": {},
   "outputs": [],
   "source": []
  },
  {
   "cell_type": "code",
   "execution_count": 153,
   "id": "bbe52cdc",
   "metadata": {},
   "outputs": [],
   "source": [
    "dmc=DebiasMClassifier(x_val=samples_transformed_with_batch)"
   ]
  },
  {
   "cell_type": "code",
   "execution_count": 155,
   "id": "806a97df",
   "metadata": {},
   "outputs": [
    {
     "name": "stderr",
     "output_type": "stream",
     "text": [
      "GPU available: False, used: False\n",
      "TPU available: False, using: 0 TPU cores\n",
      "IPU available: False, using: 0 IPUs\n",
      "HPU available: False, using: 0 HPUs\n"
     ]
    },
    {
     "data": {
      "text/html": [
       "<style>#sk-container-id-2 {color: black;}#sk-container-id-2 pre{padding: 0;}#sk-container-id-2 div.sk-toggleable {background-color: white;}#sk-container-id-2 label.sk-toggleable__label {cursor: pointer;display: block;width: 100%;margin-bottom: 0;padding: 0.3em;box-sizing: border-box;text-align: center;}#sk-container-id-2 label.sk-toggleable__label-arrow:before {content: \"▸\";float: left;margin-right: 0.25em;color: #696969;}#sk-container-id-2 label.sk-toggleable__label-arrow:hover:before {color: black;}#sk-container-id-2 div.sk-estimator:hover label.sk-toggleable__label-arrow:before {color: black;}#sk-container-id-2 div.sk-toggleable__content {max-height: 0;max-width: 0;overflow: hidden;text-align: left;background-color: #f0f8ff;}#sk-container-id-2 div.sk-toggleable__content pre {margin: 0.2em;color: black;border-radius: 0.25em;background-color: #f0f8ff;}#sk-container-id-2 input.sk-toggleable__control:checked~div.sk-toggleable__content {max-height: 200px;max-width: 100%;overflow: auto;}#sk-container-id-2 input.sk-toggleable__control:checked~label.sk-toggleable__label-arrow:before {content: \"▾\";}#sk-container-id-2 div.sk-estimator input.sk-toggleable__control:checked~label.sk-toggleable__label {background-color: #d4ebff;}#sk-container-id-2 div.sk-label input.sk-toggleable__control:checked~label.sk-toggleable__label {background-color: #d4ebff;}#sk-container-id-2 input.sk-hidden--visually {border: 0;clip: rect(1px 1px 1px 1px);clip: rect(1px, 1px, 1px, 1px);height: 1px;margin: -1px;overflow: hidden;padding: 0;position: absolute;width: 1px;}#sk-container-id-2 div.sk-estimator {font-family: monospace;background-color: #f0f8ff;border: 1px dotted black;border-radius: 0.25em;box-sizing: border-box;margin-bottom: 0.5em;}#sk-container-id-2 div.sk-estimator:hover {background-color: #d4ebff;}#sk-container-id-2 div.sk-parallel-item::after {content: \"\";width: 100%;border-bottom: 1px solid gray;flex-grow: 1;}#sk-container-id-2 div.sk-label:hover label.sk-toggleable__label {background-color: #d4ebff;}#sk-container-id-2 div.sk-serial::before {content: \"\";position: absolute;border-left: 1px solid gray;box-sizing: border-box;top: 0;bottom: 0;left: 50%;z-index: 0;}#sk-container-id-2 div.sk-serial {display: flex;flex-direction: column;align-items: center;background-color: white;padding-right: 0.2em;padding-left: 0.2em;position: relative;}#sk-container-id-2 div.sk-item {position: relative;z-index: 1;}#sk-container-id-2 div.sk-parallel {display: flex;align-items: stretch;justify-content: center;background-color: white;position: relative;}#sk-container-id-2 div.sk-item::before, #sk-container-id-2 div.sk-parallel-item::before {content: \"\";position: absolute;border-left: 1px solid gray;box-sizing: border-box;top: 0;bottom: 0;left: 50%;z-index: -1;}#sk-container-id-2 div.sk-parallel-item {display: flex;flex-direction: column;z-index: 1;position: relative;background-color: white;}#sk-container-id-2 div.sk-parallel-item:first-child::after {align-self: flex-end;width: 50%;}#sk-container-id-2 div.sk-parallel-item:last-child::after {align-self: flex-start;width: 50%;}#sk-container-id-2 div.sk-parallel-item:only-child::after {width: 0;}#sk-container-id-2 div.sk-dashed-wrapped {border: 1px dashed gray;margin: 0 0.4em 0.5em 0.4em;box-sizing: border-box;padding-bottom: 0.4em;background-color: white;}#sk-container-id-2 div.sk-label label {font-family: monospace;font-weight: bold;display: inline-block;line-height: 1.2em;}#sk-container-id-2 div.sk-label-container {text-align: center;}#sk-container-id-2 div.sk-container {/* jupyter's `normalize.less` sets `[hidden] { display: none; }` but bootstrap.min.css set `[hidden] { display: none !important; }` so we also need the `!important` here to be able to override the default hidden behavior on the sphinx rendered scikit-learn.org. See: https://github.com/scikit-learn/scikit-learn/issues/21755 */display: inline-block !important;position: relative;}#sk-container-id-2 div.sk-text-repr-fallback {display: none;}</style><div id=\"sk-container-id-2\" class=\"sk-top-container\"><div class=\"sk-text-repr-fallback\"><pre>DebiasMClassifier(batch_str=166.66666666666666,\n",
       "                  x_val=array([[   0,  557, 4193, ...,   29,  945,  449],\n",
       "       [   0,  474, 3568, ..., 1516,  804,  382],\n",
       "       [   0,   13,   98, ...,    0,   22,   10],\n",
       "       ...,\n",
       "       [   3,   86,   42, ..., 7339,   71, 1343],\n",
       "       [   3,  789,  389, ...,   91,  657,  618],\n",
       "       [   3,   14,    7, ...,    1,   12,   11]]))</pre><b>In a Jupyter environment, please rerun this cell to show the HTML representation or trust the notebook. <br />On GitHub, the HTML representation is unable to render, please try loading this page with nbviewer.org.</b></div><div class=\"sk-container\" hidden><div class=\"sk-item\"><div class=\"sk-estimator sk-toggleable\"><input class=\"sk-toggleable__control sk-hidden--visually\" id=\"sk-estimator-id-2\" type=\"checkbox\" checked><label for=\"sk-estimator-id-2\" class=\"sk-toggleable__label sk-toggleable__label-arrow\">DebiasMClassifier</label><div class=\"sk-toggleable__content\"><pre>DebiasMClassifier(batch_str=166.66666666666666,\n",
       "                  x_val=array([[   0,  557, 4193, ...,   29,  945,  449],\n",
       "       [   0,  474, 3568, ..., 1516,  804,  382],\n",
       "       [   0,   13,   98, ...,    0,   22,   10],\n",
       "       ...,\n",
       "       [   3,   86,   42, ..., 7339,   71, 1343],\n",
       "       [   3,  789,  389, ...,   91,  657,  618],\n",
       "       [   3,   14,    7, ...,    1,   12,   11]]))</pre></div></div></div></div></div>"
      ],
      "text/plain": [
       "DebiasMClassifier(batch_str=166.66666666666666,\n",
       "                  x_val=array([[   0,  557, 4193, ...,   29,  945,  449],\n",
       "       [   0,  474, 3568, ..., 1516,  804,  382],\n",
       "       [   0,   13,   98, ...,    0,   22,   10],\n",
       "       ...,\n",
       "       [   3,   86,   42, ..., 7339,   71, 1343],\n",
       "       [   3,  789,  389, ...,   91,  657,  618],\n",
       "       [   3,   14,    7, ...,    1,   12,   11]]))"
      ]
     },
     "execution_count": 155,
     "metadata": {},
     "output_type": "execute_result"
    }
   ],
   "source": [
    "dmc.fit(samples_transformed_with_batch, y)"
   ]
  },
  {
   "cell_type": "code",
   "execution_count": 159,
   "id": "11a81b57",
   "metadata": {},
   "outputs": [],
   "source": [
    "from sklearn.metrics import roc_auc_score"
   ]
  },
  {
   "cell_type": "code",
   "execution_count": 161,
   "id": "02a2c335",
   "metadata": {
    "scrolled": true
   },
   "outputs": [
    {
     "data": {
      "text/plain": [
       "0.8686116536458334"
      ]
     },
     "execution_count": 161,
     "metadata": {},
     "output_type": "execute_result"
    }
   ],
   "source": [
    "roc_auc_score(y,\n",
    "              dmc.predict_proba(samples_transformed_with_batch)[:, 1] )"
   ]
  },
  {
   "cell_type": "code",
   "execution_count": 174,
   "id": "5c4f5c14",
   "metadata": {},
   "outputs": [
    {
     "data": {
      "text/plain": [
       "0.7985026041666667"
      ]
     },
     "execution_count": 174,
     "metadata": {},
     "output_type": "execute_result"
    }
   ],
   "source": [
    "roc_auc_score(y,\n",
    "              dmco[:, 1])"
   ]
  },
  {
   "cell_type": "code",
   "execution_count": 216,
   "id": "7bf99c21",
   "metadata": {},
   "outputs": [
    {
     "name": "stdout",
     "output_type": "stream",
     "text": [
      "0.8227513227513228\n",
      "0.7755991285403051\n",
      "0.8064940763492761\n",
      "0.8665217391304347\n"
     ]
    }
   ],
   "source": [
    "logo=LeaveOneGroupOut()\n",
    "for train_inds, test_inds in logo.split(samples_transformed_with_batch, \n",
    "                                                      y, \n",
    "                                                      studies):\n",
    "    print( roc_auc_score(y[test_inds],\n",
    "                         lrbo[:, 1][test_inds] ) \n",
    "          )"
   ]
  },
  {
   "cell_type": "code",
   "execution_count": 213,
   "id": "bb558a2e",
   "metadata": {},
   "outputs": [
    {
     "name": "stdout",
     "output_type": "stream",
     "text": [
      "0.8350970017636685\n",
      "0.7830065359477124\n",
      "0.8459850811759544\n",
      "0.8191304347826086\n"
     ]
    }
   ],
   "source": [
    "samples_transformed_with_batch = pd.concat([studies, \n",
    "                                            samples_transformed\n",
    "                                           ], \n",
    "                                           axis=1 ).values\n",
    "\n",
    "logo=LeaveOneGroupOut()\n",
    "for train_inds, test_inds in logo.split(samples_transformed_with_batch, \n",
    "                                                      y, \n",
    "                                                      studies):\n",
    "    print( roc_auc_score(y[test_inds],\n",
    "                         dmco[:, 1][test_inds] ) \n",
    "          )"
   ]
  },
  {
   "cell_type": "code",
   "execution_count": 220,
   "id": "cb32ee57",
   "metadata": {},
   "outputs": [],
   "source": [
    "# cross_val_score(LogisticRegression(penalty='none'), \n",
    "#                 X=samples_transformed_with_batch, \n",
    "#                 y=y, \n",
    "#                 groups=studies,\n",
    "#                 cv=LeaveOneGroupOut(),\n",
    "# #                        method='predict_proba',\n",
    "#                 scoring='roc_auc'\n",
    "#                )"
   ]
  },
  {
   "cell_type": "code",
   "execution_count": 203,
   "id": "e5614fbf",
   "metadata": {},
   "outputs": [
    {
     "data": {
      "text/plain": [
       "array([nan, nan, nan, nan])"
      ]
     },
     "execution_count": 203,
     "metadata": {},
     "output_type": "execute_result"
    }
   ],
   "source": [
    "dmco"
   ]
  },
  {
   "cell_type": "code",
   "execution_count": null,
   "id": "a70f7fb6",
   "metadata": {},
   "outputs": [],
   "source": [
    "Pip"
   ]
  },
  {
   "cell_type": "code",
   "execution_count": 215,
   "id": "a329fff1",
   "metadata": {},
   "outputs": [],
   "source": [
    "lrbo=cross_val_predict(LogisticRegression(penalty='none'), \n",
    "                X=samples_transformed_with_batch, \n",
    "                y=y, \n",
    "                groups=studies,\n",
    "                cv=LeaveOneGroupOut(),\n",
    "                       method='predict_proba',\n",
    "#                 scoring='roc_auc'\n",
    "               )"
   ]
  },
  {
   "cell_type": "code",
   "execution_count": 210,
   "id": "b8e7e5b9",
   "metadata": {},
   "outputs": [
    {
     "name": "stderr",
     "output_type": "stream",
     "text": [
      "GPU available: False, used: False\n",
      "TPU available: False, using: 0 TPU cores\n",
      "IPU available: False, using: 0 IPUs\n",
      "HPU available: False, using: 0 HPUs\n",
      "Trainer was signaled to stop but required minimum epochs (25) or minimum steps (None) has not been met. Training will continue...\n",
      "Trainer was signaled to stop but required minimum epochs (25) or minimum steps (None) has not been met. Training will continue...\n",
      "Trainer was signaled to stop but required minimum epochs (25) or minimum steps (None) has not been met. Training will continue...\n",
      "Trainer was signaled to stop but required minimum epochs (25) or minimum steps (None) has not been met. Training will continue...\n",
      "Trainer was signaled to stop but required minimum epochs (25) or minimum steps (None) has not been met. Training will continue...\n",
      "Trainer was signaled to stop but required minimum epochs (25) or minimum steps (None) has not been met. Training will continue...\n",
      "Trainer was signaled to stop but required minimum epochs (25) or minimum steps (None) has not been met. Training will continue...\n",
      "Trainer was signaled to stop but required minimum epochs (25) or minimum steps (None) has not been met. Training will continue...\n",
      "GPU available: False, used: False\n",
      "TPU available: False, using: 0 TPU cores\n",
      "IPU available: False, using: 0 IPUs\n",
      "HPU available: False, using: 0 HPUs\n",
      "Trainer was signaled to stop but required minimum epochs (25) or minimum steps (None) has not been met. Training will continue...\n",
      "Trainer was signaled to stop but required minimum epochs (25) or minimum steps (None) has not been met. Training will continue...\n",
      "Trainer was signaled to stop but required minimum epochs (25) or minimum steps (None) has not been met. Training will continue...\n",
      "Trainer was signaled to stop but required minimum epochs (25) or minimum steps (None) has not been met. Training will continue...\n",
      "Trainer was signaled to stop but required minimum epochs (25) or minimum steps (None) has not been met. Training will continue...\n",
      "Trainer was signaled to stop but required minimum epochs (25) or minimum steps (None) has not been met. Training will continue...\n",
      "Trainer was signaled to stop but required minimum epochs (25) or minimum steps (None) has not been met. Training will continue...\n",
      "GPU available: False, used: False\n",
      "TPU available: False, using: 0 TPU cores\n",
      "IPU available: False, using: 0 IPUs\n",
      "HPU available: False, using: 0 HPUs\n",
      "Trainer was signaled to stop but required minimum epochs (25) or minimum steps (None) has not been met. Training will continue...\n",
      "Trainer was signaled to stop but required minimum epochs (25) or minimum steps (None) has not been met. Training will continue...\n",
      "Trainer was signaled to stop but required minimum epochs (25) or minimum steps (None) has not been met. Training will continue...\n",
      "Trainer was signaled to stop but required minimum epochs (25) or minimum steps (None) has not been met. Training will continue...\n",
      "Trainer was signaled to stop but required minimum epochs (25) or minimum steps (None) has not been met. Training will continue...\n",
      "Trainer was signaled to stop but required minimum epochs (25) or minimum steps (None) has not been met. Training will continue...\n",
      "GPU available: False, used: False\n",
      "TPU available: False, using: 0 TPU cores\n",
      "IPU available: False, using: 0 IPUs\n",
      "HPU available: False, using: 0 HPUs\n",
      "Trainer was signaled to stop but required minimum epochs (25) or minimum steps (None) has not been met. Training will continue...\n",
      "Trainer was signaled to stop but required minimum epochs (25) or minimum steps (None) has not been met. Training will continue...\n",
      "Trainer was signaled to stop but required minimum epochs (25) or minimum steps (None) has not been met. Training will continue...\n",
      "Trainer was signaled to stop but required minimum epochs (25) or minimum steps (None) has not been met. Training will continue...\n",
      "Trainer was signaled to stop but required minimum epochs (25) or minimum steps (None) has not been met. Training will continue...\n",
      "Trainer was signaled to stop but required minimum epochs (25) or minimum steps (None) has not been met. Training will continue...\n"
     ]
    }
   ],
   "source": [
    "dmc=DebiasMClassifier(x_val=samples_transformed_with_batch)\n",
    "dmco=cross_val_predict(dmc, \n",
    "                X=samples_transformed_with_batch, \n",
    "                y=y, \n",
    "                groups=studies,\n",
    "                cv=LeaveOneGroupOut(),\n",
    "                       method='predict_proba',\n",
    "#                 scoring='roc_auc'\n",
    "               )"
   ]
  },
  {
   "cell_type": "code",
   "execution_count": null,
   "id": "5e7e5945",
   "metadata": {},
   "outputs": [],
   "source": []
  },
  {
   "cell_type": "code",
   "execution_count": null,
   "id": "9b9e0815",
   "metadata": {},
   "outputs": [],
   "source": []
  },
  {
   "cell_type": "code",
   "execution_count": null,
   "id": "260f9a1f",
   "metadata": {},
   "outputs": [],
   "source": [
    "Leav"
   ]
  },
  {
   "cell_type": "code",
   "execution_count": 121,
   "id": "985f67ad",
   "metadata": {},
   "outputs": [
    {
     "data": {
      "text/html": [
       "<div>\n",
       "<style scoped>\n",
       "    .dataframe tbody tr th:only-of-type {\n",
       "        vertical-align: middle;\n",
       "    }\n",
       "\n",
       "    .dataframe tbody tr th {\n",
       "        vertical-align: top;\n",
       "    }\n",
       "\n",
       "    .dataframe thead th {\n",
       "        text-align: right;\n",
       "    }\n",
       "</style>\n",
       "<table border=\"1\" class=\"dataframe\">\n",
       "  <thead>\n",
       "    <tr style=\"text-align: right;\">\n",
       "      <th></th>\n",
       "      <th>Feature1</th>\n",
       "      <th>Feature27</th>\n",
       "      <th>Feature73</th>\n",
       "      <th>Feature35</th>\n",
       "      <th>Feature89</th>\n",
       "      <th>Feature75</th>\n",
       "      <th>Feature23</th>\n",
       "      <th>Feature56</th>\n",
       "      <th>Feature10</th>\n",
       "      <th>Feature70</th>\n",
       "    </tr>\n",
       "  </thead>\n",
       "  <tbody>\n",
       "    <tr>\n",
       "      <th>Sample257</th>\n",
       "      <td>0.055722</td>\n",
       "      <td>0.419468</td>\n",
       "      <td>0.025510</td>\n",
       "      <td>0.060224</td>\n",
       "      <td>0.099140</td>\n",
       "      <td>0.046819</td>\n",
       "      <td>0.150760</td>\n",
       "      <td>0.002901</td>\n",
       "      <td>0.094538</td>\n",
       "      <td>0.044918</td>\n",
       "    </tr>\n",
       "    <tr>\n",
       "      <th>Sample107</th>\n",
       "      <td>0.047419</td>\n",
       "      <td>0.356943</td>\n",
       "      <td>0.021709</td>\n",
       "      <td>0.051220</td>\n",
       "      <td>0.084334</td>\n",
       "      <td>0.039816</td>\n",
       "      <td>0.128251</td>\n",
       "      <td>0.151661</td>\n",
       "      <td>0.080432</td>\n",
       "      <td>0.038215</td>\n",
       "    </tr>\n",
       "    <tr>\n",
       "      <th>Sample123</th>\n",
       "      <td>0.001301</td>\n",
       "      <td>0.009804</td>\n",
       "      <td>0.000600</td>\n",
       "      <td>0.968387</td>\n",
       "      <td>0.012105</td>\n",
       "      <td>0.001100</td>\n",
       "      <td>0.003501</td>\n",
       "      <td>0.000000</td>\n",
       "      <td>0.002201</td>\n",
       "      <td>0.001000</td>\n",
       "    </tr>\n",
       "    <tr>\n",
       "      <th>Sample63</th>\n",
       "      <td>0.004002</td>\n",
       "      <td>0.030718</td>\n",
       "      <td>0.001801</td>\n",
       "      <td>0.004403</td>\n",
       "      <td>0.007204</td>\n",
       "      <td>0.003402</td>\n",
       "      <td>0.011007</td>\n",
       "      <td>0.927256</td>\n",
       "      <td>0.006904</td>\n",
       "      <td>0.003302</td>\n",
       "    </tr>\n",
       "    <tr>\n",
       "      <th>Sample186</th>\n",
       "      <td>0.055722</td>\n",
       "      <td>0.419468</td>\n",
       "      <td>0.025510</td>\n",
       "      <td>0.060224</td>\n",
       "      <td>0.099140</td>\n",
       "      <td>0.046819</td>\n",
       "      <td>0.150760</td>\n",
       "      <td>0.002901</td>\n",
       "      <td>0.094538</td>\n",
       "      <td>0.044918</td>\n",
       "    </tr>\n",
       "  </tbody>\n",
       "</table>\n",
       "</div>"
      ],
      "text/plain": [
       "           Feature1  Feature27  Feature73  Feature35  Feature89  Feature75  \\\n",
       "Sample257  0.055722   0.419468   0.025510   0.060224   0.099140   0.046819   \n",
       "Sample107  0.047419   0.356943   0.021709   0.051220   0.084334   0.039816   \n",
       "Sample123  0.001301   0.009804   0.000600   0.968387   0.012105   0.001100   \n",
       "Sample63   0.004002   0.030718   0.001801   0.004403   0.007204   0.003402   \n",
       "Sample186  0.055722   0.419468   0.025510   0.060224   0.099140   0.046819   \n",
       "\n",
       "           Feature23  Feature56  Feature10  Feature70  \n",
       "Sample257   0.150760   0.002901   0.094538   0.044918  \n",
       "Sample107   0.128251   0.151661   0.080432   0.038215  \n",
       "Sample123   0.003501   0.000000   0.002201   0.001000  \n",
       "Sample63    0.011007   0.927256   0.006904   0.003302  \n",
       "Sample186   0.150760   0.002901   0.094538   0.044918  "
      ]
     },
     "execution_count": 121,
     "metadata": {},
     "output_type": "execute_result"
    }
   ],
   "source": [
    "s_relab = pd.DataFrame( \n",
    "                       rescale( samples_transformed.values ), \n",
    "                       index=samples_transformed.index, \n",
    "                       columns=samples_transformed.columns )\n",
    "s_relab.head()"
   ]
  },
  {
   "cell_type": "code",
   "execution_count": null,
   "id": "94f0c888",
   "metadata": {},
   "outputs": [],
   "source": [
    "cross_val_score()"
   ]
  },
  {
   "cell_type": "code",
   "execution_count": 106,
   "id": "64e8c7ae",
   "metadata": {},
   "outputs": [
    {
     "data": {
      "text/plain": [
       "10"
      ]
     },
     "execution_count": 106,
     "metadata": {},
     "output_type": "execute_result"
    }
   ],
   "source": [
    "n_features"
   ]
  },
  {
   "cell_type": "code",
   "execution_count": null,
   "id": "1239e146",
   "metadata": {},
   "outputs": [],
   "source": []
  },
  {
   "cell_type": "code",
   "execution_count": 4,
   "id": "05f6dfa2",
   "metadata": {},
   "outputs": [],
   "source": [
    "def experiment_run(samples_,\n",
    "                   n_studies, \n",
    "                   n_per_study,\n",
    "                   n_features,\n",
    "                   phenotype_std,\n",
    "                   read_depth, \n",
    "                   bcf_stdv = 2, \n",
    "                   linear_weights_stdv = 2,\n",
    "                   seed=0):\n",
    "    \n",
    "    np.random.seed(seed)\n",
    "    torch.manual_seed(seed)\n",
    "    \n",
    "    \n",
    "    # drop samples/features not needed for this run\n",
    "    samples=samples_.sample(n=n_studies * n_per_study, \n",
    "                           replace=False)\\\n",
    "                .T.sample(n=n_features, replace=False).T\n",
    "    \n",
    "    ## simulated bcfs\n",
    "    true_bcfs = np.random.normal(scale=bcf_stdv,\n",
    "                                 size = (n_studies, n_features)\n",
    "                                 )\n",
    "    \n",
    "    ## simulated linear weights\n",
    "    true_weights = np.random.normal(scale=linear_weights_stdv, \n",
    "                                    size = n_features\n",
    "                                    )\n",
    "\n",
    "    ## simulated phenotypes\n",
    "    phenotypes = samples @ true_weights[:, np.newaxis]\n",
    "    if phenotype_std > 0:\n",
    "        phenotypes += np.random.normal(scale = phenotype_std,\n",
    "                                       size=phenotypes.shape)\n",
    "    \n",
    "    studies = pd.Series( [ i // n_per_study for i in range(samples.shape[0]) \n",
    "                                     ] , \n",
    "                        index=samples.index, \n",
    "                        name='studies')\n",
    "\n",
    "    samples_transformed = pd.DataFrame( ( rescale( samples.values *\\\n",
    "                                    np.power(2, true_bcfs)[studies] \n",
    "                                    )*read_depth\n",
    "                              ).astype(int), \n",
    "                                       index=samples.index, \n",
    "                                       columns=samples.columns\n",
    "                                      )\n",
    "    \n",
    "    y=phenotypes.values[:, 0] > phenotypes.median().values[0] \n",
    "    \n",
    "    dm = AdaptationDebiasMClassifier()\n",
    "    dm.fit(X=pd.concat([studies, samples_transformed], axis=1 ).values, \n",
    "           y=y   \n",
    "          )\n",
    "    \n",
    "    transformed_jsds = jensenshannon(dm.transform(pd.concat([studies,\n",
    "                                      samples_transformed], \n",
    "                                     axis=1 )\n",
    "                          ).T,\n",
    "              samples.T)\n",
    "\n",
    "    baseline_jsds = jensenshannon(samples_transformed.T, samples.T)\n",
    "    n_samples = samples.shape[0]\n",
    "\n",
    "    if type( read_depth ) == np.ndarray:\n",
    "        read_depth=1e4\n",
    "        \n",
    "    if type(bcf_stdv)==np.ndarray:\n",
    "        bcf_stdv='varied'\n",
    "        \n",
    "    \n",
    "    \n",
    "    summary_df = pd.DataFrame({'Group':['Baseline']*n_samples +\\\n",
    "                                               ['DEBIAS-M']*n_samples,\n",
    "                               'JSD':list(baseline_jsds**2) +\\\n",
    "                                           list(transformed_jsds**2),\n",
    "                               'N_studies':n_studies, \n",
    "                               'N_per_study':n_per_study, \n",
    "                               'N_features':n_features, \n",
    "                               'Pheno_noise':phenotype_std, \n",
    "                               'Read_depth':read_depth, \n",
    "                               'BCF_std':bcf_stdv,\n",
    "                               'run_num':seed\n",
    "                              })\n",
    "    \n",
    "    run_description = '_'.join( [a.replace('_', '-') + '-' + str(b)\n",
    "                                 for a,b in \n",
    "                                   {'N_studies':n_studies, \n",
    "                                   'N_per_study':n_per_study, \n",
    "                                   'N_features':n_features, \n",
    "                                   'Pheno_noise':phenotype_std, \n",
    "                                   'Read_depth':int(read_depth), \n",
    "                                   'BCF_std':bcf_stdv,\n",
    "                                   'run_num':seed}.items()]\n",
    "                                )\n",
    "    return(summary_df, \n",
    "           run_description,\n",
    "           true_bcfs, \n",
    "           dm, \n",
    "           samples, \n",
    "           samples_transformed, \n",
    "           y, \n",
    "           studies\n",
    "           )"
   ]
  },
  {
   "cell_type": "code",
   "execution_count": 69,
   "id": "533bec6a",
   "metadata": {},
   "outputs": [],
   "source": [
    "def run_commands(cmds, \n",
    "                 verbose=True, \n",
    "                cur_dir='/Users/george/Desktop/DEBIAS-M-revisions/Simulations/'):\n",
    "    \"\"\"\n",
    "    This function is a script runner.\n",
    "    It was obtained from https://github.com/ggloor\n",
    "    /q2-aldex2/blob/master/q2_aldex2/_method.py\n",
    "    also dada2\n",
    "    \"\"\"\n",
    "    if verbose:\n",
    "        print(\"Running external command line application(s). This may print \"\n",
    "              \"messages to stdout and/or stderr.\")\n",
    "        print(\"The command(s) being run are below. These commands cannot \"\n",
    "              \"be manually re-run as they will depend on temporary files that \"\n",
    "              \"no longer exist.\")\n",
    "    for cmd in cmds:\n",
    "        if verbose:\n",
    "            print(\"\\nCommand:\", end=' ')\n",
    "            print(\" \".join(cmd), end='\\n\\n')\n",
    "        subprocess.run(cmd,\n",
    "                       check=True,\n",
    "                       cwd=cur_dir)"
   ]
  },
  {
   "cell_type": "code",
   "execution_count": 8,
   "id": "84457acb",
   "metadata": {},
   "outputs": [],
   "source": [
    "import os\n",
    "os.environ['R_HOME'] = '/Users/george/opt/anaconda3/envs/r43/lib/R/'\n",
    "# import rpy2.robjects as robjects"
   ]
  },
  {
   "cell_type": "code",
   "execution_count": null,
   "id": "2c9bd3ac",
   "metadata": {},
   "outputs": [],
   "source": [
    "os.path"
   ]
  },
  {
   "cell_type": "code",
   "execution_count": 10,
   "id": "bee8dd88",
   "metadata": {},
   "outputs": [
    {
     "name": "stdout",
     "output_type": "stream",
     "text": [
      "WARNING: ignoring environment value of R_HOME\n",
      "CPU times: user 1.82 ms, sys: 2.57 ms, total: 4.39 ms\n",
      "Wall time: 95.1 ms\n"
     ]
    },
    {
     "name": "stderr",
     "output_type": "stream",
     "text": [
      "dyld[86129]: Library not loaded: @rpath/libreadline.6.2.dylib\n",
      "  Referenced from: /Users/george/opt/anaconda3/envs/real_base/lib/R/lib/libR.dylib\n",
      "  Reason: tried: '/Users/george/opt/anaconda3/envs/real_base/lib/R/lib/../../libreadline.6.2.dylib' (no such file), '/Users/george/opt/anaconda3/envs/real_base/lib/R/bin/exec/../../../libreadline.6.2.dylib' (no such file), '/Users/george/opt/anaconda3/envs/real_base/lib/R/bin/exec/../../../libreadline.6.2.dylib' (no such file), '/Users/george/opt/anaconda3/envs/real_base/lib/R/lib/libreadline.6.2.dylib' (no such file), '/Users/george/opt/anaconda3/envs/real_base/lib/libreadline.6.2.dylib' (no such file), '/Users/george/opt/anaconda3/envs/real_base/libreadline.6.2.dylib' (no such file)\n"
     ]
    },
    {
     "data": {
      "text/plain": [
       "6"
      ]
     },
     "execution_count": 10,
     "metadata": {},
     "output_type": "execute_result"
    }
   ],
   "source": [
    "%%time\n",
    "os.system('Rscript run-simulation-R-BC-methods.R')"
   ]
  },
  {
   "cell_type": "code",
   "execution_count": 9,
   "id": "0a8c075a",
   "metadata": {},
   "outputs": [],
   "source": [
    "# os.environ"
   ]
  },
  {
   "cell_type": "code",
   "execution_count": null,
   "id": "de78406b",
   "metadata": {},
   "outputs": [],
   "source": []
  },
  {
   "cell_type": "code",
   "execution_count": 5,
   "id": "96e7e00b",
   "metadata": {},
   "outputs": [
    {
     "name": "stderr",
     "output_type": "stream",
     "text": [
      "Unable to determine R library path: Command '('/Users/george/opt/anaconda3/envs/real_base/lib/R/bin/Rscript', '-e', 'cat(Sys.getenv(\"LD_LIBRARY_PATH\"))')' died with <Signals.SIGABRT: 6>.\n",
      "Warning message:\n",
      "In options(stringsAsFactors = TRUE) :\n",
      "  'options(stringsAsFactors = TRUE)' is deprecated and will be disabled\n",
      "During startup - Warning messages:\n",
      "1: package \"methods\" in options(\"defaultPackages\") was not found \n",
      "2: package ‘utils’ in options(\"defaultPackages\") was not found \n",
      "3: package ‘grDevices’ in options(\"defaultPackages\") was not found \n",
      "4: package ‘graphics’ in options(\"defaultPackages\") was not found \n",
      "5: package ‘stats’ in options(\"defaultPackages\") was not found \n",
      "6: package ‘methods’ in options(\"defaultPackages\") was not found \n",
      "R[write to console]: Error in value[[3L]](cond) : shared object ‘methods.dylib’ not found\n",
      "\n"
     ]
    },
    {
     "ename": "RRuntimeError",
     "evalue": "Error in value[[3L]](cond) : shared object ‘methods.dylib’ not found\n",
     "output_type": "error",
     "traceback": [
      "\u001b[0;31m---------------------------------------------------------------------------\u001b[0m",
      "\u001b[0;31mRRuntimeError\u001b[0m                             Traceback (most recent call last)",
      "Cell \u001b[0;32mIn[5], line 1\u001b[0m\n\u001b[0;32m----> 1\u001b[0m \u001b[38;5;28;01mimport\u001b[39;00m \u001b[38;5;21;01mrpy2\u001b[39;00m\u001b[38;5;21;01m.\u001b[39;00m\u001b[38;5;21;01mrobjects\u001b[39;00m \u001b[38;5;28;01mas\u001b[39;00m \u001b[38;5;21;01mrobjects\u001b[39;00m\n",
      "File \u001b[0;32m~/opt/anaconda3/envs/r43/lib/python3.8/site-packages/rpy2/robjects/__init__.py:21\u001b[0m\n\u001b[1;32m     18\u001b[0m \u001b[38;5;28;01mimport\u001b[39;00m \u001b[38;5;21;01mrpy2\u001b[39;00m\u001b[38;5;21;01m.\u001b[39;00m\u001b[38;5;21;01mrinterface_lib\u001b[39;00m\u001b[38;5;21;01m.\u001b[39;00m\u001b[38;5;21;01mopenrlib\u001b[39;00m\n\u001b[1;32m     19\u001b[0m \u001b[38;5;28;01mimport\u001b[39;00m \u001b[38;5;21;01mrpy2\u001b[39;00m\u001b[38;5;21;01m.\u001b[39;00m\u001b[38;5;21;01mrlike\u001b[39;00m\u001b[38;5;21;01m.\u001b[39;00m\u001b[38;5;21;01mcontainer\u001b[39;00m \u001b[38;5;28;01mas\u001b[39;00m \u001b[38;5;21;01mrlc\u001b[39;00m\n\u001b[0;32m---> 21\u001b[0m \u001b[38;5;28;01mfrom\u001b[39;00m \u001b[38;5;21;01mrpy2\u001b[39;00m\u001b[38;5;21;01m.\u001b[39;00m\u001b[38;5;21;01mrobjects\u001b[39;00m\u001b[38;5;21;01m.\u001b[39;00m\u001b[38;5;21;01mrobject\u001b[39;00m \u001b[38;5;28;01mimport\u001b[39;00m RObjectMixin, RObject\n\u001b[1;32m     22\u001b[0m \u001b[38;5;28;01mimport\u001b[39;00m \u001b[38;5;21;01mrpy2\u001b[39;00m\u001b[38;5;21;01m.\u001b[39;00m\u001b[38;5;21;01mrobjects\u001b[39;00m\u001b[38;5;21;01m.\u001b[39;00m\u001b[38;5;21;01mfunctions\u001b[39;00m\n\u001b[1;32m     23\u001b[0m \u001b[38;5;28;01mfrom\u001b[39;00m \u001b[38;5;21;01mrpy2\u001b[39;00m\u001b[38;5;21;01m.\u001b[39;00m\u001b[38;5;21;01mrobjects\u001b[39;00m\u001b[38;5;21;01m.\u001b[39;00m\u001b[38;5;21;01menvironments\u001b[39;00m \u001b[38;5;28;01mimport\u001b[39;00m (Environment,\n\u001b[1;32m     24\u001b[0m                                         local_context)\n",
      "File \u001b[0;32m~/opt/anaconda3/envs/r43/lib/python3.8/site-packages/rpy2/robjects/robject.py:81\u001b[0m\n\u001b[1;32m     75\u001b[0m             \u001b[38;5;28;01myield\u001b[39;00m v\n\u001b[1;32m     78\u001b[0m _get_exported_value \u001b[38;5;241m=\u001b[39m rpy2\u001b[38;5;241m.\u001b[39mrinterface\u001b[38;5;241m.\u001b[39mbaseenv[\u001b[38;5;124m'\u001b[39m\u001b[38;5;124m::\u001b[39m\u001b[38;5;124m'\u001b[39m]\n\u001b[0;32m---> 81\u001b[0m \u001b[38;5;28;01mclass\u001b[39;00m \u001b[38;5;21;01mRObjectMixin\u001b[39;00m(abc\u001b[38;5;241m.\u001b[39mABC):\n\u001b[1;32m     82\u001b[0m \u001b[38;5;250m    \u001b[39m\u001b[38;5;124;03m\"\"\" Abstract class to provide methods common to all RObject instances. \"\"\"\u001b[39;00m\n\u001b[1;32m     84\u001b[0m     __rname__: typing\u001b[38;5;241m.\u001b[39mOptional[\u001b[38;5;28mstr\u001b[39m] \u001b[38;5;241m=\u001b[39m \u001b[38;5;28;01mNone\u001b[39;00m\n",
      "File \u001b[0;32m~/opt/anaconda3/envs/r43/lib/python3.8/site-packages/rpy2/robjects/robject.py:93\u001b[0m, in \u001b[0;36mRObjectMixin\u001b[0;34m()\u001b[0m\n\u001b[1;32m     91\u001b[0m __readlines \u001b[38;5;241m=\u001b[39m rpy2\u001b[38;5;241m.\u001b[39mrinterface\u001b[38;5;241m.\u001b[39mbaseenv\u001b[38;5;241m.\u001b[39mfind(\u001b[38;5;124m\"\u001b[39m\u001b[38;5;124mreadLines\u001b[39m\u001b[38;5;124m\"\u001b[39m)\n\u001b[1;32m     92\u001b[0m __unlink \u001b[38;5;241m=\u001b[39m rpy2\u001b[38;5;241m.\u001b[39mrinterface\u001b[38;5;241m.\u001b[39mbaseenv\u001b[38;5;241m.\u001b[39mfind(\u001b[38;5;124m\"\u001b[39m\u001b[38;5;124munlink\u001b[39m\u001b[38;5;124m\"\u001b[39m)\n\u001b[0;32m---> 93\u001b[0m __show \u001b[38;5;241m=\u001b[39m \u001b[43m_get_exported_value\u001b[49m\u001b[43m(\u001b[49m\u001b[38;5;124;43m'\u001b[39;49m\u001b[38;5;124;43mmethods\u001b[39;49m\u001b[38;5;124;43m'\u001b[39;49m\u001b[43m,\u001b[49m\u001b[43m \u001b[49m\u001b[38;5;124;43m'\u001b[39;49m\u001b[38;5;124;43mshow\u001b[39;49m\u001b[38;5;124;43m'\u001b[39;49m\u001b[43m)\u001b[49m\n\u001b[1;32m     94\u001b[0m __print \u001b[38;5;241m=\u001b[39m _get_exported_value(\u001b[38;5;124m'\u001b[39m\u001b[38;5;124mbase\u001b[39m\u001b[38;5;124m'\u001b[39m, \u001b[38;5;124m'\u001b[39m\u001b[38;5;124mprint\u001b[39m\u001b[38;5;124m'\u001b[39m)\n\u001b[1;32m     96\u001b[0m __slots \u001b[38;5;241m=\u001b[39m \u001b[38;5;28;01mNone\u001b[39;00m\n",
      "File \u001b[0;32m~/opt/anaconda3/envs/r43/lib/python3.8/site-packages/rpy2/rinterface_lib/conversion.py:45\u001b[0m, in \u001b[0;36m_cdata_res_to_rinterface.<locals>._\u001b[0;34m(*args, **kwargs)\u001b[0m\n\u001b[1;32m     44\u001b[0m \u001b[38;5;28;01mdef\u001b[39;00m \u001b[38;5;21m_\u001b[39m(\u001b[38;5;241m*\u001b[39margs, \u001b[38;5;241m*\u001b[39m\u001b[38;5;241m*\u001b[39mkwargs):\n\u001b[0;32m---> 45\u001b[0m     cdata \u001b[38;5;241m=\u001b[39m \u001b[43mfunction\u001b[49m\u001b[43m(\u001b[49m\u001b[38;5;241;43m*\u001b[39;49m\u001b[43margs\u001b[49m\u001b[43m,\u001b[49m\u001b[43m \u001b[49m\u001b[38;5;241;43m*\u001b[39;49m\u001b[38;5;241;43m*\u001b[39;49m\u001b[43mkwargs\u001b[49m\u001b[43m)\u001b[49m\n\u001b[1;32m     46\u001b[0m     \u001b[38;5;66;03m# TODO: test cdata is of the expected CType\u001b[39;00m\n\u001b[1;32m     47\u001b[0m     \u001b[38;5;28;01mreturn\u001b[39;00m _cdata_to_rinterface(cdata)\n",
      "File \u001b[0;32m~/opt/anaconda3/envs/r43/lib/python3.8/site-packages/rpy2/rinterface.py:869\u001b[0m, in \u001b[0;36mSexpClosure.__call__\u001b[0;34m(self, *args, **kwargs)\u001b[0m\n\u001b[1;32m    862\u001b[0m     res \u001b[38;5;241m=\u001b[39m rmemory\u001b[38;5;241m.\u001b[39mprotect(\n\u001b[1;32m    863\u001b[0m         openrlib\u001b[38;5;241m.\u001b[39mrlib\u001b[38;5;241m.\u001b[39mR_tryEval(\n\u001b[1;32m    864\u001b[0m             call_r,\n\u001b[1;32m    865\u001b[0m             call_context\u001b[38;5;241m.\u001b[39m__sexp__\u001b[38;5;241m.\u001b[39m_cdata,\n\u001b[1;32m    866\u001b[0m             error_occured)\n\u001b[1;32m    867\u001b[0m     )\n\u001b[1;32m    868\u001b[0m     \u001b[38;5;28;01mif\u001b[39;00m error_occured[\u001b[38;5;241m0\u001b[39m]:\n\u001b[0;32m--> 869\u001b[0m         \u001b[38;5;28;01mraise\u001b[39;00m embedded\u001b[38;5;241m.\u001b[39mRRuntimeError(_rinterface\u001b[38;5;241m.\u001b[39m_geterrmessage())\n\u001b[1;32m    870\u001b[0m \u001b[38;5;28;01mreturn\u001b[39;00m res\n",
      "\u001b[0;31mRRuntimeError\u001b[0m: Error in value[[3L]](cond) : shared object ‘methods.dylib’ not found\n"
     ]
    }
   ],
   "source": [
    "import rpy2.robjects as robjects\n",
    "robjects.r.source(\"run-simulation-R-BC-methods.R\")"
   ]
  },
  {
   "cell_type": "code",
   "execution_count": 3,
   "id": "fd826287",
   "metadata": {},
   "outputs": [
    {
     "name": "stdout",
     "output_type": "stream",
     "text": [
      "Note: no visible global function definition for 'radixsort' \n"
     ]
    },
    {
     "name": "stderr",
     "output_type": "stream",
     "text": [
      "R[write to console]: Error in value[[3L]](cond) : shared object ‘methods.dylib’ not found\n",
      "\n"
     ]
    },
    {
     "ename": "RRuntimeError",
     "evalue": "Error in value[[3L]](cond) : shared object ‘methods.dylib’ not found\n",
     "output_type": "error",
     "traceback": [
      "\u001b[0;31m---------------------------------------------------------------------------\u001b[0m",
      "\u001b[0;31mRRuntimeError\u001b[0m                             Traceback (most recent call last)",
      "Cell \u001b[0;32mIn[3], line 1\u001b[0m\n\u001b[0;32m----> 1\u001b[0m \u001b[38;5;28;01mimport\u001b[39;00m \u001b[38;5;21;01mrpy2\u001b[39;00m\u001b[38;5;21;01m.\u001b[39;00m\u001b[38;5;21;01mrobjects\u001b[39;00m \u001b[38;5;28;01mas\u001b[39;00m \u001b[38;5;21;01mrobjects\u001b[39;00m\n\u001b[1;32m      2\u001b[0m robjects\u001b[38;5;241m.\u001b[39mr\u001b[38;5;241m.\u001b[39msource(\u001b[38;5;124m\"\u001b[39m\u001b[38;5;124mrun-simulation-R-BC-methods.R\u001b[39m\u001b[38;5;124m\"\u001b[39m)\n",
      "File \u001b[0;32m~/opt/anaconda3/envs/r43/lib/python3.8/site-packages/rpy2/robjects/__init__.py:21\u001b[0m\n\u001b[1;32m     18\u001b[0m \u001b[38;5;28;01mimport\u001b[39;00m \u001b[38;5;21;01mrpy2\u001b[39;00m\u001b[38;5;21;01m.\u001b[39;00m\u001b[38;5;21;01mrinterface_lib\u001b[39;00m\u001b[38;5;21;01m.\u001b[39;00m\u001b[38;5;21;01mopenrlib\u001b[39;00m\n\u001b[1;32m     19\u001b[0m \u001b[38;5;28;01mimport\u001b[39;00m \u001b[38;5;21;01mrpy2\u001b[39;00m\u001b[38;5;21;01m.\u001b[39;00m\u001b[38;5;21;01mrlike\u001b[39;00m\u001b[38;5;21;01m.\u001b[39;00m\u001b[38;5;21;01mcontainer\u001b[39;00m \u001b[38;5;28;01mas\u001b[39;00m \u001b[38;5;21;01mrlc\u001b[39;00m\n\u001b[0;32m---> 21\u001b[0m \u001b[38;5;28;01mfrom\u001b[39;00m \u001b[38;5;21;01mrpy2\u001b[39;00m\u001b[38;5;21;01m.\u001b[39;00m\u001b[38;5;21;01mrobjects\u001b[39;00m\u001b[38;5;21;01m.\u001b[39;00m\u001b[38;5;21;01mrobject\u001b[39;00m \u001b[38;5;28;01mimport\u001b[39;00m RObjectMixin, RObject\n\u001b[1;32m     22\u001b[0m \u001b[38;5;28;01mimport\u001b[39;00m \u001b[38;5;21;01mrpy2\u001b[39;00m\u001b[38;5;21;01m.\u001b[39;00m\u001b[38;5;21;01mrobjects\u001b[39;00m\u001b[38;5;21;01m.\u001b[39;00m\u001b[38;5;21;01mfunctions\u001b[39;00m\n\u001b[1;32m     23\u001b[0m \u001b[38;5;28;01mfrom\u001b[39;00m \u001b[38;5;21;01mrpy2\u001b[39;00m\u001b[38;5;21;01m.\u001b[39;00m\u001b[38;5;21;01mrobjects\u001b[39;00m\u001b[38;5;21;01m.\u001b[39;00m\u001b[38;5;21;01menvironments\u001b[39;00m \u001b[38;5;28;01mimport\u001b[39;00m (Environment,\n\u001b[1;32m     24\u001b[0m                                         local_context)\n",
      "File \u001b[0;32m~/opt/anaconda3/envs/r43/lib/python3.8/site-packages/rpy2/robjects/robject.py:81\u001b[0m\n\u001b[1;32m     75\u001b[0m             \u001b[38;5;28;01myield\u001b[39;00m v\n\u001b[1;32m     78\u001b[0m _get_exported_value \u001b[38;5;241m=\u001b[39m rpy2\u001b[38;5;241m.\u001b[39mrinterface\u001b[38;5;241m.\u001b[39mbaseenv[\u001b[38;5;124m'\u001b[39m\u001b[38;5;124m::\u001b[39m\u001b[38;5;124m'\u001b[39m]\n\u001b[0;32m---> 81\u001b[0m \u001b[38;5;28;01mclass\u001b[39;00m \u001b[38;5;21;01mRObjectMixin\u001b[39;00m(abc\u001b[38;5;241m.\u001b[39mABC):\n\u001b[1;32m     82\u001b[0m \u001b[38;5;250m    \u001b[39m\u001b[38;5;124;03m\"\"\" Abstract class to provide methods common to all RObject instances. \"\"\"\u001b[39;00m\n\u001b[1;32m     84\u001b[0m     __rname__: typing\u001b[38;5;241m.\u001b[39mOptional[\u001b[38;5;28mstr\u001b[39m] \u001b[38;5;241m=\u001b[39m \u001b[38;5;28;01mNone\u001b[39;00m\n",
      "File \u001b[0;32m~/opt/anaconda3/envs/r43/lib/python3.8/site-packages/rpy2/robjects/robject.py:93\u001b[0m, in \u001b[0;36mRObjectMixin\u001b[0;34m()\u001b[0m\n\u001b[1;32m     91\u001b[0m __readlines \u001b[38;5;241m=\u001b[39m rpy2\u001b[38;5;241m.\u001b[39mrinterface\u001b[38;5;241m.\u001b[39mbaseenv\u001b[38;5;241m.\u001b[39mfind(\u001b[38;5;124m\"\u001b[39m\u001b[38;5;124mreadLines\u001b[39m\u001b[38;5;124m\"\u001b[39m)\n\u001b[1;32m     92\u001b[0m __unlink \u001b[38;5;241m=\u001b[39m rpy2\u001b[38;5;241m.\u001b[39mrinterface\u001b[38;5;241m.\u001b[39mbaseenv\u001b[38;5;241m.\u001b[39mfind(\u001b[38;5;124m\"\u001b[39m\u001b[38;5;124munlink\u001b[39m\u001b[38;5;124m\"\u001b[39m)\n\u001b[0;32m---> 93\u001b[0m __show \u001b[38;5;241m=\u001b[39m \u001b[43m_get_exported_value\u001b[49m\u001b[43m(\u001b[49m\u001b[38;5;124;43m'\u001b[39;49m\u001b[38;5;124;43mmethods\u001b[39;49m\u001b[38;5;124;43m'\u001b[39;49m\u001b[43m,\u001b[49m\u001b[43m \u001b[49m\u001b[38;5;124;43m'\u001b[39;49m\u001b[38;5;124;43mshow\u001b[39;49m\u001b[38;5;124;43m'\u001b[39;49m\u001b[43m)\u001b[49m\n\u001b[1;32m     94\u001b[0m __print \u001b[38;5;241m=\u001b[39m _get_exported_value(\u001b[38;5;124m'\u001b[39m\u001b[38;5;124mbase\u001b[39m\u001b[38;5;124m'\u001b[39m, \u001b[38;5;124m'\u001b[39m\u001b[38;5;124mprint\u001b[39m\u001b[38;5;124m'\u001b[39m)\n\u001b[1;32m     96\u001b[0m __slots \u001b[38;5;241m=\u001b[39m \u001b[38;5;28;01mNone\u001b[39;00m\n",
      "File \u001b[0;32m~/opt/anaconda3/envs/r43/lib/python3.8/site-packages/rpy2/rinterface_lib/conversion.py:45\u001b[0m, in \u001b[0;36m_cdata_res_to_rinterface.<locals>._\u001b[0;34m(*args, **kwargs)\u001b[0m\n\u001b[1;32m     44\u001b[0m \u001b[38;5;28;01mdef\u001b[39;00m \u001b[38;5;21m_\u001b[39m(\u001b[38;5;241m*\u001b[39margs, \u001b[38;5;241m*\u001b[39m\u001b[38;5;241m*\u001b[39mkwargs):\n\u001b[0;32m---> 45\u001b[0m     cdata \u001b[38;5;241m=\u001b[39m \u001b[43mfunction\u001b[49m\u001b[43m(\u001b[49m\u001b[38;5;241;43m*\u001b[39;49m\u001b[43margs\u001b[49m\u001b[43m,\u001b[49m\u001b[43m \u001b[49m\u001b[38;5;241;43m*\u001b[39;49m\u001b[38;5;241;43m*\u001b[39;49m\u001b[43mkwargs\u001b[49m\u001b[43m)\u001b[49m\n\u001b[1;32m     46\u001b[0m     \u001b[38;5;66;03m# TODO: test cdata is of the expected CType\u001b[39;00m\n\u001b[1;32m     47\u001b[0m     \u001b[38;5;28;01mreturn\u001b[39;00m _cdata_to_rinterface(cdata)\n",
      "File \u001b[0;32m~/opt/anaconda3/envs/r43/lib/python3.8/site-packages/rpy2/rinterface.py:869\u001b[0m, in \u001b[0;36mSexpClosure.__call__\u001b[0;34m(self, *args, **kwargs)\u001b[0m\n\u001b[1;32m    862\u001b[0m     res \u001b[38;5;241m=\u001b[39m rmemory\u001b[38;5;241m.\u001b[39mprotect(\n\u001b[1;32m    863\u001b[0m         openrlib\u001b[38;5;241m.\u001b[39mrlib\u001b[38;5;241m.\u001b[39mR_tryEval(\n\u001b[1;32m    864\u001b[0m             call_r,\n\u001b[1;32m    865\u001b[0m             call_context\u001b[38;5;241m.\u001b[39m__sexp__\u001b[38;5;241m.\u001b[39m_cdata,\n\u001b[1;32m    866\u001b[0m             error_occured)\n\u001b[1;32m    867\u001b[0m     )\n\u001b[1;32m    868\u001b[0m     \u001b[38;5;28;01mif\u001b[39;00m error_occured[\u001b[38;5;241m0\u001b[39m]:\n\u001b[0;32m--> 869\u001b[0m         \u001b[38;5;28;01mraise\u001b[39;00m embedded\u001b[38;5;241m.\u001b[39mRRuntimeError(_rinterface\u001b[38;5;241m.\u001b[39m_geterrmessage())\n\u001b[1;32m    870\u001b[0m \u001b[38;5;28;01mreturn\u001b[39;00m res\n",
      "\u001b[0;31mRRuntimeError\u001b[0m: Error in value[[3L]](cond) : shared object ‘methods.dylib’ not found\n"
     ]
    }
   ],
   "source": [
    "\n",
    "robjects.r.source(\"run-simulation-R-BC-methods.R\")"
   ]
  },
  {
   "cell_type": "code",
   "execution_count": null,
   "id": "3fd10558",
   "metadata": {},
   "outputs": [],
   "source": []
  },
  {
   "cell_type": "code",
   "execution_count": null,
   "id": "602130c4",
   "metadata": {},
   "outputs": [],
   "source": []
  },
  {
   "cell_type": "code",
   "execution_count": 75,
   "id": "3999cbeb",
   "metadata": {},
   "outputs": [
    {
     "ename": "PermissionError",
     "evalue": "[Errno 13] Permission denied: './run-simulation-R-BC-methods.R'",
     "output_type": "error",
     "traceback": [
      "\u001b[0;31m---------------------------------------------------------------------------\u001b[0m",
      "\u001b[0;31mPermissionError\u001b[0m                           Traceback (most recent call last)",
      "Cell \u001b[0;32mIn[75], line 1\u001b[0m\n\u001b[0;32m----> 1\u001b[0m \u001b[43msubprocess\u001b[49m\u001b[38;5;241;43m.\u001b[39;49m\u001b[43mcall\u001b[49m\u001b[43m(\u001b[49m\u001b[38;5;124;43m'\u001b[39;49m\u001b[38;5;124;43m./run-simulation-R-BC-methods.R\u001b[39;49m\u001b[38;5;124;43m'\u001b[39;49m\u001b[43m)\u001b[49m\n",
      "File \u001b[0;32m~/opt/anaconda3/envs/r43/lib/python3.8/subprocess.py:340\u001b[0m, in \u001b[0;36mcall\u001b[0;34m(timeout, *popenargs, **kwargs)\u001b[0m\n\u001b[1;32m    332\u001b[0m \u001b[38;5;28;01mdef\u001b[39;00m \u001b[38;5;21mcall\u001b[39m(\u001b[38;5;241m*\u001b[39mpopenargs, timeout\u001b[38;5;241m=\u001b[39m\u001b[38;5;28;01mNone\u001b[39;00m, \u001b[38;5;241m*\u001b[39m\u001b[38;5;241m*\u001b[39mkwargs):\n\u001b[1;32m    333\u001b[0m \u001b[38;5;250m    \u001b[39m\u001b[38;5;124;03m\"\"\"Run command with arguments.  Wait for command to complete or\u001b[39;00m\n\u001b[1;32m    334\u001b[0m \u001b[38;5;124;03m    timeout, then return the returncode attribute.\u001b[39;00m\n\u001b[1;32m    335\u001b[0m \n\u001b[0;32m   (...)\u001b[0m\n\u001b[1;32m    338\u001b[0m \u001b[38;5;124;03m    retcode = call([\"ls\", \"-l\"])\u001b[39;00m\n\u001b[1;32m    339\u001b[0m \u001b[38;5;124;03m    \"\"\"\u001b[39;00m\n\u001b[0;32m--> 340\u001b[0m     \u001b[38;5;28;01mwith\u001b[39;00m \u001b[43mPopen\u001b[49m\u001b[43m(\u001b[49m\u001b[38;5;241;43m*\u001b[39;49m\u001b[43mpopenargs\u001b[49m\u001b[43m,\u001b[49m\u001b[43m \u001b[49m\u001b[38;5;241;43m*\u001b[39;49m\u001b[38;5;241;43m*\u001b[39;49m\u001b[43mkwargs\u001b[49m\u001b[43m)\u001b[49m \u001b[38;5;28;01mas\u001b[39;00m p:\n\u001b[1;32m    341\u001b[0m         \u001b[38;5;28;01mtry\u001b[39;00m:\n\u001b[1;32m    342\u001b[0m             \u001b[38;5;28;01mreturn\u001b[39;00m p\u001b[38;5;241m.\u001b[39mwait(timeout\u001b[38;5;241m=\u001b[39mtimeout)\n",
      "File \u001b[0;32m~/opt/anaconda3/envs/r43/lib/python3.8/subprocess.py:858\u001b[0m, in \u001b[0;36mPopen.__init__\u001b[0;34m(self, args, bufsize, executable, stdin, stdout, stderr, preexec_fn, close_fds, shell, cwd, env, universal_newlines, startupinfo, creationflags, restore_signals, start_new_session, pass_fds, encoding, errors, text)\u001b[0m\n\u001b[1;32m    854\u001b[0m         \u001b[38;5;28;01mif\u001b[39;00m \u001b[38;5;28mself\u001b[39m\u001b[38;5;241m.\u001b[39mtext_mode:\n\u001b[1;32m    855\u001b[0m             \u001b[38;5;28mself\u001b[39m\u001b[38;5;241m.\u001b[39mstderr \u001b[38;5;241m=\u001b[39m io\u001b[38;5;241m.\u001b[39mTextIOWrapper(\u001b[38;5;28mself\u001b[39m\u001b[38;5;241m.\u001b[39mstderr,\n\u001b[1;32m    856\u001b[0m                     encoding\u001b[38;5;241m=\u001b[39mencoding, errors\u001b[38;5;241m=\u001b[39merrors)\n\u001b[0;32m--> 858\u001b[0m     \u001b[38;5;28;43mself\u001b[39;49m\u001b[38;5;241;43m.\u001b[39;49m\u001b[43m_execute_child\u001b[49m\u001b[43m(\u001b[49m\u001b[43margs\u001b[49m\u001b[43m,\u001b[49m\u001b[43m \u001b[49m\u001b[43mexecutable\u001b[49m\u001b[43m,\u001b[49m\u001b[43m \u001b[49m\u001b[43mpreexec_fn\u001b[49m\u001b[43m,\u001b[49m\u001b[43m \u001b[49m\u001b[43mclose_fds\u001b[49m\u001b[43m,\u001b[49m\n\u001b[1;32m    859\u001b[0m \u001b[43m                        \u001b[49m\u001b[43mpass_fds\u001b[49m\u001b[43m,\u001b[49m\u001b[43m \u001b[49m\u001b[43mcwd\u001b[49m\u001b[43m,\u001b[49m\u001b[43m \u001b[49m\u001b[43menv\u001b[49m\u001b[43m,\u001b[49m\n\u001b[1;32m    860\u001b[0m \u001b[43m                        \u001b[49m\u001b[43mstartupinfo\u001b[49m\u001b[43m,\u001b[49m\u001b[43m \u001b[49m\u001b[43mcreationflags\u001b[49m\u001b[43m,\u001b[49m\u001b[43m \u001b[49m\u001b[43mshell\u001b[49m\u001b[43m,\u001b[49m\n\u001b[1;32m    861\u001b[0m \u001b[43m                        \u001b[49m\u001b[43mp2cread\u001b[49m\u001b[43m,\u001b[49m\u001b[43m \u001b[49m\u001b[43mp2cwrite\u001b[49m\u001b[43m,\u001b[49m\n\u001b[1;32m    862\u001b[0m \u001b[43m                        \u001b[49m\u001b[43mc2pread\u001b[49m\u001b[43m,\u001b[49m\u001b[43m \u001b[49m\u001b[43mc2pwrite\u001b[49m\u001b[43m,\u001b[49m\n\u001b[1;32m    863\u001b[0m \u001b[43m                        \u001b[49m\u001b[43merrread\u001b[49m\u001b[43m,\u001b[49m\u001b[43m \u001b[49m\u001b[43merrwrite\u001b[49m\u001b[43m,\u001b[49m\n\u001b[1;32m    864\u001b[0m \u001b[43m                        \u001b[49m\u001b[43mrestore_signals\u001b[49m\u001b[43m,\u001b[49m\u001b[43m \u001b[49m\u001b[43mstart_new_session\u001b[49m\u001b[43m)\u001b[49m\n\u001b[1;32m    865\u001b[0m \u001b[38;5;28;01mexcept\u001b[39;00m:\n\u001b[1;32m    866\u001b[0m     \u001b[38;5;66;03m# Cleanup if the child failed starting.\u001b[39;00m\n\u001b[1;32m    867\u001b[0m     \u001b[38;5;28;01mfor\u001b[39;00m f \u001b[38;5;129;01min\u001b[39;00m \u001b[38;5;28mfilter\u001b[39m(\u001b[38;5;28;01mNone\u001b[39;00m, (\u001b[38;5;28mself\u001b[39m\u001b[38;5;241m.\u001b[39mstdin, \u001b[38;5;28mself\u001b[39m\u001b[38;5;241m.\u001b[39mstdout, \u001b[38;5;28mself\u001b[39m\u001b[38;5;241m.\u001b[39mstderr)):\n",
      "File \u001b[0;32m~/opt/anaconda3/envs/r43/lib/python3.8/subprocess.py:1720\u001b[0m, in \u001b[0;36mPopen._execute_child\u001b[0;34m(self, args, executable, preexec_fn, close_fds, pass_fds, cwd, env, startupinfo, creationflags, shell, p2cread, p2cwrite, c2pread, c2pwrite, errread, errwrite, restore_signals, start_new_session)\u001b[0m\n\u001b[1;32m   1718\u001b[0m     \u001b[38;5;28;01mif\u001b[39;00m errno_num \u001b[38;5;241m!=\u001b[39m \u001b[38;5;241m0\u001b[39m:\n\u001b[1;32m   1719\u001b[0m         err_msg \u001b[38;5;241m=\u001b[39m os\u001b[38;5;241m.\u001b[39mstrerror(errno_num)\n\u001b[0;32m-> 1720\u001b[0m     \u001b[38;5;28;01mraise\u001b[39;00m child_exception_type(errno_num, err_msg, err_filename)\n\u001b[1;32m   1721\u001b[0m \u001b[38;5;28;01mraise\u001b[39;00m child_exception_type(err_msg)\n",
      "\u001b[0;31mPermissionError\u001b[0m: [Errno 13] Permission denied: './run-simulation-R-BC-methods.R'"
     ]
    }
   ],
   "source": [
    "subprocess.call('./run-simulation-R-BC-methods.R')"
   ]
  },
  {
   "cell_type": "code",
   "execution_count": 70,
   "id": "94c1ebcb",
   "metadata": {},
   "outputs": [
    {
     "name": "stdout",
     "output_type": "stream",
     "text": [
      "Running external command line application(s). This may print messages to stdout and/or stderr.\n",
      "The command(s) being run are below. These commands cannot be manually re-run as they will depend on temporary files that no longer exist.\n",
      "\n",
      "Command: run-simulation-R-BC-methods.R\n",
      "\n"
     ]
    },
    {
     "ename": "FileNotFoundError",
     "evalue": "[Errno 2] No such file or directory: 'run-simulation-R-BC-methods.R'",
     "output_type": "error",
     "traceback": [
      "\u001b[0;31m---------------------------------------------------------------------------\u001b[0m",
      "\u001b[0;31mFileNotFoundError\u001b[0m                         Traceback (most recent call last)",
      "Cell \u001b[0;32mIn[70], line 2\u001b[0m\n\u001b[1;32m      1\u001b[0m cmd \u001b[38;5;241m=\u001b[39m [\u001b[38;5;124m'\u001b[39m\u001b[38;5;124mrun-simulation-R-BC-methods.R\u001b[39m\u001b[38;5;124m'\u001b[39m]\n\u001b[0;32m----> 2\u001b[0m \u001b[43mrun_commands\u001b[49m\u001b[43m(\u001b[49m\u001b[43m[\u001b[49m\u001b[43mcmd\u001b[49m\u001b[43m]\u001b[49m\u001b[43m)\u001b[49m\n",
      "Cell \u001b[0;32mIn[69], line 20\u001b[0m, in \u001b[0;36mrun_commands\u001b[0;34m(cmds, verbose, cur_dir)\u001b[0m\n\u001b[1;32m     18\u001b[0m     \u001b[38;5;28mprint\u001b[39m(\u001b[38;5;124m\"\u001b[39m\u001b[38;5;130;01m\\n\u001b[39;00m\u001b[38;5;124mCommand:\u001b[39m\u001b[38;5;124m\"\u001b[39m, end\u001b[38;5;241m=\u001b[39m\u001b[38;5;124m'\u001b[39m\u001b[38;5;124m \u001b[39m\u001b[38;5;124m'\u001b[39m)\n\u001b[1;32m     19\u001b[0m     \u001b[38;5;28mprint\u001b[39m(\u001b[38;5;124m\"\u001b[39m\u001b[38;5;124m \u001b[39m\u001b[38;5;124m\"\u001b[39m\u001b[38;5;241m.\u001b[39mjoin(cmd), end\u001b[38;5;241m=\u001b[39m\u001b[38;5;124m'\u001b[39m\u001b[38;5;130;01m\\n\u001b[39;00m\u001b[38;5;130;01m\\n\u001b[39;00m\u001b[38;5;124m'\u001b[39m)\n\u001b[0;32m---> 20\u001b[0m \u001b[43msubprocess\u001b[49m\u001b[38;5;241;43m.\u001b[39;49m\u001b[43mrun\u001b[49m\u001b[43m(\u001b[49m\u001b[43mcmd\u001b[49m\u001b[43m,\u001b[49m\n\u001b[1;32m     21\u001b[0m \u001b[43m               \u001b[49m\u001b[43mcheck\u001b[49m\u001b[38;5;241;43m=\u001b[39;49m\u001b[38;5;28;43;01mTrue\u001b[39;49;00m\u001b[43m,\u001b[49m\n\u001b[1;32m     22\u001b[0m \u001b[43m               \u001b[49m\u001b[43mcwd\u001b[49m\u001b[38;5;241;43m=\u001b[39;49m\u001b[43mcur_dir\u001b[49m\u001b[43m)\u001b[49m\n",
      "File \u001b[0;32m~/opt/anaconda3/envs/r43/lib/python3.8/subprocess.py:493\u001b[0m, in \u001b[0;36mrun\u001b[0;34m(input, capture_output, timeout, check, *popenargs, **kwargs)\u001b[0m\n\u001b[1;32m    490\u001b[0m     kwargs[\u001b[38;5;124m'\u001b[39m\u001b[38;5;124mstdout\u001b[39m\u001b[38;5;124m'\u001b[39m] \u001b[38;5;241m=\u001b[39m PIPE\n\u001b[1;32m    491\u001b[0m     kwargs[\u001b[38;5;124m'\u001b[39m\u001b[38;5;124mstderr\u001b[39m\u001b[38;5;124m'\u001b[39m] \u001b[38;5;241m=\u001b[39m PIPE\n\u001b[0;32m--> 493\u001b[0m \u001b[38;5;28;01mwith\u001b[39;00m \u001b[43mPopen\u001b[49m\u001b[43m(\u001b[49m\u001b[38;5;241;43m*\u001b[39;49m\u001b[43mpopenargs\u001b[49m\u001b[43m,\u001b[49m\u001b[43m \u001b[49m\u001b[38;5;241;43m*\u001b[39;49m\u001b[38;5;241;43m*\u001b[39;49m\u001b[43mkwargs\u001b[49m\u001b[43m)\u001b[49m \u001b[38;5;28;01mas\u001b[39;00m process:\n\u001b[1;32m    494\u001b[0m     \u001b[38;5;28;01mtry\u001b[39;00m:\n\u001b[1;32m    495\u001b[0m         stdout, stderr \u001b[38;5;241m=\u001b[39m process\u001b[38;5;241m.\u001b[39mcommunicate(\u001b[38;5;28minput\u001b[39m, timeout\u001b[38;5;241m=\u001b[39mtimeout)\n",
      "File \u001b[0;32m~/opt/anaconda3/envs/r43/lib/python3.8/subprocess.py:858\u001b[0m, in \u001b[0;36mPopen.__init__\u001b[0;34m(self, args, bufsize, executable, stdin, stdout, stderr, preexec_fn, close_fds, shell, cwd, env, universal_newlines, startupinfo, creationflags, restore_signals, start_new_session, pass_fds, encoding, errors, text)\u001b[0m\n\u001b[1;32m    854\u001b[0m         \u001b[38;5;28;01mif\u001b[39;00m \u001b[38;5;28mself\u001b[39m\u001b[38;5;241m.\u001b[39mtext_mode:\n\u001b[1;32m    855\u001b[0m             \u001b[38;5;28mself\u001b[39m\u001b[38;5;241m.\u001b[39mstderr \u001b[38;5;241m=\u001b[39m io\u001b[38;5;241m.\u001b[39mTextIOWrapper(\u001b[38;5;28mself\u001b[39m\u001b[38;5;241m.\u001b[39mstderr,\n\u001b[1;32m    856\u001b[0m                     encoding\u001b[38;5;241m=\u001b[39mencoding, errors\u001b[38;5;241m=\u001b[39merrors)\n\u001b[0;32m--> 858\u001b[0m     \u001b[38;5;28;43mself\u001b[39;49m\u001b[38;5;241;43m.\u001b[39;49m\u001b[43m_execute_child\u001b[49m\u001b[43m(\u001b[49m\u001b[43margs\u001b[49m\u001b[43m,\u001b[49m\u001b[43m \u001b[49m\u001b[43mexecutable\u001b[49m\u001b[43m,\u001b[49m\u001b[43m \u001b[49m\u001b[43mpreexec_fn\u001b[49m\u001b[43m,\u001b[49m\u001b[43m \u001b[49m\u001b[43mclose_fds\u001b[49m\u001b[43m,\u001b[49m\n\u001b[1;32m    859\u001b[0m \u001b[43m                        \u001b[49m\u001b[43mpass_fds\u001b[49m\u001b[43m,\u001b[49m\u001b[43m \u001b[49m\u001b[43mcwd\u001b[49m\u001b[43m,\u001b[49m\u001b[43m \u001b[49m\u001b[43menv\u001b[49m\u001b[43m,\u001b[49m\n\u001b[1;32m    860\u001b[0m \u001b[43m                        \u001b[49m\u001b[43mstartupinfo\u001b[49m\u001b[43m,\u001b[49m\u001b[43m \u001b[49m\u001b[43mcreationflags\u001b[49m\u001b[43m,\u001b[49m\u001b[43m \u001b[49m\u001b[43mshell\u001b[49m\u001b[43m,\u001b[49m\n\u001b[1;32m    861\u001b[0m \u001b[43m                        \u001b[49m\u001b[43mp2cread\u001b[49m\u001b[43m,\u001b[49m\u001b[43m \u001b[49m\u001b[43mp2cwrite\u001b[49m\u001b[43m,\u001b[49m\n\u001b[1;32m    862\u001b[0m \u001b[43m                        \u001b[49m\u001b[43mc2pread\u001b[49m\u001b[43m,\u001b[49m\u001b[43m \u001b[49m\u001b[43mc2pwrite\u001b[49m\u001b[43m,\u001b[49m\n\u001b[1;32m    863\u001b[0m \u001b[43m                        \u001b[49m\u001b[43merrread\u001b[49m\u001b[43m,\u001b[49m\u001b[43m \u001b[49m\u001b[43merrwrite\u001b[49m\u001b[43m,\u001b[49m\n\u001b[1;32m    864\u001b[0m \u001b[43m                        \u001b[49m\u001b[43mrestore_signals\u001b[49m\u001b[43m,\u001b[49m\u001b[43m \u001b[49m\u001b[43mstart_new_session\u001b[49m\u001b[43m)\u001b[49m\n\u001b[1;32m    865\u001b[0m \u001b[38;5;28;01mexcept\u001b[39;00m:\n\u001b[1;32m    866\u001b[0m     \u001b[38;5;66;03m# Cleanup if the child failed starting.\u001b[39;00m\n\u001b[1;32m    867\u001b[0m     \u001b[38;5;28;01mfor\u001b[39;00m f \u001b[38;5;129;01min\u001b[39;00m \u001b[38;5;28mfilter\u001b[39m(\u001b[38;5;28;01mNone\u001b[39;00m, (\u001b[38;5;28mself\u001b[39m\u001b[38;5;241m.\u001b[39mstdin, \u001b[38;5;28mself\u001b[39m\u001b[38;5;241m.\u001b[39mstdout, \u001b[38;5;28mself\u001b[39m\u001b[38;5;241m.\u001b[39mstderr)):\n",
      "File \u001b[0;32m~/opt/anaconda3/envs/r43/lib/python3.8/subprocess.py:1720\u001b[0m, in \u001b[0;36mPopen._execute_child\u001b[0;34m(self, args, executable, preexec_fn, close_fds, pass_fds, cwd, env, startupinfo, creationflags, shell, p2cread, p2cwrite, c2pread, c2pwrite, errread, errwrite, restore_signals, start_new_session)\u001b[0m\n\u001b[1;32m   1718\u001b[0m     \u001b[38;5;28;01mif\u001b[39;00m errno_num \u001b[38;5;241m!=\u001b[39m \u001b[38;5;241m0\u001b[39m:\n\u001b[1;32m   1719\u001b[0m         err_msg \u001b[38;5;241m=\u001b[39m os\u001b[38;5;241m.\u001b[39mstrerror(errno_num)\n\u001b[0;32m-> 1720\u001b[0m     \u001b[38;5;28;01mraise\u001b[39;00m child_exception_type(errno_num, err_msg, err_filename)\n\u001b[1;32m   1721\u001b[0m \u001b[38;5;28;01mraise\u001b[39;00m child_exception_type(err_msg)\n",
      "\u001b[0;31mFileNotFoundError\u001b[0m: [Errno 2] No such file or directory: 'run-simulation-R-BC-methods.R'"
     ]
    }
   ],
   "source": [
    "cmd = ['run-simulation-R-BC-methods.R']\n",
    "run_commands([cmd])"
   ]
  },
  {
   "cell_type": "code",
   "execution_count": null,
   "id": "1d9b36c4",
   "metadata": {},
   "outputs": [],
   "source": []
  },
  {
   "cell_type": "code",
   "execution_count": 65,
   "id": "f029bfa3",
   "metadata": {},
   "outputs": [],
   "source": [
    "import tempfile"
   ]
  },
  {
   "cell_type": "code",
   "execution_count": 66,
   "id": "1c21dd48",
   "metadata": {},
   "outputs": [
    {
     "name": "stdout",
     "output_type": "stream",
     "text": [
      "/var/folders/60/0byq_5yx2jbgs0cn6s5s2y7r0000gn/T/tmp35032xfc\n"
     ]
    }
   ],
   "source": [
    "# save all intermediate files into tmp dir\n",
    "with tempfile.TemporaryDirectory() as temp_dir_name:\n",
    "    print(temp_dir_name)"
   ]
  },
  {
   "cell_type": "code",
   "execution_count": null,
   "id": "44a4b262",
   "metadata": {},
   "outputs": [],
   "source": [
    "cwd='path/to/wanted/dir/')"
   ]
  },
  {
   "cell_type": "code",
   "execution_count": 67,
   "id": "ca1379d3",
   "metadata": {},
   "outputs": [
    {
     "name": "stdout",
     "output_type": "stream",
     "text": [
      "/Users/george/Desktop/DEBIAS-M-revisions/Simulations\r\n"
     ]
    }
   ],
   "source": [
    "!pwd"
   ]
  },
  {
   "cell_type": "code",
   "execution_count": null,
   "id": "18ed0b27",
   "metadata": {},
   "outputs": [],
   "source": []
  },
  {
   "cell_type": "code",
   "execution_count": 62,
   "id": "0ca7b71f",
   "metadata": {},
   "outputs": [],
   "source": [
    "!mkdir assets"
   ]
  },
  {
   "cell_type": "code",
   "execution_count": 63,
   "id": "670676cb",
   "metadata": {},
   "outputs": [
    {
     "name": "stdout",
     "output_type": "stream",
     "text": [
      "Running external command line application(s). This may print messages to stdout and/or stderr.\n",
      "The command(s) being run are below. These commands cannot be manually re-run as they will depend on temporary files that no longer exist.\n",
      "\n",
      "Command: run-simulation-R-BC-methods.R\n",
      "\n"
     ]
    },
    {
     "ename": "FileNotFoundError",
     "evalue": "[Errno 2] No such file or directory: 'run-simulation-R-BC-methods.R'",
     "output_type": "error",
     "traceback": [
      "\u001b[0;31m---------------------------------------------------------------------------\u001b[0m",
      "\u001b[0;31mFileNotFoundError\u001b[0m                         Traceback (most recent call last)",
      "File \u001b[0;32m<timed exec>:21\u001b[0m\n",
      "File \u001b[0;32m<timed exec>:19\u001b[0m, in \u001b[0;36mrun_commands\u001b[0;34m(cmds, verbose)\u001b[0m\n",
      "File \u001b[0;32m~/opt/anaconda3/envs/r43/lib/python3.8/subprocess.py:493\u001b[0m, in \u001b[0;36mrun\u001b[0;34m(input, capture_output, timeout, check, *popenargs, **kwargs)\u001b[0m\n\u001b[1;32m    490\u001b[0m     kwargs[\u001b[38;5;124m'\u001b[39m\u001b[38;5;124mstdout\u001b[39m\u001b[38;5;124m'\u001b[39m] \u001b[38;5;241m=\u001b[39m PIPE\n\u001b[1;32m    491\u001b[0m     kwargs[\u001b[38;5;124m'\u001b[39m\u001b[38;5;124mstderr\u001b[39m\u001b[38;5;124m'\u001b[39m] \u001b[38;5;241m=\u001b[39m PIPE\n\u001b[0;32m--> 493\u001b[0m \u001b[38;5;28;01mwith\u001b[39;00m \u001b[43mPopen\u001b[49m\u001b[43m(\u001b[49m\u001b[38;5;241;43m*\u001b[39;49m\u001b[43mpopenargs\u001b[49m\u001b[43m,\u001b[49m\u001b[43m \u001b[49m\u001b[38;5;241;43m*\u001b[39;49m\u001b[38;5;241;43m*\u001b[39;49m\u001b[43mkwargs\u001b[49m\u001b[43m)\u001b[49m \u001b[38;5;28;01mas\u001b[39;00m process:\n\u001b[1;32m    494\u001b[0m     \u001b[38;5;28;01mtry\u001b[39;00m:\n\u001b[1;32m    495\u001b[0m         stdout, stderr \u001b[38;5;241m=\u001b[39m process\u001b[38;5;241m.\u001b[39mcommunicate(\u001b[38;5;28minput\u001b[39m, timeout\u001b[38;5;241m=\u001b[39mtimeout)\n",
      "File \u001b[0;32m~/opt/anaconda3/envs/r43/lib/python3.8/subprocess.py:858\u001b[0m, in \u001b[0;36mPopen.__init__\u001b[0;34m(self, args, bufsize, executable, stdin, stdout, stderr, preexec_fn, close_fds, shell, cwd, env, universal_newlines, startupinfo, creationflags, restore_signals, start_new_session, pass_fds, encoding, errors, text)\u001b[0m\n\u001b[1;32m    854\u001b[0m         \u001b[38;5;28;01mif\u001b[39;00m \u001b[38;5;28mself\u001b[39m\u001b[38;5;241m.\u001b[39mtext_mode:\n\u001b[1;32m    855\u001b[0m             \u001b[38;5;28mself\u001b[39m\u001b[38;5;241m.\u001b[39mstderr \u001b[38;5;241m=\u001b[39m io\u001b[38;5;241m.\u001b[39mTextIOWrapper(\u001b[38;5;28mself\u001b[39m\u001b[38;5;241m.\u001b[39mstderr,\n\u001b[1;32m    856\u001b[0m                     encoding\u001b[38;5;241m=\u001b[39mencoding, errors\u001b[38;5;241m=\u001b[39merrors)\n\u001b[0;32m--> 858\u001b[0m     \u001b[38;5;28;43mself\u001b[39;49m\u001b[38;5;241;43m.\u001b[39;49m\u001b[43m_execute_child\u001b[49m\u001b[43m(\u001b[49m\u001b[43margs\u001b[49m\u001b[43m,\u001b[49m\u001b[43m \u001b[49m\u001b[43mexecutable\u001b[49m\u001b[43m,\u001b[49m\u001b[43m \u001b[49m\u001b[43mpreexec_fn\u001b[49m\u001b[43m,\u001b[49m\u001b[43m \u001b[49m\u001b[43mclose_fds\u001b[49m\u001b[43m,\u001b[49m\n\u001b[1;32m    859\u001b[0m \u001b[43m                        \u001b[49m\u001b[43mpass_fds\u001b[49m\u001b[43m,\u001b[49m\u001b[43m \u001b[49m\u001b[43mcwd\u001b[49m\u001b[43m,\u001b[49m\u001b[43m \u001b[49m\u001b[43menv\u001b[49m\u001b[43m,\u001b[49m\n\u001b[1;32m    860\u001b[0m \u001b[43m                        \u001b[49m\u001b[43mstartupinfo\u001b[49m\u001b[43m,\u001b[49m\u001b[43m \u001b[49m\u001b[43mcreationflags\u001b[49m\u001b[43m,\u001b[49m\u001b[43m \u001b[49m\u001b[43mshell\u001b[49m\u001b[43m,\u001b[49m\n\u001b[1;32m    861\u001b[0m \u001b[43m                        \u001b[49m\u001b[43mp2cread\u001b[49m\u001b[43m,\u001b[49m\u001b[43m \u001b[49m\u001b[43mp2cwrite\u001b[49m\u001b[43m,\u001b[49m\n\u001b[1;32m    862\u001b[0m \u001b[43m                        \u001b[49m\u001b[43mc2pread\u001b[49m\u001b[43m,\u001b[49m\u001b[43m \u001b[49m\u001b[43mc2pwrite\u001b[49m\u001b[43m,\u001b[49m\n\u001b[1;32m    863\u001b[0m \u001b[43m                        \u001b[49m\u001b[43merrread\u001b[49m\u001b[43m,\u001b[49m\u001b[43m \u001b[49m\u001b[43merrwrite\u001b[49m\u001b[43m,\u001b[49m\n\u001b[1;32m    864\u001b[0m \u001b[43m                        \u001b[49m\u001b[43mrestore_signals\u001b[49m\u001b[43m,\u001b[49m\u001b[43m \u001b[49m\u001b[43mstart_new_session\u001b[49m\u001b[43m)\u001b[49m\n\u001b[1;32m    865\u001b[0m \u001b[38;5;28;01mexcept\u001b[39;00m:\n\u001b[1;32m    866\u001b[0m     \u001b[38;5;66;03m# Cleanup if the child failed starting.\u001b[39;00m\n\u001b[1;32m    867\u001b[0m     \u001b[38;5;28;01mfor\u001b[39;00m f \u001b[38;5;129;01min\u001b[39;00m \u001b[38;5;28mfilter\u001b[39m(\u001b[38;5;28;01mNone\u001b[39;00m, (\u001b[38;5;28mself\u001b[39m\u001b[38;5;241m.\u001b[39mstdin, \u001b[38;5;28mself\u001b[39m\u001b[38;5;241m.\u001b[39mstdout, \u001b[38;5;28mself\u001b[39m\u001b[38;5;241m.\u001b[39mstderr)):\n",
      "File \u001b[0;32m~/opt/anaconda3/envs/r43/lib/python3.8/subprocess.py:1720\u001b[0m, in \u001b[0;36mPopen._execute_child\u001b[0;34m(self, args, executable, preexec_fn, close_fds, pass_fds, cwd, env, startupinfo, creationflags, shell, p2cread, p2cwrite, c2pread, c2pwrite, errread, errwrite, restore_signals, start_new_session)\u001b[0m\n\u001b[1;32m   1718\u001b[0m     \u001b[38;5;28;01mif\u001b[39;00m errno_num \u001b[38;5;241m!=\u001b[39m \u001b[38;5;241m0\u001b[39m:\n\u001b[1;32m   1719\u001b[0m         err_msg \u001b[38;5;241m=\u001b[39m os\u001b[38;5;241m.\u001b[39mstrerror(errno_num)\n\u001b[0;32m-> 1720\u001b[0m     \u001b[38;5;28;01mraise\u001b[39;00m child_exception_type(errno_num, err_msg, err_filename)\n\u001b[1;32m   1721\u001b[0m \u001b[38;5;28;01mraise\u001b[39;00m child_exception_type(err_msg)\n",
      "\u001b[0;31mFileNotFoundError\u001b[0m: [Errno 2] No such file or directory: 'run-simulation-R-BC-methods.R'"
     ]
    }
   ],
   "source": [
    "%%time\n",
    "import subprocess\n",
    "def run_commands(cmds, verbose=True):\n",
    "    \"\"\"\n",
    "    This function is a script runner.\n",
    "    It was obtained from https://github.com/ggloor\n",
    "    /q2-aldex2/blob/master/q2_aldex2/_method.py\n",
    "    also dada2\n",
    "    \"\"\"\n",
    "    if verbose:\n",
    "        print(\"Running external command line application(s). This may print \"\n",
    "              \"messages to stdout and/or stderr.\")\n",
    "        print(\"The command(s) being run are below. These commands cannot \"\n",
    "              \"be manually re-run as they will depend on temporary files that \"\n",
    "              \"no longer exist.\")\n",
    "    for cmd in cmds:\n",
    "        if verbose:\n",
    "            print(\"\\nCommand:\", end=' ')\n",
    "            print(\" \".join(cmd), end='\\n\\n')\n",
    "        subprocess.run(cmd, check=True)\n",
    "cmd = ['run-simulation-R-BC-methods.R']\n",
    "run_commands([cmd])"
   ]
  },
  {
   "cell_type": "code",
   "execution_count": 61,
   "id": "38a17506",
   "metadata": {},
   "outputs": [
    {
     "name": "stdout",
     "output_type": "stream",
     "text": [
      "SPARSEDOSSA_generators.Rdata  \u001b[34mlightning_logs\u001b[m\u001b[m\r\n",
      "Simulation-setup.Rmd          make_simulation_plots.ipynb\r\n",
      "Untitled.ipynb                run-simulation-R-BC-methods.R\r\n",
      "Untitled1.ipynb               run-simulations.py\r\n",
      "adjust_batch_diagnostic.pdf   simulation-setup.R\r\n",
      "\u001b[34mgenerated-100-feat-datasets\u001b[m\u001b[m   \u001b[34mtmp-dataset-with-added-bias\u001b[m\u001b[m\r\n",
      "\u001b[34mgenerated_datasets\u001b[m\u001b[m\r\n"
     ]
    }
   ],
   "source": [
    "!ls"
   ]
  },
  {
   "cell_type": "code",
   "execution_count": 4,
   "id": "0ab1ed2d",
   "metadata": {},
   "outputs": [],
   "source": [
    "import rpy2"
   ]
  },
  {
   "cell_type": "code",
   "execution_count": null,
   "id": "5ab86a69",
   "metadata": {},
   "outputs": [],
   "source": [
    "sample"
   ]
  },
  {
   "cell_type": "code",
   "execution_count": null,
   "id": "97a285d1",
   "metadata": {},
   "outputs": [],
   "source": []
  },
  {
   "cell_type": "code",
   "execution_count": 6,
   "id": "82a996d6",
   "metadata": {},
   "outputs": [],
   "source": [
    "%config Completer.use_jedi=False"
   ]
  },
  {
   "cell_type": "code",
   "execution_count": 7,
   "id": "4c669b07",
   "metadata": {},
   "outputs": [],
   "source": [
    "import os"
   ]
  },
  {
   "cell_type": "code",
   "execution_count": 9,
   "id": "b74969da",
   "metadata": {},
   "outputs": [
    {
     "name": "stdout",
     "output_type": "stream",
     "text": [
      "dyld[85225]: Library not loaded: @rpath/libreadline.6.2.dylib\r\n",
      "  Referenced from: /Users/george/opt/anaconda3/envs/real_base/lib/R/lib/libR.dylib\r\n",
      "  Reason: tried: '/Users/george/opt/anaconda3/envs/real_base/lib/R/lib/../../libreadline.6.2.dylib' (no such file), '/Users/george/opt/anaconda3/envs/real_base/lib/R/bin/exec/../../../libreadline.6.2.dylib' (no such file), '/Users/george/opt/anaconda3/envs/real_base/lib/R/bin/exec/../../../libreadline.6.2.dylib' (no such file), '/Users/george/opt/anaconda3/envs/real_base/lib/R/lib/libreadline.6.2.dylib' (no such file), '/Users/george/opt/anaconda3/envs/real_base/lib/libreadline.6.2.dylib' (no such file), '/Users/george/opt/anaconda3/envs/real_base/libreadline.6.2.dylib' (no such file)\r\n"
     ]
    }
   ],
   "source": [
    "!Rscript run-simulation-R-BC-methods.R"
   ]
  },
  {
   "cell_type": "code",
   "execution_count": 8,
   "id": "ccb11892",
   "metadata": {},
   "outputs": [
    {
     "name": "stderr",
     "output_type": "stream",
     "text": [
      "dyld[85203]: Library not loaded: @rpath/libreadline.6.2.dylib\n",
      "  Referenced from: /Users/george/opt/anaconda3/envs/real_base/lib/R/lib/libR.dylib\n",
      "  Reason: tried: '/Users/george/opt/anaconda3/envs/real_base/lib/R/lib/../../libreadline.6.2.dylib' (no such file), '/Users/george/opt/anaconda3/envs/real_base/lib/R/bin/exec/../../../libreadline.6.2.dylib' (no such file), '/Users/george/opt/anaconda3/envs/real_base/lib/R/bin/exec/../../../libreadline.6.2.dylib' (no such file), '/Users/george/opt/anaconda3/envs/real_base/lib/R/lib/libreadline.6.2.dylib' (no such file), '/Users/george/opt/anaconda3/envs/real_base/lib/libreadline.6.2.dylib' (no such file), '/Users/george/opt/anaconda3/envs/real_base/libreadline.6.2.dylib' (no such file)\n"
     ]
    },
    {
     "data": {
      "text/plain": [
       "6"
      ]
     },
     "execution_count": 8,
     "metadata": {},
     "output_type": "execute_result"
    }
   ],
   "source": [
    "os.system(\"Rscript run-simulation-R-BC-methods.R\")"
   ]
  },
  {
   "cell_type": "code",
   "execution_count": null,
   "id": "e9b85996",
   "metadata": {},
   "outputs": [],
   "source": []
  },
  {
   "cell_type": "code",
   "execution_count": 221,
   "id": "19dd5ca9",
   "metadata": {},
   "outputs": [
    {
     "name": "stdout",
     "output_type": "stream",
     "text": [
      "1\n"
     ]
    }
   ],
   "source": [
    "all_true_bcfs = []\n",
    "all_fitted_bcfs = []\n",
    "all_results = []\n",
    "\n",
    "for n_features in [10]:\n",
    "    for n_studies in [4]:\n",
    "        for n_per_study in [96]:\n",
    "            for phenotype_std in [0.1]:\n",
    "                for read_depth in [1e4]:\n",
    "                    for seed in range(1,25):\n",
    "                        print(seed)\n",
    "                        data = pd.read_csv('generated-100-feat-datasets/dataset-seed-{}.csv'.format(seed), \n",
    "                                          index_col=0)+1e-4\n",
    "#                         try:\n",
    "#                         data = data.loc[:, ( ( data > 0 ).mean() > .2 ) ] + 1e-4\n",
    "#                         results, run_desc, true_bcfs, dm = \\\n",
    "#                                             experiment_run(data,\n",
    "#                                                            n_studies, \n",
    "#                                                            n_per_study,\n",
    "#                                                            n_features,\n",
    "#                                                            phenotype_std,\n",
    "#                                                            read_depth, \n",
    "#                                                            bcf_stdv = 2, \n",
    "#                                                            seed=seed\n",
    "#                                                            )\n",
    "    \n",
    "                        break\n",
    "                        summary_df, \\\n",
    "                           run_description,\\\n",
    "                           true_bcfs, \\\n",
    "                           dm, \\\n",
    "                           samples, \\\n",
    "                           samples_transformed, \\\n",
    "                           y, \\\n",
    "                           studies = experiment_run(data,\n",
    "                                                    n_studies, \n",
    "                                                    n_per_study,\n",
    "                                                    n_features,\n",
    "                                                    phenotype_std,\n",
    "                                                    read_depth, \n",
    "                                                    bcf_stdv = 2, \n",
    "                                                    seed=seed\n",
    "                                                    )\n",
    "            \n",
    "                        all_true_bcfs.append( np.power(2,\n",
    "                                             true_bcfs\n",
    "#                                                        [:, \n",
    "#                                                  np.where( ( data > 0 ).mean().values > .0 )[0]\n",
    "#                                                  ( data > 0 ).mean().values > .25 \n",
    "#                                              ]\n",
    "                                            ) )\n",
    "                        all_fitted_bcfs.append(1./np.power(2, \n",
    "                                               dm.model.batch_weights.detach().numpy()\n",
    "#                                                            [:, \n",
    "#                                                 ( data > 0 ).mean().values > .0 ]\n",
    "                                              ))\n",
    "                \n",
    "                        all_results.append(results)"
   ]
  },
  {
   "cell_type": "code",
   "execution_count": 13,
   "id": "56e22d19",
   "metadata": {},
   "outputs": [
    {
     "data": {
      "text/html": [
       "<div>\n",
       "<style scoped>\n",
       "    .dataframe tbody tr th:only-of-type {\n",
       "        vertical-align: middle;\n",
       "    }\n",
       "\n",
       "    .dataframe tbody tr th {\n",
       "        vertical-align: top;\n",
       "    }\n",
       "\n",
       "    .dataframe thead th {\n",
       "        text-align: right;\n",
       "    }\n",
       "</style>\n",
       "<table border=\"1\" class=\"dataframe\">\n",
       "  <thead>\n",
       "    <tr style=\"text-align: right;\">\n",
       "      <th></th>\n",
       "      <th>Feature1</th>\n",
       "      <th>Feature27</th>\n",
       "      <th>Feature73</th>\n",
       "      <th>Feature35</th>\n",
       "      <th>Feature89</th>\n",
       "      <th>Feature75</th>\n",
       "      <th>Feature23</th>\n",
       "      <th>Feature56</th>\n",
       "      <th>Feature10</th>\n",
       "      <th>Feature70</th>\n",
       "    </tr>\n",
       "  </thead>\n",
       "  <tbody>\n",
       "    <tr>\n",
       "      <th>Sample257</th>\n",
       "      <td>557</td>\n",
       "      <td>4193</td>\n",
       "      <td>255</td>\n",
       "      <td>602</td>\n",
       "      <td>991</td>\n",
       "      <td>468</td>\n",
       "      <td>1507</td>\n",
       "      <td>29</td>\n",
       "      <td>945</td>\n",
       "      <td>449</td>\n",
       "    </tr>\n",
       "    <tr>\n",
       "      <th>Sample107</th>\n",
       "      <td>474</td>\n",
       "      <td>3568</td>\n",
       "      <td>217</td>\n",
       "      <td>512</td>\n",
       "      <td>843</td>\n",
       "      <td>398</td>\n",
       "      <td>1282</td>\n",
       "      <td>1516</td>\n",
       "      <td>804</td>\n",
       "      <td>382</td>\n",
       "    </tr>\n",
       "    <tr>\n",
       "      <th>Sample123</th>\n",
       "      <td>13</td>\n",
       "      <td>98</td>\n",
       "      <td>6</td>\n",
       "      <td>9680</td>\n",
       "      <td>121</td>\n",
       "      <td>11</td>\n",
       "      <td>35</td>\n",
       "      <td>0</td>\n",
       "      <td>22</td>\n",
       "      <td>10</td>\n",
       "    </tr>\n",
       "    <tr>\n",
       "      <th>Sample63</th>\n",
       "      <td>40</td>\n",
       "      <td>307</td>\n",
       "      <td>18</td>\n",
       "      <td>44</td>\n",
       "      <td>72</td>\n",
       "      <td>34</td>\n",
       "      <td>110</td>\n",
       "      <td>9267</td>\n",
       "      <td>69</td>\n",
       "      <td>33</td>\n",
       "    </tr>\n",
       "    <tr>\n",
       "      <th>Sample186</th>\n",
       "      <td>557</td>\n",
       "      <td>4193</td>\n",
       "      <td>255</td>\n",
       "      <td>602</td>\n",
       "      <td>991</td>\n",
       "      <td>468</td>\n",
       "      <td>1507</td>\n",
       "      <td>29</td>\n",
       "      <td>945</td>\n",
       "      <td>449</td>\n",
       "    </tr>\n",
       "    <tr>\n",
       "      <th>...</th>\n",
       "      <td>...</td>\n",
       "      <td>...</td>\n",
       "      <td>...</td>\n",
       "      <td>...</td>\n",
       "      <td>...</td>\n",
       "      <td>...</td>\n",
       "      <td>...</td>\n",
       "      <td>...</td>\n",
       "      <td>...</td>\n",
       "      <td>...</td>\n",
       "    </tr>\n",
       "    <tr>\n",
       "      <th>Sample204</th>\n",
       "      <td>66</td>\n",
       "      <td>32</td>\n",
       "      <td>512</td>\n",
       "      <td>335</td>\n",
       "      <td>38</td>\n",
       "      <td>3</td>\n",
       "      <td>45</td>\n",
       "      <td>8857</td>\n",
       "      <td>55</td>\n",
       "      <td>52</td>\n",
       "    </tr>\n",
       "    <tr>\n",
       "      <th>Sample256</th>\n",
       "      <td>43</td>\n",
       "      <td>21</td>\n",
       "      <td>336</td>\n",
       "      <td>906</td>\n",
       "      <td>25</td>\n",
       "      <td>2</td>\n",
       "      <td>30</td>\n",
       "      <td>8561</td>\n",
       "      <td>36</td>\n",
       "      <td>34</td>\n",
       "    </tr>\n",
       "    <tr>\n",
       "      <th>Sample73</th>\n",
       "      <td>86</td>\n",
       "      <td>42</td>\n",
       "      <td>660</td>\n",
       "      <td>343</td>\n",
       "      <td>50</td>\n",
       "      <td>4</td>\n",
       "      <td>58</td>\n",
       "      <td>7339</td>\n",
       "      <td>71</td>\n",
       "      <td>1343</td>\n",
       "    </tr>\n",
       "    <tr>\n",
       "      <th>Sample236</th>\n",
       "      <td>789</td>\n",
       "      <td>389</td>\n",
       "      <td>6050</td>\n",
       "      <td>367</td>\n",
       "      <td>458</td>\n",
       "      <td>36</td>\n",
       "      <td>540</td>\n",
       "      <td>91</td>\n",
       "      <td>657</td>\n",
       "      <td>618</td>\n",
       "    </tr>\n",
       "    <tr>\n",
       "      <th>Sample38</th>\n",
       "      <td>14</td>\n",
       "      <td>7</td>\n",
       "      <td>111</td>\n",
       "      <td>9821</td>\n",
       "      <td>8</td>\n",
       "      <td>0</td>\n",
       "      <td>9</td>\n",
       "      <td>1</td>\n",
       "      <td>12</td>\n",
       "      <td>11</td>\n",
       "    </tr>\n",
       "  </tbody>\n",
       "</table>\n",
       "<p>384 rows × 10 columns</p>\n",
       "</div>"
      ],
      "text/plain": [
       "           Feature1  Feature27  Feature73  Feature35  Feature89  Feature75  \\\n",
       "Sample257       557       4193        255        602        991        468   \n",
       "Sample107       474       3568        217        512        843        398   \n",
       "Sample123        13         98          6       9680        121         11   \n",
       "Sample63         40        307         18         44         72         34   \n",
       "Sample186       557       4193        255        602        991        468   \n",
       "...             ...        ...        ...        ...        ...        ...   \n",
       "Sample204        66         32        512        335         38          3   \n",
       "Sample256        43         21        336        906         25          2   \n",
       "Sample73         86         42        660        343         50          4   \n",
       "Sample236       789        389       6050        367        458         36   \n",
       "Sample38         14          7        111       9821          8          0   \n",
       "\n",
       "           Feature23  Feature56  Feature10  Feature70  \n",
       "Sample257       1507         29        945        449  \n",
       "Sample107       1282       1516        804        382  \n",
       "Sample123         35          0         22         10  \n",
       "Sample63         110       9267         69         33  \n",
       "Sample186       1507         29        945        449  \n",
       "...              ...        ...        ...        ...  \n",
       "Sample204         45       8857         55         52  \n",
       "Sample256         30       8561         36         34  \n",
       "Sample73          58       7339         71       1343  \n",
       "Sample236        540         91        657        618  \n",
       "Sample38           9          1         12         11  \n",
       "\n",
       "[384 rows x 10 columns]"
      ]
     },
     "execution_count": 13,
     "metadata": {},
     "output_type": "execute_result"
    }
   ],
   "source": [
    "samples_transformed"
   ]
  },
  {
   "cell_type": "code",
   "execution_count": 222,
   "id": "d1313c32",
   "metadata": {},
   "outputs": [],
   "source": [
    "pd.DataFrame({'label':y, \n",
    "             'Study':studies}, \n",
    "             index=samples_transformed.index\n",
    "            ).to_csv('tmp-dataset-with-added-bias/md.csv')\n",
    "samples_transformed.to_csv('tmp-dataset-with-added-bias/data.csv')"
   ]
  },
  {
   "cell_type": "code",
   "execution_count": 20,
   "id": "4bfda41f",
   "metadata": {},
   "outputs": [],
   "source": [
    "samples_transformed.to_csv('tmp-dataset-with-added-bias/data.csv')"
   ]
  },
  {
   "cell_type": "code",
   "execution_count": 15,
   "id": "8f3c7508",
   "metadata": {},
   "outputs": [],
   "source": [
    "import glob\n",
    "pths = np.array(glob.glob('tmp-dataset-with-added-bias/*.csv'))[np.array([0,1,3,4])]"
   ]
  },
  {
   "cell_type": "code",
   "execution_count": 27,
   "id": "d3adc619",
   "metadata": {},
   "outputs": [],
   "source": [
    "a=pths[0]"
   ]
  },
  {
   "cell_type": "code",
   "execution_count": 30,
   "id": "b2c0c8c6",
   "metadata": {},
   "outputs": [
    {
     "data": {
      "text/html": [
       "<div>\n",
       "<style scoped>\n",
       "    .dataframe tbody tr th:only-of-type {\n",
       "        vertical-align: middle;\n",
       "    }\n",
       "\n",
       "    .dataframe tbody tr th {\n",
       "        vertical-align: top;\n",
       "    }\n",
       "\n",
       "    .dataframe thead th {\n",
       "        text-align: right;\n",
       "    }\n",
       "</style>\n",
       "<table border=\"1\" class=\"dataframe\">\n",
       "  <thead>\n",
       "    <tr style=\"text-align: right;\">\n",
       "      <th></th>\n",
       "      <th>Feature1</th>\n",
       "      <th>Feature27</th>\n",
       "      <th>Feature73</th>\n",
       "      <th>Feature35</th>\n",
       "      <th>Feature89</th>\n",
       "      <th>Feature75</th>\n",
       "      <th>Feature23</th>\n",
       "      <th>Feature56</th>\n",
       "      <th>Feature10</th>\n",
       "      <th>Feature70</th>\n",
       "    </tr>\n",
       "  </thead>\n",
       "  <tbody>\n",
       "    <tr>\n",
       "      <th>Sample257</th>\n",
       "      <td>0.0001</td>\n",
       "      <td>0.0001</td>\n",
       "      <td>0.0001</td>\n",
       "      <td>0.000100</td>\n",
       "      <td>0.000100</td>\n",
       "      <td>0.0001</td>\n",
       "      <td>0.0001</td>\n",
       "      <td>0.000100</td>\n",
       "      <td>0.0001</td>\n",
       "      <td>0.000100</td>\n",
       "    </tr>\n",
       "    <tr>\n",
       "      <th>Sample107</th>\n",
       "      <td>0.0001</td>\n",
       "      <td>0.0001</td>\n",
       "      <td>0.0001</td>\n",
       "      <td>0.000100</td>\n",
       "      <td>0.000100</td>\n",
       "      <td>0.0001</td>\n",
       "      <td>0.0001</td>\n",
       "      <td>0.005997</td>\n",
       "      <td>0.0001</td>\n",
       "      <td>0.000100</td>\n",
       "    </tr>\n",
       "    <tr>\n",
       "      <th>Sample123</th>\n",
       "      <td>0.0001</td>\n",
       "      <td>0.0001</td>\n",
       "      <td>0.0001</td>\n",
       "      <td>0.068412</td>\n",
       "      <td>0.000522</td>\n",
       "      <td>0.0001</td>\n",
       "      <td>0.0001</td>\n",
       "      <td>0.000100</td>\n",
       "      <td>0.0001</td>\n",
       "      <td>0.000100</td>\n",
       "    </tr>\n",
       "    <tr>\n",
       "      <th>Sample63</th>\n",
       "      <td>0.0001</td>\n",
       "      <td>0.0001</td>\n",
       "      <td>0.0001</td>\n",
       "      <td>0.000100</td>\n",
       "      <td>0.000100</td>\n",
       "      <td>0.0001</td>\n",
       "      <td>0.0001</td>\n",
       "      <td>0.424843</td>\n",
       "      <td>0.0001</td>\n",
       "      <td>0.000100</td>\n",
       "    </tr>\n",
       "    <tr>\n",
       "      <th>Sample186</th>\n",
       "      <td>0.0001</td>\n",
       "      <td>0.0001</td>\n",
       "      <td>0.0001</td>\n",
       "      <td>0.000100</td>\n",
       "      <td>0.000100</td>\n",
       "      <td>0.0001</td>\n",
       "      <td>0.0001</td>\n",
       "      <td>0.000100</td>\n",
       "      <td>0.0001</td>\n",
       "      <td>0.000100</td>\n",
       "    </tr>\n",
       "    <tr>\n",
       "      <th>...</th>\n",
       "      <td>...</td>\n",
       "      <td>...</td>\n",
       "      <td>...</td>\n",
       "      <td>...</td>\n",
       "      <td>...</td>\n",
       "      <td>...</td>\n",
       "      <td>...</td>\n",
       "      <td>...</td>\n",
       "      <td>...</td>\n",
       "      <td>...</td>\n",
       "    </tr>\n",
       "    <tr>\n",
       "      <th>Sample204</th>\n",
       "      <td>0.0001</td>\n",
       "      <td>0.0001</td>\n",
       "      <td>0.0001</td>\n",
       "      <td>0.001078</td>\n",
       "      <td>0.000100</td>\n",
       "      <td>0.0001</td>\n",
       "      <td>0.0001</td>\n",
       "      <td>0.114286</td>\n",
       "      <td>0.0001</td>\n",
       "      <td>0.000100</td>\n",
       "    </tr>\n",
       "    <tr>\n",
       "      <th>Sample256</th>\n",
       "      <td>0.0001</td>\n",
       "      <td>0.0001</td>\n",
       "      <td>0.0001</td>\n",
       "      <td>0.004431</td>\n",
       "      <td>0.000100</td>\n",
       "      <td>0.0001</td>\n",
       "      <td>0.0001</td>\n",
       "      <td>0.167898</td>\n",
       "      <td>0.0001</td>\n",
       "      <td>0.000100</td>\n",
       "    </tr>\n",
       "    <tr>\n",
       "      <th>Sample73</th>\n",
       "      <td>0.0001</td>\n",
       "      <td>0.0001</td>\n",
       "      <td>0.0001</td>\n",
       "      <td>0.000855</td>\n",
       "      <td>0.000100</td>\n",
       "      <td>0.0001</td>\n",
       "      <td>0.0001</td>\n",
       "      <td>0.073430</td>\n",
       "      <td>0.0001</td>\n",
       "      <td>0.001989</td>\n",
       "    </tr>\n",
       "    <tr>\n",
       "      <th>Sample236</th>\n",
       "      <td>0.0001</td>\n",
       "      <td>0.0001</td>\n",
       "      <td>0.0001</td>\n",
       "      <td>0.000100</td>\n",
       "      <td>0.000100</td>\n",
       "      <td>0.0001</td>\n",
       "      <td>0.0001</td>\n",
       "      <td>0.000100</td>\n",
       "      <td>0.0001</td>\n",
       "      <td>0.000100</td>\n",
       "    </tr>\n",
       "    <tr>\n",
       "      <th>Sample38</th>\n",
       "      <td>0.0001</td>\n",
       "      <td>0.0001</td>\n",
       "      <td>0.0001</td>\n",
       "      <td>0.144539</td>\n",
       "      <td>0.000100</td>\n",
       "      <td>0.0001</td>\n",
       "      <td>0.0001</td>\n",
       "      <td>0.000100</td>\n",
       "      <td>0.0001</td>\n",
       "      <td>0.000100</td>\n",
       "    </tr>\n",
       "  </tbody>\n",
       "</table>\n",
       "<p>384 rows × 10 columns</p>\n",
       "</div>"
      ],
      "text/plain": [
       "           Feature1  Feature27  Feature73  Feature35  Feature89  Feature75  \\\n",
       "Sample257    0.0001     0.0001     0.0001   0.000100   0.000100     0.0001   \n",
       "Sample107    0.0001     0.0001     0.0001   0.000100   0.000100     0.0001   \n",
       "Sample123    0.0001     0.0001     0.0001   0.068412   0.000522     0.0001   \n",
       "Sample63     0.0001     0.0001     0.0001   0.000100   0.000100     0.0001   \n",
       "Sample186    0.0001     0.0001     0.0001   0.000100   0.000100     0.0001   \n",
       "...             ...        ...        ...        ...        ...        ...   \n",
       "Sample204    0.0001     0.0001     0.0001   0.001078   0.000100     0.0001   \n",
       "Sample256    0.0001     0.0001     0.0001   0.004431   0.000100     0.0001   \n",
       "Sample73     0.0001     0.0001     0.0001   0.000855   0.000100     0.0001   \n",
       "Sample236    0.0001     0.0001     0.0001   0.000100   0.000100     0.0001   \n",
       "Sample38     0.0001     0.0001     0.0001   0.144539   0.000100     0.0001   \n",
       "\n",
       "           Feature23  Feature56  Feature10  Feature70  \n",
       "Sample257     0.0001   0.000100     0.0001   0.000100  \n",
       "Sample107     0.0001   0.005997     0.0001   0.000100  \n",
       "Sample123     0.0001   0.000100     0.0001   0.000100  \n",
       "Sample63      0.0001   0.424843     0.0001   0.000100  \n",
       "Sample186     0.0001   0.000100     0.0001   0.000100  \n",
       "...              ...        ...        ...        ...  \n",
       "Sample204     0.0001   0.114286     0.0001   0.000100  \n",
       "Sample256     0.0001   0.167898     0.0001   0.000100  \n",
       "Sample73      0.0001   0.073430     0.0001   0.001989  \n",
       "Sample236     0.0001   0.000100     0.0001   0.000100  \n",
       "Sample38      0.0001   0.000100     0.0001   0.000100  \n",
       "\n",
       "[384 rows x 10 columns]"
      ]
     },
     "execution_count": 30,
     "metadata": {},
     "output_type": "execute_result"
    }
   ],
   "source": [
    "samples"
   ]
  },
  {
   "cell_type": "code",
   "execution_count": 9,
   "id": "1a2dd0ee",
   "metadata": {},
   "outputs": [],
   "source": [
    "all_df=summary_df.copy()"
   ]
  },
  {
   "cell_type": "code",
   "execution_count": 23,
   "id": "aaf1c133",
   "metadata": {},
   "outputs": [
    {
     "data": {
      "text/plain": [
       "['tmp-dataset-with-added-bias/percnorm_out.csv',\n",
       " 'tmp-dataset-with-added-bias/combat-out.csv',\n",
       " 'tmp-dataset-with-added-bias/conqur-out.csv',\n",
       " 'tmp-dataset-with-added-bias/data.csv',\n",
       " 'tmp-dataset-with-added-bias/MMUPHin_out.csv',\n",
       " 'tmp-dataset-with-added-bias/PLSDAbatch_out.csv',\n",
       " 'tmp-dataset-with-added-bias/md.csv']"
      ]
     },
     "execution_count": 23,
     "metadata": {},
     "output_type": "execute_result"
    }
   ],
   "source": [
    "glob.glob('tmp-dataset-with-added-bias/*.csv')"
   ]
  },
  {
   "cell_type": "code",
   "execution_count": 6,
   "id": "70f87514",
   "metadata": {},
   "outputs": [],
   "source": [
    "pths = ['tmp-dataset-with-added-bias/percnorm_out.csv',\n",
    "        'tmp-dataset-with-added-bias/combat-out.csv',\n",
    "        'tmp-dataset-with-added-bias/conqur-out.csv',\n",
    "        'tmp-dataset-with-added-bias/MMUPHin_out.csv',\n",
    "        'tmp-dataset-with-added-bias/PLSDAbatch_out.csv']\n",
    "\n",
    "for a in pths:\n",
    "    tt=pd.read_csv(a, index_col=0) \n",
    "    tt = tt - tt.min(axis=0)\n",
    "    all_df = pd.concat([all_df, \n",
    "                pd.DataFrame({'Group':a.split('/')[-1].split('_')[0],\n",
    "                    'JSD':jensenshannon(tt.T, \n",
    "                                        samples.T)\n",
    "                    }, \n",
    "                   index=samples.index)]).ffill()"
   ]
  },
  {
   "cell_type": "code",
   "execution_count": 14,
   "id": "d3892c18",
   "metadata": {},
   "outputs": [],
   "source": [
    "for a in pths:\n",
    "    tt=pd.read_csv(a, index_col=0) \n",
    "    tt = tt - tt.min(axis=0)\n",
    "    all_df = pd.concat([all_df, \n",
    "                pd.DataFrame({'Group':a.split('/')[-1].split('_')[0],\n",
    "                    'JSD':jensenshannon(tt.T, \n",
    "                                        samples.T)\n",
    "                    }, \n",
    "                   index=samples.index)]).ffill()"
   ]
  },
  {
   "cell_type": "code",
   "execution_count": 15,
   "id": "41d26993",
   "metadata": {},
   "outputs": [
    {
     "data": {
      "text/html": [
       "<div>\n",
       "<style scoped>\n",
       "    .dataframe tbody tr th:only-of-type {\n",
       "        vertical-align: middle;\n",
       "    }\n",
       "\n",
       "    .dataframe tbody tr th {\n",
       "        vertical-align: top;\n",
       "    }\n",
       "\n",
       "    .dataframe thead th {\n",
       "        text-align: right;\n",
       "    }\n",
       "</style>\n",
       "<table border=\"1\" class=\"dataframe\">\n",
       "  <thead>\n",
       "    <tr style=\"text-align: right;\">\n",
       "      <th></th>\n",
       "      <th>Group</th>\n",
       "      <th>JSD</th>\n",
       "      <th>N_studies</th>\n",
       "      <th>N_per_study</th>\n",
       "      <th>N_features</th>\n",
       "      <th>Pheno_noise</th>\n",
       "      <th>Read_depth</th>\n",
       "      <th>BCF_std</th>\n",
       "      <th>run_num</th>\n",
       "    </tr>\n",
       "  </thead>\n",
       "  <tbody>\n",
       "    <tr>\n",
       "      <th>0</th>\n",
       "      <td>Baseline</td>\n",
       "      <td>0.112285</td>\n",
       "      <td>4.0</td>\n",
       "      <td>96.0</td>\n",
       "      <td>10.0</td>\n",
       "      <td>0.1</td>\n",
       "      <td>10000.0</td>\n",
       "      <td>2.0</td>\n",
       "      <td>1.0</td>\n",
       "    </tr>\n",
       "    <tr>\n",
       "      <th>1</th>\n",
       "      <td>Baseline</td>\n",
       "      <td>0.306048</td>\n",
       "      <td>4.0</td>\n",
       "      <td>96.0</td>\n",
       "      <td>10.0</td>\n",
       "      <td>0.1</td>\n",
       "      <td>10000.0</td>\n",
       "      <td>2.0</td>\n",
       "      <td>1.0</td>\n",
       "    </tr>\n",
       "    <tr>\n",
       "      <th>2</th>\n",
       "      <td>Baseline</td>\n",
       "      <td>0.002925</td>\n",
       "      <td>4.0</td>\n",
       "      <td>96.0</td>\n",
       "      <td>10.0</td>\n",
       "      <td>0.1</td>\n",
       "      <td>10000.0</td>\n",
       "      <td>2.0</td>\n",
       "      <td>1.0</td>\n",
       "    </tr>\n",
       "    <tr>\n",
       "      <th>3</th>\n",
       "      <td>Baseline</td>\n",
       "      <td>0.022143</td>\n",
       "      <td>4.0</td>\n",
       "      <td>96.0</td>\n",
       "      <td>10.0</td>\n",
       "      <td>0.1</td>\n",
       "      <td>10000.0</td>\n",
       "      <td>2.0</td>\n",
       "      <td>1.0</td>\n",
       "    </tr>\n",
       "    <tr>\n",
       "      <th>4</th>\n",
       "      <td>Baseline</td>\n",
       "      <td>0.112285</td>\n",
       "      <td>4.0</td>\n",
       "      <td>96.0</td>\n",
       "      <td>10.0</td>\n",
       "      <td>0.1</td>\n",
       "      <td>10000.0</td>\n",
       "      <td>2.0</td>\n",
       "      <td>1.0</td>\n",
       "    </tr>\n",
       "    <tr>\n",
       "      <th>...</th>\n",
       "      <td>...</td>\n",
       "      <td>...</td>\n",
       "      <td>...</td>\n",
       "      <td>...</td>\n",
       "      <td>...</td>\n",
       "      <td>...</td>\n",
       "      <td>...</td>\n",
       "      <td>...</td>\n",
       "      <td>...</td>\n",
       "    </tr>\n",
       "    <tr>\n",
       "      <th>Sample204</th>\n",
       "      <td>PLSDAbatch</td>\n",
       "      <td>0.444087</td>\n",
       "      <td>4.0</td>\n",
       "      <td>96.0</td>\n",
       "      <td>10.0</td>\n",
       "      <td>0.1</td>\n",
       "      <td>10000.0</td>\n",
       "      <td>2.0</td>\n",
       "      <td>1.0</td>\n",
       "    </tr>\n",
       "    <tr>\n",
       "      <th>Sample256</th>\n",
       "      <td>PLSDAbatch</td>\n",
       "      <td>0.440912</td>\n",
       "      <td>4.0</td>\n",
       "      <td>96.0</td>\n",
       "      <td>10.0</td>\n",
       "      <td>0.1</td>\n",
       "      <td>10000.0</td>\n",
       "      <td>2.0</td>\n",
       "      <td>1.0</td>\n",
       "    </tr>\n",
       "    <tr>\n",
       "      <th>Sample73</th>\n",
       "      <td>PLSDAbatch</td>\n",
       "      <td>0.437539</td>\n",
       "      <td>4.0</td>\n",
       "      <td>96.0</td>\n",
       "      <td>10.0</td>\n",
       "      <td>0.1</td>\n",
       "      <td>10000.0</td>\n",
       "      <td>2.0</td>\n",
       "      <td>1.0</td>\n",
       "    </tr>\n",
       "    <tr>\n",
       "      <th>Sample236</th>\n",
       "      <td>PLSDAbatch</td>\n",
       "      <td>0.199720</td>\n",
       "      <td>4.0</td>\n",
       "      <td>96.0</td>\n",
       "      <td>10.0</td>\n",
       "      <td>0.1</td>\n",
       "      <td>10000.0</td>\n",
       "      <td>2.0</td>\n",
       "      <td>1.0</td>\n",
       "    </tr>\n",
       "    <tr>\n",
       "      <th>Sample38</th>\n",
       "      <td>PLSDAbatch</td>\n",
       "      <td>0.448282</td>\n",
       "      <td>4.0</td>\n",
       "      <td>96.0</td>\n",
       "      <td>10.0</td>\n",
       "      <td>0.1</td>\n",
       "      <td>10000.0</td>\n",
       "      <td>2.0</td>\n",
       "      <td>1.0</td>\n",
       "    </tr>\n",
       "  </tbody>\n",
       "</table>\n",
       "<p>4608 rows × 9 columns</p>\n",
       "</div>"
      ],
      "text/plain": [
       "                Group       JSD  N_studies  N_per_study  N_features  \\\n",
       "0            Baseline  0.112285        4.0         96.0        10.0   \n",
       "1            Baseline  0.306048        4.0         96.0        10.0   \n",
       "2            Baseline  0.002925        4.0         96.0        10.0   \n",
       "3            Baseline  0.022143        4.0         96.0        10.0   \n",
       "4            Baseline  0.112285        4.0         96.0        10.0   \n",
       "...               ...       ...        ...          ...         ...   \n",
       "Sample204  PLSDAbatch  0.444087        4.0         96.0        10.0   \n",
       "Sample256  PLSDAbatch  0.440912        4.0         96.0        10.0   \n",
       "Sample73   PLSDAbatch  0.437539        4.0         96.0        10.0   \n",
       "Sample236  PLSDAbatch  0.199720        4.0         96.0        10.0   \n",
       "Sample38   PLSDAbatch  0.448282        4.0         96.0        10.0   \n",
       "\n",
       "           Pheno_noise  Read_depth  BCF_std  run_num  \n",
       "0                  0.1     10000.0      2.0      1.0  \n",
       "1                  0.1     10000.0      2.0      1.0  \n",
       "2                  0.1     10000.0      2.0      1.0  \n",
       "3                  0.1     10000.0      2.0      1.0  \n",
       "4                  0.1     10000.0      2.0      1.0  \n",
       "...                ...         ...      ...      ...  \n",
       "Sample204          0.1     10000.0      2.0      1.0  \n",
       "Sample256          0.1     10000.0      2.0      1.0  \n",
       "Sample73           0.1     10000.0      2.0      1.0  \n",
       "Sample236          0.1     10000.0      2.0      1.0  \n",
       "Sample38           0.1     10000.0      2.0      1.0  \n",
       "\n",
       "[4608 rows x 9 columns]"
      ]
     },
     "execution_count": 15,
     "metadata": {},
     "output_type": "execute_result"
    }
   ],
   "source": [
    "all_df"
   ]
  },
  {
   "cell_type": "code",
   "execution_count": 17,
   "id": "063f1384",
   "metadata": {},
   "outputs": [],
   "source": [
    "sns.set(rc={'axes.facecolor':'white', \n",
    "            'figure.facecolor':'white', \n",
    "            'axes.edgecolor':'black', \n",
    "            'grid.color': 'black'\n",
    "            }, \n",
    "       font_scale=2)"
   ]
  },
  {
   "cell_type": "code",
   "execution_count": 18,
   "id": "3ec389a6",
   "metadata": {},
   "outputs": [],
   "source": [
    "# all_df"
   ]
  },
  {
   "cell_type": "code",
   "execution_count": 19,
   "id": "282297f2",
   "metadata": {},
   "outputs": [],
   "source": [
    "import sys\n",
    "sys.path.append('../v1-DEBIAS-M-Analysis/')\n",
    "from General_functions import plotting"
   ]
  },
  {
   "cell_type": "code",
   "execution_count": 20,
   "id": "f307a272",
   "metadata": {},
   "outputs": [
    {
     "data": {
      "text/plain": [
       "{'linear': '#F97306',\n",
       " 'debias-m': '#069AF3',\n",
       " 'conqur': 'red',\n",
       " 'combat': '#15B01A',\n",
       " 'snm': 'pink',\n",
       " 'mmuphin': 'brown',\n",
       " 'plsda': 'gold',\n",
       " 'percnorm': 'purple'}"
      ]
     },
     "execution_count": 20,
     "metadata": {},
     "output_type": "execute_result"
    }
   ],
   "source": [
    "plotting.global_palette"
   ]
  },
  {
   "cell_type": "code",
   "execution_count": 21,
   "id": "db7fc9c2",
   "metadata": {},
   "outputs": [
    {
     "data": {
      "text/plain": [
       "array(['Baseline', 'DEBIAS-M', 'percnorm', 'combat-out.csv',\n",
       "       'conqur-out.csv', 'MMUPHin', 'PLSDAbatch'], dtype=object)"
      ]
     },
     "execution_count": 21,
     "metadata": {},
     "output_type": "execute_result"
    }
   ],
   "source": [
    "all_df.Group.unique() "
   ]
  },
  {
   "cell_type": "code",
   "execution_count": 22,
   "id": "75ed9fa9",
   "metadata": {},
   "outputs": [],
   "source": [
    "all_df.Group = \\\n",
    "        all_df.Group.str.replace('combat-out.csv', 'Combat')\\\n",
    "                    .str.replace('conqur-out.csv', 'ConQuR')\\\n",
    "                    .str.replace('PLSDAbatch','PLSDA')"
   ]
  },
  {
   "cell_type": "code",
   "execution_count": 23,
   "id": "2e46298f",
   "metadata": {},
   "outputs": [],
   "source": [
    "plotting.global_palette['Combat'] = plotting.global_palette['combat']\n",
    "plotting.global_palette['ConQuR'] = plotting.global_palette['conqur']\n",
    "plotting.global_palette['PLSDA'] = plotting.global_palette['plsda']\n",
    "\n",
    "plotting.global_palette['DEBIAS-M'] = plotting.global_palette['debias-m']\n",
    "plotting.global_palette['Baseline'] = plotting.global_palette['linear']\n",
    "\n",
    "plotting.global_palette['MMUPHin'] = plotting.global_palette['mmuphin']"
   ]
  },
  {
   "cell_type": "code",
   "execution_count": 24,
   "id": "861f2dee",
   "metadata": {},
   "outputs": [],
   "source": [
    "import warnings\n",
    "warnings.filterwarnings('ignore')"
   ]
  },
  {
   "cell_type": "code",
   "execution_count": 25,
   "id": "79c05a07",
   "metadata": {},
   "outputs": [
    {
     "ename": "SyntaxError",
     "evalue": "invalid syntax (1690544397.py, line 1)",
     "output_type": "error",
     "traceback": [
      "\u001b[0;36m  Cell \u001b[0;32mIn[25], line 1\u001b[0;36m\u001b[0m\n\u001b[0;31m    plotting.\u001b[0m\n\u001b[0m             ^\u001b[0m\n\u001b[0;31mSyntaxError\u001b[0m\u001b[0;31m:\u001b[0m invalid syntax\n"
     ]
    }
   ],
   "source": [
    "plotting."
   ]
  },
  {
   "cell_type": "code",
   "execution_count": 26,
   "id": "619ea9b9",
   "metadata": {},
   "outputs": [
    {
     "data": {
      "text/plain": [
       "array(['Baseline', 'DEBIAS-M', 'percnorm', 'Combat', 'ConQuR', 'MMUPHin',\n",
       "       'PLSDA'], dtype=object)"
      ]
     },
     "execution_count": 26,
     "metadata": {},
     "output_type": "execute_result"
    }
   ],
   "source": [
    "all_df.Group.unique()"
   ]
  },
  {
   "cell_type": "code",
   "execution_count": 27,
   "id": "8b9e627a",
   "metadata": {},
   "outputs": [],
   "source": [
    "# order"
   ]
  },
  {
   "cell_type": "code",
   "execution_count": 28,
   "id": "5e6489ad",
   "metadata": {},
   "outputs": [
    {
     "data": {
      "image/png": "[encoded data removed]",
      "text/plain": [
       "<Figure size 800x800 with 1 Axes>"
      ]
     },
     "metadata": {},
     "output_type": "display_data"
    }
   ],
   "source": [
    "order=['Baseline',\n",
    "       'Combat',\n",
    "       'ConQuR',\n",
    "       'percnorm',\n",
    "       'MMUPHin',\n",
    "       'PLSDA',\n",
    "       'DEBIAS-M']\n",
    "plt.figure(figsize=(8,8))\n",
    "sns.boxplot(x='Group', \n",
    "            y='JSD', \n",
    "            data = all_df.reset_index(), \n",
    "            fliersize=0,\n",
    "            order=order,\n",
    "            palette=plotting.global_palette\n",
    "           )\n",
    "\n",
    "sns.swarmplot(x='Group', \n",
    "              y='JSD', \n",
    "              data = all_df.reset_index(),\n",
    "              color='black',\n",
    "              s=1.5,\n",
    "              legend=False, \n",
    "              order=order\n",
    "            )\n",
    "plt.xticks(rotation=90)\n",
    "plt.show()\n",
    "# plt.semilogy()"
   ]
  },
  {
   "cell_type": "code",
   "execution_count": 53,
   "id": "0be3777a",
   "metadata": {},
   "outputs": [
    {
     "data": {
      "text/html": [
       "<div>\n",
       "<style scoped>\n",
       "    .dataframe tbody tr th:only-of-type {\n",
       "        vertical-align: middle;\n",
       "    }\n",
       "\n",
       "    .dataframe tbody tr th {\n",
       "        vertical-align: top;\n",
       "    }\n",
       "\n",
       "    .dataframe thead th {\n",
       "        text-align: right;\n",
       "    }\n",
       "</style>\n",
       "<table border=\"1\" class=\"dataframe\">\n",
       "  <thead>\n",
       "    <tr style=\"text-align: right;\">\n",
       "      <th></th>\n",
       "      <th>Feature1</th>\n",
       "      <th>Feature27</th>\n",
       "      <th>Feature73</th>\n",
       "      <th>Feature35</th>\n",
       "      <th>Feature89</th>\n",
       "      <th>Feature75</th>\n",
       "      <th>Feature23</th>\n",
       "      <th>Feature56</th>\n",
       "      <th>Feature10</th>\n",
       "      <th>Feature70</th>\n",
       "    </tr>\n",
       "  </thead>\n",
       "  <tbody>\n",
       "    <tr>\n",
       "      <th>Sample257</th>\n",
       "      <td>336.133743</td>\n",
       "      <td>1093.845772</td>\n",
       "      <td>1241.035213</td>\n",
       "      <td>4224.594240</td>\n",
       "      <td>854.306510</td>\n",
       "      <td>-214.919251</td>\n",
       "      <td>-104.915546</td>\n",
       "      <td>2348.710779</td>\n",
       "      <td>166.768136</td>\n",
       "      <td>50.066799</td>\n",
       "    </tr>\n",
       "    <tr>\n",
       "      <th>Sample107</th>\n",
       "      <td>292.367410</td>\n",
       "      <td>1033.960753</td>\n",
       "      <td>1110.491871</td>\n",
       "      <td>3494.824213</td>\n",
       "      <td>665.064043</td>\n",
       "      <td>-190.717665</td>\n",
       "      <td>-24.837570</td>\n",
       "      <td>3362.687334</td>\n",
       "      <td>182.552041</td>\n",
       "      <td>69.292741</td>\n",
       "    </tr>\n",
       "    <tr>\n",
       "      <th>Sample123</th>\n",
       "      <td>36.068287</td>\n",
       "      <td>421.280105</td>\n",
       "      <td>-99.305564</td>\n",
       "      <td>9301.534856</td>\n",
       "      <td>137.116643</td>\n",
       "      <td>83.088377</td>\n",
       "      <td>202.829563</td>\n",
       "      <td>-240.569634</td>\n",
       "      <td>102.761490</td>\n",
       "      <td>51.235111</td>\n",
       "    </tr>\n",
       "    <tr>\n",
       "      <th>Sample63</th>\n",
       "      <td>62.980967</td>\n",
       "      <td>720.195945</td>\n",
       "      <td>428.949649</td>\n",
       "      <td>-309.735002</td>\n",
       "      <td>-321.101156</td>\n",
       "      <td>-63.463549</td>\n",
       "      <td>394.243232</td>\n",
       "      <td>8646.679699</td>\n",
       "      <td>265.241292</td>\n",
       "      <td>170.000607</td>\n",
       "    </tr>\n",
       "    <tr>\n",
       "      <th>Sample186</th>\n",
       "      <td>336.133743</td>\n",
       "      <td>1093.845772</td>\n",
       "      <td>1241.035213</td>\n",
       "      <td>4224.594240</td>\n",
       "      <td>854.306510</td>\n",
       "      <td>-214.919251</td>\n",
       "      <td>-104.915546</td>\n",
       "      <td>2348.710779</td>\n",
       "      <td>166.768136</td>\n",
       "      <td>50.066799</td>\n",
       "    </tr>\n",
       "    <tr>\n",
       "      <th>...</th>\n",
       "      <td>...</td>\n",
       "      <td>...</td>\n",
       "      <td>...</td>\n",
       "      <td>...</td>\n",
       "      <td>...</td>\n",
       "      <td>...</td>\n",
       "      <td>...</td>\n",
       "      <td>...</td>\n",
       "      <td>...</td>\n",
       "      <td>...</td>\n",
       "    </tr>\n",
       "    <tr>\n",
       "      <th>Sample204</th>\n",
       "      <td>110.937347</td>\n",
       "      <td>711.847269</td>\n",
       "      <td>590.393823</td>\n",
       "      <td>-389.450381</td>\n",
       "      <td>-155.489621</td>\n",
       "      <td>50.388236</td>\n",
       "      <td>436.268028</td>\n",
       "      <td>8179.143899</td>\n",
       "      <td>275.963769</td>\n",
       "      <td>185.048008</td>\n",
       "    </tr>\n",
       "    <tr>\n",
       "      <th>Sample256</th>\n",
       "      <td>86.092838</td>\n",
       "      <td>684.324105</td>\n",
       "      <td>475.599042</td>\n",
       "      <td>214.195101</td>\n",
       "      <td>-211.645337</td>\n",
       "      <td>26.302635</td>\n",
       "      <td>419.825662</td>\n",
       "      <td>7863.428275</td>\n",
       "      <td>262.353966</td>\n",
       "      <td>173.566100</td>\n",
       "    </tr>\n",
       "    <tr>\n",
       "      <th>Sample73</th>\n",
       "      <td>114.608864</td>\n",
       "      <td>410.484928</td>\n",
       "      <td>345.782946</td>\n",
       "      <td>-134.658251</td>\n",
       "      <td>215.626826</td>\n",
       "      <td>153.657514</td>\n",
       "      <td>224.475585</td>\n",
       "      <td>7176.146270</td>\n",
       "      <td>129.945087</td>\n",
       "      <td>1359.995761</td>\n",
       "    </tr>\n",
       "    <tr>\n",
       "      <th>Sample236</th>\n",
       "      <td>866.912993</td>\n",
       "      <td>1044.170300</td>\n",
       "      <td>3222.541530</td>\n",
       "      <td>-1022.896648</td>\n",
       "      <td>2472.958351</td>\n",
       "      <td>1090.599179</td>\n",
       "      <td>545.989017</td>\n",
       "      <td>1102.462415</td>\n",
       "      <td>374.971093</td>\n",
       "      <td>297.651414</td>\n",
       "    </tr>\n",
       "    <tr>\n",
       "      <th>Sample38</th>\n",
       "      <td>43.954906</td>\n",
       "      <td>410.461559</td>\n",
       "      <td>-118.160122</td>\n",
       "      <td>9325.377109</td>\n",
       "      <td>102.229826</td>\n",
       "      <td>123.935981</td>\n",
       "      <td>205.962315</td>\n",
       "      <td>-243.190556</td>\n",
       "      <td>96.127996</td>\n",
       "      <td>47.360425</td>\n",
       "    </tr>\n",
       "  </tbody>\n",
       "</table>\n",
       "<p>384 rows × 10 columns</p>\n",
       "</div>"
      ],
      "text/plain": [
       "             Feature1    Feature27    Feature73    Feature35    Feature89  \\\n",
       "Sample257  336.133743  1093.845772  1241.035213  4224.594240   854.306510   \n",
       "Sample107  292.367410  1033.960753  1110.491871  3494.824213   665.064043   \n",
       "Sample123   36.068287   421.280105   -99.305564  9301.534856   137.116643   \n",
       "Sample63    62.980967   720.195945   428.949649  -309.735002  -321.101156   \n",
       "Sample186  336.133743  1093.845772  1241.035213  4224.594240   854.306510   \n",
       "...               ...          ...          ...          ...          ...   \n",
       "Sample204  110.937347   711.847269   590.393823  -389.450381  -155.489621   \n",
       "Sample256   86.092838   684.324105   475.599042   214.195101  -211.645337   \n",
       "Sample73   114.608864   410.484928   345.782946  -134.658251   215.626826   \n",
       "Sample236  866.912993  1044.170300  3222.541530 -1022.896648  2472.958351   \n",
       "Sample38    43.954906   410.461559  -118.160122  9325.377109   102.229826   \n",
       "\n",
       "             Feature75   Feature23    Feature56   Feature10    Feature70  \n",
       "Sample257  -214.919251 -104.915546  2348.710779  166.768136    50.066799  \n",
       "Sample107  -190.717665  -24.837570  3362.687334  182.552041    69.292741  \n",
       "Sample123    83.088377  202.829563  -240.569634  102.761490    51.235111  \n",
       "Sample63    -63.463549  394.243232  8646.679699  265.241292   170.000607  \n",
       "Sample186  -214.919251 -104.915546  2348.710779  166.768136    50.066799  \n",
       "...                ...         ...          ...         ...          ...  \n",
       "Sample204    50.388236  436.268028  8179.143899  275.963769   185.048008  \n",
       "Sample256    26.302635  419.825662  7863.428275  262.353966   173.566100  \n",
       "Sample73    153.657514  224.475585  7176.146270  129.945087  1359.995761  \n",
       "Sample236  1090.599179  545.989017  1102.462415  374.971093   297.651414  \n",
       "Sample38    123.935981  205.962315  -243.190556   96.127996    47.360425  \n",
       "\n",
       "[384 rows x 10 columns]"
      ]
     },
     "execution_count": 53,
     "metadata": {},
     "output_type": "execute_result"
    }
   ],
   "source": [
    "\n",
    "pd.read_csv(a, index_col=0)"
   ]
  },
  {
   "cell_type": "code",
   "execution_count": 56,
   "id": "ed663651",
   "metadata": {},
   "outputs": [
    {
     "ename": "TypeError",
     "evalue": "'(slice(None, None, None), 0)' is an invalid key",
     "output_type": "error",
     "traceback": [
      "\u001b[0;31m---------------------------------------------------------------------------\u001b[0m",
      "\u001b[0;31mTypeError\u001b[0m                                 Traceback (most recent call last)",
      "\u001b[0;32m<ipython-input-56-a8b2ffea891e>\u001b[0m in \u001b[0;36m<module>\u001b[0;34m\u001b[0m\n\u001b[0;32m----> 1\u001b[0;31m \u001b[0mpd\u001b[0m\u001b[0;34m.\u001b[0m\u001b[0mread_csv\u001b[0m\u001b[0;34m(\u001b[0m\u001b[0ma\u001b[0m\u001b[0;34m,\u001b[0m \u001b[0mindex_col\u001b[0m\u001b[0;34m=\u001b[0m\u001b[0;36m0\u001b[0m\u001b[0;34m)\u001b[0m\u001b[0;34m.\u001b[0m\u001b[0mT\u001b[0m\u001b[0;34m[\u001b[0m\u001b[0;34m:\u001b[0m\u001b[0;34m,\u001b[0m \u001b[0;36m0\u001b[0m\u001b[0;34m]\u001b[0m\u001b[0;34m\u001b[0m\u001b[0;34m\u001b[0m\u001b[0m\n\u001b[0m",
      "\u001b[0;32m~/opt/anaconda3/envs/pl2/lib/python3.6/site-packages/pandas/core/frame.py\u001b[0m in \u001b[0;36m__getitem__\u001b[0;34m(self, key)\u001b[0m\n\u001b[1;32m   2904\u001b[0m             \u001b[0;32mif\u001b[0m \u001b[0mself\u001b[0m\u001b[0;34m.\u001b[0m\u001b[0mcolumns\u001b[0m\u001b[0;34m.\u001b[0m\u001b[0mnlevels\u001b[0m \u001b[0;34m>\u001b[0m \u001b[0;36m1\u001b[0m\u001b[0;34m:\u001b[0m\u001b[0;34m\u001b[0m\u001b[0;34m\u001b[0m\u001b[0m\n\u001b[1;32m   2905\u001b[0m                 \u001b[0;32mreturn\u001b[0m \u001b[0mself\u001b[0m\u001b[0;34m.\u001b[0m\u001b[0m_getitem_multilevel\u001b[0m\u001b[0;34m(\u001b[0m\u001b[0mkey\u001b[0m\u001b[0;34m)\u001b[0m\u001b[0;34m\u001b[0m\u001b[0;34m\u001b[0m\u001b[0m\n\u001b[0;32m-> 2906\u001b[0;31m             \u001b[0mindexer\u001b[0m \u001b[0;34m=\u001b[0m \u001b[0mself\u001b[0m\u001b[0;34m.\u001b[0m\u001b[0mcolumns\u001b[0m\u001b[0;34m.\u001b[0m\u001b[0mget_loc\u001b[0m\u001b[0;34m(\u001b[0m\u001b[0mkey\u001b[0m\u001b[0;34m)\u001b[0m\u001b[0;34m\u001b[0m\u001b[0;34m\u001b[0m\u001b[0m\n\u001b[0m\u001b[1;32m   2907\u001b[0m             \u001b[0;32mif\u001b[0m \u001b[0mis_integer\u001b[0m\u001b[0;34m(\u001b[0m\u001b[0mindexer\u001b[0m\u001b[0;34m)\u001b[0m\u001b[0;34m:\u001b[0m\u001b[0;34m\u001b[0m\u001b[0;34m\u001b[0m\u001b[0m\n\u001b[1;32m   2908\u001b[0m                 \u001b[0mindexer\u001b[0m \u001b[0;34m=\u001b[0m \u001b[0;34m[\u001b[0m\u001b[0mindexer\u001b[0m\u001b[0;34m]\u001b[0m\u001b[0;34m\u001b[0m\u001b[0;34m\u001b[0m\u001b[0m\n",
      "\u001b[0;32m~/opt/anaconda3/envs/pl2/lib/python3.6/site-packages/pandas/core/indexes/base.py\u001b[0m in \u001b[0;36mget_loc\u001b[0;34m(self, key, method, tolerance)\u001b[0m\n\u001b[1;32m   2896\u001b[0m             \u001b[0mcasted_key\u001b[0m \u001b[0;34m=\u001b[0m \u001b[0mself\u001b[0m\u001b[0;34m.\u001b[0m\u001b[0m_maybe_cast_indexer\u001b[0m\u001b[0;34m(\u001b[0m\u001b[0mkey\u001b[0m\u001b[0;34m)\u001b[0m\u001b[0;34m\u001b[0m\u001b[0;34m\u001b[0m\u001b[0m\n\u001b[1;32m   2897\u001b[0m             \u001b[0;32mtry\u001b[0m\u001b[0;34m:\u001b[0m\u001b[0;34m\u001b[0m\u001b[0;34m\u001b[0m\u001b[0m\n\u001b[0;32m-> 2898\u001b[0;31m                 \u001b[0;32mreturn\u001b[0m \u001b[0mself\u001b[0m\u001b[0;34m.\u001b[0m\u001b[0m_engine\u001b[0m\u001b[0;34m.\u001b[0m\u001b[0mget_loc\u001b[0m\u001b[0;34m(\u001b[0m\u001b[0mcasted_key\u001b[0m\u001b[0;34m)\u001b[0m\u001b[0;34m\u001b[0m\u001b[0;34m\u001b[0m\u001b[0m\n\u001b[0m\u001b[1;32m   2899\u001b[0m             \u001b[0;32mexcept\u001b[0m \u001b[0mKeyError\u001b[0m \u001b[0;32mas\u001b[0m \u001b[0merr\u001b[0m\u001b[0;34m:\u001b[0m\u001b[0;34m\u001b[0m\u001b[0;34m\u001b[0m\u001b[0m\n\u001b[1;32m   2900\u001b[0m                 \u001b[0;32mraise\u001b[0m \u001b[0mKeyError\u001b[0m\u001b[0;34m(\u001b[0m\u001b[0mkey\u001b[0m\u001b[0;34m)\u001b[0m \u001b[0;32mfrom\u001b[0m \u001b[0merr\u001b[0m\u001b[0;34m\u001b[0m\u001b[0;34m\u001b[0m\u001b[0m\n",
      "\u001b[0;32mpandas/_libs/index.pyx\u001b[0m in \u001b[0;36mpandas._libs.index.IndexEngine.get_loc\u001b[0;34m()\u001b[0m\n",
      "\u001b[0;32mpandas/_libs/index.pyx\u001b[0m in \u001b[0;36mpandas._libs.index.IndexEngine.get_loc\u001b[0;34m()\u001b[0m\n",
      "\u001b[0;31mTypeError\u001b[0m: '(slice(None, None, None), 0)' is an invalid key"
     ]
    }
   ],
   "source": [
    "pd.read_csv(a, index_col=0).T[:, 0]"
   ]
  },
  {
   "cell_type": "code",
   "execution_count": 64,
   "id": "e6d14238",
   "metadata": {},
   "outputs": [
    {
     "data": {
      "text/html": [
       "<div>\n",
       "<style scoped>\n",
       "    .dataframe tbody tr th:only-of-type {\n",
       "        vertical-align: middle;\n",
       "    }\n",
       "\n",
       "    .dataframe tbody tr th {\n",
       "        vertical-align: top;\n",
       "    }\n",
       "\n",
       "    .dataframe thead th {\n",
       "        text-align: right;\n",
       "    }\n",
       "</style>\n",
       "<table border=\"1\" class=\"dataframe\">\n",
       "  <thead>\n",
       "    <tr style=\"text-align: right;\">\n",
       "      <th></th>\n",
       "      <th>Feature1</th>\n",
       "      <th>Feature27</th>\n",
       "      <th>Feature73</th>\n",
       "      <th>Feature35</th>\n",
       "      <th>Feature89</th>\n",
       "      <th>Feature75</th>\n",
       "      <th>Feature23</th>\n",
       "      <th>Feature56</th>\n",
       "      <th>Feature10</th>\n",
       "      <th>Feature70</th>\n",
       "    </tr>\n",
       "  </thead>\n",
       "  <tbody>\n",
       "    <tr>\n",
       "      <th>Sample257</th>\n",
       "      <td>458.742854</td>\n",
       "      <td>3538.680444</td>\n",
       "      <td>2096.430619</td>\n",
       "      <td>6664.239931</td>\n",
       "      <td>1893.775250</td>\n",
       "      <td>1178.968134</td>\n",
       "      <td>642.733865</td>\n",
       "      <td>5479.739658</td>\n",
       "      <td>998.520263</td>\n",
       "      <td>561.039280</td>\n",
       "    </tr>\n",
       "    <tr>\n",
       "      <th>Sample107</th>\n",
       "      <td>414.976521</td>\n",
       "      <td>3478.795425</td>\n",
       "      <td>1965.887278</td>\n",
       "      <td>5934.469904</td>\n",
       "      <td>1704.532782</td>\n",
       "      <td>1203.169720</td>\n",
       "      <td>722.811841</td>\n",
       "      <td>6493.716213</td>\n",
       "      <td>1014.304168</td>\n",
       "      <td>580.265222</td>\n",
       "    </tr>\n",
       "    <tr>\n",
       "      <th>Sample123</th>\n",
       "      <td>158.677398</td>\n",
       "      <td>2866.114777</td>\n",
       "      <td>756.089842</td>\n",
       "      <td>11741.180547</td>\n",
       "      <td>1176.585383</td>\n",
       "      <td>1476.975762</td>\n",
       "      <td>950.478975</td>\n",
       "      <td>2890.459245</td>\n",
       "      <td>934.513617</td>\n",
       "      <td>562.207592</td>\n",
       "    </tr>\n",
       "    <tr>\n",
       "      <th>Sample63</th>\n",
       "      <td>185.590078</td>\n",
       "      <td>3165.030616</td>\n",
       "      <td>1284.345056</td>\n",
       "      <td>2129.910689</td>\n",
       "      <td>718.367584</td>\n",
       "      <td>1330.423836</td>\n",
       "      <td>1141.892643</td>\n",
       "      <td>11777.708578</td>\n",
       "      <td>1096.993420</td>\n",
       "      <td>680.973087</td>\n",
       "    </tr>\n",
       "    <tr>\n",
       "      <th>Sample186</th>\n",
       "      <td>458.742854</td>\n",
       "      <td>3538.680444</td>\n",
       "      <td>2096.430619</td>\n",
       "      <td>6664.239931</td>\n",
       "      <td>1893.775250</td>\n",
       "      <td>1178.968134</td>\n",
       "      <td>642.733865</td>\n",
       "      <td>5479.739658</td>\n",
       "      <td>998.520263</td>\n",
       "      <td>561.039280</td>\n",
       "    </tr>\n",
       "    <tr>\n",
       "      <th>...</th>\n",
       "      <td>...</td>\n",
       "      <td>...</td>\n",
       "      <td>...</td>\n",
       "      <td>...</td>\n",
       "      <td>...</td>\n",
       "      <td>...</td>\n",
       "      <td>...</td>\n",
       "      <td>...</td>\n",
       "      <td>...</td>\n",
       "      <td>...</td>\n",
       "    </tr>\n",
       "    <tr>\n",
       "      <th>Sample204</th>\n",
       "      <td>233.546458</td>\n",
       "      <td>3156.681941</td>\n",
       "      <td>1445.789229</td>\n",
       "      <td>2050.195310</td>\n",
       "      <td>883.979118</td>\n",
       "      <td>1444.275621</td>\n",
       "      <td>1183.917439</td>\n",
       "      <td>11310.172778</td>\n",
       "      <td>1107.715896</td>\n",
       "      <td>696.020488</td>\n",
       "    </tr>\n",
       "    <tr>\n",
       "      <th>Sample256</th>\n",
       "      <td>208.701949</td>\n",
       "      <td>3129.158777</td>\n",
       "      <td>1330.994449</td>\n",
       "      <td>2653.840792</td>\n",
       "      <td>827.823402</td>\n",
       "      <td>1420.190020</td>\n",
       "      <td>1167.475074</td>\n",
       "      <td>10994.457154</td>\n",
       "      <td>1094.106093</td>\n",
       "      <td>684.538580</td>\n",
       "    </tr>\n",
       "    <tr>\n",
       "      <th>Sample73</th>\n",
       "      <td>237.217975</td>\n",
       "      <td>2855.319599</td>\n",
       "      <td>1201.178353</td>\n",
       "      <td>2304.987440</td>\n",
       "      <td>1255.095566</td>\n",
       "      <td>1547.544899</td>\n",
       "      <td>972.124996</td>\n",
       "      <td>10307.175149</td>\n",
       "      <td>961.697215</td>\n",
       "      <td>1870.968242</td>\n",
       "    </tr>\n",
       "    <tr>\n",
       "      <th>Sample236</th>\n",
       "      <td>989.522104</td>\n",
       "      <td>3489.004972</td>\n",
       "      <td>4077.936937</td>\n",
       "      <td>1416.749042</td>\n",
       "      <td>3512.427090</td>\n",
       "      <td>2484.486565</td>\n",
       "      <td>1293.638428</td>\n",
       "      <td>4233.491294</td>\n",
       "      <td>1206.723221</td>\n",
       "      <td>808.623894</td>\n",
       "    </tr>\n",
       "    <tr>\n",
       "      <th>Sample38</th>\n",
       "      <td>166.564017</td>\n",
       "      <td>2855.296230</td>\n",
       "      <td>737.235285</td>\n",
       "      <td>11765.022800</td>\n",
       "      <td>1141.698565</td>\n",
       "      <td>1517.823367</td>\n",
       "      <td>953.611727</td>\n",
       "      <td>2887.838323</td>\n",
       "      <td>927.880124</td>\n",
       "      <td>558.332905</td>\n",
       "    </tr>\n",
       "  </tbody>\n",
       "</table>\n",
       "<p>384 rows × 10 columns</p>\n",
       "</div>"
      ],
      "text/plain": [
       "             Feature1    Feature27    Feature73     Feature35    Feature89  \\\n",
       "Sample257  458.742854  3538.680444  2096.430619   6664.239931  1893.775250   \n",
       "Sample107  414.976521  3478.795425  1965.887278   5934.469904  1704.532782   \n",
       "Sample123  158.677398  2866.114777   756.089842  11741.180547  1176.585383   \n",
       "Sample63   185.590078  3165.030616  1284.345056   2129.910689   718.367584   \n",
       "Sample186  458.742854  3538.680444  2096.430619   6664.239931  1893.775250   \n",
       "...               ...          ...          ...           ...          ...   \n",
       "Sample204  233.546458  3156.681941  1445.789229   2050.195310   883.979118   \n",
       "Sample256  208.701949  3129.158777  1330.994449   2653.840792   827.823402   \n",
       "Sample73   237.217975  2855.319599  1201.178353   2304.987440  1255.095566   \n",
       "Sample236  989.522104  3489.004972  4077.936937   1416.749042  3512.427090   \n",
       "Sample38   166.564017  2855.296230   737.235285  11765.022800  1141.698565   \n",
       "\n",
       "             Feature75    Feature23     Feature56    Feature10    Feature70  \n",
       "Sample257  1178.968134   642.733865   5479.739658   998.520263   561.039280  \n",
       "Sample107  1203.169720   722.811841   6493.716213  1014.304168   580.265222  \n",
       "Sample123  1476.975762   950.478975   2890.459245   934.513617   562.207592  \n",
       "Sample63   1330.423836  1141.892643  11777.708578  1096.993420   680.973087  \n",
       "Sample186  1178.968134   642.733865   5479.739658   998.520263   561.039280  \n",
       "...                ...          ...           ...          ...          ...  \n",
       "Sample204  1444.275621  1183.917439  11310.172778  1107.715896   696.020488  \n",
       "Sample256  1420.190020  1167.475074  10994.457154  1094.106093   684.538580  \n",
       "Sample73   1547.544899   972.124996  10307.175149   961.697215  1870.968242  \n",
       "Sample236  2484.486565  1293.638428   4233.491294  1206.723221   808.623894  \n",
       "Sample38   1517.823367   953.611727   2887.838323   927.880124   558.332905  \n",
       "\n",
       "[384 rows x 10 columns]"
      ]
     },
     "execution_count": 64,
     "metadata": {},
     "output_type": "execute_result"
    }
   ],
   "source": [
    "pd.read_csv(a, index_col=0) - pd.read_csv(a, index_col=0).min(axis=0)"
   ]
  },
  {
   "cell_type": "code",
   "execution_count": 58,
   "id": "e6210c50",
   "metadata": {},
   "outputs": [
    {
     "data": {
      "text/plain": [
       "array([       inf,        inf,        inf,        inf,        inf,\n",
       "       0.10944249,        inf,        inf,        inf, 0.10269667,\n",
       "              inf,        inf,        inf,        inf,        inf,\n",
       "              inf,        inf,        inf,        inf,        inf,\n",
       "              inf,        inf,        inf,        inf,        inf,\n",
       "              inf,        inf,        inf,        inf,        inf,\n",
       "              inf,        inf,        inf,        inf,        inf,\n",
       "              inf,        inf,        inf,        inf,        inf,\n",
       "              inf,        inf,        inf,        inf, 0.10747587,\n",
       "              inf,        inf,        inf,        inf,        inf,\n",
       "              inf,        inf,        inf,        inf,        inf,\n",
       "              inf,        inf,        inf,        inf,        inf,\n",
       "              inf,        inf,        inf,        inf,        inf,\n",
       "              inf,        inf,        inf,        inf,        inf,\n",
       "              inf, 0.45298143,        inf,        inf,        inf,\n",
       "              inf,        inf,        inf,        inf,        inf,\n",
       "              inf,        inf,        inf,        inf,        inf,\n",
       "       0.19150698,        inf,        inf,        inf,        inf,\n",
       "              inf,        inf,        inf,        inf,        inf,\n",
       "              inf,        inf,        inf,        inf,        inf,\n",
       "              inf,        inf,        inf,        inf,        inf,\n",
       "              inf,        inf,        inf,        inf,        inf,\n",
       "              inf,        inf,        inf,        inf, 0.28492073,\n",
       "              inf,        inf,        inf,        inf,        inf,\n",
       "              inf, 0.23460492,        inf,        inf,        inf,\n",
       "              inf,        inf,        inf,        inf,        inf,\n",
       "              inf,        inf,        inf,        inf,        inf,\n",
       "              inf,        inf,        inf,        inf,        inf,\n",
       "              inf,        inf,        inf,        inf,        inf,\n",
       "              inf,        inf,        inf,        inf,        inf,\n",
       "              inf,        inf,        inf,        inf,        inf,\n",
       "              inf,        inf,        inf,        inf,        inf,\n",
       "              inf,        inf,        inf,        inf,        inf,\n",
       "              inf,        inf,        inf,        inf,        inf,\n",
       "              inf,        inf,        inf,        inf,        inf,\n",
       "              inf,        inf,        inf, 0.27743823,        inf,\n",
       "              inf,        inf,        inf,        inf,        inf,\n",
       "              inf,        inf,        inf,        inf,        inf,\n",
       "              inf,        inf,        inf,        inf,        inf,\n",
       "              inf,        inf,        inf,        inf,        inf,\n",
       "              inf,        inf,        inf,        inf,        inf,\n",
       "              inf,        inf,        inf,        inf,        inf,\n",
       "              inf,        inf, 0.28294204,        inf,        inf,\n",
       "              inf,        inf,        inf,        inf,        inf,\n",
       "              inf,        inf,        inf,        inf,        inf,\n",
       "              inf,        inf,        inf,        inf,        inf,\n",
       "              inf,        inf, 0.36007336,        inf,        inf,\n",
       "              inf,        inf,        inf,        inf,        inf,\n",
       "              inf,        inf,        inf,        inf, 0.28392526,\n",
       "              inf,        inf,        inf,        inf,        inf,\n",
       "              inf,        inf,        inf,        inf,        inf,\n",
       "              inf,        inf,        inf,        inf,        inf,\n",
       "              inf,        inf,        inf,        inf,        inf,\n",
       "              inf,        inf,        inf,        inf,        inf,\n",
       "              inf,        inf,        inf, 0.22478786,        inf,\n",
       "              inf,        inf,        inf,        inf,        inf,\n",
       "       0.43362186,        inf,        inf,        inf,        inf,\n",
       "              inf,        inf,        inf, 0.29712086, 0.23796127,\n",
       "              inf,        inf,        inf,        inf,        inf,\n",
       "              inf,        inf, 0.41331277,        inf,        inf,\n",
       "              inf, 0.33331636,        inf, 0.30217075, 0.30156925,\n",
       "       0.22854578,        inf,        inf,        inf, 0.30716637,\n",
       "              inf,        inf,        inf,        inf, 0.29933755,\n",
       "              inf,        inf,        inf,        inf,        inf,\n",
       "       0.24458064,        inf,        inf,        inf,        inf,\n",
       "              inf,        inf,        inf,        inf,        inf,\n",
       "              inf,        inf,        inf,        inf,        inf,\n",
       "              inf,        inf, 0.21670055, 0.26811606,        inf,\n",
       "              inf,        inf, 0.40759936,        inf, 0.30162455,\n",
       "              inf,        inf,        inf,        inf, 0.29962515,\n",
       "              inf,        inf,        inf,        inf,        inf,\n",
       "              inf, 0.37653876,        inf,        inf,        inf,\n",
       "              inf,        inf,        inf,        inf,        inf,\n",
       "              inf,        inf, 0.20826848,        inf, 0.25190413,\n",
       "              inf,        inf,        inf,        inf,        inf,\n",
       "              inf,        inf,        inf,        inf,        inf,\n",
       "              inf,        inf,        inf,        inf])"
      ]
     },
     "execution_count": 58,
     "metadata": {},
     "output_type": "execute_result"
    }
   ],
   "source": [
    "jensenshannon(pd.read_csv(a, index_col=0).T, \n",
    "                                  samples.T)"
   ]
  },
  {
   "cell_type": "code",
   "execution_count": null,
   "id": "8d4f0260",
   "metadata": {},
   "outputs": [],
   "source": []
  },
  {
   "cell_type": "code",
   "execution_count": 40,
   "id": "21e7e381",
   "metadata": {},
   "outputs": [],
   "source": [
    "# a.split('/')[-1].split('_')[0]\n",
    "# jensenshannon(pd.read_csv(a, index_col=0).T, \n",
    "#                             samples.T)"
   ]
  },
  {
   "cell_type": "code",
   "execution_count": 42,
   "id": "d5b0ac84",
   "metadata": {},
   "outputs": [
    {
     "data": {
      "text/html": [
       "<div>\n",
       "<style scoped>\n",
       "    .dataframe tbody tr th:only-of-type {\n",
       "        vertical-align: middle;\n",
       "    }\n",
       "\n",
       "    .dataframe tbody tr th {\n",
       "        vertical-align: top;\n",
       "    }\n",
       "\n",
       "    .dataframe thead th {\n",
       "        text-align: right;\n",
       "    }\n",
       "</style>\n",
       "<table border=\"1\" class=\"dataframe\">\n",
       "  <thead>\n",
       "    <tr style=\"text-align: right;\">\n",
       "      <th></th>\n",
       "      <th>Group</th>\n",
       "      <th>JSD</th>\n",
       "    </tr>\n",
       "  </thead>\n",
       "  <tbody>\n",
       "    <tr>\n",
       "      <th>Sample257</th>\n",
       "      <td>percnorm</td>\n",
       "      <td>0.063477</td>\n",
       "    </tr>\n",
       "    <tr>\n",
       "      <th>Sample107</th>\n",
       "      <td>percnorm</td>\n",
       "      <td>0.527578</td>\n",
       "    </tr>\n",
       "    <tr>\n",
       "      <th>Sample123</th>\n",
       "      <td>percnorm</td>\n",
       "      <td>0.219316</td>\n",
       "    </tr>\n",
       "    <tr>\n",
       "      <th>Sample63</th>\n",
       "      <td>percnorm</td>\n",
       "      <td>0.334015</td>\n",
       "    </tr>\n",
       "    <tr>\n",
       "      <th>Sample186</th>\n",
       "      <td>percnorm</td>\n",
       "      <td>0.063477</td>\n",
       "    </tr>\n",
       "    <tr>\n",
       "      <th>...</th>\n",
       "      <td>...</td>\n",
       "      <td>...</td>\n",
       "    </tr>\n",
       "    <tr>\n",
       "      <th>Sample204</th>\n",
       "      <td>percnorm</td>\n",
       "      <td>0.384515</td>\n",
       "    </tr>\n",
       "    <tr>\n",
       "      <th>Sample256</th>\n",
       "      <td>percnorm</td>\n",
       "      <td>0.382242</td>\n",
       "    </tr>\n",
       "    <tr>\n",
       "      <th>Sample73</th>\n",
       "      <td>percnorm</td>\n",
       "      <td>0.504337</td>\n",
       "    </tr>\n",
       "    <tr>\n",
       "      <th>Sample236</th>\n",
       "      <td>percnorm</td>\n",
       "      <td>0.060284</td>\n",
       "    </tr>\n",
       "    <tr>\n",
       "      <th>Sample38</th>\n",
       "      <td>percnorm</td>\n",
       "      <td>0.046362</td>\n",
       "    </tr>\n",
       "  </tbody>\n",
       "</table>\n",
       "<p>384 rows × 2 columns</p>\n",
       "</div>"
      ],
      "text/plain": [
       "              Group       JSD\n",
       "Sample257  percnorm  0.063477\n",
       "Sample107  percnorm  0.527578\n",
       "Sample123  percnorm  0.219316\n",
       "Sample63   percnorm  0.334015\n",
       "Sample186  percnorm  0.063477\n",
       "...             ...       ...\n",
       "Sample204  percnorm  0.384515\n",
       "Sample256  percnorm  0.382242\n",
       "Sample73   percnorm  0.504337\n",
       "Sample236  percnorm  0.060284\n",
       "Sample38   percnorm  0.046362\n",
       "\n",
       "[384 rows x 2 columns]"
      ]
     },
     "execution_count": 42,
     "metadata": {},
     "output_type": "execute_result"
    }
   ],
   "source": [
    "pd.DataFrame({'Group':a.split('/')[-1].split('_')[0],\n",
    "              'JSD':jensenshannon(pd.read_csv(a, index_col=0).T, \n",
    "                            samples.T)\n",
    "              }, \n",
    "             index=samples.index)"
   ]
  },
  {
   "cell_type": "code",
   "execution_count": null,
   "id": "6b277051",
   "metadata": {},
   "outputs": [],
   "source": []
  },
  {
   "cell_type": "code",
   "execution_count": null,
   "id": "a06b3bb9",
   "metadata": {},
   "outputs": [],
   "source": []
  },
  {
   "cell_type": "code",
   "execution_count": null,
   "id": "9b89be90",
   "metadata": {},
   "outputs": [],
   "source": []
  },
  {
   "cell_type": "code",
   "execution_count": null,
   "id": "bf018b2c",
   "metadata": {},
   "outputs": [],
   "source": []
  },
  {
   "cell_type": "code",
   "execution_count": null,
   "id": "8aeb0951",
   "metadata": {},
   "outputs": [],
   "source": []
  },
  {
   "cell_type": "code",
   "execution_count": null,
   "id": "bec76c93",
   "metadata": {},
   "outputs": [],
   "source": []
  },
  {
   "cell_type": "code",
   "execution_count": null,
   "id": "45fb8d17",
   "metadata": {},
   "outputs": [],
   "source": []
  },
  {
   "cell_type": "code",
   "execution_count": null,
   "id": "d4980208",
   "metadata": {},
   "outputs": [],
   "source": []
  },
  {
   "cell_type": "code",
   "execution_count": null,
   "id": "66451362",
   "metadata": {},
   "outputs": [],
   "source": []
  },
  {
   "cell_type": "code",
   "execution_count": null,
   "id": "dd5aab94",
   "metadata": {},
   "outputs": [],
   "source": []
  },
  {
   "cell_type": "code",
   "execution_count": 29,
   "id": "222c50c1",
   "metadata": {
    "scrolled": true
   },
   "outputs": [
    {
     "name": "stdout",
     "output_type": "stream",
     "text": [
      "SPARSEDOSSA_generators.Rdata  \u001b[34mgenerated-100-feat-datasets\u001b[m\u001b[m\r\n",
      "Simulation-setup.Rmd          \u001b[34mgenerated_datasets\u001b[m\u001b[m\r\n",
      "Untitled.ipynb                \u001b[34mlightning_logs\u001b[m\u001b[m\r\n",
      "Untitled1.ipynb               make_simulation_plots.ipynb\r\n",
      "adjust_batch_diagnostic.pdf   run-simulation-R-BC-methods.R\r\n",
      "\u001b[34massets\u001b[m\u001b[m                        run-simulations.py\r\n",
      "execute-all-simulations.py    simulation-setup.R\r\n",
      "\u001b[34mfull-sim-results\u001b[m\u001b[m              \u001b[34mtmp-dataset-with-added-bias\u001b[m\u001b[m\r\n"
     ]
    }
   ],
   "source": [
    "!ls"
   ]
  },
  {
   "cell_type": "code",
   "execution_count": 31,
   "id": "737d1542",
   "metadata": {},
   "outputs": [
    {
     "data": {
      "text/html": [
       "<div>\n",
       "<style scoped>\n",
       "    .dataframe tbody tr th:only-of-type {\n",
       "        vertical-align: middle;\n",
       "    }\n",
       "\n",
       "    .dataframe tbody tr th {\n",
       "        vertical-align: top;\n",
       "    }\n",
       "\n",
       "    .dataframe thead th {\n",
       "        text-align: right;\n",
       "    }\n",
       "</style>\n",
       "<table border=\"1\" class=\"dataframe\">\n",
       "  <thead>\n",
       "    <tr style=\"text-align: right;\">\n",
       "      <th></th>\n",
       "      <th>Group</th>\n",
       "      <th>JSD</th>\n",
       "      <th>N_studies</th>\n",
       "      <th>N_per_study</th>\n",
       "      <th>N_features</th>\n",
       "      <th>Pheno_noise</th>\n",
       "      <th>Read_depth</th>\n",
       "      <th>BCF_std</th>\n",
       "      <th>run_num</th>\n",
       "    </tr>\n",
       "  </thead>\n",
       "  <tbody>\n",
       "    <tr>\n",
       "      <th>0</th>\n",
       "      <td>Baseline</td>\n",
       "      <td>0.112285</td>\n",
       "      <td>4.0</td>\n",
       "      <td>96.0</td>\n",
       "      <td>10.0</td>\n",
       "      <td>0.1</td>\n",
       "      <td>10000.0</td>\n",
       "      <td>2.0</td>\n",
       "      <td>1.0</td>\n",
       "    </tr>\n",
       "    <tr>\n",
       "      <th>1</th>\n",
       "      <td>Baseline</td>\n",
       "      <td>0.306048</td>\n",
       "      <td>4.0</td>\n",
       "      <td>96.0</td>\n",
       "      <td>10.0</td>\n",
       "      <td>0.1</td>\n",
       "      <td>10000.0</td>\n",
       "      <td>2.0</td>\n",
       "      <td>1.0</td>\n",
       "    </tr>\n",
       "    <tr>\n",
       "      <th>2</th>\n",
       "      <td>Baseline</td>\n",
       "      <td>0.002925</td>\n",
       "      <td>4.0</td>\n",
       "      <td>96.0</td>\n",
       "      <td>10.0</td>\n",
       "      <td>0.1</td>\n",
       "      <td>10000.0</td>\n",
       "      <td>2.0</td>\n",
       "      <td>1.0</td>\n",
       "    </tr>\n",
       "    <tr>\n",
       "      <th>3</th>\n",
       "      <td>Baseline</td>\n",
       "      <td>0.022143</td>\n",
       "      <td>4.0</td>\n",
       "      <td>96.0</td>\n",
       "      <td>10.0</td>\n",
       "      <td>0.1</td>\n",
       "      <td>10000.0</td>\n",
       "      <td>2.0</td>\n",
       "      <td>1.0</td>\n",
       "    </tr>\n",
       "    <tr>\n",
       "      <th>4</th>\n",
       "      <td>Baseline</td>\n",
       "      <td>0.112285</td>\n",
       "      <td>4.0</td>\n",
       "      <td>96.0</td>\n",
       "      <td>10.0</td>\n",
       "      <td>0.1</td>\n",
       "      <td>10000.0</td>\n",
       "      <td>2.0</td>\n",
       "      <td>1.0</td>\n",
       "    </tr>\n",
       "  </tbody>\n",
       "</table>\n",
       "</div>"
      ],
      "text/plain": [
       "      Group       JSD  N_studies  N_per_study  N_features  Pheno_noise  \\\n",
       "0  Baseline  0.112285        4.0         96.0        10.0          0.1   \n",
       "1  Baseline  0.306048        4.0         96.0        10.0          0.1   \n",
       "2  Baseline  0.002925        4.0         96.0        10.0          0.1   \n",
       "3  Baseline  0.022143        4.0         96.0        10.0          0.1   \n",
       "4  Baseline  0.112285        4.0         96.0        10.0          0.1   \n",
       "\n",
       "   Read_depth  BCF_std  run_num  \n",
       "0     10000.0      2.0      1.0  \n",
       "1     10000.0      2.0      1.0  \n",
       "2     10000.0      2.0      1.0  \n",
       "3     10000.0      2.0      1.0  \n",
       "4     10000.0      2.0      1.0  "
      ]
     },
     "execution_count": 31,
     "metadata": {},
     "output_type": "execute_result"
    }
   ],
   "source": [
    "xf"
   ]
  },
  {
   "cell_type": "code",
   "execution_count": 36,
   "id": "f0ad98cc",
   "metadata": {},
   "outputs": [
    {
     "data": {
      "text/plain": [
       "['Group',\n",
       " 'N_studies',\n",
       " 'N_per_study',\n",
       " 'N_features',\n",
       " 'Pheno_noise',\n",
       " 'Read_depth',\n",
       " 'BCF_std',\n",
       " 'run_num']"
      ]
     },
     "execution_count": 36,
     "metadata": {},
     "output_type": "execute_result"
    }
   ],
   "source": [
    "list( res.drop('JSD', axis=1).columns.values )"
   ]
  },
  {
   "cell_type": "code",
   "execution_count": 42,
   "id": "2c2bd412",
   "metadata": {},
   "outputs": [],
   "source": [
    "qq=res.groupby(\n",
    "    list(  res.drop('JSD', axis=1).columns.values )\n",
    "            )['JSD'].median().reset_index()"
   ]
  },
  {
   "cell_type": "code",
   "execution_count": 44,
   "id": "1dd74c24",
   "metadata": {},
   "outputs": [],
   "source": [
    "qq['Group']=qq.Group.str.replace('combat-out.csv', 'Combat')\\\n",
    "                    .str.replace('conqur-out.csv', 'ConQuR')\\\n",
    "                    .str.replace('PLSDAbatch','PLSDA')"
   ]
  },
  {
   "cell_type": "code",
   "execution_count": 43,
   "id": "02a66b78",
   "metadata": {},
   "outputs": [
    {
     "data": {
      "text/plain": [
       "Group\n",
       "Baseline          25\n",
       "DEBIAS-M          25\n",
       "MMUPHin           25\n",
       "combat-out.csv    25\n",
       "conqur-out.csv    25\n",
       "percnorm          25\n",
       "Name: count, dtype: int64"
      ]
     },
     "execution_count": 43,
     "metadata": {},
     "output_type": "execute_result"
    }
   ],
   "source": [
    "# qq.Group.value_counts()"
   ]
  },
  {
   "cell_type": "code",
   "execution_count": 48,
   "id": "a2e001c1",
   "metadata": {},
   "outputs": [
    {
     "data": {
      "image/png": "[encoded data removed]",
      "text/plain": [
       "<Figure size 800x800 with 1 Axes>"
      ]
     },
     "metadata": {},
     "output_type": "display_data"
    }
   ],
   "source": [
    "order=['Baseline',\n",
    "       'Combat',\n",
    "       'ConQuR',\n",
    "       'percnorm',\n",
    "       'MMUPHin',\n",
    "#        'PLSDA',\n",
    "       'DEBIAS-M']\n",
    "plt.figure(figsize=(8,8))\n",
    "sns.boxplot(x='Group', \n",
    "            y='JSD', \n",
    "            data = qq.reset_index(), \n",
    "            fliersize=0,\n",
    "            order=order,\n",
    "            palette=plotting.global_palette\n",
    "           )\n",
    "\n",
    "sns.swarmplot(x='Group', \n",
    "              y='JSD', \n",
    "              data = qq.reset_index(),\n",
    "              color='black',\n",
    "              s=5,\n",
    "              legend=False, \n",
    "              order=order\n",
    "            )\n",
    "plt.xticks(rotation=90)\n",
    "plt.xlabel(None)\n",
    "plt.show()"
   ]
  },
  {
   "cell_type": "code",
   "execution_count": null,
   "id": "e2d030ce",
   "metadata": {},
   "outputs": [],
   "source": []
  },
  {
   "cell_type": "code",
   "execution_count": 80,
   "id": "daa6ee73",
   "metadata": {},
   "outputs": [
    {
     "data": {
      "text/html": [
       "<div>\n",
       "<style scoped>\n",
       "    .dataframe tbody tr th:only-of-type {\n",
       "        vertical-align: middle;\n",
       "    }\n",
       "\n",
       "    .dataframe tbody tr th {\n",
       "        vertical-align: top;\n",
       "    }\n",
       "\n",
       "    .dataframe thead th {\n",
       "        text-align: right;\n",
       "    }\n",
       "</style>\n",
       "<table border=\"1\" class=\"dataframe\">\n",
       "  <thead>\n",
       "    <tr style=\"text-align: right;\">\n",
       "      <th></th>\n",
       "      <th>Group</th>\n",
       "      <th>JSD</th>\n",
       "      <th>N_studies</th>\n",
       "      <th>N_per_study</th>\n",
       "      <th>N_features</th>\n",
       "      <th>Pheno_noise</th>\n",
       "      <th>Read_depth</th>\n",
       "      <th>BCF_std</th>\n",
       "      <th>run_num</th>\n",
       "    </tr>\n",
       "  </thead>\n",
       "  <tbody>\n",
       "    <tr>\n",
       "      <th>0</th>\n",
       "      <td>Baseline</td>\n",
       "      <td>0.112285</td>\n",
       "      <td>4.0</td>\n",
       "      <td>96.0</td>\n",
       "      <td>10.0</td>\n",
       "      <td>0.0</td>\n",
       "      <td>10000.0</td>\n",
       "      <td>2.0</td>\n",
       "      <td>1.0</td>\n",
       "    </tr>\n",
       "    <tr>\n",
       "      <th>1</th>\n",
       "      <td>Baseline</td>\n",
       "      <td>0.306048</td>\n",
       "      <td>4.0</td>\n",
       "      <td>96.0</td>\n",
       "      <td>10.0</td>\n",
       "      <td>0.0</td>\n",
       "      <td>10000.0</td>\n",
       "      <td>2.0</td>\n",
       "      <td>1.0</td>\n",
       "    </tr>\n",
       "    <tr>\n",
       "      <th>2</th>\n",
       "      <td>Baseline</td>\n",
       "      <td>0.002925</td>\n",
       "      <td>4.0</td>\n",
       "      <td>96.0</td>\n",
       "      <td>10.0</td>\n",
       "      <td>0.0</td>\n",
       "      <td>10000.0</td>\n",
       "      <td>2.0</td>\n",
       "      <td>1.0</td>\n",
       "    </tr>\n",
       "    <tr>\n",
       "      <th>3</th>\n",
       "      <td>Baseline</td>\n",
       "      <td>0.022143</td>\n",
       "      <td>4.0</td>\n",
       "      <td>96.0</td>\n",
       "      <td>10.0</td>\n",
       "      <td>0.0</td>\n",
       "      <td>10000.0</td>\n",
       "      <td>2.0</td>\n",
       "      <td>1.0</td>\n",
       "    </tr>\n",
       "    <tr>\n",
       "      <th>4</th>\n",
       "      <td>Baseline</td>\n",
       "      <td>0.112285</td>\n",
       "      <td>4.0</td>\n",
       "      <td>96.0</td>\n",
       "      <td>10.0</td>\n",
       "      <td>0.0</td>\n",
       "      <td>10000.0</td>\n",
       "      <td>2.0</td>\n",
       "      <td>1.0</td>\n",
       "    </tr>\n",
       "  </tbody>\n",
       "</table>\n",
       "</div>"
      ],
      "text/plain": [
       "      Group       JSD  N_studies  N_per_study  N_features  Pheno_noise  \\\n",
       "0  Baseline  0.112285        4.0         96.0        10.0          0.0   \n",
       "1  Baseline  0.306048        4.0         96.0        10.0          0.0   \n",
       "2  Baseline  0.002925        4.0         96.0        10.0          0.0   \n",
       "3  Baseline  0.022143        4.0         96.0        10.0          0.0   \n",
       "4  Baseline  0.112285        4.0         96.0        10.0          0.0   \n",
       "\n",
       "   Read_depth  BCF_std  run_num  \n",
       "0     10000.0      2.0      1.0  \n",
       "1     10000.0      2.0      1.0  \n",
       "2     10000.0      2.0      1.0  \n",
       "3     10000.0      2.0      1.0  \n",
       "4     10000.0      2.0      1.0  "
      ]
     },
     "execution_count": 80,
     "metadata": {},
     "output_type": "execute_result"
    }
   ],
   "source": [
    "res=pd.read_csv('full-sim-results/per-sample-results-more-paramvars.csv', \n",
    "                index_col=0)\n",
    "res.head()"
   ]
  },
  {
   "cell_type": "code",
   "execution_count": null,
   "id": "80ce1f90",
   "metadata": {},
   "outputs": [],
   "source": [
    "res=res.loc[res.]"
   ]
  },
  {
   "cell_type": "code",
   "execution_count": 81,
   "id": "614b0881",
   "metadata": {},
   "outputs": [
    {
     "data": {
      "text/plain": [
       "Read_depth\n",
       "10000.0     230400\n",
       "1000.0      230400\n",
       "100000.0     11520\n",
       "Name: count, dtype: int64"
      ]
     },
     "execution_count": 81,
     "metadata": {},
     "output_type": "execute_result"
    }
   ],
   "source": [
    "res.Read_depth.value_counts()"
   ]
  },
  {
   "cell_type": "code",
   "execution_count": 76,
   "id": "546db912",
   "metadata": {},
   "outputs": [],
   "source": [
    "res=pd.read_csv('full-sim-results/per-sample-results-more-paramvars.csv', \n",
    "                index_col=0)\n",
    "\n",
    "qq=res.groupby(\n",
    "    list(  res.drop('JSD', axis=1).columns.values )\n",
    "            )['JSD'].median().reset_index()\n",
    "\n",
    "qq['Group']=qq.Group.str.replace('combat-out.csv', 'Combat')\\\n",
    "                    .str.replace('conqur-out.csv', 'ConQuR')\\\n",
    "                    .str.replace('PLSDAbatch','PLSDA')"
   ]
  },
  {
   "cell_type": "code",
   "execution_count": 83,
   "id": "0e4fe604",
   "metadata": {},
   "outputs": [],
   "source": [
    "qq=qq.loc[qq.Read_depth==10000]"
   ]
  },
  {
   "cell_type": "code",
   "execution_count": 84,
   "id": "20574393",
   "metadata": {
    "scrolled": false
   },
   "outputs": [
    {
     "data": {
      "image/png": "[encoded data removed]",
      "text/plain": [
       "<Figure size 800x800 with 1 Axes>"
      ]
     },
     "metadata": {},
     "output_type": "display_data"
    }
   ],
   "source": [
    "order=['Baseline',\n",
    "       'Combat',\n",
    "       'ConQuR',\n",
    "       'percnorm',\n",
    "       'MMUPHin',\n",
    "#        'PLSDA',\n",
    "       'DEBIAS-M']\n",
    "plt.figure(figsize=(8,8))\n",
    "sns.boxplot(y='JSD', \n",
    "            x='Pheno_noise',\n",
    "            hue='Group', \n",
    "            data = qq.reset_index(), \n",
    "            fliersize=0,\n",
    "            hue_order=order,\n",
    "            palette=plotting.global_palette\n",
    "           )\n",
    "\n",
    "sns.swarmplot(hue='Group', \n",
    "              y='JSD', \n",
    "              x='Pheno_noise',\n",
    "              data = qq.reset_index(),\n",
    "              color='black',\n",
    "              s=5,\n",
    "              legend=False, \n",
    "              hue_order=order, \n",
    "              dodge=True\n",
    "            )\n",
    "plt.xticks(rotation=90)\n",
    "# plt.xlabel(None)\n",
    "plt.legend().remove()\n",
    "plt.show()"
   ]
  },
  {
   "cell_type": "code",
   "execution_count": null,
   "id": "f8a37701",
   "metadata": {},
   "outputs": [],
   "source": []
  },
  {
   "cell_type": "code",
   "execution_count": 86,
   "id": "53e43161",
   "metadata": {},
   "outputs": [],
   "source": [
    "res=pd.read_csv('full-sim-results/per-sample-results-nsamples.csv', \n",
    "                index_col=0)\n",
    "\n",
    "qq=res.groupby(\n",
    "    list(  res.drop('JSD', axis=1).columns.values )\n",
    "            )['JSD'].median().reset_index()\n",
    "\n",
    "qq['Group']=qq.Group.str.replace('combat-out.csv', 'Combat')\\\n",
    "                    .str.replace('conqur-out.csv', 'ConQuR')\\\n",
    "                    .str.replace('PLSDAbatch','PLSDA')"
   ]
  },
  {
   "cell_type": "code",
   "execution_count": 90,
   "id": "525beda6",
   "metadata": {},
   "outputs": [
    {
     "data": {
      "image/png": "[encoded data removed]",
      "text/plain": [
       "<Figure size 800x800 with 1 Axes>"
      ]
     },
     "metadata": {},
     "output_type": "display_data"
    }
   ],
   "source": [
    "order=['Baseline',\n",
    "       'Combat',\n",
    "       'ConQuR',\n",
    "       'percnorm',\n",
    "       'MMUPHin',\n",
    "#        'PLSDA',\n",
    "       'DEBIAS-M']\n",
    "plt.figure(figsize=(8,8))\n",
    "sns.boxplot(y='JSD', \n",
    "            x='N_per_study',\n",
    "            hue='Group', \n",
    "            data = qq.reset_index(), \n",
    "            fliersize=0,\n",
    "            hue_order=order,\n",
    "            palette=plotting.global_palette\n",
    "           )\n",
    "\n",
    "sns.swarmplot(hue='Group', \n",
    "              y='JSD', \n",
    "              x='N_per_study',\n",
    "              data = qq.reset_index(),\n",
    "              color='black',\n",
    "              s=5,\n",
    "              legend=False, \n",
    "              hue_order=order, \n",
    "              dodge=True\n",
    "            )\n",
    "plt.xticks(rotation=90)\n",
    "# plt.xlabel(None)\n",
    "plt.legend().remove()\n",
    "plt.show()"
   ]
  },
  {
   "cell_type": "code",
   "execution_count": null,
   "id": "a0cd56b8",
   "metadata": {},
   "outputs": [],
   "source": []
  },
  {
   "cell_type": "code",
   "execution_count": 92,
   "id": "f6283113",
   "metadata": {},
   "outputs": [],
   "source": [
    "res=pd.read_csv('full-sim-results/per-sample-results-nstudies.csv', \n",
    "                index_col=0)\n",
    "\n",
    "qq=res.groupby(\n",
    "    list(  res.drop('JSD', axis=1).columns.values )\n",
    "            )['JSD'].median().reset_index()\n",
    "\n",
    "qq['Group']=qq.Group.str.replace('combat-out.csv', 'Combat')\\\n",
    "                    .str.replace('conqur-out.csv', 'ConQuR')\\\n",
    "                    .str.replace('PLSDAbatch','PLSDA')"
   ]
  },
  {
   "cell_type": "code",
   "execution_count": 93,
   "id": "d1b56e43",
   "metadata": {},
   "outputs": [
    {
     "data": {
      "image/png": "[encoded data removed]",
      "text/plain": [
       "<Figure size 800x800 with 1 Axes>"
      ]
     },
     "metadata": {},
     "output_type": "display_data"
    }
   ],
   "source": [
    "order=['Baseline',\n",
    "       'Combat',\n",
    "       'ConQuR',\n",
    "       'percnorm',\n",
    "       'MMUPHin',\n",
    "#        'PLSDA',\n",
    "       'DEBIAS-M']\n",
    "plt.figure(figsize=(8,8))\n",
    "sns.boxplot(y='JSD', \n",
    "            x='N_studies',\n",
    "            hue='Group', \n",
    "            data = qq.reset_index(), \n",
    "            fliersize=0,\n",
    "            hue_order=order,\n",
    "            palette=plotting.global_palette\n",
    "           )\n",
    "\n",
    "sns.swarmplot(hue='Group', \n",
    "              y='JSD', \n",
    "              x='N_studies',\n",
    "              data = qq.reset_index(),\n",
    "              color='black',\n",
    "              s=5,\n",
    "              legend=False, \n",
    "              hue_order=order, \n",
    "              dodge=True\n",
    "            )\n",
    "plt.xticks(rotation=90)\n",
    "# plt.xlabel(None)\n",
    "plt.legend().remove()\n",
    "plt.show()"
   ]
  },
  {
   "cell_type": "code",
   "execution_count": 102,
   "id": "2681ea1d",
   "metadata": {},
   "outputs": [],
   "source": [
    "res=pd.read_csv('full-sim-results/per-sample-results-nfeatures.csv', \n",
    "                index_col=0)\n",
    "\n",
    "qq=res.groupby(\n",
    "    list(  res.drop('JSD', axis=1).columns.values )\n",
    "            )['JSD'].median().reset_index()\n",
    "\n",
    "qq['Group']=qq.Group.str.replace('combat-out.csv', 'Combat')\\\n",
    "                    .str.replace('conqur-out.csv', 'ConQuR')\\\n",
    "                    .str.replace('PLSDAbatch','PLSDA')"
   ]
  },
  {
   "cell_type": "code",
   "execution_count": 103,
   "id": "6ad28cc9",
   "metadata": {},
   "outputs": [
    {
     "data": {
      "image/png": "[encoded data removed]",
      "text/plain": [
       "<Figure size 800x800 with 1 Axes>"
      ]
     },
     "metadata": {},
     "output_type": "display_data"
    }
   ],
   "source": [
    "order=['Baseline',\n",
    "       'Combat',\n",
    "       'ConQuR',\n",
    "       'percnorm',\n",
    "       'MMUPHin',\n",
    "#        'PLSDA',\n",
    "       'DEBIAS-M']\n",
    "plt.figure(figsize=(8,8))\n",
    "sns.boxplot(y='JSD', \n",
    "            x='N_features',\n",
    "            hue='Group', \n",
    "            data = qq.reset_index(), \n",
    "            fliersize=0,\n",
    "            hue_order=order,\n",
    "            palette=plotting.global_palette\n",
    "           )\n",
    "\n",
    "sns.swarmplot(hue='Group', \n",
    "              y='JSD', \n",
    "              x='N_features',\n",
    "              data = qq.reset_index(),\n",
    "              color='black',\n",
    "              s=5,\n",
    "              legend=False, \n",
    "              hue_order=order, \n",
    "              dodge=True\n",
    "            )\n",
    "plt.xticks(rotation=90)\n",
    "# plt.xlabel(None)\n",
    "plt.legend().remove()\n",
    "plt.show()"
   ]
  },
  {
   "cell_type": "code",
   "execution_count": null,
   "id": "323e0670",
   "metadata": {},
   "outputs": [],
   "source": []
  },
  {
   "cell_type": "code",
   "execution_count": null,
   "id": "38e3d28c",
   "metadata": {},
   "outputs": [],
   "source": []
  },
  {
   "cell_type": "code",
   "execution_count": null,
   "id": "bd0a0512",
   "metadata": {},
   "outputs": [],
   "source": []
  },
  {
   "cell_type": "code",
   "execution_count": null,
   "id": "21d7a161",
   "metadata": {},
   "outputs": [],
   "source": []
  }
 ],
 "metadata": {
  "kernelspec": {
   "display_name": "r43",
   "language": "python",
   "name": "r43"
  },
  "language_info": {
   "codemirror_mode": {
    "name": "ipython",
    "version": 3
   },
   "file_extension": ".py",
   "mimetype": "text/x-python",
   "name": "python",
   "nbconvert_exporter": "python",
   "pygments_lexer": "ipython3",
   "version": "3.8.19"
  }
 },
 "nbformat": 4,
 "nbformat_minor": 5
}
