{
 "cells": [
  {
   "cell_type": "code",
   "execution_count": 1,
   "id": "56ebcb5c",
   "metadata": {},
   "outputs": [],
   "source": [
    "import numpy as np\n",
    "import pandas as pd\n",
    "from sklearn.model_selection import LeaveOneGroupOut"
   ]
  },
  {
   "cell_type": "code",
   "execution_count": 116,
   "id": "95ceb850",
   "metadata": {},
   "outputs": [],
   "source": [
    "df = pd.read_csv('../../SBCMP_analysis/CodeOcean_setup/data/cal_ptb/combined_genus_data.csv', \n",
    "                 index_col=0)\n",
    "df=df.loc[:, (df > 0 ).mean(axis=0)>.05]"
   ]
  },
  {
   "cell_type": "code",
   "execution_count": 117,
   "id": "29038ee1",
   "metadata": {},
   "outputs": [],
   "source": [
    "md = pd.read_csv('../../SBCMP_analysis/CodeOcean_setup/data/cal_ptb/combined_genus_metadata.csv',\n",
    "                 index_col=0)"
   ]
  },
  {
   "cell_type": "code",
   "execution_count": 189,
   "id": "806f500a",
   "metadata": {},
   "outputs": [],
   "source": [
    "df = pd.read_csv('../../SBCMP_analysis/CodeOcean_setup/data/cal_ptb/data_v1.csv', \n",
    "                 index_col=0)\n",
    "df=df.loc[:, (df > 0 ).mean(axis=0)>.05]"
   ]
  },
  {
   "cell_type": "code",
   "execution_count": 155,
   "id": "cb2997ef",
   "metadata": {},
   "outputs": [
    {
     "data": {
      "text/plain": [
       "(1326, 104)"
      ]
     },
     "execution_count": 155,
     "metadata": {},
     "output_type": "execute_result"
    }
   ],
   "source": [
    "df.shape"
   ]
  },
  {
   "cell_type": "code",
   "execution_count": 190,
   "id": "d2d083a6",
   "metadata": {},
   "outputs": [],
   "source": [
    "md = pd.read_csv('../../SBCMP_analysis/CodeOcean_setup/data/cal_ptb/metadata_v1.csv',\n",
    "                 index_col=0)"
   ]
  },
  {
   "cell_type": "code",
   "execution_count": 191,
   "id": "c515bcef",
   "metadata": {},
   "outputs": [],
   "source": [
    "# md"
   ]
  },
  {
   "cell_type": "code",
   "execution_count": 158,
   "id": "89e1b855",
   "metadata": {},
   "outputs": [],
   "source": [
    "# y"
   ]
  },
  {
   "cell_type": "code",
   "execution_count": null,
   "id": "b5559da9",
   "metadata": {},
   "outputs": [],
   "source": []
  },
  {
   "cell_type": "code",
   "execution_count": 192,
   "id": "b7dd4580",
   "metadata": {},
   "outputs": [],
   "source": [
    "from sklearn.model_selection import LeaveOneGroupOut\n",
    "from sklearn.linear_model import LinearRegression\n",
    "from sklearn.preprocessing import StandardScaler\n",
    "from sklearn.metrics import r2_score, mean_squared_error, mean_absolute_error\n",
    "from scipy.stats import pearsonr\n",
    "from sklearn.ensemble import RandomForestRegressor"
   ]
  },
  {
   "cell_type": "code",
   "execution_count": 65,
   "id": "850b16a9",
   "metadata": {},
   "outputs": [],
   "source": [
    "md=md.loc[md.GAAD.isna()==False]\n",
    "df=df.loc[md.index]"
   ]
  },
  {
   "cell_type": "code",
   "execution_count": 193,
   "id": "719ebfc3",
   "metadata": {},
   "outputs": [],
   "source": [
    "inds = ( ( md.GAAD - md.GAAC ) >= 10 )&\\\n",
    "       ( ( md.GAAD - md.GAAC ).isna()==False )"
   ]
  },
  {
   "cell_type": "code",
   "execution_count": 163,
   "id": "443f418c",
   "metadata": {},
   "outputs": [],
   "source": [
    "inds=md.mBMI.isna()==False"
   ]
  },
  {
   "cell_type": "code",
   "execution_count": 194,
   "id": "8300f4e5",
   "metadata": {},
   "outputs": [],
   "source": [
    "from skbio.stats.composition import clr\n",
    "from dm_regression import rescale"
   ]
  },
  {
   "cell_type": "code",
   "execution_count": 195,
   "id": "e46d6a09",
   "metadata": {},
   "outputs": [],
   "source": [
    "X=clr(1e-7 + rescale( df.loc[inds].values ))\n",
    "# y=md.GAAD.values,\n",
    "y= ( md.GAAD - md.GAAC ).loc[inds].values\n",
    "# y=md.mBMI.loc[inds].values\n",
    "g=md.Study.loc[inds].values"
   ]
  },
  {
   "cell_type": "code",
   "execution_count": 196,
   "id": "163db340",
   "metadata": {},
   "outputs": [],
   "source": [
    "baseline_r2s=[]\n",
    "basline_maes=[]"
   ]
  },
  {
   "cell_type": "code",
   "execution_count": 197,
   "id": "62857135",
   "metadata": {},
   "outputs": [
    {
     "data": {
      "text/plain": [
       "<AxesSubplot:ylabel='Count'>"
      ]
     },
     "execution_count": 197,
     "metadata": {},
     "output_type": "execute_result"
    },
    {
     "data": {
      "image/png": "[encoded data removed]",
      "text/plain": [
       "<Figure size 432x288 with 1 Axes>"
      ]
     },
     "metadata": {
      "needs_background": "light"
     },
     "output_type": "display_data"
    }
   ],
   "source": [
    "import matplotlib.pyplot as plt\n",
    "import seaborn as sns\n",
    "sns.histplot(y)"
   ]
  },
  {
   "cell_type": "code",
   "execution_count": 198,
   "id": "d36e263f",
   "metadata": {},
   "outputs": [
    {
     "name": "stdout",
     "output_type": "stream",
     "text": [
      "(0.13510222503459188, 0.24139518895115797)\n",
      "(0.23054481171173902, 0.09350582615950968)\n",
      "(0.07521708733904117, 0.3538596668271351)\n",
      "(0.12022813233417001, 0.31097382930640116)\n",
      "(0.007646163257711391, 0.9429799774723818)\n"
     ]
    }
   ],
   "source": [
    "logo=LeaveOneGroupOut()\n",
    "for train_inds, test_inds in logo.split(X, y, g):\n",
    "    \n",
    "    lr=LinearRegression()\n",
    "    ss=StandardScaler()\n",
    "    lr.fit( ss.fit_transform( X[train_inds] ), y[train_inds])\n",
    "\n",
    "    baseline_r2s.append( r2_score(y[test_inds], \n",
    "                         lr.predict( ss.transform( X[test_inds]) )\n",
    "                         )\n",
    "              )\n",
    "    \n",
    "    basline_maes.append( mean_absolute_error(y[test_inds], \n",
    "                                    lr.predict( ss.transform( X[test_inds]) )\n",
    "                                    )\n",
    "                         )\n",
    "    \n",
    "    print(pearsonr(lr.predict( ss.transform( X[test_inds]) ), \n",
    "                   y[test_inds]))\n",
    "                              \n",
    "                              \n",
    "                        "
   ]
  },
  {
   "cell_type": "code",
   "execution_count": 199,
   "id": "adb61089",
   "metadata": {},
   "outputs": [
    {
     "data": {
      "text/plain": [
       "[6.185192800014198,\n",
       " 5.691127342250231,\n",
       " 4.684447566622338,\n",
       " 5.154906036635057,\n",
       " 3.5565411987525914]"
      ]
     },
     "execution_count": 199,
     "metadata": {},
     "output_type": "execute_result"
    }
   ],
   "source": [
    "basline_maes"
   ]
  },
  {
   "cell_type": "code",
   "execution_count": 205,
   "id": "b6c7766a",
   "metadata": {},
   "outputs": [
    {
     "data": {
      "text/plain": [
       "[-0.22766775096409253,\n",
       " -0.23295572735299452,\n",
       " -2.766883128094878,\n",
       " -0.2781069083136365,\n",
       " -0.9178718614381194]"
      ]
     },
     "execution_count": 205,
     "metadata": {},
     "output_type": "execute_result"
    }
   ],
   "source": [
    "baseline_r2s"
   ]
  },
  {
   "cell_type": "code",
   "execution_count": 204,
   "id": "cf98bf6b",
   "metadata": {},
   "outputs": [
    {
     "data": {
      "text/plain": [
       "[-0.14330595572433902,\n",
       " -0.2086582061365203,\n",
       " -10.443428041128476,\n",
       " -0.6293311756563931,\n",
       " -0.6654220604481169]"
      ]
     },
     "execution_count": 204,
     "metadata": {},
     "output_type": "execute_result"
    }
   ],
   "source": [
    "dmr_r2s"
   ]
  },
  {
   "cell_type": "code",
   "execution_count": 177,
   "id": "c82f7b11",
   "metadata": {},
   "outputs": [
    {
     "data": {
      "text/plain": [
       "[7.773100846811608,\n",
       " 3.0903485078267345,\n",
       " 7.507452365980676,\n",
       " 5.140802170745047,\n",
       " 3.7583424907637926]"
      ]
     },
     "execution_count": 177,
     "metadata": {},
     "output_type": "execute_result"
    }
   ],
   "source": [
    "dmr_maes"
   ]
  },
  {
   "cell_type": "code",
   "execution_count": 175,
   "id": "e40f9d31",
   "metadata": {},
   "outputs": [],
   "source": [
    "from dm_regression import DebiasMRegressor\n",
    "import torch"
   ]
  },
  {
   "cell_type": "code",
   "execution_count": 206,
   "id": "76dc8974",
   "metadata": {},
   "outputs": [
    {
     "data": {
      "text/plain": [
       "<module 'dm_regression' from '/Users/george/Desktop/DEBIAS-M-revisions/regression/dm_regression.py'>"
      ]
     },
     "execution_count": 206,
     "metadata": {},
     "output_type": "execute_result"
    }
   ],
   "source": [
    "import dm_regression\n",
    "import imp\n",
    "imp.reload(dm_regression)"
   ]
  },
  {
   "cell_type": "code",
   "execution_count": null,
   "id": "3c039afd",
   "metadata": {},
   "outputs": [
    {
     "name": "stderr",
     "output_type": "stream",
     "text": [
      "/Users/george/opt/anaconda3/envs/pl2/lib/python3.6/site-packages/pytorch_lightning/trainer/connectors/callback_connector.py:148: LightningDeprecationWarning: Setting `Trainer(checkpoint_callback=False)` is deprecated in v1.5 and will be removed in v1.7. Please consider using `Trainer(enable_checkpointing=False)`.\n",
      "  f\"Setting `Trainer(checkpoint_callback={checkpoint_callback})` is deprecated in v1.5 and will \"\n",
      "/Users/george/opt/anaconda3/envs/pl2/lib/python3.6/site-packages/pytorch_lightning/trainer/connectors/callback_connector.py:91: LightningDeprecationWarning: Setting `Trainer(progress_bar_refresh_rate=0)` is deprecated in v1.5 and will be removed in v1.7. Please pass `pytorch_lightning.callbacks.progress.TQDMProgressBar` with `refresh_rate` directly to the Trainer's `callbacks` argument instead. Or, to disable the progress bar pass `enable_progress_bar = False` to the Trainer.\n",
      "  f\"Setting `Trainer(progress_bar_refresh_rate={progress_bar_refresh_rate})` is deprecated in v1.5 and\"\n",
      "/Users/george/opt/anaconda3/envs/pl2/lib/python3.6/site-packages/pytorch_lightning/trainer/connectors/callback_connector.py:168: LightningDeprecationWarning: Setting `Trainer(weights_summary=None)` is deprecated in v1.5 and will be removed in v1.7. Please set `Trainer(enable_model_summary=False)` instead.\n",
      "  \"Setting `Trainer(weights_summary=None)` is deprecated in v1.5 and will be removed\"\n",
      "GPU available: False, used: False\n",
      "TPU available: False, using: 0 TPU cores\n",
      "IPU available: False, using: 0 IPUs\n",
      "/Users/george/opt/anaconda3/envs/pl2/lib/python3.6/site-packages/pytorch_lightning/trainer/data_loading.py:133: UserWarning: The dataloader, val_dataloader 0, does not have many workers which may be a bottleneck. Consider increasing the value of the `num_workers` argument` (try 8 which is the number of cpus on this machine) in the `DataLoader` init to improve performance.\n",
      "  f\"The dataloader, {name}, does not have many workers which may be a bottleneck.\"\n",
      "/Users/george/opt/anaconda3/envs/pl2/lib/python3.6/site-packages/pytorch_lightning/trainer/data_loading.py:133: UserWarning: The dataloader, train_dataloader, does not have many workers which may be a bottleneck. Consider increasing the value of the `num_workers` argument` (try 8 which is the number of cpus on this machine) in the `DataLoader` init to improve performance.\n",
      "  f\"The dataloader, {name}, does not have many workers which may be a bottleneck.\"\n"
     ]
    }
   ],
   "source": [
    "dmr_r2s=[]\n",
    "dmr_maes=[]\n",
    "\n",
    "logo=LeaveOneGroupOut()\n",
    "X_with_batch = pd.DataFrame( \n",
    "        np.hstack((pd.Categorical(g).codes[:, np.newaxis], X))\n",
    "                )\n",
    "\n",
    "\n",
    "for train_inds, test_inds in logo.split(X, y, g):\n",
    "    \n",
    "    dmr=dm_regression.DebiasMRegressor(x_val=X_with_batch.loc[test_inds])\n",
    "    \n",
    "    dmr.fit( X_with_batch.loc[train_inds], y[train_inds])\n",
    "\n",
    "    \n",
    "    preds = dmr.model.forward(  \n",
    "                    torch.Tensor( X_with_batch.values[test_inds] )\n",
    "                        ).detach().numpy()[:, 0]\n",
    "    \n",
    "    \n",
    "    dmr_r2s.append( r2_score(y[test_inds], \n",
    "                            preds\n",
    "                            )\n",
    "                 )\n",
    "    \n",
    "    \n",
    "    dmr_maes.append( mean_squared_error(y[test_inds], \n",
    "                              preds, \n",
    "                              squared=False\n",
    "                              )\n",
    "                     )\n",
    "    print(pearsonr(preds, y[test_inds]))\n",
    "    \n",
    "    print(dmr_r2s)\n",
    "    print(dmr_maes)"
   ]
  },
  {
   "cell_type": "markdown",
   "id": "8347d7c0",
   "metadata": {},
   "source": [
    "## $R^2$ predicting GA across callahan studies"
   ]
  },
  {
   "cell_type": "code",
   "execution_count": 13,
   "id": "d49c2383",
   "metadata": {},
   "outputs": [
    {
     "data": {
      "text/plain": [
       "[-3.8620364783067114,\n",
       " -0.5443727432671386,\n",
       " -0.13160641762085046,\n",
       " -0.2715519994094491,\n",
       " -0.7377209753390488,\n",
       " -8.009684792905578,\n",
       " -0.8193972254607236]"
      ]
     },
     "execution_count": 13,
     "metadata": {},
     "output_type": "execute_result"
    }
   ],
   "source": [
    "baseline_r2s"
   ]
  },
  {
   "cell_type": "code",
   "execution_count": 15,
   "id": "4fe62295",
   "metadata": {},
   "outputs": [
    {
     "data": {
      "text/plain": [
       "[-0.41013004826512733,\n",
       " -0.13622801869744205,\n",
       " 0.011127530163561716,\n",
       " 0.03893145466739156,\n",
       " -0.18093417425702207,\n",
       " -3.169278644386284,\n",
       " -0.10358140228036494]"
      ]
     },
     "execution_count": 15,
     "metadata": {},
     "output_type": "execute_result"
    }
   ],
   "source": [
    "dmr_r2s"
   ]
  },
  {
   "cell_type": "code",
   "execution_count": 31,
   "id": "53589039",
   "metadata": {},
   "outputs": [
    {
     "data": {
      "text/plain": [
       "[-0.580505319161398,\n",
       " -0.1397084500755228,\n",
       " 0.005370307892953341,\n",
       " 0.03592392345306039,\n",
       " -0.1861371756221264,\n",
       " -1.0047933451485593,\n",
       " -0.1067701366303071]"
      ]
     },
     "execution_count": 31,
     "metadata": {},
     "output_type": "execute_result"
    }
   ],
   "source": [
    "dmr_r2s"
   ]
  },
  {
   "cell_type": "code",
   "execution_count": 33,
   "id": "b329d546",
   "metadata": {},
   "outputs": [
    {
     "data": {
      "text/plain": [
       "[3.5017405518444575,\n",
       " 2.896580056143899,\n",
       " 3.0628013282420343,\n",
       " 2.3377922428508398,\n",
       " 5.818799688496591,\n",
       " 3.097422194816593,\n",
       " 4.811358761327527]"
      ]
     },
     "execution_count": 33,
     "metadata": {},
     "output_type": "execute_result"
    }
   ],
   "source": [
    "basline_maes"
   ]
  },
  {
   "cell_type": "code",
   "execution_count": 16,
   "id": "f957aebf",
   "metadata": {},
   "outputs": [
    {
     "data": {
      "text/plain": [
       "[2.723908154552283,\n",
       " 3.764126694248645,\n",
       " 4.499281093595764,\n",
       " 2.5397028447469125,\n",
       " 6.247523588844442,\n",
       " 5.23836418693433,\n",
       " 5.422539089300729]"
      ]
     },
     "execution_count": 16,
     "metadata": {},
     "output_type": "execute_result"
    }
   ],
   "source": [
    "dmr_maes"
   ]
  },
  {
   "cell_type": "code",
   "execution_count": 34,
   "id": "5895cca5",
   "metadata": {},
   "outputs": [
    {
     "data": {
      "text/plain": [
       "[2.883771578299892,\n",
       " 3.7698873194827405,\n",
       " 4.51235950818925,\n",
       " 2.5436735652792204,\n",
       " 6.261271242712365,\n",
       " 3.632453253549419,\n",
       " 5.430367494288953]"
      ]
     },
     "execution_count": 34,
     "metadata": {},
     "output_type": "execute_result"
    }
   ],
   "source": [
    "dmr_maes"
   ]
  },
  {
   "cell_type": "code",
   "execution_count": null,
   "id": "3a8b22a3",
   "metadata": {},
   "outputs": [],
   "source": []
  },
  {
   "cell_type": "code",
   "execution_count": null,
   "id": "fbb72907",
   "metadata": {},
   "outputs": [],
   "source": []
  },
  {
   "cell_type": "code",
   "execution_count": 14,
   "id": "18847552",
   "metadata": {},
   "outputs": [
    {
     "data": {
      "text/plain": [
       "[-0.5798678282820193,\n",
       " -0.5623683465287561,\n",
       " 0.10345825066133563,\n",
       " 0.04262904530484979,\n",
       " -0.17296911030840145,\n",
       " 0.00788405826544003,\n",
       " 0.0008211584468910127,\n",
       " -0.10417824163013845,\n",
       " 0.02566442005003855,\n",
       " -0.15372652803030884,\n",
       " -0.23188347764293482,\n",
       " 0.0036935825750579188]"
      ]
     },
     "execution_count": 14,
     "metadata": {},
     "output_type": "execute_result"
    }
   ],
   "source": [
    "baseline_r2s"
   ]
  },
  {
   "cell_type": "code",
   "execution_count": 18,
   "id": "6df4c460",
   "metadata": {},
   "outputs": [
    {
     "data": {
      "text/plain": [
       "[-0.8018687219252385,\n",
       " -0.5140659838634747,\n",
       " 0.10214866330691097,\n",
       " 0.033383985683151374,\n",
       " -0.15819848887914167,\n",
       " -0.0760404531812453,\n",
       " -0.02244206310963226,\n",
       " -0.07583327475507828,\n",
       " 0.03682999922734098,\n",
       " -0.1415439400461147,\n",
       " -0.3178227439146293,\n",
       " -0.08902950435412849]"
      ]
     },
     "execution_count": 18,
     "metadata": {},
     "output_type": "execute_result"
    }
   ],
   "source": [
    "dmr_r2s"
   ]
  },
  {
   "cell_type": "code",
   "execution_count": 16,
   "id": "f8e802e6",
   "metadata": {},
   "outputs": [
    {
     "data": {
      "text/plain": [
       "[2.309263509906451,\n",
       " 5.122540053580211,\n",
       " 2.509945467031046,\n",
       " 2.964627699889822,\n",
       " 3.063244999055785,\n",
       " 2.5867640664690295,\n",
       " 3.1644668452703186,\n",
       " 2.302546384682741,\n",
       " 2.788217338667817,\n",
       " 5.083175862309317,\n",
       " 2.0910159095255096,\n",
       " 3.422875085485177]"
      ]
     },
     "execution_count": 16,
     "metadata": {},
     "output_type": "execute_result"
    }
   ],
   "source": [
    "basline_maes"
   ]
  },
  {
   "cell_type": "code",
   "execution_count": 48,
   "id": "df7410dc",
   "metadata": {},
   "outputs": [
    {
     "data": {
      "text/plain": [
       "[2.460950157427712,\n",
       " 6.896492386119083,\n",
       " 3.5522558694041897,\n",
       " 4.5333147223777,\n",
       " 3.6208520534811797,\n",
       " 3.7853401159770783,\n",
       " 4.293509240208845,\n",
       " 2.72484763221637,\n",
       " 3.8139923555975295,\n",
       " 6.1084528004763525,\n",
       " 2.8586431805523804,\n",
       " 5.6530636115978]"
      ]
     },
     "execution_count": 48,
     "metadata": {},
     "output_type": "execute_result"
    }
   ],
   "source": [
    "dmr_maes"
   ]
  },
  {
   "cell_type": "code",
   "execution_count": null,
   "id": "359404d6",
   "metadata": {},
   "outputs": [],
   "source": []
  },
  {
   "cell_type": "code",
   "execution_count": null,
   "id": "530dadac",
   "metadata": {},
   "outputs": [],
   "source": []
  },
  {
   "cell_type": "code",
   "execution_count": 34,
   "id": "085b9e2c",
   "metadata": {},
   "outputs": [],
   "source": [
    "# y="
   ]
  },
  {
   "cell_type": "code",
   "execution_count": 15,
   "id": "1888f35f",
   "metadata": {},
   "outputs": [
    {
     "data": {
      "text/plain": [
       "1       35.3\n",
       "2       34.9\n",
       "3       36.4\n",
       "4       24.7\n",
       "5       35.3\n",
       "        ... \n",
       "2021    37.0\n",
       "2022    36.0\n",
       "2023    37.0\n",
       "2024    40.0\n",
       "2025    39.0\n",
       "Name: GAAD, Length: 2025, dtype: float64"
      ]
     },
     "execution_count": 15,
     "metadata": {},
     "output_type": "execute_result"
    }
   ],
   "source": [
    "md.GAAD"
   ]
  },
  {
   "cell_type": "code",
   "execution_count": null,
   "id": "da31a6b5",
   "metadata": {},
   "outputs": [],
   "source": []
  },
  {
   "cell_type": "code",
   "execution_count": null,
   "id": "3468eb09",
   "metadata": {},
   "outputs": [],
   "source": []
  },
  {
   "cell_type": "code",
   "execution_count": null,
   "id": "9f2e1030",
   "metadata": {},
   "outputs": [],
   "source": []
  },
  {
   "cell_type": "code",
   "execution_count": null,
   "id": "28f34c43",
   "metadata": {},
   "outputs": [],
   "source": []
  },
  {
   "cell_type": "code",
   "execution_count": null,
   "id": "69926e5e",
   "metadata": {},
   "outputs": [],
   "source": []
  }
 ],
 "metadata": {
  "kernelspec": {
   "display_name": "pl2",
   "language": "python",
   "name": "pl2"
  },
  "language_info": {
   "codemirror_mode": {
    "name": "ipython",
    "version": 3
   },
   "file_extension": ".py",
   "mimetype": "text/x-python",
   "name": "python",
   "nbconvert_exporter": "python",
   "pygments_lexer": "ipython3",
   "version": "3.6.15"
  }
 },
 "nbformat": 4,
 "nbformat_minor": 5
}
