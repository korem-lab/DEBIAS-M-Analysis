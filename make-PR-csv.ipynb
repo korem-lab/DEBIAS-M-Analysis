{
 "cells": [
  {
   "cell_type": "code",
   "execution_count": 1,
   "id": "5a74132f",
   "metadata": {},
   "outputs": [],
   "source": [
    "import numpy as np\n",
    "import pandas as pd\n",
    "import glob"
   ]
  },
  {
   "cell_type": "code",
   "execution_count": 141,
   "id": "0518705d",
   "metadata": {},
   "outputs": [],
   "source": [
    "pths=np.array( glob.glob('results/*/auroc-boxplot-linear.csv') )[np.array([0,1,3])]"
   ]
  },
  {
   "cell_type": "code",
   "execution_count": 142,
   "id": "fce23aa0",
   "metadata": {},
   "outputs": [],
   "source": [
    "pths = list(pths) + \\\n",
    "        ['new-cervix-carcinoma/cervix-all-new-data-with-all-methods-results.csv']"
   ]
  },
  {
   "cell_type": "code",
   "execution_count": 276,
   "id": "56e80f54",
   "metadata": {},
   "outputs": [
    {
     "name": "stdout",
     "output_type": "stream",
     "text": [
      "0\n",
      "1\n",
      "2\n",
      "3\n"
     ]
    }
   ],
   "source": [
    "res = [ pd.read_csv(a, index_col=0).assign(Task=a.split('/')[-2])\\\n",
    "              [['Group', 'Study', 'Task', 'auROC', 'auPR']]\n",
    "        for a in pths ]\n",
    "\n",
    "for i in range(len(res)):\n",
    "    print(i)\n",
    "    a=res[i]\n",
    "    \n",
    "    sds=list( a.loc[a.Study.isna()==False].Study.values ) \n",
    "    sds=[qq for qq in sds \n",
    "                     if qq not in ['Villar-Garcia',\n",
    "                                   'Perez-Santiago']]\n",
    "    a['Study'] = sds \\\n",
    "                    * int( a.shape[0]/len(sds) )\n",
    "    res[i]=a\n",
    "    \n",
    "res=pd.concat(res)\n",
    "res.loc[res.Task=='new-cervix-carcinoma', 'Task'] = 'Cervix-carcinoma'\n",
    "res['Study - Task'] = res.Task + ' - ' + res['Study']\n",
    "res['pivot_col']=1"
   ]
  },
  {
   "cell_type": "code",
   "execution_count": 146,
   "id": "24a09fbf",
   "metadata": {},
   "outputs": [],
   "source": [
    "pd.set_option('display.precision', 2)"
   ]
  },
  {
   "cell_type": "code",
   "execution_count": 277,
   "id": "8756bce3",
   "metadata": {},
   "outputs": [],
   "source": [
    "import sys\n",
    "sys.path.append('v1-DEBIAS-M-Analysis/General_functions/')\n",
    "import data_loading\n",
    "\n",
    "_, md1 = data_loading.load_CRC('data/CRC/')\n",
    "_, md2 = data_loading.load_HIVRC('data/HIVRC/')\n",
    "md3 = pd.read_csv('data/Cervix/metadata.csv', index_col=0)\n",
    "\n",
    "md4 = pd.read_csv('new-cervix-carcinoma/processed-full-metadata.csv', index_col=0)\n",
    "md4 = md4.loc[md4.Study.isin(md4.loc[md4.label==1].Study.unique())]\n",
    "md2 = md2.loc[md2.Study.isin(md2.loc[md2.label==1].Study.unique())]\n",
    "\n",
    "\n",
    "md1['Study'] = 'CRC - '+md1['Study']\n",
    "md2['Study'] = 'HIVRC - '+md2['Study']\n",
    "md3['Study'] = 'Cervix-CIN - '+md3['Study']\n",
    "md4['Study'] = 'Cervix-carcinoma - '+md4['Study']\n",
    "\n",
    "class_balances = pd.concat([a.groupby('Study')['label'].mean().reset_index()\n",
    "                           for a in [md1, md2, md3, md4] ], \n",
    "                          axis=0 )\n",
    "\n",
    "class_balances.columns = ['Study', 'Class balance']\n",
    "class_balances=class_balances.set_index('Study')"
   ]
  },
  {
   "cell_type": "code",
   "execution_count": 229,
   "id": "fe0e43ca",
   "metadata": {},
   "outputs": [],
   "source": [
    "f6c['Group']=f6c['method']"
   ]
  },
  {
   "cell_type": "code",
   "execution_count": 281,
   "id": "c8dbe821",
   "metadata": {},
   "outputs": [],
   "source": [
    "f6a=pd.read_csv('new-cervix-carcinoma/carcinma-RF-performance.csv', \n",
    "               index_col=0)\n",
    "\n",
    "f6a['Study - Task'] = 'Cervix-carcinoma - ' + f6a['Test batch']\n",
    "f6a['Group'] = f6a['model']\n",
    "f6a['Study'] = f6a['Test batch']\n",
    "# res.loc[res.Task=='new-cervix-carcinoma', 'Task'] = 'Cervix-carcinoma'"
   ]
  },
  {
   "cell_type": "code",
   "execution_count": 285,
   "id": "fcddec1e",
   "metadata": {},
   "outputs": [],
   "source": [
    "def highlight_max(s, props=''):\n",
    "    return #np.where(s == np.nanmax(s.values), props, '')\n",
    "\n",
    "\n",
    "pd.concat([res, f6c, f6a]).dropna(axis=1)\\\n",
    "    .pivot(index='Study - Task', \n",
    "      columns='Group',#'auROC', 'auPR'],\n",
    "      values='auPR')[col_order + ['Random Forest Tuned', \n",
    "                                  'DEBIAS-M into RF Tuned'] ]\\\n",
    "    .merge(class_balances, \n",
    "                  left_index=True, \n",
    "                  right_index=True)\\\n",
    "        [ col_order + ['Class balance'] +\\\n",
    "                 ['Random Forest Tuned', \n",
    "                  'DEBIAS-M into RF Tuned'] ]\\\n",
    "    .style\\\n",
    "    .background_gradient(axis=1, \n",
    "                        )\\\n",
    "            .to_excel('results/precision-recalls.xlsx')"
   ]
  },
  {
   "cell_type": "code",
   "execution_count": 172,
   "id": "9a02326c",
   "metadata": {},
   "outputs": [
    {
     "data": {
      "text/plain": [
       "['results/Cervix-CIN/auroc-boxplot-linear.csv',\n",
       " 'results/Cervix-CIN/CIN-random-forest-predictions.csv',\n",
       " 'results/Cervix-CIN/auroc-clr-boxplot-linear.csv']"
      ]
     },
     "execution_count": 172,
     "metadata": {},
     "output_type": "execute_result"
    }
   ],
   "source": [
    "import glob\n",
    "from sklearn.metrics import average_precision_score\n",
    "glob.glob('results/Cervix-CIN/*.csv')"
   ]
  },
  {
   "cell_type": "code",
   "execution_count": 175,
   "id": "c3a02e25",
   "metadata": {},
   "outputs": [],
   "source": [
    "aa = pd.read_csv('results/Cervix-CIN/CIN-random-forest-predictions.csv',\n",
    "                 index_col=0)"
   ]
  },
  {
   "cell_type": "code",
   "execution_count": 222,
   "id": "1bc6ede9",
   "metadata": {},
   "outputs": [],
   "source": [
    "f6c=pd.DataFrame(\n",
    "    [(b,method, \n",
    "  average_precision_score( \n",
    "          aa.loc[(aa.model==method)&\\\n",
    "                                 (aa.test_batch==b)]['True'],\n",
    "          aa.loc[(aa.model==method)&\\\n",
    "                                 (aa.test_batch==b)]['Pred'] ) )\n",
    "      for b in aa.test_batch.unique()\n",
    "  for method in aa['model'].unique() ], \n",
    "    columns=['Test study' , 'method', 'auPR']\n",
    "             )\n",
    "\n",
    "f6c['Study - Task'] = 'Cervix-CIN - ' + f6c['Test study']"
   ]
  },
  {
   "cell_type": "code",
   "execution_count": 169,
   "id": "652cb000",
   "metadata": {},
   "outputs": [],
   "source": [
    "res.pivot(index='Study - Task', \n",
    "      columns='Group',#'auROC', 'auPR'],\n",
    "      values='auPR')[col_order]\\\n",
    "    .merge(class_balances, \n",
    "                  left_index=True, \n",
    "                  right_index=True)\\\n",
    "    .style\\\n",
    "    .background_gradient(axis=1, \n",
    "                        ).to_excel('results/precision-recalls.xlsx')"
   ]
  },
  {
   "cell_type": "code",
   "execution_count": 170,
   "id": "1c91b023",
   "metadata": {},
   "outputs": [],
   "source": [
    "res.pivot(index='Study - Task', \n",
    "      columns='Group',#'auROC', 'auPR'],\n",
    "      values='auROC')[col_order]\\\n",
    "    .merge(class_balances, \n",
    "                  left_index=True, \n",
    "                  right_index=True)\\\n",
    "    .style\\\n",
    "    .background_gradient(axis=1, \n",
    "                        subset=col_order,\n",
    "                        ).to_excel('results/all-auROCs.xlsx')"
   ]
  }
 ],
 "metadata": {
  "kernelspec": {
   "display_name": "pl2",
   "language": "python",
   "name": "pl2"
  },
  "language_info": {
   "codemirror_mode": {
    "name": "ipython",
    "version": 3
   },
   "file_extension": ".py",
   "mimetype": "text/x-python",
   "name": "python",
   "nbconvert_exporter": "python",
   "pygments_lexer": "ipython3",
   "version": "3.6.15"
  }
 },
 "nbformat": 4,
 "nbformat_minor": 5
}
