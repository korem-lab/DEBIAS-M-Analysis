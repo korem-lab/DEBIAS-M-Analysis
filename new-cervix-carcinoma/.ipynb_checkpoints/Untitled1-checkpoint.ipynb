{
 "cells": [
  {
   "cell_type": "code",
   "execution_count": 1,
   "id": "f7f51303",
   "metadata": {},
   "outputs": [],
   "source": [
    "\n",
    "\n",
    "import numpy as np\n",
    "import pandas as pd\n",
    "from debiasm import DebiasMClassifier\n",
    "import matplotlib.pyplot as plt\n",
    "import seaborn as sns\n",
    "from sklearn.linear_model import LogisticRegression\n",
    "from sklearn.metrics import roc_auc_score\n",
    "import sys\n",
    "sys.path.append('../v1-DEBIAS-M-Analysis/')\n",
    "sys.path.append('../v1-DEBIAS-M-Analysis/General_functions')\n",
    "from General_functions import data_loading, plotting\n",
    "from sklearn.model_selection import LeaveOneGroupOut, cross_val_score\n",
    "from sklearn.preprocessing import StandardScaler\n",
    "from debiasm.torch_functions import rescale\n",
    "import torch\n",
    "import os\n",
    "\n",
    "def batch_weight_feature_and_nbatchpairs_scaling(strength, df_with_batch):\n",
    "    nbs = df_with_batch.iloc[:, 0].nunique()\n",
    "    w = nbs * (nbs - 1) / 2\n",
    "    return(strength /( w * ( df_with_batch.shape[1] - 1 ) ) )\n",
    "\n",
    "def flatten(l):\n",
    "    return [item for sublist in l for item in sublist]\n",
    "\n",
    "from all_classification_pipelines import run_predictions\n",
    "\n",
    "    "
   ]
  },
  {
   "cell_type": "code",
   "execution_count": 59,
   "id": "9ea4a0f2",
   "metadata": {},
   "outputs": [],
   "source": [
    "# df_with_batch.iloc[:, 0].value_counts()"
   ]
  },
  {
   "cell_type": "code",
   "execution_count": 60,
   "id": "a2cc2364",
   "metadata": {},
   "outputs": [],
   "source": [
    "# md.shape"
   ]
  },
  {
   "cell_type": "code",
   "execution_count": 4,
   "id": "ec1b8dd6",
   "metadata": {},
   "outputs": [
    {
     "name": "stderr",
     "output_type": "stream",
     "text": [
      "/Users/george/opt/anaconda3/envs/pl2/lib/python3.6/site-packages/pytorch_lightning/trainer/connectors/callback_connector.py:168: LightningDeprecationWarning: Setting `Trainer(weights_summary=None)` is deprecated in v1.5 and will be removed in v1.7. Please set `Trainer(enable_model_summary=False)` instead.\n",
      "  \"Setting `Trainer(weights_summary=None)` is deprecated in v1.5 and will be removed\"\n",
      "GPU available: False, used: False\n",
      "TPU available: False, using: 0 TPU cores\n",
      "IPU available: False, using: 0 IPUs\n"
     ]
    },
    {
     "name": "stdout",
     "output_type": "stream",
     "text": [
      "(423, 503)\n",
      "[] [] [] [] [] [] [] []\n"
     ]
    },
    {
     "data": {
      "application/vnd.jupyter.widget-view+json": {
       "model_id": "",
       "version_major": 2,
       "version_minor": 0
      },
      "text/plain": [
       "Validation sanity check: 0it [00:00, ?it/s]"
      ]
     },
     "metadata": {},
     "output_type": "display_data"
    },
    {
     "name": "stderr",
     "output_type": "stream",
     "text": [
      "/Users/george/opt/anaconda3/envs/pl2/lib/python3.6/site-packages/pytorch_lightning/trainer/data_loading.py:133: UserWarning: The dataloader, val_dataloader 0, does not have many workers which may be a bottleneck. Consider increasing the value of the `num_workers` argument` (try 8 which is the number of cpus on this machine) in the `DataLoader` init to improve performance.\n",
      "  f\"The dataloader, {name}, does not have many workers which may be a bottleneck.\"\n",
      "/Users/george/opt/anaconda3/envs/pl2/lib/python3.6/site-packages/SBCMP/__init__.py:78: UserWarning: Implicit dimension choice for softmax has been deprecated. Change the call to include dim=X as an argument.\n",
      "  y_hat = softmax(x)\n",
      "/Users/george/opt/anaconda3/envs/pl2/lib/python3.6/site-packages/pytorch_lightning/trainer/data_loading.py:133: UserWarning: The dataloader, train_dataloader, does not have many workers which may be a bottleneck. Consider increasing the value of the `num_workers` argument` (try 8 which is the number of cpus on this machine) in the `DataLoader` init to improve performance.\n",
      "  f\"The dataloader, {name}, does not have many workers which may be a bottleneck.\"\n",
      "/Users/george/opt/anaconda3/envs/pl2/lib/python3.6/site-packages/pytorch_lightning/trainer/data_loading.py:433: UserWarning: The number of training samples (23) is smaller than the logging interval Trainer(log_every_n_steps=50). Set a lower value for log_every_n_steps if you want to see logs for the training epoch.\n",
      "  f\"The number of training samples ({self.num_training_batches}) is smaller than the logging interval\"\n"
     ]
    },
    {
     "data": {
      "application/vnd.jupyter.widget-view+json": {
       "model_id": "9d8c8971c0954f7e9523f1664896749f",
       "version_major": 2,
       "version_minor": 0
      },
      "text/plain": [
       "Training: 0it [00:00, ?it/s]"
      ]
     },
     "metadata": {},
     "output_type": "display_data"
    },
    {
     "data": {
      "application/vnd.jupyter.widget-view+json": {
       "model_id": "",
       "version_major": 2,
       "version_minor": 0
      },
      "text/plain": [
       "Validating: 0it [00:00, ?it/s]"
      ]
     },
     "metadata": {},
     "output_type": "display_data"
    },
    {
     "data": {
      "application/vnd.jupyter.widget-view+json": {
       "model_id": "",
       "version_major": 2,
       "version_minor": 0
      },
      "text/plain": [
       "Validating: 0it [00:00, ?it/s]"
      ]
     },
     "metadata": {},
     "output_type": "display_data"
    },
    {
     "data": {
      "application/vnd.jupyter.widget-view+json": {
       "model_id": "",
       "version_major": 2,
       "version_minor": 0
      },
      "text/plain": [
       "Validating: 0it [00:00, ?it/s]"
      ]
     },
     "metadata": {},
     "output_type": "display_data"
    },
    {
     "data": {
      "application/vnd.jupyter.widget-view+json": {
       "model_id": "",
       "version_major": 2,
       "version_minor": 0
      },
      "text/plain": [
       "Validating: 0it [00:00, ?it/s]"
      ]
     },
     "metadata": {},
     "output_type": "display_data"
    },
    {
     "data": {
      "application/vnd.jupyter.widget-view+json": {
       "model_id": "",
       "version_major": 2,
       "version_minor": 0
      },
      "text/plain": [
       "Validating: 0it [00:00, ?it/s]"
      ]
     },
     "metadata": {},
     "output_type": "display_data"
    },
    {
     "data": {
      "application/vnd.jupyter.widget-view+json": {
       "model_id": "",
       "version_major": 2,
       "version_minor": 0
      },
      "text/plain": [
       "Validating: 0it [00:00, ?it/s]"
      ]
     },
     "metadata": {},
     "output_type": "display_data"
    },
    {
     "data": {
      "application/vnd.jupyter.widget-view+json": {
       "model_id": "",
       "version_major": 2,
       "version_minor": 0
      },
      "text/plain": [
       "Validating: 0it [00:00, ?it/s]"
      ]
     },
     "metadata": {},
     "output_type": "display_data"
    },
    {
     "data": {
      "application/vnd.jupyter.widget-view+json": {
       "model_id": "",
       "version_major": 2,
       "version_minor": 0
      },
      "text/plain": [
       "Validating: 0it [00:00, ?it/s]"
      ]
     },
     "metadata": {},
     "output_type": "display_data"
    },
    {
     "data": {
      "application/vnd.jupyter.widget-view+json": {
       "model_id": "",
       "version_major": 2,
       "version_minor": 0
      },
      "text/plain": [
       "Validating: 0it [00:00, ?it/s]"
      ]
     },
     "metadata": {},
     "output_type": "display_data"
    },
    {
     "data": {
      "application/vnd.jupyter.widget-view+json": {
       "model_id": "",
       "version_major": 2,
       "version_minor": 0
      },
      "text/plain": [
       "Validating: 0it [00:00, ?it/s]"
      ]
     },
     "metadata": {},
     "output_type": "display_data"
    },
    {
     "data": {
      "application/vnd.jupyter.widget-view+json": {
       "model_id": "",
       "version_major": 2,
       "version_minor": 0
      },
      "text/plain": [
       "Validating: 0it [00:00, ?it/s]"
      ]
     },
     "metadata": {},
     "output_type": "display_data"
    },
    {
     "data": {
      "application/vnd.jupyter.widget-view+json": {
       "model_id": "",
       "version_major": 2,
       "version_minor": 0
      },
      "text/plain": [
       "Validating: 0it [00:00, ?it/s]"
      ]
     },
     "metadata": {},
     "output_type": "display_data"
    },
    {
     "data": {
      "application/vnd.jupyter.widget-view+json": {
       "model_id": "",
       "version_major": 2,
       "version_minor": 0
      },
      "text/plain": [
       "Validating: 0it [00:00, ?it/s]"
      ]
     },
     "metadata": {},
     "output_type": "display_data"
    },
    {
     "data": {
      "application/vnd.jupyter.widget-view+json": {
       "model_id": "",
       "version_major": 2,
       "version_minor": 0
      },
      "text/plain": [
       "Validating: 0it [00:00, ?it/s]"
      ]
     },
     "metadata": {},
     "output_type": "display_data"
    },
    {
     "data": {
      "application/vnd.jupyter.widget-view+json": {
       "model_id": "",
       "version_major": 2,
       "version_minor": 0
      },
      "text/plain": [
       "Validating: 0it [00:00, ?it/s]"
      ]
     },
     "metadata": {},
     "output_type": "display_data"
    },
    {
     "data": {
      "application/vnd.jupyter.widget-view+json": {
       "model_id": "",
       "version_major": 2,
       "version_minor": 0
      },
      "text/plain": [
       "Validating: 0it [00:00, ?it/s]"
      ]
     },
     "metadata": {},
     "output_type": "display_data"
    },
    {
     "data": {
      "application/vnd.jupyter.widget-view+json": {
       "model_id": "",
       "version_major": 2,
       "version_minor": 0
      },
      "text/plain": [
       "Validating: 0it [00:00, ?it/s]"
      ]
     },
     "metadata": {},
     "output_type": "display_data"
    },
    {
     "data": {
      "application/vnd.jupyter.widget-view+json": {
       "model_id": "",
       "version_major": 2,
       "version_minor": 0
      },
      "text/plain": [
       "Validating: 0it [00:00, ?it/s]"
      ]
     },
     "metadata": {},
     "output_type": "display_data"
    },
    {
     "name": "stderr",
     "output_type": "stream",
     "text": [
      "/Users/george/opt/anaconda3/envs/pl2/lib/python3.6/site-packages/SBCMP/__init__.py:25: FutureWarning: Support for multi-dimensional indexing (e.g. `obj[:, None]`) is deprecated and will be removed in a future version.  Convert to a numpy array before indexing instead.\n",
      "  return(xx/xx.sum(axis=1)[:, np.newaxis] )\n",
      "/Users/george/opt/anaconda3/envs/pl2/lib/python3.6/site-packages/SBCMP/__init__.py:25: FutureWarning: Support for multi-dimensional indexing (e.g. `obj[:, None]`) is deprecated and will be removed in a future version.  Convert to a numpy array before indexing instead.\n",
      "  return(xx/xx.sum(axis=1)[:, np.newaxis] )\n",
      "/Users/george/opt/anaconda3/envs/pl2/lib/python3.6/site-packages/pytorch_lightning/trainer/connectors/callback_connector.py:168: LightningDeprecationWarning: Setting `Trainer(weights_summary=None)` is deprecated in v1.5 and will be removed in v1.7. Please set `Trainer(enable_model_summary=False)` instead.\n",
      "  \"Setting `Trainer(weights_summary=None)` is deprecated in v1.5 and will be removed\"\n",
      "GPU available: False, used: False\n",
      "TPU available: False, using: 0 TPU cores\n",
      "IPU available: False, using: 0 IPUs\n"
     ]
    },
    {
     "name": "stdout",
     "output_type": "stream",
     "text": [
      "[0.6309523809523809] [0.8511904761904762] [0.42857142857142855] [0.5] [0.5119047619047619] [0.5297619047619048] [0.7291666666666667] [0.5]\n",
      "[0.6309523809523809] [0.8511904761904762] [0.42857142857142855] [0.5] [0.5119047619047619] [0.5297619047619048] [0.7291666666666667] [0.5]\n",
      "[0.6309523809523809] [0.8511904761904762] [0.42857142857142855] [0.5] [0.5119047619047619] [0.5297619047619048] [0.7291666666666667] [0.5]\n",
      "[0.6309523809523809] [0.8511904761904762] [0.42857142857142855] [0.5] [0.5119047619047619] [0.5297619047619048] [0.7291666666666667] [0.5]\n"
     ]
    },
    {
     "data": {
      "application/vnd.jupyter.widget-view+json": {
       "model_id": "",
       "version_major": 2,
       "version_minor": 0
      },
      "text/plain": [
       "Validation sanity check: 0it [00:00, ?it/s]"
      ]
     },
     "metadata": {},
     "output_type": "display_data"
    },
    {
     "name": "stderr",
     "output_type": "stream",
     "text": [
      "/Users/george/opt/anaconda3/envs/pl2/lib/python3.6/site-packages/pytorch_lightning/trainer/data_loading.py:133: UserWarning: The dataloader, val_dataloader 0, does not have many workers which may be a bottleneck. Consider increasing the value of the `num_workers` argument` (try 8 which is the number of cpus on this machine) in the `DataLoader` init to improve performance.\n",
      "  f\"The dataloader, {name}, does not have many workers which may be a bottleneck.\"\n",
      "/Users/george/opt/anaconda3/envs/pl2/lib/python3.6/site-packages/SBCMP/__init__.py:78: UserWarning: Implicit dimension choice for softmax has been deprecated. Change the call to include dim=X as an argument.\n",
      "  y_hat = softmax(x)\n",
      "/Users/george/opt/anaconda3/envs/pl2/lib/python3.6/site-packages/pytorch_lightning/trainer/data_loading.py:133: UserWarning: The dataloader, train_dataloader, does not have many workers which may be a bottleneck. Consider increasing the value of the `num_workers` argument` (try 8 which is the number of cpus on this machine) in the `DataLoader` init to improve performance.\n",
      "  f\"The dataloader, {name}, does not have many workers which may be a bottleneck.\"\n",
      "/Users/george/opt/anaconda3/envs/pl2/lib/python3.6/site-packages/pytorch_lightning/trainer/data_loading.py:433: UserWarning: The number of training samples (20) is smaller than the logging interval Trainer(log_every_n_steps=50). Set a lower value for log_every_n_steps if you want to see logs for the training epoch.\n",
      "  f\"The number of training samples ({self.num_training_batches}) is smaller than the logging interval\"\n"
     ]
    },
    {
     "data": {
      "application/vnd.jupyter.widget-view+json": {
       "model_id": "c9529b339bdc454ba46b55070707e25c",
       "version_major": 2,
       "version_minor": 0
      },
      "text/plain": [
       "Training: 0it [00:00, ?it/s]"
      ]
     },
     "metadata": {},
     "output_type": "display_data"
    },
    {
     "data": {
      "application/vnd.jupyter.widget-view+json": {
       "model_id": "",
       "version_major": 2,
       "version_minor": 0
      },
      "text/plain": [
       "Validating: 0it [00:00, ?it/s]"
      ]
     },
     "metadata": {},
     "output_type": "display_data"
    },
    {
     "data": {
      "application/vnd.jupyter.widget-view+json": {
       "model_id": "",
       "version_major": 2,
       "version_minor": 0
      },
      "text/plain": [
       "Validating: 0it [00:00, ?it/s]"
      ]
     },
     "metadata": {},
     "output_type": "display_data"
    },
    {
     "data": {
      "application/vnd.jupyter.widget-view+json": {
       "model_id": "",
       "version_major": 2,
       "version_minor": 0
      },
      "text/plain": [
       "Validating: 0it [00:00, ?it/s]"
      ]
     },
     "metadata": {},
     "output_type": "display_data"
    },
    {
     "data": {
      "application/vnd.jupyter.widget-view+json": {
       "model_id": "",
       "version_major": 2,
       "version_minor": 0
      },
      "text/plain": [
       "Validating: 0it [00:00, ?it/s]"
      ]
     },
     "metadata": {},
     "output_type": "display_data"
    },
    {
     "data": {
      "application/vnd.jupyter.widget-view+json": {
       "model_id": "",
       "version_major": 2,
       "version_minor": 0
      },
      "text/plain": [
       "Validating: 0it [00:00, ?it/s]"
      ]
     },
     "metadata": {},
     "output_type": "display_data"
    },
    {
     "data": {
      "application/vnd.jupyter.widget-view+json": {
       "model_id": "",
       "version_major": 2,
       "version_minor": 0
      },
      "text/plain": [
       "Validating: 0it [00:00, ?it/s]"
      ]
     },
     "metadata": {},
     "output_type": "display_data"
    },
    {
     "data": {
      "application/vnd.jupyter.widget-view+json": {
       "model_id": "",
       "version_major": 2,
       "version_minor": 0
      },
      "text/plain": [
       "Validating: 0it [00:00, ?it/s]"
      ]
     },
     "metadata": {},
     "output_type": "display_data"
    },
    {
     "data": {
      "application/vnd.jupyter.widget-view+json": {
       "model_id": "",
       "version_major": 2,
       "version_minor": 0
      },
      "text/plain": [
       "Validating: 0it [00:00, ?it/s]"
      ]
     },
     "metadata": {},
     "output_type": "display_data"
    },
    {
     "data": {
      "application/vnd.jupyter.widget-view+json": {
       "model_id": "",
       "version_major": 2,
       "version_minor": 0
      },
      "text/plain": [
       "Validating: 0it [00:00, ?it/s]"
      ]
     },
     "metadata": {},
     "output_type": "display_data"
    },
    {
     "data": {
      "application/vnd.jupyter.widget-view+json": {
       "model_id": "",
       "version_major": 2,
       "version_minor": 0
      },
      "text/plain": [
       "Validating: 0it [00:00, ?it/s]"
      ]
     },
     "metadata": {},
     "output_type": "display_data"
    },
    {
     "data": {
      "application/vnd.jupyter.widget-view+json": {
       "model_id": "",
       "version_major": 2,
       "version_minor": 0
      },
      "text/plain": [
       "Validating: 0it [00:00, ?it/s]"
      ]
     },
     "metadata": {},
     "output_type": "display_data"
    },
    {
     "name": "stderr",
     "output_type": "stream",
     "text": [
      "Trainer was signaled to stop but required minimum epochs (25) or minimum steps (None) has not been met. Training will continue...\n"
     ]
    },
    {
     "data": {
      "application/vnd.jupyter.widget-view+json": {
       "model_id": "",
       "version_major": 2,
       "version_minor": 0
      },
      "text/plain": [
       "Validating: 0it [00:00, ?it/s]"
      ]
     },
     "metadata": {},
     "output_type": "display_data"
    },
    {
     "name": "stderr",
     "output_type": "stream",
     "text": [
      "Trainer was signaled to stop but required minimum epochs (25) or minimum steps (None) has not been met. Training will continue...\n"
     ]
    },
    {
     "data": {
      "application/vnd.jupyter.widget-view+json": {
       "model_id": "",
       "version_major": 2,
       "version_minor": 0
      },
      "text/plain": [
       "Validating: 0it [00:00, ?it/s]"
      ]
     },
     "metadata": {},
     "output_type": "display_data"
    },
    {
     "name": "stderr",
     "output_type": "stream",
     "text": [
      "/Users/george/opt/anaconda3/envs/pl2/lib/python3.6/site-packages/SBCMP/__init__.py:25: FutureWarning: Support for multi-dimensional indexing (e.g. `obj[:, None]`) is deprecated and will be removed in a future version.  Convert to a numpy array before indexing instead.\n",
      "  return(xx/xx.sum(axis=1)[:, np.newaxis] )\n",
      "/Users/george/opt/anaconda3/envs/pl2/lib/python3.6/site-packages/SBCMP/__init__.py:25: FutureWarning: Support for multi-dimensional indexing (e.g. `obj[:, None]`) is deprecated and will be removed in a future version.  Convert to a numpy array before indexing instead.\n",
      "  return(xx/xx.sum(axis=1)[:, np.newaxis] )\n",
      "/Users/george/opt/anaconda3/envs/pl2/lib/python3.6/site-packages/pytorch_lightning/trainer/connectors/callback_connector.py:168: LightningDeprecationWarning: Setting `Trainer(weights_summary=None)` is deprecated in v1.5 and will be removed in v1.7. Please set `Trainer(enable_model_summary=False)` instead.\n",
      "  \"Setting `Trainer(weights_summary=None)` is deprecated in v1.5 and will be removed\"\n",
      "GPU available: False, used: False\n",
      "TPU available: False, using: 0 TPU cores\n",
      "IPU available: False, using: 0 IPUs\n"
     ]
    },
    {
     "name": "stdout",
     "output_type": "stream",
     "text": [
      "[0.6309523809523809, 0.5776119402985074] [0.8511904761904762, 0.691044776119403] [0.42857142857142855, 0.47761194029850745] [0.5, 0.5] [0.5119047619047619, 0.4447761194029851] [0.5297619047619048, 0.6014925373134328] [0.7291666666666667, 0.6253731343283582] [0.5, 0.5]\n"
     ]
    },
    {
     "data": {
      "application/vnd.jupyter.widget-view+json": {
       "model_id": "",
       "version_major": 2,
       "version_minor": 0
      },
      "text/plain": [
       "Validation sanity check: 0it [00:00, ?it/s]"
      ]
     },
     "metadata": {},
     "output_type": "display_data"
    },
    {
     "name": "stderr",
     "output_type": "stream",
     "text": [
      "/Users/george/opt/anaconda3/envs/pl2/lib/python3.6/site-packages/pytorch_lightning/trainer/data_loading.py:133: UserWarning: The dataloader, val_dataloader 0, does not have many workers which may be a bottleneck. Consider increasing the value of the `num_workers` argument` (try 8 which is the number of cpus on this machine) in the `DataLoader` init to improve performance.\n",
      "  f\"The dataloader, {name}, does not have many workers which may be a bottleneck.\"\n",
      "/Users/george/opt/anaconda3/envs/pl2/lib/python3.6/site-packages/SBCMP/__init__.py:78: UserWarning: Implicit dimension choice for softmax has been deprecated. Change the call to include dim=X as an argument.\n",
      "  y_hat = softmax(x)\n",
      "/Users/george/opt/anaconda3/envs/pl2/lib/python3.6/site-packages/pytorch_lightning/trainer/data_loading.py:133: UserWarning: The dataloader, train_dataloader, does not have many workers which may be a bottleneck. Consider increasing the value of the `num_workers` argument` (try 8 which is the number of cpus on this machine) in the `DataLoader` init to improve performance.\n",
      "  f\"The dataloader, {name}, does not have many workers which may be a bottleneck.\"\n",
      "/Users/george/opt/anaconda3/envs/pl2/lib/python3.6/site-packages/pytorch_lightning/trainer/data_loading.py:433: UserWarning: The number of training samples (22) is smaller than the logging interval Trainer(log_every_n_steps=50). Set a lower value for log_every_n_steps if you want to see logs for the training epoch.\n",
      "  f\"The number of training samples ({self.num_training_batches}) is smaller than the logging interval\"\n"
     ]
    },
    {
     "data": {
      "application/vnd.jupyter.widget-view+json": {
       "model_id": "6627d1915335432da397272586f85798",
       "version_major": 2,
       "version_minor": 0
      },
      "text/plain": [
       "Training: 0it [00:00, ?it/s]"
      ]
     },
     "metadata": {},
     "output_type": "display_data"
    },
    {
     "data": {
      "application/vnd.jupyter.widget-view+json": {
       "model_id": "",
       "version_major": 2,
       "version_minor": 0
      },
      "text/plain": [
       "Validating: 0it [00:00, ?it/s]"
      ]
     },
     "metadata": {},
     "output_type": "display_data"
    },
    {
     "data": {
      "application/vnd.jupyter.widget-view+json": {
       "model_id": "",
       "version_major": 2,
       "version_minor": 0
      },
      "text/plain": [
       "Validating: 0it [00:00, ?it/s]"
      ]
     },
     "metadata": {},
     "output_type": "display_data"
    },
    {
     "data": {
      "application/vnd.jupyter.widget-view+json": {
       "model_id": "",
       "version_major": 2,
       "version_minor": 0
      },
      "text/plain": [
       "Validating: 0it [00:00, ?it/s]"
      ]
     },
     "metadata": {},
     "output_type": "display_data"
    },
    {
     "data": {
      "application/vnd.jupyter.widget-view+json": {
       "model_id": "",
       "version_major": 2,
       "version_minor": 0
      },
      "text/plain": [
       "Validating: 0it [00:00, ?it/s]"
      ]
     },
     "metadata": {},
     "output_type": "display_data"
    },
    {
     "data": {
      "application/vnd.jupyter.widget-view+json": {
       "model_id": "",
       "version_major": 2,
       "version_minor": 0
      },
      "text/plain": [
       "Validating: 0it [00:00, ?it/s]"
      ]
     },
     "metadata": {},
     "output_type": "display_data"
    },
    {
     "data": {
      "application/vnd.jupyter.widget-view+json": {
       "model_id": "",
       "version_major": 2,
       "version_minor": 0
      },
      "text/plain": [
       "Validating: 0it [00:00, ?it/s]"
      ]
     },
     "metadata": {},
     "output_type": "display_data"
    },
    {
     "data": {
      "application/vnd.jupyter.widget-view+json": {
       "model_id": "",
       "version_major": 2,
       "version_minor": 0
      },
      "text/plain": [
       "Validating: 0it [00:00, ?it/s]"
      ]
     },
     "metadata": {},
     "output_type": "display_data"
    },
    {
     "name": "stderr",
     "output_type": "stream",
     "text": [
      "Trainer was signaled to stop but required minimum epochs (25) or minimum steps (None) has not been met. Training will continue...\n"
     ]
    },
    {
     "data": {
      "application/vnd.jupyter.widget-view+json": {
       "model_id": "",
       "version_major": 2,
       "version_minor": 0
      },
      "text/plain": [
       "Validating: 0it [00:00, ?it/s]"
      ]
     },
     "metadata": {},
     "output_type": "display_data"
    },
    {
     "name": "stderr",
     "output_type": "stream",
     "text": [
      "Trainer was signaled to stop but required minimum epochs (25) or minimum steps (None) has not been met. Training will continue...\n"
     ]
    },
    {
     "data": {
      "application/vnd.jupyter.widget-view+json": {
       "model_id": "",
       "version_major": 2,
       "version_minor": 0
      },
      "text/plain": [
       "Validating: 0it [00:00, ?it/s]"
      ]
     },
     "metadata": {},
     "output_type": "display_data"
    },
    {
     "name": "stderr",
     "output_type": "stream",
     "text": [
      "Trainer was signaled to stop but required minimum epochs (25) or minimum steps (None) has not been met. Training will continue...\n"
     ]
    },
    {
     "data": {
      "application/vnd.jupyter.widget-view+json": {
       "model_id": "",
       "version_major": 2,
       "version_minor": 0
      },
      "text/plain": [
       "Validating: 0it [00:00, ?it/s]"
      ]
     },
     "metadata": {},
     "output_type": "display_data"
    },
    {
     "name": "stderr",
     "output_type": "stream",
     "text": [
      "Trainer was signaled to stop but required minimum epochs (25) or minimum steps (None) has not been met. Training will continue...\n"
     ]
    },
    {
     "data": {
      "application/vnd.jupyter.widget-view+json": {
       "model_id": "",
       "version_major": 2,
       "version_minor": 0
      },
      "text/plain": [
       "Validating: 0it [00:00, ?it/s]"
      ]
     },
     "metadata": {},
     "output_type": "display_data"
    },
    {
     "name": "stderr",
     "output_type": "stream",
     "text": [
      "Trainer was signaled to stop but required minimum epochs (25) or minimum steps (None) has not been met. Training will continue...\n"
     ]
    },
    {
     "data": {
      "application/vnd.jupyter.widget-view+json": {
       "model_id": "",
       "version_major": 2,
       "version_minor": 0
      },
      "text/plain": [
       "Validating: 0it [00:00, ?it/s]"
      ]
     },
     "metadata": {},
     "output_type": "display_data"
    },
    {
     "name": "stderr",
     "output_type": "stream",
     "text": [
      "Trainer was signaled to stop but required minimum epochs (25) or minimum steps (None) has not been met. Training will continue...\n"
     ]
    },
    {
     "data": {
      "application/vnd.jupyter.widget-view+json": {
       "model_id": "",
       "version_major": 2,
       "version_minor": 0
      },
      "text/plain": [
       "Validating: 0it [00:00, ?it/s]"
      ]
     },
     "metadata": {},
     "output_type": "display_data"
    },
    {
     "name": "stderr",
     "output_type": "stream",
     "text": [
      "/Users/george/opt/anaconda3/envs/pl2/lib/python3.6/site-packages/SBCMP/__init__.py:25: FutureWarning: Support for multi-dimensional indexing (e.g. `obj[:, None]`) is deprecated and will be removed in a future version.  Convert to a numpy array before indexing instead.\n",
      "  return(xx/xx.sum(axis=1)[:, np.newaxis] )\n",
      "/Users/george/opt/anaconda3/envs/pl2/lib/python3.6/site-packages/SBCMP/__init__.py:25: FutureWarning: Support for multi-dimensional indexing (e.g. `obj[:, None]`) is deprecated and will be removed in a future version.  Convert to a numpy array before indexing instead.\n",
      "  return(xx/xx.sum(axis=1)[:, np.newaxis] )\n",
      "/Users/george/opt/anaconda3/envs/pl2/lib/python3.6/site-packages/pytorch_lightning/trainer/connectors/callback_connector.py:168: LightningDeprecationWarning: Setting `Trainer(weights_summary=None)` is deprecated in v1.5 and will be removed in v1.7. Please set `Trainer(enable_model_summary=False)` instead.\n",
      "  \"Setting `Trainer(weights_summary=None)` is deprecated in v1.5 and will be removed\"\n",
      "GPU available: False, used: False\n",
      "TPU available: False, using: 0 TPU cores\n",
      "IPU available: False, using: 0 IPUs\n"
     ]
    },
    {
     "name": "stdout",
     "output_type": "stream",
     "text": [
      "[0.6309523809523809, 0.5776119402985074, 0.5586734693877551] [0.8511904761904762, 0.691044776119403, 0.7397959183673469] [0.42857142857142855, 0.47761194029850745, 0.5408163265306123] [0.5, 0.5, 0.8520408163265305] [0.5119047619047619, 0.4447761194029851, 0.8214285714285714] [0.5297619047619048, 0.6014925373134328, 0.6071428571428571] [0.7291666666666667, 0.6253731343283582, 0.42857142857142855] [0.5, 0.5, 0.7959183673469389]\n"
     ]
    },
    {
     "data": {
      "application/vnd.jupyter.widget-view+json": {
       "model_id": "",
       "version_major": 2,
       "version_minor": 0
      },
      "text/plain": [
       "Validation sanity check: 0it [00:00, ?it/s]"
      ]
     },
     "metadata": {},
     "output_type": "display_data"
    },
    {
     "name": "stderr",
     "output_type": "stream",
     "text": [
      "/Users/george/opt/anaconda3/envs/pl2/lib/python3.6/site-packages/pytorch_lightning/trainer/data_loading.py:133: UserWarning: The dataloader, val_dataloader 0, does not have many workers which may be a bottleneck. Consider increasing the value of the `num_workers` argument` (try 8 which is the number of cpus on this machine) in the `DataLoader` init to improve performance.\n",
      "  f\"The dataloader, {name}, does not have many workers which may be a bottleneck.\"\n",
      "/Users/george/opt/anaconda3/envs/pl2/lib/python3.6/site-packages/SBCMP/__init__.py:78: UserWarning: Implicit dimension choice for softmax has been deprecated. Change the call to include dim=X as an argument.\n",
      "  y_hat = softmax(x)\n",
      "/Users/george/opt/anaconda3/envs/pl2/lib/python3.6/site-packages/pytorch_lightning/trainer/data_loading.py:133: UserWarning: The dataloader, train_dataloader, does not have many workers which may be a bottleneck. Consider increasing the value of the `num_workers` argument` (try 8 which is the number of cpus on this machine) in the `DataLoader` init to improve performance.\n",
      "  f\"The dataloader, {name}, does not have many workers which may be a bottleneck.\"\n",
      "/Users/george/opt/anaconda3/envs/pl2/lib/python3.6/site-packages/pytorch_lightning/trainer/data_loading.py:433: UserWarning: The number of training samples (22) is smaller than the logging interval Trainer(log_every_n_steps=50). Set a lower value for log_every_n_steps if you want to see logs for the training epoch.\n",
      "  f\"The number of training samples ({self.num_training_batches}) is smaller than the logging interval\"\n"
     ]
    },
    {
     "data": {
      "application/vnd.jupyter.widget-view+json": {
       "model_id": "43bfc69fd39347c7825d974b61cdb162",
       "version_major": 2,
       "version_minor": 0
      },
      "text/plain": [
       "Training: 0it [00:00, ?it/s]"
      ]
     },
     "metadata": {},
     "output_type": "display_data"
    },
    {
     "data": {
      "application/vnd.jupyter.widget-view+json": {
       "model_id": "",
       "version_major": 2,
       "version_minor": 0
      },
      "text/plain": [
       "Validating: 0it [00:00, ?it/s]"
      ]
     },
     "metadata": {},
     "output_type": "display_data"
    },
    {
     "data": {
      "application/vnd.jupyter.widget-view+json": {
       "model_id": "",
       "version_major": 2,
       "version_minor": 0
      },
      "text/plain": [
       "Validating: 0it [00:00, ?it/s]"
      ]
     },
     "metadata": {},
     "output_type": "display_data"
    },
    {
     "data": {
      "application/vnd.jupyter.widget-view+json": {
       "model_id": "",
       "version_major": 2,
       "version_minor": 0
      },
      "text/plain": [
       "Validating: 0it [00:00, ?it/s]"
      ]
     },
     "metadata": {},
     "output_type": "display_data"
    },
    {
     "data": {
      "application/vnd.jupyter.widget-view+json": {
       "model_id": "",
       "version_major": 2,
       "version_minor": 0
      },
      "text/plain": [
       "Validating: 0it [00:00, ?it/s]"
      ]
     },
     "metadata": {},
     "output_type": "display_data"
    },
    {
     "data": {
      "application/vnd.jupyter.widget-view+json": {
       "model_id": "",
       "version_major": 2,
       "version_minor": 0
      },
      "text/plain": [
       "Validating: 0it [00:00, ?it/s]"
      ]
     },
     "metadata": {},
     "output_type": "display_data"
    },
    {
     "data": {
      "application/vnd.jupyter.widget-view+json": {
       "model_id": "",
       "version_major": 2,
       "version_minor": 0
      },
      "text/plain": [
       "Validating: 0it [00:00, ?it/s]"
      ]
     },
     "metadata": {},
     "output_type": "display_data"
    },
    {
     "data": {
      "application/vnd.jupyter.widget-view+json": {
       "model_id": "",
       "version_major": 2,
       "version_minor": 0
      },
      "text/plain": [
       "Validating: 0it [00:00, ?it/s]"
      ]
     },
     "metadata": {},
     "output_type": "display_data"
    },
    {
     "data": {
      "application/vnd.jupyter.widget-view+json": {
       "model_id": "",
       "version_major": 2,
       "version_minor": 0
      },
      "text/plain": [
       "Validating: 0it [00:00, ?it/s]"
      ]
     },
     "metadata": {},
     "output_type": "display_data"
    },
    {
     "data": {
      "application/vnd.jupyter.widget-view+json": {
       "model_id": "",
       "version_major": 2,
       "version_minor": 0
      },
      "text/plain": [
       "Validating: 0it [00:00, ?it/s]"
      ]
     },
     "metadata": {},
     "output_type": "display_data"
    },
    {
     "name": "stderr",
     "output_type": "stream",
     "text": [
      "Trainer was signaled to stop but required minimum epochs (25) or minimum steps (None) has not been met. Training will continue...\n"
     ]
    },
    {
     "data": {
      "application/vnd.jupyter.widget-view+json": {
       "model_id": "",
       "version_major": 2,
       "version_minor": 0
      },
      "text/plain": [
       "Validating: 0it [00:00, ?it/s]"
      ]
     },
     "metadata": {},
     "output_type": "display_data"
    },
    {
     "name": "stderr",
     "output_type": "stream",
     "text": [
      "Trainer was signaled to stop but required minimum epochs (25) or minimum steps (None) has not been met. Training will continue...\n"
     ]
    },
    {
     "data": {
      "application/vnd.jupyter.widget-view+json": {
       "model_id": "",
       "version_major": 2,
       "version_minor": 0
      },
      "text/plain": [
       "Validating: 0it [00:00, ?it/s]"
      ]
     },
     "metadata": {},
     "output_type": "display_data"
    },
    {
     "name": "stderr",
     "output_type": "stream",
     "text": [
      "Trainer was signaled to stop but required minimum epochs (25) or minimum steps (None) has not been met. Training will continue...\n"
     ]
    },
    {
     "data": {
      "application/vnd.jupyter.widget-view+json": {
       "model_id": "",
       "version_major": 2,
       "version_minor": 0
      },
      "text/plain": [
       "Validating: 0it [00:00, ?it/s]"
      ]
     },
     "metadata": {},
     "output_type": "display_data"
    },
    {
     "name": "stderr",
     "output_type": "stream",
     "text": [
      "Trainer was signaled to stop but required minimum epochs (25) or minimum steps (None) has not been met. Training will continue...\n"
     ]
    },
    {
     "data": {
      "application/vnd.jupyter.widget-view+json": {
       "model_id": "",
       "version_major": 2,
       "version_minor": 0
      },
      "text/plain": [
       "Validating: 0it [00:00, ?it/s]"
      ]
     },
     "metadata": {},
     "output_type": "display_data"
    },
    {
     "name": "stderr",
     "output_type": "stream",
     "text": [
      "/Users/george/opt/anaconda3/envs/pl2/lib/python3.6/site-packages/SBCMP/__init__.py:25: FutureWarning: Support for multi-dimensional indexing (e.g. `obj[:, None]`) is deprecated and will be removed in a future version.  Convert to a numpy array before indexing instead.\n",
      "  return(xx/xx.sum(axis=1)[:, np.newaxis] )\n",
      "/Users/george/opt/anaconda3/envs/pl2/lib/python3.6/site-packages/SBCMP/__init__.py:25: FutureWarning: Support for multi-dimensional indexing (e.g. `obj[:, None]`) is deprecated and will be removed in a future version.  Convert to a numpy array before indexing instead.\n",
      "  return(xx/xx.sum(axis=1)[:, np.newaxis] )\n",
      "/Users/george/opt/anaconda3/envs/pl2/lib/python3.6/site-packages/pytorch_lightning/trainer/connectors/callback_connector.py:168: LightningDeprecationWarning: Setting `Trainer(weights_summary=None)` is deprecated in v1.5 and will be removed in v1.7. Please set `Trainer(enable_model_summary=False)` instead.\n",
      "  \"Setting `Trainer(weights_summary=None)` is deprecated in v1.5 and will be removed\"\n",
      "GPU available: False, used: False\n",
      "TPU available: False, using: 0 TPU cores\n",
      "IPU available: False, using: 0 IPUs\n"
     ]
    },
    {
     "name": "stdout",
     "output_type": "stream",
     "text": [
      "[0.6309523809523809, 0.5776119402985074, 0.5586734693877551, 0.6000000000000001] [0.8511904761904762, 0.691044776119403, 0.7397959183673469, 0.6965517241379311] [0.42857142857142855, 0.47761194029850745, 0.5408163265306123, 0.5689655172413792] [0.5, 0.5, 0.8520408163265305, 0.6637931034482758] [0.5119047619047619, 0.4447761194029851, 0.8214285714285714, 0.4948275862068966] [0.5297619047619048, 0.6014925373134328, 0.6071428571428571, 0.5586206896551724] [0.7291666666666667, 0.6253731343283582, 0.42857142857142855, 0.5258620689655172] [0.5, 0.5, 0.7959183673469389, 0.5]\n"
     ]
    },
    {
     "data": {
      "application/vnd.jupyter.widget-view+json": {
       "model_id": "",
       "version_major": 2,
       "version_minor": 0
      },
      "text/plain": [
       "Validation sanity check: 0it [00:00, ?it/s]"
      ]
     },
     "metadata": {},
     "output_type": "display_data"
    },
    {
     "name": "stderr",
     "output_type": "stream",
     "text": [
      "/Users/george/opt/anaconda3/envs/pl2/lib/python3.6/site-packages/pytorch_lightning/trainer/data_loading.py:133: UserWarning: The dataloader, val_dataloader 0, does not have many workers which may be a bottleneck. Consider increasing the value of the `num_workers` argument` (try 8 which is the number of cpus on this machine) in the `DataLoader` init to improve performance.\n",
      "  f\"The dataloader, {name}, does not have many workers which may be a bottleneck.\"\n",
      "/Users/george/opt/anaconda3/envs/pl2/lib/python3.6/site-packages/SBCMP/__init__.py:78: UserWarning: Implicit dimension choice for softmax has been deprecated. Change the call to include dim=X as an argument.\n",
      "  y_hat = softmax(x)\n",
      "/Users/george/opt/anaconda3/envs/pl2/lib/python3.6/site-packages/pytorch_lightning/trainer/data_loading.py:133: UserWarning: The dataloader, train_dataloader, does not have many workers which may be a bottleneck. Consider increasing the value of the `num_workers` argument` (try 8 which is the number of cpus on this machine) in the `DataLoader` init to improve performance.\n",
      "  f\"The dataloader, {name}, does not have many workers which may be a bottleneck.\"\n",
      "/Users/george/opt/anaconda3/envs/pl2/lib/python3.6/site-packages/pytorch_lightning/trainer/data_loading.py:433: UserWarning: The number of training samples (23) is smaller than the logging interval Trainer(log_every_n_steps=50). Set a lower value for log_every_n_steps if you want to see logs for the training epoch.\n",
      "  f\"The number of training samples ({self.num_training_batches}) is smaller than the logging interval\"\n"
     ]
    },
    {
     "data": {
      "application/vnd.jupyter.widget-view+json": {
       "model_id": "17c158451cdb436680c986f83ab316e8",
       "version_major": 2,
       "version_minor": 0
      },
      "text/plain": [
       "Training: 0it [00:00, ?it/s]"
      ]
     },
     "metadata": {},
     "output_type": "display_data"
    },
    {
     "data": {
      "application/vnd.jupyter.widget-view+json": {
       "model_id": "",
       "version_major": 2,
       "version_minor": 0
      },
      "text/plain": [
       "Validating: 0it [00:00, ?it/s]"
      ]
     },
     "metadata": {},
     "output_type": "display_data"
    },
    {
     "data": {
      "application/vnd.jupyter.widget-view+json": {
       "model_id": "",
       "version_major": 2,
       "version_minor": 0
      },
      "text/plain": [
       "Validating: 0it [00:00, ?it/s]"
      ]
     },
     "metadata": {},
     "output_type": "display_data"
    },
    {
     "data": {
      "application/vnd.jupyter.widget-view+json": {
       "model_id": "",
       "version_major": 2,
       "version_minor": 0
      },
      "text/plain": [
       "Validating: 0it [00:00, ?it/s]"
      ]
     },
     "metadata": {},
     "output_type": "display_data"
    },
    {
     "data": {
      "application/vnd.jupyter.widget-view+json": {
       "model_id": "",
       "version_major": 2,
       "version_minor": 0
      },
      "text/plain": [
       "Validating: 0it [00:00, ?it/s]"
      ]
     },
     "metadata": {},
     "output_type": "display_data"
    },
    {
     "data": {
      "application/vnd.jupyter.widget-view+json": {
       "model_id": "",
       "version_major": 2,
       "version_minor": 0
      },
      "text/plain": [
       "Validating: 0it [00:00, ?it/s]"
      ]
     },
     "metadata": {},
     "output_type": "display_data"
    },
    {
     "data": {
      "application/vnd.jupyter.widget-view+json": {
       "model_id": "",
       "version_major": 2,
       "version_minor": 0
      },
      "text/plain": [
       "Validating: 0it [00:00, ?it/s]"
      ]
     },
     "metadata": {},
     "output_type": "display_data"
    },
    {
     "data": {
      "application/vnd.jupyter.widget-view+json": {
       "model_id": "",
       "version_major": 2,
       "version_minor": 0
      },
      "text/plain": [
       "Validating: 0it [00:00, ?it/s]"
      ]
     },
     "metadata": {},
     "output_type": "display_data"
    },
    {
     "data": {
      "application/vnd.jupyter.widget-view+json": {
       "model_id": "",
       "version_major": 2,
       "version_minor": 0
      },
      "text/plain": [
       "Validating: 0it [00:00, ?it/s]"
      ]
     },
     "metadata": {},
     "output_type": "display_data"
    },
    {
     "data": {
      "application/vnd.jupyter.widget-view+json": {
       "model_id": "",
       "version_major": 2,
       "version_minor": 0
      },
      "text/plain": [
       "Validating: 0it [00:00, ?it/s]"
      ]
     },
     "metadata": {},
     "output_type": "display_data"
    },
    {
     "name": "stderr",
     "output_type": "stream",
     "text": [
      "Trainer was signaled to stop but required minimum epochs (25) or minimum steps (None) has not been met. Training will continue...\n"
     ]
    },
    {
     "data": {
      "application/vnd.jupyter.widget-view+json": {
       "model_id": "",
       "version_major": 2,
       "version_minor": 0
      },
      "text/plain": [
       "Validating: 0it [00:00, ?it/s]"
      ]
     },
     "metadata": {},
     "output_type": "display_data"
    },
    {
     "name": "stderr",
     "output_type": "stream",
     "text": [
      "Trainer was signaled to stop but required minimum epochs (25) or minimum steps (None) has not been met. Training will continue...\n"
     ]
    },
    {
     "data": {
      "application/vnd.jupyter.widget-view+json": {
       "model_id": "",
       "version_major": 2,
       "version_minor": 0
      },
      "text/plain": [
       "Validating: 0it [00:00, ?it/s]"
      ]
     },
     "metadata": {},
     "output_type": "display_data"
    },
    {
     "name": "stderr",
     "output_type": "stream",
     "text": [
      "Trainer was signaled to stop but required minimum epochs (25) or minimum steps (None) has not been met. Training will continue...\n"
     ]
    },
    {
     "data": {
      "application/vnd.jupyter.widget-view+json": {
       "model_id": "",
       "version_major": 2,
       "version_minor": 0
      },
      "text/plain": [
       "Validating: 0it [00:00, ?it/s]"
      ]
     },
     "metadata": {},
     "output_type": "display_data"
    },
    {
     "name": "stderr",
     "output_type": "stream",
     "text": [
      "Trainer was signaled to stop but required minimum epochs (25) or minimum steps (None) has not been met. Training will continue...\n"
     ]
    },
    {
     "data": {
      "application/vnd.jupyter.widget-view+json": {
       "model_id": "",
       "version_major": 2,
       "version_minor": 0
      },
      "text/plain": [
       "Validating: 0it [00:00, ?it/s]"
      ]
     },
     "metadata": {},
     "output_type": "display_data"
    },
    {
     "name": "stderr",
     "output_type": "stream",
     "text": [
      "/Users/george/opt/anaconda3/envs/pl2/lib/python3.6/site-packages/SBCMP/__init__.py:25: FutureWarning: Support for multi-dimensional indexing (e.g. `obj[:, None]`) is deprecated and will be removed in a future version.  Convert to a numpy array before indexing instead.\n",
      "  return(xx/xx.sum(axis=1)[:, np.newaxis] )\n",
      "/Users/george/opt/anaconda3/envs/pl2/lib/python3.6/site-packages/SBCMP/__init__.py:25: FutureWarning: Support for multi-dimensional indexing (e.g. `obj[:, None]`) is deprecated and will be removed in a future version.  Convert to a numpy array before indexing instead.\n",
      "  return(xx/xx.sum(axis=1)[:, np.newaxis] )\n"
     ]
    }
   ],
   "source": [
    "\n",
    "\n",
    "md = pd.read_csv('processed-full-metadata.csv', index_col=0).reset_index(drop=True)\n",
    "df = pd.read_csv('processed-full-data.csv', index_col=0).reset_index(drop=True)\n",
    "\n",
    "df_with_batch = pd.concat([pd.Series( pd.Categorical(md.Study).codes, \n",
    "                                         index=md.index), df], axis=1) \n",
    "df_conqur = pd.read_csv('tmp-datasets-for-R/conqur-out.csv', index_col=0)\n",
    "df_combat =  pd.read_csv('tmp-datasets-for-R/combat-out.csv', index_col=0)\n",
    "df_snm = pd.read_csv('tmp-datasets-for-R/voom-snm-out.csv', index_col=0)\n",
    "df_mup =  pd.read_csv('tmp-datasets-for-R/MMUPHin_out.csv', index_col=0)\n",
    "df_pls = pd.read_csv('tmp-datasets-for-R/PLSDAbatch_out.csv', index_col=0)\n",
    "df_perc =  pd.read_csv('tmp-datasets-for-R/percnorm_out.csv', index_col=0)\n",
    "df_combat.index = df_conqur.index\n",
    "df_snm.index = df_conqur.index\n",
    "\n",
    "\n",
    "results_dict =  run_predictions(md.label, \n",
    "                                df_with_batch, \n",
    "                                df_conqur, \n",
    "                                df_combat, \n",
    "                                seed=123, \n",
    "                                do_clr_transform=False,\n",
    "                                b_str=batch_weight_feature_and_nbatchpairs_scaling(1e4, df_with_batch),\n",
    "                                df_snm=df_snm, \n",
    "                                df_mup=df_mup, \n",
    "                                df_pls=df_pls, \n",
    "                                df_perc=df_perc.fillna(1e-6)\n",
    "                                )\n",
    "\n"
   ]
  },
  {
   "cell_type": "code",
   "execution_count": 5,
   "id": "795490ed",
   "metadata": {},
   "outputs": [
    {
     "data": {
      "text/plain": [
       "{'models': {'linear': [[StandardScaler(),\n",
       "    LogisticRegression(max_iter=25000, penalty='none')],\n",
       "   [StandardScaler(), LogisticRegression(max_iter=25000, penalty='none')],\n",
       "   [StandardScaler(), LogisticRegression(max_iter=25000, penalty='none')],\n",
       "   [StandardScaler(), LogisticRegression(max_iter=25000, penalty='none')],\n",
       "   [StandardScaler(), LogisticRegression(max_iter=25000, penalty='none')]],\n",
       "  'debias-m': [PL_SBCMP(\n",
       "     (linear): Linear(in_features=502, out_features=2, bias=True)\n",
       "   ),\n",
       "   PL_SBCMP(\n",
       "     (linear): Linear(in_features=502, out_features=2, bias=True)\n",
       "   ),\n",
       "   PL_SBCMP(\n",
       "     (linear): Linear(in_features=502, out_features=2, bias=True)\n",
       "   ),\n",
       "   PL_SBCMP(\n",
       "     (linear): Linear(in_features=502, out_features=2, bias=True)\n",
       "   ),\n",
       "   PL_SBCMP(\n",
       "     (linear): Linear(in_features=502, out_features=2, bias=True)\n",
       "   )],\n",
       "  'combat': [[StandardScaler(),\n",
       "    LogisticRegression(max_iter=25000, penalty='none')],\n",
       "   [StandardScaler(), LogisticRegression(max_iter=25000, penalty='none')],\n",
       "   [StandardScaler(), LogisticRegression(max_iter=25000, penalty='none')],\n",
       "   [StandardScaler(), LogisticRegression(max_iter=25000, penalty='none')],\n",
       "   [StandardScaler(), LogisticRegression(max_iter=25000, penalty='none')]],\n",
       "  'conqur': [[StandardScaler(),\n",
       "    LogisticRegression(max_iter=25000, penalty='none')],\n",
       "   [StandardScaler(), LogisticRegression(max_iter=25000, penalty='none')],\n",
       "   [StandardScaler(), LogisticRegression(max_iter=25000, penalty='none')],\n",
       "   [StandardScaler(), LogisticRegression(max_iter=25000, penalty='none')],\n",
       "   [StandardScaler(), LogisticRegression(max_iter=25000, penalty='none')]],\n",
       "  'snm': [[StandardScaler(),\n",
       "    LogisticRegression(max_iter=25000, penalty='none')],\n",
       "   [StandardScaler(), LogisticRegression(max_iter=25000, penalty='none')],\n",
       "   [StandardScaler(), LogisticRegression(max_iter=25000, penalty='none')],\n",
       "   [StandardScaler(), LogisticRegression(max_iter=25000, penalty='none')],\n",
       "   [StandardScaler(), LogisticRegression(max_iter=25000, penalty='none')]],\n",
       "  'mmuphin': [[StandardScaler(),\n",
       "    LogisticRegression(max_iter=25000, penalty='none')],\n",
       "   [StandardScaler(), LogisticRegression(max_iter=25000, penalty='none')],\n",
       "   [StandardScaler(), LogisticRegression(max_iter=25000, penalty='none')],\n",
       "   [StandardScaler(), LogisticRegression(max_iter=25000, penalty='none')],\n",
       "   [StandardScaler(), LogisticRegression(max_iter=25000, penalty='none')]],\n",
       "  'plsda': [[StandardScaler(),\n",
       "    LogisticRegression(max_iter=25000, penalty='none')],\n",
       "   [StandardScaler(), LogisticRegression(max_iter=25000, penalty='none')],\n",
       "   [StandardScaler(), LogisticRegression(max_iter=25000, penalty='none')],\n",
       "   [StandardScaler(), LogisticRegression(max_iter=25000, penalty='none')],\n",
       "   [StandardScaler(), LogisticRegression(max_iter=25000, penalty='none')]],\n",
       "  'percnorm': [[StandardScaler(),\n",
       "    LogisticRegression(max_iter=25000, penalty='none')],\n",
       "   [StandardScaler(), LogisticRegression(max_iter=25000, penalty='none')],\n",
       "   [StandardScaler(), LogisticRegression(max_iter=25000, penalty='none')],\n",
       "   [StandardScaler(), LogisticRegression(max_iter=25000, penalty='none')],\n",
       "   [StandardScaler(), LogisticRegression(max_iter=25000, penalty='none')]]},\n",
       " 'aurocs': {'linear': [0.6309523809523809,\n",
       "   0.5776119402985074,\n",
       "   0.5586734693877551,\n",
       "   0.6000000000000001,\n",
       "   0.575],\n",
       "  'debias-m': [0.8511904761904762,\n",
       "   0.691044776119403,\n",
       "   0.7397959183673469,\n",
       "   0.6965517241379311,\n",
       "   0.8500000000000001],\n",
       "  'combat': [0.5, 0.5, 0.8520408163265305, 0.6637931034482758, 0.7],\n",
       "  'conqur': [0.42857142857142855,\n",
       "   0.47761194029850745,\n",
       "   0.5408163265306123,\n",
       "   0.5689655172413792,\n",
       "   0.6],\n",
       "  'snm': [0.5119047619047619,\n",
       "   0.4447761194029851,\n",
       "   0.8214285714285714,\n",
       "   0.4948275862068966,\n",
       "   0.3166666666666667],\n",
       "  'mmuphin': [0.5297619047619048,\n",
       "   0.6014925373134328,\n",
       "   0.6071428571428571,\n",
       "   0.5586206896551724,\n",
       "   0.5833333333333334],\n",
       "  'plsda': [0.7291666666666667,\n",
       "   0.6253731343283582,\n",
       "   0.42857142857142855,\n",
       "   0.5258620689655172,\n",
       "   0.48750000000000004],\n",
       "  'percnorm': [0.5, 0.5, 0.7959183673469389, 0.5, 0.5]},\n",
       " 'auprs': {'linear': [0.4236453201970443,\n",
       "   0.1838961038961039,\n",
       "   0.23809523809523808,\n",
       "   0.31067328370554176,\n",
       "   0.7973557692307693],\n",
       "  'debias-m': [0.7030943627450981,\n",
       "   0.4098111772781744,\n",
       "   0.5705128205128205,\n",
       "   0.5123579782790308,\n",
       "   0.9274723245021232],\n",
       "  'combat': [0.27586206896551724,\n",
       "   0.12987012987012986,\n",
       "   0.7691798941798942,\n",
       "   0.3660685405925344,\n",
       "   0.8756970487783853],\n",
       "  'conqur': [0.2622126436781609,\n",
       "   0.12987012987012986,\n",
       "   0.26043956043956046,\n",
       "   0.2920377867746289,\n",
       "   0.8072398190045249],\n",
       "  'snm': [0.4740223856603167,\n",
       "   0.11872764916243177,\n",
       "   0.5256733462615816,\n",
       "   0.25448717948717947,\n",
       "   0.7184615384615385],\n",
       "  'mmuphin': [0.3735632183908046,\n",
       "   0.40711508625413106,\n",
       "   0.24897959183673468,\n",
       "   0.2825641025641026,\n",
       "   0.8012820512820513],\n",
       "  'plsda': [0.5498768472906405,\n",
       "   0.1922077922077922,\n",
       "   0.1836734693877551,\n",
       "   0.2670940170940171,\n",
       "   0.7782967032967033],\n",
       "  'percnorm': [0.27586206896551724,\n",
       "   0.12987012987012986,\n",
       "   0.7645833333333334,\n",
       "   0.2564102564102564,\n",
       "   0.7692307692307693]},\n",
       " 'p-vs-debiasm': {'linear': [array([[0.07157794]]),\n",
       "   array([[0.10731715]]),\n",
       "   array([[0.12759713]]),\n",
       "   array([[0.10851531]]),\n",
       "   array([[0.09604005]])],\n",
       "  'debias-m': [],\n",
       "  'combat': [array([[4.10183237e-06]]),\n",
       "   array([[0.03280172]]),\n",
       "   array([[0.87978278]]),\n",
       "   array([[0.36652371]]),\n",
       "   array([[0.14808785]])],\n",
       "  'conqur': [array([[3.47032351e-05]]),\n",
       "   array([[0.0212564]]),\n",
       "   array([[0.1236258]]),\n",
       "   array([[0.07339328]]),\n",
       "   array([[0.11618206]])],\n",
       "  'snm': [array([[0.02793052]]),\n",
       "   array([[0.03410024]]),\n",
       "   array([[0.7334973]]),\n",
       "   array([[0.02382033]]),\n",
       "   array([[0.00790088]])],\n",
       "  'mmuphin': [array([[0.01584416]]),\n",
       "   array([[0.25362937]]),\n",
       "   array([[0.18042259]]),\n",
       "   array([[0.05814133]]),\n",
       "   array([[0.01561445]])],\n",
       "  'plsda': [array([[0.18959432]]),\n",
       "   array([[0.23393916]]),\n",
       "   array([[0.03092432]]),\n",
       "   array([[0.03510172]]),\n",
       "   array([[0.05158931]])],\n",
       "  'percnorm': [array([[4.10183237e-06]]),\n",
       "   array([[0.03280172]]),\n",
       "   array([[0.62536082]]),\n",
       "   array([[0.02434895]]),\n",
       "   array([[0.00415846]])]},\n",
       " 'is_sig': {'linear': False,\n",
       "  'combat': True,\n",
       "  'conqur': True,\n",
       "  'snm': True,\n",
       "  'mmuphin': True,\n",
       "  'plsda': True,\n",
       "  'percnorm': True}}"
      ]
     },
     "execution_count": 5,
     "metadata": {},
     "output_type": "execute_result"
    }
   ],
   "source": [
    "results_dict"
   ]
  },
  {
   "cell_type": "code",
   "execution_count": 79,
   "id": "6ac31422",
   "metadata": {},
   "outputs": [],
   "source": [
    "all_dm_preds=[]\n",
    "all_test_trues = [] \n",
    "all_raw_preds = []\n",
    "sd_names = []"
   ]
  },
  {
   "cell_type": "code",
   "execution_count": 80,
   "id": "1ae19f7b",
   "metadata": {},
   "outputs": [],
   "source": [
    "from debiasm.torch_functions import rescale"
   ]
  },
  {
   "cell_type": "code",
   "execution_count": 81,
   "id": "bdb8cfa0",
   "metadata": {},
   "outputs": [
    {
     "name": "stderr",
     "output_type": "stream",
     "text": [
      "/Users/george/opt/anaconda3/envs/pl2/lib/python3.6/site-packages/SBCMP/__init__.py:78: UserWarning: Implicit dimension choice for softmax has been deprecated. Change the call to include dim=X as an argument.\n",
      "  y_hat = softmax(x)\n",
      "/Users/george/opt/anaconda3/envs/pl2/lib/python3.6/site-packages/SBCMP/__init__.py:78: UserWarning: Implicit dimension choice for softmax has been deprecated. Change the call to include dim=X as an argument.\n",
      "  y_hat = softmax(x)\n",
      "/Users/george/opt/anaconda3/envs/pl2/lib/python3.6/site-packages/SBCMP/__init__.py:78: UserWarning: Implicit dimension choice for softmax has been deprecated. Change the call to include dim=X as an argument.\n",
      "  y_hat = softmax(x)\n",
      "/Users/george/opt/anaconda3/envs/pl2/lib/python3.6/site-packages/SBCMP/__init__.py:78: UserWarning: Implicit dimension choice for softmax has been deprecated. Change the call to include dim=X as an argument.\n",
      "  y_hat = softmax(x)\n",
      "/Users/george/opt/anaconda3/envs/pl2/lib/python3.6/site-packages/SBCMP/__init__.py:78: UserWarning: Implicit dimension choice for softmax has been deprecated. Change the call to include dim=X as an argument.\n",
      "  y_hat = softmax(x)\n"
     ]
    }
   ],
   "source": [
    "i=0\n",
    "for batch in df_with_batch[0].unique():\n",
    "    inds = df_with_batch[0]==batch\n",
    "    if md.loc[inds].label.nunique()>1:\n",
    "        sd_names.append(md.loc[inds].Study.values[0])\n",
    "        all_dm_preds.append( results_dict['models']['debias-m'][i]\\\n",
    "                                .forward(torch.Tensor(df_with_batch.loc[inds].values)\n",
    "                                        )[:, 1].detach().numpy() )\n",
    "        \n",
    "        all_test_trues.append(md.loc[inds].label.values)\n",
    "        all_raw_preds.append(  \n",
    "                    results_dict['models']['linear'][i][1].predict_proba(\n",
    "                            results_dict['models']['linear'][0][0].transform(\n",
    "                                            rescale( df_with_batch.loc[inds].values[:, 1:]) )\n",
    "                    )[:, 1]\n",
    "\n",
    "                )\n",
    "        \n",
    "        i+=1\n",
    "    "
   ]
  },
  {
   "cell_type": "code",
   "execution_count": 76,
   "id": "e9dfb389",
   "metadata": {},
   "outputs": [
    {
     "data": {
      "text/plain": [
       "5"
      ]
     },
     "execution_count": 76,
     "metadata": {},
     "output_type": "execute_result"
    }
   ],
   "source": [
    "len( all_test_trues )"
   ]
  },
  {
   "cell_type": "code",
   "execution_count": null,
   "id": "6bb3a22b",
   "metadata": {},
   "outputs": [],
   "source": [
    "df_with_batch[0].unique()"
   ]
  },
  {
   "cell_type": "code",
   "execution_count": 77,
   "id": "c98b03d0",
   "metadata": {
    "scrolled": true
   },
   "outputs": [
    {
     "name": "stdout",
     "output_type": "stream",
     "text": [
      "0.6309523809523809\n",
      "0.5850746268656717\n",
      "0.5510204081632653\n",
      "0.5775862068965517\n",
      "0.8083333333333333\n"
     ]
    }
   ],
   "source": [
    "for i in range(len(all_dm_preds)):\n",
    "    print(roc_auc_score(all_test_trues[i], \n",
    "                        all_raw_preds[i]))"
   ]
  },
  {
   "cell_type": "code",
   "execution_count": 78,
   "id": "6221d5bf",
   "metadata": {},
   "outputs": [
    {
     "name": "stdout",
     "output_type": "stream",
     "text": [
      "0.8511904761904762\n",
      "0.691044776119403\n",
      "0.7397959183673469\n",
      "0.6965517241379311\n",
      "0.8500000000000001\n"
     ]
    }
   ],
   "source": [
    "for i in range(len(all_dm_preds)):\n",
    "    print(roc_auc_score(all_test_trues[i], \n",
    "                        all_dm_preds[i]))"
   ]
  },
  {
   "cell_type": "code",
   "execution_count": 86,
   "id": "564ba253",
   "metadata": {},
   "outputs": [
    {
     "name": "stdout",
     "output_type": "stream",
     "text": [
      "01-set_up_datasets.py\r\n",
      "02-run-predictions.py\r\n",
      "CLR-cervix-all-new-data-with-all-methods-no-axes.pdf\r\n",
      "CLR-cervix-all-new-data-with-all-methods-results.csv\r\n",
      "CLR-cervix-all-new-data-with-all-methods.csv\r\n",
      "CLR-cervix-all-new-data-with-all-methods.pdf\r\n",
      "Untitled.ipynb\r\n",
      "Untitled1.ipynb\r\n",
      "adjust_batch_diagnostic.pdf\r\n",
      "auroc-boxplot-cervix-variations-all-datasets.csv\r\n",
      "auroc-boxplot-cervix-variations-all-datasets.pdf\r\n",
      "auroc-boxplot-cervix-variations-all-datasets_.csv\r\n",
      "auroc-boxplot-cervix-variations-all-datasets_.pdf\r\n",
      "auroc-boxplot-cervix-variations-new-data.csv\r\n",
      "auroc-boxplot-cervix-variations-new-data.pdf\r\n",
      "auroc-boxplot-cervix-variations-no-axes.pdf\r\n",
      "auroc-boxplot-cervix-variations.csv\r\n",
      "cervix-all-new-data-with-all-methods-no-axes.pdf\r\n",
      "cervix-all-new-data-with-all-methods-results.csv\r\n",
      "cervix-all-new-data-with-all-methods.csv\r\n",
      "cervix-all-new-data-with-all-methods.pdf\r\n",
      "cervix-all-new-data-with-all-methods__-no-axes.csv\r\n",
      "cervix-all-new-data-with-all-methods__-no-axes.pdf\r\n",
      "cervix-all-new-data-with-all-methods__.csv\r\n",
      "cervix-all-new-data-with-all-methods__.pdf\r\n",
      "hiv-age-results-all.csv\r\n",
      "\u001b[34mlightning_logs\u001b[m\u001b[m\r\n",
      "new-cervix-rf-analysis.ipynb\r\n",
      "processed-full-data.csv\r\n",
      "processed-full-metadata.csv\r\n",
      "run-prediction-simulation-R-BC-methods.R\r\n",
      "\u001b[34mtmp-datasets-for-R\u001b[m\u001b[m\r\n"
     ]
    }
   ],
   "source": [
    "!ls"
   ]
  },
  {
   "cell_type": "code",
   "execution_count": 87,
   "id": "8f4a4df8",
   "metadata": {},
   "outputs": [],
   "source": [
    "pd.concat( [ \n",
    "    pd.DataFrame( {'Study':[sd_names[i]]*all_test_trues[i].shape[0],\n",
    "                   'True':all_test_trues[i],\n",
    "                   'Raw':all_raw_preds[i],\n",
    "                   'DM':all_dm_preds[i]\n",
    "                  })\n",
    "     for i in range(len(all_dm_preds)) ] ).to_csv('linear-and-dm-carcinoma-predicitons.csv')"
   ]
  },
  {
   "cell_type": "code",
   "execution_count": 91,
   "id": "eda735e5",
   "metadata": {},
   "outputs": [
    {
     "data": {
      "text/plain": [
       "[(29,), (77,), (35,), (39,), (26,)]"
      ]
     },
     "execution_count": 91,
     "metadata": {},
     "output_type": "execute_result"
    }
   ],
   "source": [
    "[a.shape for a in all_dm_preds]"
   ]
  },
  {
   "cell_type": "code",
   "execution_count": null,
   "id": "b347cf14",
   "metadata": {},
   "outputs": [],
   "source": [
    "pd.read_csv('../')"
   ]
  },
  {
   "cell_type": "code",
   "execution_count": null,
   "id": "3a4d7513",
   "metadata": {},
   "outputs": [],
   "source": [
    "pd.read_csv('../../SBCMP_analysis/CodeOcean_setup/results/')"
   ]
  },
  {
   "cell_type": "code",
   "execution_count": 93,
   "id": "064480f9",
   "metadata": {},
   "outputs": [],
   "source": [
    "onlni = pd.read_csv('../results/Cervix-carcinoma/adaptation/general-adaptation-benchmark.csv')"
   ]
  },
  {
   "cell_type": "code",
   "execution_count": 98,
   "id": "ea96d9d4",
   "metadata": {},
   "outputs": [
    {
     "ename": "NameError",
     "evalue": "name 'wilcoxon' is not defined",
     "output_type": "error",
     "traceback": [
      "\u001b[0;31m---------------------------------------------------------------------------\u001b[0m",
      "\u001b[0;31mNameError\u001b[0m                                 Traceback (most recent call last)",
      "\u001b[0;32m<ipython-input-98-bc1d4c5ec093>\u001b[0m in \u001b[0;36m<module>\u001b[0;34m\u001b[0m\n\u001b[1;32m      1\u001b[0m {a: wilcoxon( onlni.loc[(onlni.Group=='DEBIAS-M')&(onlni.Task==a)].auROC,\n\u001b[1;32m      2\u001b[0m               onlni.loc[(onlni.Group!='DEBIAS-M')&(onlni.Task==a)].auROC )\n\u001b[0;32m----> 3\u001b[0;31m               \u001b[0;32mfor\u001b[0m \u001b[0ma\u001b[0m \u001b[0;32min\u001b[0m \u001b[0monlni\u001b[0m\u001b[0;34m.\u001b[0m\u001b[0mTask\u001b[0m\u001b[0;34m.\u001b[0m\u001b[0munique\u001b[0m\u001b[0;34m(\u001b[0m\u001b[0;34m)\u001b[0m\u001b[0;34m\u001b[0m\u001b[0;34m\u001b[0m\u001b[0m\n\u001b[0m\u001b[1;32m      4\u001b[0m              }\n",
      "\u001b[0;32m<ipython-input-98-bc1d4c5ec093>\u001b[0m in \u001b[0;36m<dictcomp>\u001b[0;34m(.0)\u001b[0m\n\u001b[1;32m      1\u001b[0m {a: wilcoxon( onlni.loc[(onlni.Group=='DEBIAS-M')&(onlni.Task==a)].auROC,\n\u001b[1;32m      2\u001b[0m               onlni.loc[(onlni.Group!='DEBIAS-M')&(onlni.Task==a)].auROC )\n\u001b[0;32m----> 3\u001b[0;31m               \u001b[0;32mfor\u001b[0m \u001b[0ma\u001b[0m \u001b[0;32min\u001b[0m \u001b[0monlni\u001b[0m\u001b[0;34m.\u001b[0m\u001b[0mTask\u001b[0m\u001b[0;34m.\u001b[0m\u001b[0munique\u001b[0m\u001b[0;34m(\u001b[0m\u001b[0;34m)\u001b[0m\u001b[0;34m\u001b[0m\u001b[0;34m\u001b[0m\u001b[0m\n\u001b[0m\u001b[1;32m      4\u001b[0m              }\n",
      "\u001b[0;31mNameError\u001b[0m: name 'wilcoxon' is not defined"
     ]
    }
   ],
   "source": [
    "{a: wilcoxon( onlni.loc[(onlni.Group=='DEBIAS-M')&(onlni.Task==a)].auROC,\n",
    "              onlni.loc[(onlni.Group!='DEBIAS-M')&(onlni.Task==a)].auROC )\n",
    "              for a in onlni.Task.unique()\n",
    "             }"
   ]
  },
  {
   "cell_type": "code",
   "execution_count": null,
   "id": "938ce60f",
   "metadata": {},
   "outputs": [],
   "source": []
  },
  {
   "cell_type": "code",
   "execution_count": null,
   "id": "8e5a4a36",
   "metadata": {},
   "outputs": [],
   "source": []
  },
  {
   "cell_type": "code",
   "execution_count": null,
   "id": "e52d69e5",
   "metadata": {},
   "outputs": [],
   "source": []
  },
  {
   "cell_type": "code",
   "execution_count": 88,
   "id": "27b8edeb",
   "metadata": {},
   "outputs": [],
   "source": [
    "codeocean=pd.read_csv('../../../Downloads/CIN-random-forest-predictions.csv')\n",
    "\n",
    "codeocean.loc[(codeocean.test_batch==a)&(codeocean.model=='Random Forest Tuned')].TRUE,\n",
    "codeocean.loc[(codeocean.test_batch==a)&(codeocean.model=='Random Forest Tuned')].Pred,\n",
    "codeocean.loc[(codeocean.test_batch==a)&(codeocean.model=='DEBIAS-M into RF Tuned')].Pred)"
   ]
  },
  {
   "cell_type": "code",
   "execution_count": 89,
   "id": "a2ba53b2",
   "metadata": {},
   "outputs": [
    {
     "data": {
      "text/html": [
       "<div>\n",
       "<style scoped>\n",
       "    .dataframe tbody tr th:only-of-type {\n",
       "        vertical-align: middle;\n",
       "    }\n",
       "\n",
       "    .dataframe tbody tr th {\n",
       "        vertical-align: top;\n",
       "    }\n",
       "\n",
       "    .dataframe thead th {\n",
       "        text-align: right;\n",
       "    }\n",
       "</style>\n",
       "<table border=\"1\" class=\"dataframe\">\n",
       "  <thead>\n",
       "    <tr style=\"text-align: right;\">\n",
       "      <th></th>\n",
       "      <th>Unnamed: 0</th>\n",
       "      <th>test_batch</th>\n",
       "      <th>test_batch_n</th>\n",
       "      <th>model</th>\n",
       "      <th>True</th>\n",
       "      <th>Pred</th>\n",
       "    </tr>\n",
       "  </thead>\n",
       "  <tbody>\n",
       "    <tr>\n",
       "      <th>0</th>\n",
       "      <td>0</td>\n",
       "      <td>Audirac</td>\n",
       "      <td>29</td>\n",
       "      <td>Random Forest Tuned</td>\n",
       "      <td>True</td>\n",
       "      <td>0.416924</td>\n",
       "    </tr>\n",
       "    <tr>\n",
       "      <th>1</th>\n",
       "      <td>1</td>\n",
       "      <td>Audirac</td>\n",
       "      <td>29</td>\n",
       "      <td>Random Forest Tuned</td>\n",
       "      <td>True</td>\n",
       "      <td>0.242057</td>\n",
       "    </tr>\n",
       "    <tr>\n",
       "      <th>2</th>\n",
       "      <td>2</td>\n",
       "      <td>Audirac</td>\n",
       "      <td>29</td>\n",
       "      <td>Random Forest Tuned</td>\n",
       "      <td>True</td>\n",
       "      <td>0.150146</td>\n",
       "    </tr>\n",
       "    <tr>\n",
       "      <th>3</th>\n",
       "      <td>3</td>\n",
       "      <td>Audirac</td>\n",
       "      <td>29</td>\n",
       "      <td>Random Forest Tuned</td>\n",
       "      <td>True</td>\n",
       "      <td>0.539008</td>\n",
       "    </tr>\n",
       "    <tr>\n",
       "      <th>4</th>\n",
       "      <td>4</td>\n",
       "      <td>Audirac</td>\n",
       "      <td>29</td>\n",
       "      <td>Random Forest Tuned</td>\n",
       "      <td>True</td>\n",
       "      <td>0.155890</td>\n",
       "    </tr>\n",
       "    <tr>\n",
       "      <th>...</th>\n",
       "      <td>...</td>\n",
       "      <td>...</td>\n",
       "      <td>...</td>\n",
       "      <td>...</td>\n",
       "      <td>...</td>\n",
       "      <td>...</td>\n",
       "    </tr>\n",
       "    <tr>\n",
       "      <th>641</th>\n",
       "      <td>72</td>\n",
       "      <td>Ilhan</td>\n",
       "      <td>77</td>\n",
       "      <td>DEBIAS-M into RF Tuned</td>\n",
       "      <td>True</td>\n",
       "      <td>0.119011</td>\n",
       "    </tr>\n",
       "    <tr>\n",
       "      <th>642</th>\n",
       "      <td>73</td>\n",
       "      <td>Ilhan</td>\n",
       "      <td>77</td>\n",
       "      <td>DEBIAS-M into RF Tuned</td>\n",
       "      <td>False</td>\n",
       "      <td>0.138573</td>\n",
       "    </tr>\n",
       "    <tr>\n",
       "      <th>643</th>\n",
       "      <td>74</td>\n",
       "      <td>Ilhan</td>\n",
       "      <td>77</td>\n",
       "      <td>DEBIAS-M into RF Tuned</td>\n",
       "      <td>True</td>\n",
       "      <td>0.119651</td>\n",
       "    </tr>\n",
       "    <tr>\n",
       "      <th>644</th>\n",
       "      <td>75</td>\n",
       "      <td>Ilhan</td>\n",
       "      <td>77</td>\n",
       "      <td>DEBIAS-M into RF Tuned</td>\n",
       "      <td>True</td>\n",
       "      <td>0.112457</td>\n",
       "    </tr>\n",
       "    <tr>\n",
       "      <th>645</th>\n",
       "      <td>76</td>\n",
       "      <td>Ilhan</td>\n",
       "      <td>77</td>\n",
       "      <td>DEBIAS-M into RF Tuned</td>\n",
       "      <td>True</td>\n",
       "      <td>0.168894</td>\n",
       "    </tr>\n",
       "  </tbody>\n",
       "</table>\n",
       "<p>646 rows × 6 columns</p>\n",
       "</div>"
      ],
      "text/plain": [
       "     Unnamed: 0 test_batch  test_batch_n                   model   True  \\\n",
       "0             0    Audirac            29     Random Forest Tuned   True   \n",
       "1             1    Audirac            29     Random Forest Tuned   True   \n",
       "2             2    Audirac            29     Random Forest Tuned   True   \n",
       "3             3    Audirac            29     Random Forest Tuned   True   \n",
       "4             4    Audirac            29     Random Forest Tuned   True   \n",
       "..          ...        ...           ...                     ...    ...   \n",
       "641          72      Ilhan            77  DEBIAS-M into RF Tuned   True   \n",
       "642          73      Ilhan            77  DEBIAS-M into RF Tuned  False   \n",
       "643          74      Ilhan            77  DEBIAS-M into RF Tuned   True   \n",
       "644          75      Ilhan            77  DEBIAS-M into RF Tuned   True   \n",
       "645          76      Ilhan            77  DEBIAS-M into RF Tuned   True   \n",
       "\n",
       "         Pred  \n",
       "0    0.416924  \n",
       "1    0.242057  \n",
       "2    0.150146  \n",
       "3    0.539008  \n",
       "4    0.155890  \n",
       "..        ...  \n",
       "641  0.119011  \n",
       "642  0.138573  \n",
       "643  0.119651  \n",
       "644  0.112457  \n",
       "645  0.168894  \n",
       "\n",
       "[646 rows x 6 columns]"
      ]
     },
     "execution_count": 89,
     "metadata": {},
     "output_type": "execute_result"
    }
   ],
   "source": []
  },
  {
   "cell_type": "code",
   "execution_count": null,
   "id": "62448490",
   "metadata": {},
   "outputs": [],
   "source": []
  },
  {
   "cell_type": "code",
   "execution_count": null,
   "id": "1389249a",
   "metadata": {},
   "outputs": [],
   "source": []
  },
  {
   "cell_type": "code",
   "execution_count": null,
   "id": "c2d957bb",
   "metadata": {},
   "outputs": [],
   "source": []
  },
  {
   "cell_type": "code",
   "execution_count": null,
   "id": "06406484",
   "metadata": {},
   "outputs": [],
   "source": []
  },
  {
   "cell_type": "code",
   "execution_count": 21,
   "id": "b8bd2877",
   "metadata": {
    "scrolled": false
   },
   "outputs": [
    {
     "ename": "NameError",
     "evalue": "name 'all_raw_preds' is not defined",
     "output_type": "error",
     "traceback": [
      "\u001b[0;31m---------------------------------------------------------------------------\u001b[0m",
      "\u001b[0;31mNameError\u001b[0m                                 Traceback (most recent call last)",
      "\u001b[0;32m<ipython-input-21-f28ef4cfe093>\u001b[0m in \u001b[0;36m<module>\u001b[0;34m\u001b[0m\n\u001b[0;32m----> 1\u001b[0;31m \u001b[0mall_raw_preds\u001b[0m\u001b[0;34m\u001b[0m\u001b[0;34m\u001b[0m\u001b[0m\n\u001b[0m",
      "\u001b[0;31mNameError\u001b[0m: name 'all_raw_preds' is not defined"
     ]
    }
   ],
   "source": [
    "all_raw_preds"
   ]
  },
  {
   "cell_type": "code",
   "execution_count": null,
   "id": "017f167c",
   "metadata": {},
   "outputs": [],
   "source": []
  },
  {
   "cell_type": "code",
   "execution_count": null,
   "id": "56005015",
   "metadata": {},
   "outputs": [],
   "source": []
  },
  {
   "cell_type": "code",
   "execution_count": 10,
   "id": "a02cb50a",
   "metadata": {},
   "outputs": [
    {
     "data": {
      "text/html": [
       "<div>\n",
       "<style scoped>\n",
       "    .dataframe tbody tr th:only-of-type {\n",
       "        vertical-align: middle;\n",
       "    }\n",
       "\n",
       "    .dataframe tbody tr th {\n",
       "        vertical-align: top;\n",
       "    }\n",
       "\n",
       "    .dataframe thead th {\n",
       "        text-align: right;\n",
       "    }\n",
       "</style>\n",
       "<table border=\"1\" class=\"dataframe\">\n",
       "  <thead>\n",
       "    <tr style=\"text-align: right;\">\n",
       "      <th></th>\n",
       "      <th>0</th>\n",
       "      <th>k:Bacteria;p:Bacteroidetes;c:Bacteroidia;o:Bacteroidales;f:Muribaculaceae;g:NA;s:NA</th>\n",
       "      <th>k:Bacteria;p:Proteobacteria;c:Gammaproteobacteria;o:Enterobacteriales;f:Enterobacteriaceae;g:Escherichia/Shigella;s:NA</th>\n",
       "      <th>k:Bacteria;p:Firmicutes;c:Bacilli;o:Lactobacillales;f:Lactobacillaceae;g:Lactobacillus;s:NA</th>\n",
       "      <th>k:Bacteria;p:Bacteroidetes;c:Bacteroidia;o:Bacteroidales;f:Bacteroidaceae;g:Bacteroides;s:NA</th>\n",
       "      <th>k:Bacteria;p:Firmicutes;c:Clostridia;o:Clostridiales;f:Lachnospiraceae;g:NA;s:NA</th>\n",
       "      <th>k:Bacteria;p:Firmicutes;c:Clostridia;o:Clostridiales;f:Ruminococcaceae;g:NA;s:NA</th>\n",
       "      <th>k:Bacteria;p:Bacteroidetes;c:Bacteroidia;o:Bacteroidales;f:Rikenellaceae;g:Rikenellaceae_RC9_gut_group;s:NA</th>\n",
       "      <th>k:Bacteria;p:Bacteroidetes;c:Bacteroidia;o:Bacteroidales;f:Prevotellaceae;g:Alloprevotella;s:NA</th>\n",
       "      <th>k:Bacteria;p:Firmicutes;c:Clostridia;o:Clostridiales;f:Ruminococcaceae;g:Ruminococcaceae_UCG-014;s:NA</th>\n",
       "      <th>...</th>\n",
       "      <th>d__Bacteria;p__Campilobacterota;c__Campylobacteria;o__Campylobacterales;f__Campylobacteraceae;g__Campylobacter;__</th>\n",
       "      <th>d__Bacteria;p__Synergistota;c__Synergistia;o__Synergistales;f__Synergistaceae;g__Jonquetella;s__Jonquetella_anthropi</th>\n",
       "      <th>d__Bacteria;p__Firmicutes;c__Clostridia;o__Clostridia;f__Hungateiclostridiaceae;g__Fastidiosipila;s__Fastidiosipila_sanguinis</th>\n",
       "      <th>d__Bacteria;p__Fusobacteriota;c__Fusobacteriia;o__Fusobacteriales;f__Leptotrichiaceae;g__Sneathia;__</th>\n",
       "      <th>d__Bacteria;p__Firmicutes;c__Clostridia;o__Lachnospirales;f__Lachnospiraceae;g__Shuttleworthia;s__uncultured_bacterium</th>\n",
       "      <th>d__Bacteria;p__Firmicutes;c__Bacilli;o__Lactobacillales;f__Lactobacillaceae;g__Lactobacillus;s__Lactobacillus_coleohominis</th>\n",
       "      <th>d__Bacteria;p__Firmicutes;c__Negativicutes;o__Veillonellales-Selenomonadales;f__Veillonellaceae;g__Anaeroglobus;s__Anaeroglobus_geminatus</th>\n",
       "      <th>d__Bacteria;p__Actinobacteriota;c__Actinobacteria;o__Bifidobacteriales;f__Bifidobacteriaceae;g__Alloscardovia;s__Alloscardovia_omnicolens</th>\n",
       "      <th>d__Bacteria;p__Firmicutes;c__Negativicutes;o__Veillonellales-Selenomonadales;f__Veillonellaceae;g__Veillonellaceae;s__uncultured_bacterium</th>\n",
       "      <th>d__Bacteria;p__Actinobacteriota;c__Actinobacteria;o__Actinomycetales;f__Actinomycetaceae;g__Mobiluncus;__</th>\n",
       "    </tr>\n",
       "  </thead>\n",
       "  <tbody>\n",
       "    <tr>\n",
       "      <th>0</th>\n",
       "      <td>0</td>\n",
       "      <td>0.0</td>\n",
       "      <td>0.0</td>\n",
       "      <td>0.0</td>\n",
       "      <td>0.0</td>\n",
       "      <td>0.0</td>\n",
       "      <td>0.0</td>\n",
       "      <td>0.0</td>\n",
       "      <td>0.0</td>\n",
       "      <td>0.0</td>\n",
       "      <td>...</td>\n",
       "      <td>0.0</td>\n",
       "      <td>0.0</td>\n",
       "      <td>0.0</td>\n",
       "      <td>0.0</td>\n",
       "      <td>0.0</td>\n",
       "      <td>0.0</td>\n",
       "      <td>0.0</td>\n",
       "      <td>0.0</td>\n",
       "      <td>0.0</td>\n",
       "      <td>0.0</td>\n",
       "    </tr>\n",
       "    <tr>\n",
       "      <th>1</th>\n",
       "      <td>0</td>\n",
       "      <td>0.0</td>\n",
       "      <td>0.0</td>\n",
       "      <td>0.0</td>\n",
       "      <td>0.0</td>\n",
       "      <td>0.0</td>\n",
       "      <td>0.0</td>\n",
       "      <td>0.0</td>\n",
       "      <td>0.0</td>\n",
       "      <td>0.0</td>\n",
       "      <td>...</td>\n",
       "      <td>0.0</td>\n",
       "      <td>0.0</td>\n",
       "      <td>0.0</td>\n",
       "      <td>0.0</td>\n",
       "      <td>0.0</td>\n",
       "      <td>0.0</td>\n",
       "      <td>0.0</td>\n",
       "      <td>0.0</td>\n",
       "      <td>0.0</td>\n",
       "      <td>0.0</td>\n",
       "    </tr>\n",
       "    <tr>\n",
       "      <th>2</th>\n",
       "      <td>0</td>\n",
       "      <td>0.0</td>\n",
       "      <td>0.0</td>\n",
       "      <td>0.0</td>\n",
       "      <td>0.0</td>\n",
       "      <td>0.0</td>\n",
       "      <td>0.0</td>\n",
       "      <td>0.0</td>\n",
       "      <td>0.0</td>\n",
       "      <td>0.0</td>\n",
       "      <td>...</td>\n",
       "      <td>0.0</td>\n",
       "      <td>0.0</td>\n",
       "      <td>0.0</td>\n",
       "      <td>0.0</td>\n",
       "      <td>0.0</td>\n",
       "      <td>0.0</td>\n",
       "      <td>0.0</td>\n",
       "      <td>0.0</td>\n",
       "      <td>0.0</td>\n",
       "      <td>0.0</td>\n",
       "    </tr>\n",
       "    <tr>\n",
       "      <th>3</th>\n",
       "      <td>0</td>\n",
       "      <td>0.0</td>\n",
       "      <td>0.0</td>\n",
       "      <td>0.0</td>\n",
       "      <td>0.0</td>\n",
       "      <td>0.0</td>\n",
       "      <td>0.0</td>\n",
       "      <td>0.0</td>\n",
       "      <td>0.0</td>\n",
       "      <td>0.0</td>\n",
       "      <td>...</td>\n",
       "      <td>0.0</td>\n",
       "      <td>0.0</td>\n",
       "      <td>0.0</td>\n",
       "      <td>0.0</td>\n",
       "      <td>0.0</td>\n",
       "      <td>0.0</td>\n",
       "      <td>0.0</td>\n",
       "      <td>0.0</td>\n",
       "      <td>0.0</td>\n",
       "      <td>0.0</td>\n",
       "    </tr>\n",
       "    <tr>\n",
       "      <th>4</th>\n",
       "      <td>0</td>\n",
       "      <td>0.0</td>\n",
       "      <td>0.0</td>\n",
       "      <td>0.0</td>\n",
       "      <td>0.0</td>\n",
       "      <td>0.0</td>\n",
       "      <td>0.0</td>\n",
       "      <td>0.0</td>\n",
       "      <td>0.0</td>\n",
       "      <td>0.0</td>\n",
       "      <td>...</td>\n",
       "      <td>0.0</td>\n",
       "      <td>0.0</td>\n",
       "      <td>0.0</td>\n",
       "      <td>0.0</td>\n",
       "      <td>0.0</td>\n",
       "      <td>0.0</td>\n",
       "      <td>0.0</td>\n",
       "      <td>0.0</td>\n",
       "      <td>0.0</td>\n",
       "      <td>0.0</td>\n",
       "    </tr>\n",
       "    <tr>\n",
       "      <th>...</th>\n",
       "      <td>...</td>\n",
       "      <td>...</td>\n",
       "      <td>...</td>\n",
       "      <td>...</td>\n",
       "      <td>...</td>\n",
       "      <td>...</td>\n",
       "      <td>...</td>\n",
       "      <td>...</td>\n",
       "      <td>...</td>\n",
       "      <td>...</td>\n",
       "      <td>...</td>\n",
       "      <td>...</td>\n",
       "      <td>...</td>\n",
       "      <td>...</td>\n",
       "      <td>...</td>\n",
       "      <td>...</td>\n",
       "      <td>...</td>\n",
       "      <td>...</td>\n",
       "      <td>...</td>\n",
       "      <td>...</td>\n",
       "      <td>...</td>\n",
       "    </tr>\n",
       "    <tr>\n",
       "      <th>418</th>\n",
       "      <td>5</td>\n",
       "      <td>0.0</td>\n",
       "      <td>0.0</td>\n",
       "      <td>0.0</td>\n",
       "      <td>0.0</td>\n",
       "      <td>0.0</td>\n",
       "      <td>0.0</td>\n",
       "      <td>0.0</td>\n",
       "      <td>0.0</td>\n",
       "      <td>0.0</td>\n",
       "      <td>...</td>\n",
       "      <td>0.0</td>\n",
       "      <td>0.0</td>\n",
       "      <td>0.0</td>\n",
       "      <td>0.0</td>\n",
       "      <td>0.0</td>\n",
       "      <td>0.0</td>\n",
       "      <td>0.0</td>\n",
       "      <td>0.0</td>\n",
       "      <td>0.0</td>\n",
       "      <td>0.0</td>\n",
       "    </tr>\n",
       "    <tr>\n",
       "      <th>419</th>\n",
       "      <td>5</td>\n",
       "      <td>0.0</td>\n",
       "      <td>0.0</td>\n",
       "      <td>0.0</td>\n",
       "      <td>0.0</td>\n",
       "      <td>0.0</td>\n",
       "      <td>0.0</td>\n",
       "      <td>0.0</td>\n",
       "      <td>0.0</td>\n",
       "      <td>0.0</td>\n",
       "      <td>...</td>\n",
       "      <td>0.0</td>\n",
       "      <td>0.0</td>\n",
       "      <td>0.0</td>\n",
       "      <td>0.0</td>\n",
       "      <td>0.0</td>\n",
       "      <td>0.0</td>\n",
       "      <td>0.0</td>\n",
       "      <td>0.0</td>\n",
       "      <td>0.0</td>\n",
       "      <td>0.0</td>\n",
       "    </tr>\n",
       "    <tr>\n",
       "      <th>420</th>\n",
       "      <td>5</td>\n",
       "      <td>0.0</td>\n",
       "      <td>0.0</td>\n",
       "      <td>0.0</td>\n",
       "      <td>0.0</td>\n",
       "      <td>0.0</td>\n",
       "      <td>0.0</td>\n",
       "      <td>0.0</td>\n",
       "      <td>0.0</td>\n",
       "      <td>0.0</td>\n",
       "      <td>...</td>\n",
       "      <td>0.0</td>\n",
       "      <td>0.0</td>\n",
       "      <td>0.0</td>\n",
       "      <td>0.0</td>\n",
       "      <td>0.0</td>\n",
       "      <td>0.0</td>\n",
       "      <td>0.0</td>\n",
       "      <td>0.0</td>\n",
       "      <td>0.0</td>\n",
       "      <td>0.0</td>\n",
       "    </tr>\n",
       "    <tr>\n",
       "      <th>421</th>\n",
       "      <td>5</td>\n",
       "      <td>0.0</td>\n",
       "      <td>0.0</td>\n",
       "      <td>0.0</td>\n",
       "      <td>0.0</td>\n",
       "      <td>0.0</td>\n",
       "      <td>0.0</td>\n",
       "      <td>0.0</td>\n",
       "      <td>0.0</td>\n",
       "      <td>0.0</td>\n",
       "      <td>...</td>\n",
       "      <td>0.0</td>\n",
       "      <td>0.0</td>\n",
       "      <td>0.0</td>\n",
       "      <td>0.0</td>\n",
       "      <td>0.0</td>\n",
       "      <td>0.0</td>\n",
       "      <td>0.0</td>\n",
       "      <td>0.0</td>\n",
       "      <td>0.0</td>\n",
       "      <td>0.0</td>\n",
       "    </tr>\n",
       "    <tr>\n",
       "      <th>422</th>\n",
       "      <td>5</td>\n",
       "      <td>0.0</td>\n",
       "      <td>0.0</td>\n",
       "      <td>0.0</td>\n",
       "      <td>0.0</td>\n",
       "      <td>0.0</td>\n",
       "      <td>0.0</td>\n",
       "      <td>0.0</td>\n",
       "      <td>0.0</td>\n",
       "      <td>0.0</td>\n",
       "      <td>...</td>\n",
       "      <td>0.0</td>\n",
       "      <td>0.0</td>\n",
       "      <td>0.0</td>\n",
       "      <td>0.0</td>\n",
       "      <td>0.0</td>\n",
       "      <td>0.0</td>\n",
       "      <td>0.0</td>\n",
       "      <td>0.0</td>\n",
       "      <td>0.0</td>\n",
       "      <td>0.0</td>\n",
       "    </tr>\n",
       "  </tbody>\n",
       "</table>\n",
       "<p>423 rows × 503 columns</p>\n",
       "</div>"
      ],
      "text/plain": [
       "     0  \\\n",
       "0    0   \n",
       "1    0   \n",
       "2    0   \n",
       "3    0   \n",
       "4    0   \n",
       "..  ..   \n",
       "418  5   \n",
       "419  5   \n",
       "420  5   \n",
       "421  5   \n",
       "422  5   \n",
       "\n",
       "     k:Bacteria;p:Bacteroidetes;c:Bacteroidia;o:Bacteroidales;f:Muribaculaceae;g:NA;s:NA  \\\n",
       "0                                                  0.0                                     \n",
       "1                                                  0.0                                     \n",
       "2                                                  0.0                                     \n",
       "3                                                  0.0                                     \n",
       "4                                                  0.0                                     \n",
       "..                                                 ...                                     \n",
       "418                                                0.0                                     \n",
       "419                                                0.0                                     \n",
       "420                                                0.0                                     \n",
       "421                                                0.0                                     \n",
       "422                                                0.0                                     \n",
       "\n",
       "     k:Bacteria;p:Proteobacteria;c:Gammaproteobacteria;o:Enterobacteriales;f:Enterobacteriaceae;g:Escherichia/Shigella;s:NA  \\\n",
       "0                                                  0.0                                                                        \n",
       "1                                                  0.0                                                                        \n",
       "2                                                  0.0                                                                        \n",
       "3                                                  0.0                                                                        \n",
       "4                                                  0.0                                                                        \n",
       "..                                                 ...                                                                        \n",
       "418                                                0.0                                                                        \n",
       "419                                                0.0                                                                        \n",
       "420                                                0.0                                                                        \n",
       "421                                                0.0                                                                        \n",
       "422                                                0.0                                                                        \n",
       "\n",
       "     k:Bacteria;p:Firmicutes;c:Bacilli;o:Lactobacillales;f:Lactobacillaceae;g:Lactobacillus;s:NA  \\\n",
       "0                                                  0.0                                             \n",
       "1                                                  0.0                                             \n",
       "2                                                  0.0                                             \n",
       "3                                                  0.0                                             \n",
       "4                                                  0.0                                             \n",
       "..                                                 ...                                             \n",
       "418                                                0.0                                             \n",
       "419                                                0.0                                             \n",
       "420                                                0.0                                             \n",
       "421                                                0.0                                             \n",
       "422                                                0.0                                             \n",
       "\n",
       "     k:Bacteria;p:Bacteroidetes;c:Bacteroidia;o:Bacteroidales;f:Bacteroidaceae;g:Bacteroides;s:NA  \\\n",
       "0                                                  0.0                                              \n",
       "1                                                  0.0                                              \n",
       "2                                                  0.0                                              \n",
       "3                                                  0.0                                              \n",
       "4                                                  0.0                                              \n",
       "..                                                 ...                                              \n",
       "418                                                0.0                                              \n",
       "419                                                0.0                                              \n",
       "420                                                0.0                                              \n",
       "421                                                0.0                                              \n",
       "422                                                0.0                                              \n",
       "\n",
       "     k:Bacteria;p:Firmicutes;c:Clostridia;o:Clostridiales;f:Lachnospiraceae;g:NA;s:NA  \\\n",
       "0                                                  0.0                                  \n",
       "1                                                  0.0                                  \n",
       "2                                                  0.0                                  \n",
       "3                                                  0.0                                  \n",
       "4                                                  0.0                                  \n",
       "..                                                 ...                                  \n",
       "418                                                0.0                                  \n",
       "419                                                0.0                                  \n",
       "420                                                0.0                                  \n",
       "421                                                0.0                                  \n",
       "422                                                0.0                                  \n",
       "\n",
       "     k:Bacteria;p:Firmicutes;c:Clostridia;o:Clostridiales;f:Ruminococcaceae;g:NA;s:NA  \\\n",
       "0                                                  0.0                                  \n",
       "1                                                  0.0                                  \n",
       "2                                                  0.0                                  \n",
       "3                                                  0.0                                  \n",
       "4                                                  0.0                                  \n",
       "..                                                 ...                                  \n",
       "418                                                0.0                                  \n",
       "419                                                0.0                                  \n",
       "420                                                0.0                                  \n",
       "421                                                0.0                                  \n",
       "422                                                0.0                                  \n",
       "\n",
       "     k:Bacteria;p:Bacteroidetes;c:Bacteroidia;o:Bacteroidales;f:Rikenellaceae;g:Rikenellaceae_RC9_gut_group;s:NA  \\\n",
       "0                                                  0.0                                                             \n",
       "1                                                  0.0                                                             \n",
       "2                                                  0.0                                                             \n",
       "3                                                  0.0                                                             \n",
       "4                                                  0.0                                                             \n",
       "..                                                 ...                                                             \n",
       "418                                                0.0                                                             \n",
       "419                                                0.0                                                             \n",
       "420                                                0.0                                                             \n",
       "421                                                0.0                                                             \n",
       "422                                                0.0                                                             \n",
       "\n",
       "     k:Bacteria;p:Bacteroidetes;c:Bacteroidia;o:Bacteroidales;f:Prevotellaceae;g:Alloprevotella;s:NA  \\\n",
       "0                                                  0.0                                                 \n",
       "1                                                  0.0                                                 \n",
       "2                                                  0.0                                                 \n",
       "3                                                  0.0                                                 \n",
       "4                                                  0.0                                                 \n",
       "..                                                 ...                                                 \n",
       "418                                                0.0                                                 \n",
       "419                                                0.0                                                 \n",
       "420                                                0.0                                                 \n",
       "421                                                0.0                                                 \n",
       "422                                                0.0                                                 \n",
       "\n",
       "     k:Bacteria;p:Firmicutes;c:Clostridia;o:Clostridiales;f:Ruminococcaceae;g:Ruminococcaceae_UCG-014;s:NA  \\\n",
       "0                                                  0.0                                                       \n",
       "1                                                  0.0                                                       \n",
       "2                                                  0.0                                                       \n",
       "3                                                  0.0                                                       \n",
       "4                                                  0.0                                                       \n",
       "..                                                 ...                                                       \n",
       "418                                                0.0                                                       \n",
       "419                                                0.0                                                       \n",
       "420                                                0.0                                                       \n",
       "421                                                0.0                                                       \n",
       "422                                                0.0                                                       \n",
       "\n",
       "     ...  \\\n",
       "0    ...   \n",
       "1    ...   \n",
       "2    ...   \n",
       "3    ...   \n",
       "4    ...   \n",
       "..   ...   \n",
       "418  ...   \n",
       "419  ...   \n",
       "420  ...   \n",
       "421  ...   \n",
       "422  ...   \n",
       "\n",
       "     d__Bacteria;p__Campilobacterota;c__Campylobacteria;o__Campylobacterales;f__Campylobacteraceae;g__Campylobacter;__  \\\n",
       "0                                                  0.0                                                                   \n",
       "1                                                  0.0                                                                   \n",
       "2                                                  0.0                                                                   \n",
       "3                                                  0.0                                                                   \n",
       "4                                                  0.0                                                                   \n",
       "..                                                 ...                                                                   \n",
       "418                                                0.0                                                                   \n",
       "419                                                0.0                                                                   \n",
       "420                                                0.0                                                                   \n",
       "421                                                0.0                                                                   \n",
       "422                                                0.0                                                                   \n",
       "\n",
       "     d__Bacteria;p__Synergistota;c__Synergistia;o__Synergistales;f__Synergistaceae;g__Jonquetella;s__Jonquetella_anthropi  \\\n",
       "0                                                  0.0                                                                      \n",
       "1                                                  0.0                                                                      \n",
       "2                                                  0.0                                                                      \n",
       "3                                                  0.0                                                                      \n",
       "4                                                  0.0                                                                      \n",
       "..                                                 ...                                                                      \n",
       "418                                                0.0                                                                      \n",
       "419                                                0.0                                                                      \n",
       "420                                                0.0                                                                      \n",
       "421                                                0.0                                                                      \n",
       "422                                                0.0                                                                      \n",
       "\n",
       "     d__Bacteria;p__Firmicutes;c__Clostridia;o__Clostridia;f__Hungateiclostridiaceae;g__Fastidiosipila;s__Fastidiosipila_sanguinis  \\\n",
       "0                                                  0.0                                                                               \n",
       "1                                                  0.0                                                                               \n",
       "2                                                  0.0                                                                               \n",
       "3                                                  0.0                                                                               \n",
       "4                                                  0.0                                                                               \n",
       "..                                                 ...                                                                               \n",
       "418                                                0.0                                                                               \n",
       "419                                                0.0                                                                               \n",
       "420                                                0.0                                                                               \n",
       "421                                                0.0                                                                               \n",
       "422                                                0.0                                                                               \n",
       "\n",
       "     d__Bacteria;p__Fusobacteriota;c__Fusobacteriia;o__Fusobacteriales;f__Leptotrichiaceae;g__Sneathia;__  \\\n",
       "0                                                  0.0                                                      \n",
       "1                                                  0.0                                                      \n",
       "2                                                  0.0                                                      \n",
       "3                                                  0.0                                                      \n",
       "4                                                  0.0                                                      \n",
       "..                                                 ...                                                      \n",
       "418                                                0.0                                                      \n",
       "419                                                0.0                                                      \n",
       "420                                                0.0                                                      \n",
       "421                                                0.0                                                      \n",
       "422                                                0.0                                                      \n",
       "\n",
       "     d__Bacteria;p__Firmicutes;c__Clostridia;o__Lachnospirales;f__Lachnospiraceae;g__Shuttleworthia;s__uncultured_bacterium  \\\n",
       "0                                                  0.0                                                                        \n",
       "1                                                  0.0                                                                        \n",
       "2                                                  0.0                                                                        \n",
       "3                                                  0.0                                                                        \n",
       "4                                                  0.0                                                                        \n",
       "..                                                 ...                                                                        \n",
       "418                                                0.0                                                                        \n",
       "419                                                0.0                                                                        \n",
       "420                                                0.0                                                                        \n",
       "421                                                0.0                                                                        \n",
       "422                                                0.0                                                                        \n",
       "\n",
       "     d__Bacteria;p__Firmicutes;c__Bacilli;o__Lactobacillales;f__Lactobacillaceae;g__Lactobacillus;s__Lactobacillus_coleohominis  \\\n",
       "0                                                  0.0                                                                            \n",
       "1                                                  0.0                                                                            \n",
       "2                                                  0.0                                                                            \n",
       "3                                                  0.0                                                                            \n",
       "4                                                  0.0                                                                            \n",
       "..                                                 ...                                                                            \n",
       "418                                                0.0                                                                            \n",
       "419                                                0.0                                                                            \n",
       "420                                                0.0                                                                            \n",
       "421                                                0.0                                                                            \n",
       "422                                                0.0                                                                            \n",
       "\n",
       "     d__Bacteria;p__Firmicutes;c__Negativicutes;o__Veillonellales-Selenomonadales;f__Veillonellaceae;g__Anaeroglobus;s__Anaeroglobus_geminatus  \\\n",
       "0                                                  0.0                                                                                           \n",
       "1                                                  0.0                                                                                           \n",
       "2                                                  0.0                                                                                           \n",
       "3                                                  0.0                                                                                           \n",
       "4                                                  0.0                                                                                           \n",
       "..                                                 ...                                                                                           \n",
       "418                                                0.0                                                                                           \n",
       "419                                                0.0                                                                                           \n",
       "420                                                0.0                                                                                           \n",
       "421                                                0.0                                                                                           \n",
       "422                                                0.0                                                                                           \n",
       "\n",
       "     d__Bacteria;p__Actinobacteriota;c__Actinobacteria;o__Bifidobacteriales;f__Bifidobacteriaceae;g__Alloscardovia;s__Alloscardovia_omnicolens  \\\n",
       "0                                                  0.0                                                                                           \n",
       "1                                                  0.0                                                                                           \n",
       "2                                                  0.0                                                                                           \n",
       "3                                                  0.0                                                                                           \n",
       "4                                                  0.0                                                                                           \n",
       "..                                                 ...                                                                                           \n",
       "418                                                0.0                                                                                           \n",
       "419                                                0.0                                                                                           \n",
       "420                                                0.0                                                                                           \n",
       "421                                                0.0                                                                                           \n",
       "422                                                0.0                                                                                           \n",
       "\n",
       "     d__Bacteria;p__Firmicutes;c__Negativicutes;o__Veillonellales-Selenomonadales;f__Veillonellaceae;g__Veillonellaceae;s__uncultured_bacterium  \\\n",
       "0                                                  0.0                                                                                            \n",
       "1                                                  0.0                                                                                            \n",
       "2                                                  0.0                                                                                            \n",
       "3                                                  0.0                                                                                            \n",
       "4                                                  0.0                                                                                            \n",
       "..                                                 ...                                                                                            \n",
       "418                                                0.0                                                                                            \n",
       "419                                                0.0                                                                                            \n",
       "420                                                0.0                                                                                            \n",
       "421                                                0.0                                                                                            \n",
       "422                                                0.0                                                                                            \n",
       "\n",
       "     d__Bacteria;p__Actinobacteriota;c__Actinobacteria;o__Actinomycetales;f__Actinomycetaceae;g__Mobiluncus;__  \n",
       "0                                                  0.0                                                          \n",
       "1                                                  0.0                                                          \n",
       "2                                                  0.0                                                          \n",
       "3                                                  0.0                                                          \n",
       "4                                                  0.0                                                          \n",
       "..                                                 ...                                                          \n",
       "418                                                0.0                                                          \n",
       "419                                                0.0                                                          \n",
       "420                                                0.0                                                          \n",
       "421                                                0.0                                                          \n",
       "422                                                0.0                                                          \n",
       "\n",
       "[423 rows x 503 columns]"
      ]
     },
     "execution_count": 10,
     "metadata": {},
     "output_type": "execute_result"
    }
   ],
   "source": [
    "df_with_batch"
   ]
  },
  {
   "cell_type": "code",
   "execution_count": 8,
   "id": "0e0a655b",
   "metadata": {},
   "outputs": [
    {
     "data": {
      "text/plain": [
       "PL_SBCMP(\n",
       "  (linear): Linear(in_features=502, out_features=2, bias=True)\n",
       ")"
      ]
     },
     "execution_count": 8,
     "metadata": {},
     "output_type": "execute_result"
    }
   ],
   "source": [
    "i=0\n",
    "results_dict['models']['debias-m'][i]"
   ]
  }
 ],
 "metadata": {
  "kernelspec": {
   "display_name": "pl2",
   "language": "python",
   "name": "pl2"
  },
  "language_info": {
   "codemirror_mode": {
    "name": "ipython",
    "version": 3
   },
   "file_extension": ".py",
   "mimetype": "text/x-python",
   "name": "python",
   "nbconvert_exporter": "python",
   "pygments_lexer": "ipython3",
   "version": "3.6.15"
  }
 },
 "nbformat": 4,
 "nbformat_minor": 5
}
