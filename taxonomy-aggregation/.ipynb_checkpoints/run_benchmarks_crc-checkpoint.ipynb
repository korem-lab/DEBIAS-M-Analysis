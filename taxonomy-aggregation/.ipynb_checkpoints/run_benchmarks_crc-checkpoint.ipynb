{
 "cells": [
  {
   "cell_type": "code",
   "execution_count": 1,
   "id": "2e208e45",
   "metadata": {},
   "outputs": [],
   "source": [
    "import numpy as np\n",
    "import pandas as pd\n",
    "import matplotlib.pyplot as plt\n",
    "import seaborn as sns\n",
    "import sys\n",
    "sys.path.append('../v1-DEBIAS-M-Analysis/')\n",
    "from General_functions import data_loading, plotting\n",
    "from sklearn.model_selection import LeaveOneGroupOut\n",
    "from sklearn.linear_model import LogisticRegression\n",
    "from debiasm import DebiasMClassifier\n",
    "import torch\n",
    "from sklearn.metrics import roc_auc_score\n",
    "from debiasm.torch_functions import rescale\n",
    "import os"
   ]
  },
  {
   "cell_type": "code",
   "execution_count": 2,
   "id": "82cb4735",
   "metadata": {},
   "outputs": [],
   "source": [
    "df, md = data_loading.load_CRC('../data/CRC/')\n",
    "df_with_batch = pd.concat([pd.Series( pd.Categorical(md.Study).codes, \n",
    "                                         index=md.index), df], axis=1)    \n",
    "y=md.label"
   ]
  },
  {
   "cell_type": "code",
   "execution_count": 4,
   "id": "0c6e9e98",
   "metadata": {},
   "outputs": [],
   "source": [
    "grouping_map={'Genus':'s__', \n",
    "              'Family':'g__'\n",
    "              }\n",
    "\n",
    "def get_aggregated_df(df, group_val):\n",
    "    df_tmp = df.T\n",
    "    df_tmp['Phylo'] = df_tmp.index.str.split(group_val).str[0]\n",
    "    return( df_tmp.groupby('Phylo')[df_tmp.columns[:-1]].sum().T )\n",
    "\n",
    "aggregated_dfs = { a:get_aggregated_df(df, b)\n",
    "                   for a,b in grouping_map.items() }"
   ]
  },
  {
   "cell_type": "code",
   "execution_count": 5,
   "id": "677d4fe9",
   "metadata": {},
   "outputs": [],
   "source": [
    "from debiasm.sklearn_functions import batch_weight_feature_and_nbatchpairs_scaling"
   ]
  },
  {
   "cell_type": "code",
   "execution_count": 6,
   "id": "f7aae4da",
   "metadata": {
    "scrolled": true
   },
   "outputs": [
    {
     "name": "stderr",
     "output_type": "stream",
     "text": [
      "/Users/george/opt/anaconda3/envs/pl2/lib/python3.6/site-packages/debiasm/torch_functions.py:22: FutureWarning: Support for multi-dimensional indexing (e.g. `obj[:, None]`) is deprecated and will be removed in a future version.  Convert to a numpy array before indexing instead.\n",
      "  return(xx/xx.sum(axis=1)[:, np.newaxis] )\n",
      "/Users/george/opt/anaconda3/envs/pl2/lib/python3.6/site-packages/pytorch_lightning/trainer/connectors/callback_connector.py:148: LightningDeprecationWarning: Setting `Trainer(checkpoint_callback=False)` is deprecated in v1.5 and will be removed in v1.7. Please consider using `Trainer(enable_checkpointing=False)`.\n",
      "  f\"Setting `Trainer(checkpoint_callback={checkpoint_callback})` is deprecated in v1.5 and will \"\n",
      "/Users/george/opt/anaconda3/envs/pl2/lib/python3.6/site-packages/pytorch_lightning/trainer/connectors/callback_connector.py:91: LightningDeprecationWarning: Setting `Trainer(progress_bar_refresh_rate=0)` is deprecated in v1.5 and will be removed in v1.7. Please pass `pytorch_lightning.callbacks.progress.TQDMProgressBar` with `refresh_rate` directly to the Trainer's `callbacks` argument instead. Or, to disable the progress bar pass `enable_progress_bar = False` to the Trainer.\n",
      "  f\"Setting `Trainer(progress_bar_refresh_rate={progress_bar_refresh_rate})` is deprecated in v1.5 and\"\n",
      "/Users/george/opt/anaconda3/envs/pl2/lib/python3.6/site-packages/pytorch_lightning/trainer/connectors/callback_connector.py:168: LightningDeprecationWarning: Setting `Trainer(weights_summary=None)` is deprecated in v1.5 and will be removed in v1.7. Please set `Trainer(enable_model_summary=False)` instead.\n",
      "  \"Setting `Trainer(weights_summary=None)` is deprecated in v1.5 and will be removed\"\n",
      "GPU available: False, used: False\n",
      "TPU available: False, using: 0 TPU cores\n",
      "IPU available: False, using: 0 IPUs\n",
      "/Users/george/opt/anaconda3/envs/pl2/lib/python3.6/site-packages/pytorch_lightning/trainer/data_loading.py:133: UserWarning: The dataloader, val_dataloader 0, does not have many workers which may be a bottleneck. Consider increasing the value of the `num_workers` argument` (try 8 which is the number of cpus on this machine) in the `DataLoader` init to improve performance.\n",
      "  f\"The dataloader, {name}, does not have many workers which may be a bottleneck.\"\n",
      "/Users/george/opt/anaconda3/envs/pl2/lib/python3.6/site-packages/debiasm/torch_functions.py:75: UserWarning: Implicit dimension choice for softmax has been deprecated. Change the call to include dim=X as an argument.\n",
      "  y_hat = softmax(x)\n",
      "/Users/george/opt/anaconda3/envs/pl2/lib/python3.6/site-packages/pytorch_lightning/trainer/data_loading.py:133: UserWarning: The dataloader, train_dataloader, does not have many workers which may be a bottleneck. Consider increasing the value of the `num_workers` argument` (try 8 which is the number of cpus on this machine) in the `DataLoader` init to improve performance.\n",
      "  f\"The dataloader, {name}, does not have many workers which may be a bottleneck.\"\n",
      "/Users/george/opt/anaconda3/envs/pl2/lib/python3.6/site-packages/pytorch_lightning/trainer/connectors/callback_connector.py:148: LightningDeprecationWarning: Setting `Trainer(checkpoint_callback=False)` is deprecated in v1.5 and will be removed in v1.7. Please consider using `Trainer(enable_checkpointing=False)`.\n",
      "  f\"Setting `Trainer(checkpoint_callback={checkpoint_callback})` is deprecated in v1.5 and will \"\n",
      "/Users/george/opt/anaconda3/envs/pl2/lib/python3.6/site-packages/pytorch_lightning/trainer/connectors/callback_connector.py:91: LightningDeprecationWarning: Setting `Trainer(progress_bar_refresh_rate=0)` is deprecated in v1.5 and will be removed in v1.7. Please pass `pytorch_lightning.callbacks.progress.TQDMProgressBar` with `refresh_rate` directly to the Trainer's `callbacks` argument instead. Or, to disable the progress bar pass `enable_progress_bar = False` to the Trainer.\n",
      "  f\"Setting `Trainer(progress_bar_refresh_rate={progress_bar_refresh_rate})` is deprecated in v1.5 and\"\n",
      "/Users/george/opt/anaconda3/envs/pl2/lib/python3.6/site-packages/pytorch_lightning/trainer/connectors/callback_connector.py:168: LightningDeprecationWarning: Setting `Trainer(weights_summary=None)` is deprecated in v1.5 and will be removed in v1.7. Please set `Trainer(enable_model_summary=False)` instead.\n",
      "  \"Setting `Trainer(weights_summary=None)` is deprecated in v1.5 and will be removed\"\n",
      "GPU available: False, used: False\n",
      "TPU available: False, using: 0 TPU cores\n",
      "IPU available: False, using: 0 IPUs\n"
     ]
    },
    {
     "name": "stdout",
     "output_type": "stream",
     "text": [
      "Aggregation\n",
      "['Genus']\n",
      "Base:\n",
      "[0.7576621525302922]\n",
      "DEBIAS-M:\n",
      "[0.7270135424091233]\n"
     ]
    },
    {
     "name": "stderr",
     "output_type": "stream",
     "text": [
      "/Users/george/opt/anaconda3/envs/pl2/lib/python3.6/site-packages/pytorch_lightning/trainer/data_loading.py:133: UserWarning: The dataloader, val_dataloader 0, does not have many workers which may be a bottleneck. Consider increasing the value of the `num_workers` argument` (try 8 which is the number of cpus on this machine) in the `DataLoader` init to improve performance.\n",
      "  f\"The dataloader, {name}, does not have many workers which may be a bottleneck.\"\n",
      "/Users/george/opt/anaconda3/envs/pl2/lib/python3.6/site-packages/debiasm/torch_functions.py:75: UserWarning: Implicit dimension choice for softmax has been deprecated. Change the call to include dim=X as an argument.\n",
      "  y_hat = softmax(x)\n",
      "/Users/george/opt/anaconda3/envs/pl2/lib/python3.6/site-packages/pytorch_lightning/trainer/data_loading.py:133: UserWarning: The dataloader, train_dataloader, does not have many workers which may be a bottleneck. Consider increasing the value of the `num_workers` argument` (try 8 which is the number of cpus on this machine) in the `DataLoader` init to improve performance.\n",
      "  f\"The dataloader, {name}, does not have many workers which may be a bottleneck.\"\n",
      "Trainer was signaled to stop but required minimum epochs (25) or minimum steps (None) has not been met. Training will continue...\n",
      "Trainer was signaled to stop but required minimum epochs (25) or minimum steps (None) has not been met. Training will continue...\n",
      "Trainer was signaled to stop but required minimum epochs (25) or minimum steps (None) has not been met. Training will continue...\n",
      "Trainer was signaled to stop but required minimum epochs (25) or minimum steps (None) has not been met. Training will continue...\n",
      "Trainer was signaled to stop but required minimum epochs (25) or minimum steps (None) has not been met. Training will continue...\n",
      "Trainer was signaled to stop but required minimum epochs (25) or minimum steps (None) has not been met. Training will continue...\n",
      "Trainer was signaled to stop but required minimum epochs (25) or minimum steps (None) has not been met. Training will continue...\n",
      "Trainer was signaled to stop but required minimum epochs (25) or minimum steps (None) has not been met. Training will continue...\n",
      "Trainer was signaled to stop but required minimum epochs (25) or minimum steps (None) has not been met. Training will continue...\n",
      "Trainer was signaled to stop but required minimum epochs (25) or minimum steps (None) has not been met. Training will continue...\n",
      "/Users/george/opt/anaconda3/envs/pl2/lib/python3.6/site-packages/pytorch_lightning/trainer/connectors/callback_connector.py:148: LightningDeprecationWarning: Setting `Trainer(checkpoint_callback=False)` is deprecated in v1.5 and will be removed in v1.7. Please consider using `Trainer(enable_checkpointing=False)`.\n",
      "  f\"Setting `Trainer(checkpoint_callback={checkpoint_callback})` is deprecated in v1.5 and will \"\n",
      "/Users/george/opt/anaconda3/envs/pl2/lib/python3.6/site-packages/pytorch_lightning/trainer/connectors/callback_connector.py:91: LightningDeprecationWarning: Setting `Trainer(progress_bar_refresh_rate=0)` is deprecated in v1.5 and will be removed in v1.7. Please pass `pytorch_lightning.callbacks.progress.TQDMProgressBar` with `refresh_rate` directly to the Trainer's `callbacks` argument instead. Or, to disable the progress bar pass `enable_progress_bar = False` to the Trainer.\n",
      "  f\"Setting `Trainer(progress_bar_refresh_rate={progress_bar_refresh_rate})` is deprecated in v1.5 and\"\n",
      "/Users/george/opt/anaconda3/envs/pl2/lib/python3.6/site-packages/pytorch_lightning/trainer/connectors/callback_connector.py:168: LightningDeprecationWarning: Setting `Trainer(weights_summary=None)` is deprecated in v1.5 and will be removed in v1.7. Please set `Trainer(enable_model_summary=False)` instead.\n",
      "  \"Setting `Trainer(weights_summary=None)` is deprecated in v1.5 and will be removed\"\n",
      "GPU available: False, used: False\n",
      "TPU available: False, using: 0 TPU cores\n",
      "IPU available: False, using: 0 IPUs\n"
     ]
    },
    {
     "name": "stdout",
     "output_type": "stream",
     "text": [
      "Aggregation\n",
      "['Genus', 'Genus']\n",
      "Base:\n",
      "[0.7576621525302922, 0.8333333333333334]\n",
      "DEBIAS-M:\n",
      "[0.7270135424091233, 0.8044444444444444]\n"
     ]
    },
    {
     "name": "stderr",
     "output_type": "stream",
     "text": [
      "/Users/george/opt/anaconda3/envs/pl2/lib/python3.6/site-packages/pytorch_lightning/trainer/data_loading.py:133: UserWarning: The dataloader, val_dataloader 0, does not have many workers which may be a bottleneck. Consider increasing the value of the `num_workers` argument` (try 8 which is the number of cpus on this machine) in the `DataLoader` init to improve performance.\n",
      "  f\"The dataloader, {name}, does not have many workers which may be a bottleneck.\"\n",
      "/Users/george/opt/anaconda3/envs/pl2/lib/python3.6/site-packages/debiasm/torch_functions.py:75: UserWarning: Implicit dimension choice for softmax has been deprecated. Change the call to include dim=X as an argument.\n",
      "  y_hat = softmax(x)\n",
      "/Users/george/opt/anaconda3/envs/pl2/lib/python3.6/site-packages/pytorch_lightning/trainer/data_loading.py:133: UserWarning: The dataloader, train_dataloader, does not have many workers which may be a bottleneck. Consider increasing the value of the `num_workers` argument` (try 8 which is the number of cpus on this machine) in the `DataLoader` init to improve performance.\n",
      "  f\"The dataloader, {name}, does not have many workers which may be a bottleneck.\"\n",
      "/Users/george/opt/anaconda3/envs/pl2/lib/python3.6/site-packages/pytorch_lightning/trainer/connectors/callback_connector.py:148: LightningDeprecationWarning: Setting `Trainer(checkpoint_callback=False)` is deprecated in v1.5 and will be removed in v1.7. Please consider using `Trainer(enable_checkpointing=False)`.\n",
      "  f\"Setting `Trainer(checkpoint_callback={checkpoint_callback})` is deprecated in v1.5 and will \"\n",
      "/Users/george/opt/anaconda3/envs/pl2/lib/python3.6/site-packages/pytorch_lightning/trainer/connectors/callback_connector.py:91: LightningDeprecationWarning: Setting `Trainer(progress_bar_refresh_rate=0)` is deprecated in v1.5 and will be removed in v1.7. Please pass `pytorch_lightning.callbacks.progress.TQDMProgressBar` with `refresh_rate` directly to the Trainer's `callbacks` argument instead. Or, to disable the progress bar pass `enable_progress_bar = False` to the Trainer.\n",
      "  f\"Setting `Trainer(progress_bar_refresh_rate={progress_bar_refresh_rate})` is deprecated in v1.5 and\"\n",
      "/Users/george/opt/anaconda3/envs/pl2/lib/python3.6/site-packages/pytorch_lightning/trainer/connectors/callback_connector.py:168: LightningDeprecationWarning: Setting `Trainer(weights_summary=None)` is deprecated in v1.5 and will be removed in v1.7. Please set `Trainer(enable_model_summary=False)` instead.\n",
      "  \"Setting `Trainer(weights_summary=None)` is deprecated in v1.5 and will be removed\"\n",
      "GPU available: False, used: False\n",
      "TPU available: False, using: 0 TPU cores\n",
      "IPU available: False, using: 0 IPUs\n"
     ]
    },
    {
     "name": "stdout",
     "output_type": "stream",
     "text": [
      "Aggregation\n",
      "['Genus', 'Genus', 'Genus']\n",
      "Base:\n",
      "[0.7576621525302922, 0.8333333333333334, 0.6997354497354498]\n",
      "DEBIAS-M:\n",
      "[0.7270135424091233, 0.8044444444444444, 0.6521164021164021]\n"
     ]
    },
    {
     "name": "stderr",
     "output_type": "stream",
     "text": [
      "/Users/george/opt/anaconda3/envs/pl2/lib/python3.6/site-packages/pytorch_lightning/trainer/data_loading.py:133: UserWarning: The dataloader, val_dataloader 0, does not have many workers which may be a bottleneck. Consider increasing the value of the `num_workers` argument` (try 8 which is the number of cpus on this machine) in the `DataLoader` init to improve performance.\n",
      "  f\"The dataloader, {name}, does not have many workers which may be a bottleneck.\"\n",
      "/Users/george/opt/anaconda3/envs/pl2/lib/python3.6/site-packages/debiasm/torch_functions.py:75: UserWarning: Implicit dimension choice for softmax has been deprecated. Change the call to include dim=X as an argument.\n",
      "  y_hat = softmax(x)\n",
      "/Users/george/opt/anaconda3/envs/pl2/lib/python3.6/site-packages/pytorch_lightning/trainer/data_loading.py:133: UserWarning: The dataloader, train_dataloader, does not have many workers which may be a bottleneck. Consider increasing the value of the `num_workers` argument` (try 8 which is the number of cpus on this machine) in the `DataLoader` init to improve performance.\n",
      "  f\"The dataloader, {name}, does not have many workers which may be a bottleneck.\"\n",
      "Trainer was signaled to stop but required minimum epochs (25) or minimum steps (None) has not been met. Training will continue...\n",
      "/Users/george/opt/anaconda3/envs/pl2/lib/python3.6/site-packages/pytorch_lightning/trainer/connectors/callback_connector.py:148: LightningDeprecationWarning: Setting `Trainer(checkpoint_callback=False)` is deprecated in v1.5 and will be removed in v1.7. Please consider using `Trainer(enable_checkpointing=False)`.\n",
      "  f\"Setting `Trainer(checkpoint_callback={checkpoint_callback})` is deprecated in v1.5 and will \"\n",
      "/Users/george/opt/anaconda3/envs/pl2/lib/python3.6/site-packages/pytorch_lightning/trainer/connectors/callback_connector.py:91: LightningDeprecationWarning: Setting `Trainer(progress_bar_refresh_rate=0)` is deprecated in v1.5 and will be removed in v1.7. Please pass `pytorch_lightning.callbacks.progress.TQDMProgressBar` with `refresh_rate` directly to the Trainer's `callbacks` argument instead. Or, to disable the progress bar pass `enable_progress_bar = False` to the Trainer.\n",
      "  f\"Setting `Trainer(progress_bar_refresh_rate={progress_bar_refresh_rate})` is deprecated in v1.5 and\"\n",
      "/Users/george/opt/anaconda3/envs/pl2/lib/python3.6/site-packages/pytorch_lightning/trainer/connectors/callback_connector.py:168: LightningDeprecationWarning: Setting `Trainer(weights_summary=None)` is deprecated in v1.5 and will be removed in v1.7. Please set `Trainer(enable_model_summary=False)` instead.\n",
      "  \"Setting `Trainer(weights_summary=None)` is deprecated in v1.5 and will be removed\"\n",
      "GPU available: False, used: False\n",
      "TPU available: False, using: 0 TPU cores\n",
      "IPU available: False, using: 0 IPUs\n"
     ]
    },
    {
     "name": "stdout",
     "output_type": "stream",
     "text": [
      "Aggregation\n",
      "['Genus', 'Genus', 'Genus', 'Genus']\n",
      "Base:\n",
      "[0.7576621525302922, 0.8333333333333334, 0.6997354497354498, 0.6681034482758621]\n",
      "DEBIAS-M:\n",
      "[0.7270135424091233, 0.8044444444444444, 0.6521164021164021, 0.757183908045977]\n"
     ]
    },
    {
     "name": "stderr",
     "output_type": "stream",
     "text": [
      "/Users/george/opt/anaconda3/envs/pl2/lib/python3.6/site-packages/pytorch_lightning/trainer/data_loading.py:133: UserWarning: The dataloader, val_dataloader 0, does not have many workers which may be a bottleneck. Consider increasing the value of the `num_workers` argument` (try 8 which is the number of cpus on this machine) in the `DataLoader` init to improve performance.\n",
      "  f\"The dataloader, {name}, does not have many workers which may be a bottleneck.\"\n",
      "/Users/george/opt/anaconda3/envs/pl2/lib/python3.6/site-packages/debiasm/torch_functions.py:75: UserWarning: Implicit dimension choice for softmax has been deprecated. Change the call to include dim=X as an argument.\n",
      "  y_hat = softmax(x)\n",
      "/Users/george/opt/anaconda3/envs/pl2/lib/python3.6/site-packages/pytorch_lightning/trainer/data_loading.py:133: UserWarning: The dataloader, train_dataloader, does not have many workers which may be a bottleneck. Consider increasing the value of the `num_workers` argument` (try 8 which is the number of cpus on this machine) in the `DataLoader` init to improve performance.\n",
      "  f\"The dataloader, {name}, does not have many workers which may be a bottleneck.\"\n",
      "Trainer was signaled to stop but required minimum epochs (25) or minimum steps (None) has not been met. Training will continue...\n",
      "Trainer was signaled to stop but required minimum epochs (25) or minimum steps (None) has not been met. Training will continue...\n",
      "Trainer was signaled to stop but required minimum epochs (25) or minimum steps (None) has not been met. Training will continue...\n",
      "Trainer was signaled to stop but required minimum epochs (25) or minimum steps (None) has not been met. Training will continue...\n",
      "Trainer was signaled to stop but required minimum epochs (25) or minimum steps (None) has not been met. Training will continue...\n",
      "Trainer was signaled to stop but required minimum epochs (25) or minimum steps (None) has not been met. Training will continue...\n",
      "Trainer was signaled to stop but required minimum epochs (25) or minimum steps (None) has not been met. Training will continue...\n",
      "Trainer was signaled to stop but required minimum epochs (25) or minimum steps (None) has not been met. Training will continue...\n",
      "Trainer was signaled to stop but required minimum epochs (25) or minimum steps (None) has not been met. Training will continue...\n",
      "Trainer was signaled to stop but required minimum epochs (25) or minimum steps (None) has not been met. Training will continue...\n",
      "/Users/george/opt/anaconda3/envs/pl2/lib/python3.6/site-packages/pytorch_lightning/trainer/connectors/callback_connector.py:148: LightningDeprecationWarning: Setting `Trainer(checkpoint_callback=False)` is deprecated in v1.5 and will be removed in v1.7. Please consider using `Trainer(enable_checkpointing=False)`.\n",
      "  f\"Setting `Trainer(checkpoint_callback={checkpoint_callback})` is deprecated in v1.5 and will \"\n",
      "/Users/george/opt/anaconda3/envs/pl2/lib/python3.6/site-packages/pytorch_lightning/trainer/connectors/callback_connector.py:91: LightningDeprecationWarning: Setting `Trainer(progress_bar_refresh_rate=0)` is deprecated in v1.5 and will be removed in v1.7. Please pass `pytorch_lightning.callbacks.progress.TQDMProgressBar` with `refresh_rate` directly to the Trainer's `callbacks` argument instead. Or, to disable the progress bar pass `enable_progress_bar = False` to the Trainer.\n",
      "  f\"Setting `Trainer(progress_bar_refresh_rate={progress_bar_refresh_rate})` is deprecated in v1.5 and\"\n",
      "/Users/george/opt/anaconda3/envs/pl2/lib/python3.6/site-packages/pytorch_lightning/trainer/connectors/callback_connector.py:168: LightningDeprecationWarning: Setting `Trainer(weights_summary=None)` is deprecated in v1.5 and will be removed in v1.7. Please set `Trainer(enable_model_summary=False)` instead.\n",
      "  \"Setting `Trainer(weights_summary=None)` is deprecated in v1.5 and will be removed\"\n",
      "GPU available: False, used: False\n",
      "TPU available: False, using: 0 TPU cores\n",
      "IPU available: False, using: 0 IPUs\n"
     ]
    },
    {
     "name": "stdout",
     "output_type": "stream",
     "text": [
      "Aggregation\n",
      "['Genus', 'Genus', 'Genus', 'Genus', 'Genus']\n",
      "Base:\n",
      "[0.7576621525302922, 0.8333333333333334, 0.6997354497354498, 0.6681034482758621, 0.5133928571428572]\n",
      "DEBIAS-M:\n",
      "[0.7270135424091233, 0.8044444444444444, 0.6521164021164021, 0.757183908045977, 0.6160714285714286]\n"
     ]
    },
    {
     "name": "stderr",
     "output_type": "stream",
     "text": [
      "/Users/george/opt/anaconda3/envs/pl2/lib/python3.6/site-packages/pytorch_lightning/trainer/data_loading.py:133: UserWarning: The dataloader, val_dataloader 0, does not have many workers which may be a bottleneck. Consider increasing the value of the `num_workers` argument` (try 8 which is the number of cpus on this machine) in the `DataLoader` init to improve performance.\n",
      "  f\"The dataloader, {name}, does not have many workers which may be a bottleneck.\"\n",
      "/Users/george/opt/anaconda3/envs/pl2/lib/python3.6/site-packages/debiasm/torch_functions.py:75: UserWarning: Implicit dimension choice for softmax has been deprecated. Change the call to include dim=X as an argument.\n",
      "  y_hat = softmax(x)\n",
      "/Users/george/opt/anaconda3/envs/pl2/lib/python3.6/site-packages/pytorch_lightning/trainer/data_loading.py:133: UserWarning: The dataloader, train_dataloader, does not have many workers which may be a bottleneck. Consider increasing the value of the `num_workers` argument` (try 8 which is the number of cpus on this machine) in the `DataLoader` init to improve performance.\n",
      "  f\"The dataloader, {name}, does not have many workers which may be a bottleneck.\"\n",
      "Trainer was signaled to stop but required minimum epochs (25) or minimum steps (None) has not been met. Training will continue...\n",
      "Trainer was signaled to stop but required minimum epochs (25) or minimum steps (None) has not been met. Training will continue...\n",
      "Trainer was signaled to stop but required minimum epochs (25) or minimum steps (None) has not been met. Training will continue...\n",
      "Trainer was signaled to stop but required minimum epochs (25) or minimum steps (None) has not been met. Training will continue...\n",
      "Trainer was signaled to stop but required minimum epochs (25) or minimum steps (None) has not been met. Training will continue...\n",
      "Trainer was signaled to stop but required minimum epochs (25) or minimum steps (None) has not been met. Training will continue...\n",
      "Trainer was signaled to stop but required minimum epochs (25) or minimum steps (None) has not been met. Training will continue...\n",
      "Trainer was signaled to stop but required minimum epochs (25) or minimum steps (None) has not been met. Training will continue...\n",
      "Trainer was signaled to stop but required minimum epochs (25) or minimum steps (None) has not been met. Training will continue...\n",
      "/Users/george/opt/anaconda3/envs/pl2/lib/python3.6/site-packages/pytorch_lightning/trainer/connectors/callback_connector.py:148: LightningDeprecationWarning: Setting `Trainer(checkpoint_callback=False)` is deprecated in v1.5 and will be removed in v1.7. Please consider using `Trainer(enable_checkpointing=False)`.\n",
      "  f\"Setting `Trainer(checkpoint_callback={checkpoint_callback})` is deprecated in v1.5 and will \"\n",
      "/Users/george/opt/anaconda3/envs/pl2/lib/python3.6/site-packages/pytorch_lightning/trainer/connectors/callback_connector.py:91: LightningDeprecationWarning: Setting `Trainer(progress_bar_refresh_rate=0)` is deprecated in v1.5 and will be removed in v1.7. Please pass `pytorch_lightning.callbacks.progress.TQDMProgressBar` with `refresh_rate` directly to the Trainer's `callbacks` argument instead. Or, to disable the progress bar pass `enable_progress_bar = False` to the Trainer.\n",
      "  f\"Setting `Trainer(progress_bar_refresh_rate={progress_bar_refresh_rate})` is deprecated in v1.5 and\"\n",
      "/Users/george/opt/anaconda3/envs/pl2/lib/python3.6/site-packages/pytorch_lightning/trainer/connectors/callback_connector.py:168: LightningDeprecationWarning: Setting `Trainer(weights_summary=None)` is deprecated in v1.5 and will be removed in v1.7. Please set `Trainer(enable_model_summary=False)` instead.\n",
      "  \"Setting `Trainer(weights_summary=None)` is deprecated in v1.5 and will be removed\"\n",
      "GPU available: False, used: False\n",
      "TPU available: False, using: 0 TPU cores\n",
      "IPU available: False, using: 0 IPUs\n"
     ]
    },
    {
     "name": "stdout",
     "output_type": "stream",
     "text": [
      "Aggregation\n",
      "['Genus', 'Genus', 'Genus', 'Genus', 'Genus', 'Genus']\n",
      "Base:\n",
      "[0.7576621525302922, 0.8333333333333334, 0.6997354497354498, 0.6681034482758621, 0.5133928571428572, 0.6806249999999999]\n",
      "DEBIAS-M:\n",
      "[0.7270135424091233, 0.8044444444444444, 0.6521164021164021, 0.757183908045977, 0.6160714285714286, 0.7162499999999999]\n"
     ]
    },
    {
     "name": "stderr",
     "output_type": "stream",
     "text": [
      "/Users/george/opt/anaconda3/envs/pl2/lib/python3.6/site-packages/pytorch_lightning/trainer/data_loading.py:133: UserWarning: The dataloader, val_dataloader 0, does not have many workers which may be a bottleneck. Consider increasing the value of the `num_workers` argument` (try 8 which is the number of cpus on this machine) in the `DataLoader` init to improve performance.\n",
      "  f\"The dataloader, {name}, does not have many workers which may be a bottleneck.\"\n",
      "/Users/george/opt/anaconda3/envs/pl2/lib/python3.6/site-packages/debiasm/torch_functions.py:75: UserWarning: Implicit dimension choice for softmax has been deprecated. Change the call to include dim=X as an argument.\n",
      "  y_hat = softmax(x)\n",
      "/Users/george/opt/anaconda3/envs/pl2/lib/python3.6/site-packages/pytorch_lightning/trainer/data_loading.py:133: UserWarning: The dataloader, train_dataloader, does not have many workers which may be a bottleneck. Consider increasing the value of the `num_workers` argument` (try 8 which is the number of cpus on this machine) in the `DataLoader` init to improve performance.\n",
      "  f\"The dataloader, {name}, does not have many workers which may be a bottleneck.\"\n",
      "/Users/george/opt/anaconda3/envs/pl2/lib/python3.6/site-packages/pytorch_lightning/trainer/connectors/callback_connector.py:148: LightningDeprecationWarning: Setting `Trainer(checkpoint_callback=False)` is deprecated in v1.5 and will be removed in v1.7. Please consider using `Trainer(enable_checkpointing=False)`.\n",
      "  f\"Setting `Trainer(checkpoint_callback={checkpoint_callback})` is deprecated in v1.5 and will \"\n",
      "/Users/george/opt/anaconda3/envs/pl2/lib/python3.6/site-packages/pytorch_lightning/trainer/connectors/callback_connector.py:91: LightningDeprecationWarning: Setting `Trainer(progress_bar_refresh_rate=0)` is deprecated in v1.5 and will be removed in v1.7. Please pass `pytorch_lightning.callbacks.progress.TQDMProgressBar` with `refresh_rate` directly to the Trainer's `callbacks` argument instead. Or, to disable the progress bar pass `enable_progress_bar = False` to the Trainer.\n",
      "  f\"Setting `Trainer(progress_bar_refresh_rate={progress_bar_refresh_rate})` is deprecated in v1.5 and\"\n",
      "/Users/george/opt/anaconda3/envs/pl2/lib/python3.6/site-packages/pytorch_lightning/trainer/connectors/callback_connector.py:168: LightningDeprecationWarning: Setting `Trainer(weights_summary=None)` is deprecated in v1.5 and will be removed in v1.7. Please set `Trainer(enable_model_summary=False)` instead.\n",
      "  \"Setting `Trainer(weights_summary=None)` is deprecated in v1.5 and will be removed\"\n",
      "GPU available: False, used: False\n",
      "TPU available: False, using: 0 TPU cores\n",
      "IPU available: False, using: 0 IPUs\n"
     ]
    },
    {
     "name": "stdout",
     "output_type": "stream",
     "text": [
      "Aggregation\n",
      "['Genus', 'Genus', 'Genus', 'Genus', 'Genus', 'Genus', 'Genus']\n",
      "Base:\n",
      "[0.7576621525302922, 0.8333333333333334, 0.6997354497354498, 0.6681034482758621, 0.5133928571428572, 0.6806249999999999, 0.5946745562130178]\n",
      "DEBIAS-M:\n",
      "[0.7270135424091233, 0.8044444444444444, 0.6521164021164021, 0.757183908045977, 0.6160714285714286, 0.7162499999999999, 0.7181952662721893]\n"
     ]
    },
    {
     "name": "stderr",
     "output_type": "stream",
     "text": [
      "/Users/george/opt/anaconda3/envs/pl2/lib/python3.6/site-packages/pytorch_lightning/trainer/data_loading.py:133: UserWarning: The dataloader, val_dataloader 0, does not have many workers which may be a bottleneck. Consider increasing the value of the `num_workers` argument` (try 8 which is the number of cpus on this machine) in the `DataLoader` init to improve performance.\n",
      "  f\"The dataloader, {name}, does not have many workers which may be a bottleneck.\"\n",
      "/Users/george/opt/anaconda3/envs/pl2/lib/python3.6/site-packages/debiasm/torch_functions.py:75: UserWarning: Implicit dimension choice for softmax has been deprecated. Change the call to include dim=X as an argument.\n",
      "  y_hat = softmax(x)\n",
      "/Users/george/opt/anaconda3/envs/pl2/lib/python3.6/site-packages/pytorch_lightning/trainer/data_loading.py:133: UserWarning: The dataloader, train_dataloader, does not have many workers which may be a bottleneck. Consider increasing the value of the `num_workers` argument` (try 8 which is the number of cpus on this machine) in the `DataLoader` init to improve performance.\n",
      "  f\"The dataloader, {name}, does not have many workers which may be a bottleneck.\"\n",
      "/Users/george/opt/anaconda3/envs/pl2/lib/python3.6/site-packages/pytorch_lightning/trainer/connectors/callback_connector.py:148: LightningDeprecationWarning: Setting `Trainer(checkpoint_callback=False)` is deprecated in v1.5 and will be removed in v1.7. Please consider using `Trainer(enable_checkpointing=False)`.\n",
      "  f\"Setting `Trainer(checkpoint_callback={checkpoint_callback})` is deprecated in v1.5 and will \"\n",
      "/Users/george/opt/anaconda3/envs/pl2/lib/python3.6/site-packages/pytorch_lightning/trainer/connectors/callback_connector.py:91: LightningDeprecationWarning: Setting `Trainer(progress_bar_refresh_rate=0)` is deprecated in v1.5 and will be removed in v1.7. Please pass `pytorch_lightning.callbacks.progress.TQDMProgressBar` with `refresh_rate` directly to the Trainer's `callbacks` argument instead. Or, to disable the progress bar pass `enable_progress_bar = False` to the Trainer.\n",
      "  f\"Setting `Trainer(progress_bar_refresh_rate={progress_bar_refresh_rate})` is deprecated in v1.5 and\"\n",
      "/Users/george/opt/anaconda3/envs/pl2/lib/python3.6/site-packages/pytorch_lightning/trainer/connectors/callback_connector.py:168: LightningDeprecationWarning: Setting `Trainer(weights_summary=None)` is deprecated in v1.5 and will be removed in v1.7. Please set `Trainer(enable_model_summary=False)` instead.\n",
      "  \"Setting `Trainer(weights_summary=None)` is deprecated in v1.5 and will be removed\"\n",
      "GPU available: False, used: False\n",
      "TPU available: False, using: 0 TPU cores\n",
      "IPU available: False, using: 0 IPUs\n"
     ]
    },
    {
     "name": "stdout",
     "output_type": "stream",
     "text": [
      "Aggregation\n",
      "['Genus', 'Genus', 'Genus', 'Genus', 'Genus', 'Genus', 'Genus', 'Genus']\n",
      "Base:\n",
      "[0.7576621525302922, 0.8333333333333334, 0.6997354497354498, 0.6681034482758621, 0.5133928571428572, 0.6806249999999999, 0.5946745562130178, 0.666923076923077]\n",
      "DEBIAS-M:\n",
      "[0.7270135424091233, 0.8044444444444444, 0.6521164021164021, 0.757183908045977, 0.6160714285714286, 0.7162499999999999, 0.7181952662721893, 0.7248717948717949]\n"
     ]
    },
    {
     "name": "stderr",
     "output_type": "stream",
     "text": [
      "/Users/george/opt/anaconda3/envs/pl2/lib/python3.6/site-packages/pytorch_lightning/trainer/data_loading.py:133: UserWarning: The dataloader, val_dataloader 0, does not have many workers which may be a bottleneck. Consider increasing the value of the `num_workers` argument` (try 8 which is the number of cpus on this machine) in the `DataLoader` init to improve performance.\n",
      "  f\"The dataloader, {name}, does not have many workers which may be a bottleneck.\"\n",
      "/Users/george/opt/anaconda3/envs/pl2/lib/python3.6/site-packages/debiasm/torch_functions.py:75: UserWarning: Implicit dimension choice for softmax has been deprecated. Change the call to include dim=X as an argument.\n",
      "  y_hat = softmax(x)\n",
      "/Users/george/opt/anaconda3/envs/pl2/lib/python3.6/site-packages/pytorch_lightning/trainer/data_loading.py:133: UserWarning: The dataloader, train_dataloader, does not have many workers which may be a bottleneck. Consider increasing the value of the `num_workers` argument` (try 8 which is the number of cpus on this machine) in the `DataLoader` init to improve performance.\n",
      "  f\"The dataloader, {name}, does not have many workers which may be a bottleneck.\"\n",
      "Trainer was signaled to stop but required minimum epochs (25) or minimum steps (None) has not been met. Training will continue...\n",
      "Trainer was signaled to stop but required minimum epochs (25) or minimum steps (None) has not been met. Training will continue...\n",
      "Trainer was signaled to stop but required minimum epochs (25) or minimum steps (None) has not been met. Training will continue...\n",
      "Trainer was signaled to stop but required minimum epochs (25) or minimum steps (None) has not been met. Training will continue...\n",
      "Trainer was signaled to stop but required minimum epochs (25) or minimum steps (None) has not been met. Training will continue...\n",
      "Trainer was signaled to stop but required minimum epochs (25) or minimum steps (None) has not been met. Training will continue...\n",
      "/Users/george/opt/anaconda3/envs/pl2/lib/python3.6/site-packages/pytorch_lightning/trainer/connectors/callback_connector.py:148: LightningDeprecationWarning: Setting `Trainer(checkpoint_callback=False)` is deprecated in v1.5 and will be removed in v1.7. Please consider using `Trainer(enable_checkpointing=False)`.\n",
      "  f\"Setting `Trainer(checkpoint_callback={checkpoint_callback})` is deprecated in v1.5 and will \"\n",
      "/Users/george/opt/anaconda3/envs/pl2/lib/python3.6/site-packages/pytorch_lightning/trainer/connectors/callback_connector.py:91: LightningDeprecationWarning: Setting `Trainer(progress_bar_refresh_rate=0)` is deprecated in v1.5 and will be removed in v1.7. Please pass `pytorch_lightning.callbacks.progress.TQDMProgressBar` with `refresh_rate` directly to the Trainer's `callbacks` argument instead. Or, to disable the progress bar pass `enable_progress_bar = False` to the Trainer.\n",
      "  f\"Setting `Trainer(progress_bar_refresh_rate={progress_bar_refresh_rate})` is deprecated in v1.5 and\"\n",
      "/Users/george/opt/anaconda3/envs/pl2/lib/python3.6/site-packages/pytorch_lightning/trainer/connectors/callback_connector.py:168: LightningDeprecationWarning: Setting `Trainer(weights_summary=None)` is deprecated in v1.5 and will be removed in v1.7. Please set `Trainer(enable_model_summary=False)` instead.\n",
      "  \"Setting `Trainer(weights_summary=None)` is deprecated in v1.5 and will be removed\"\n",
      "GPU available: False, used: False\n",
      "TPU available: False, using: 0 TPU cores\n",
      "IPU available: False, using: 0 IPUs\n"
     ]
    },
    {
     "name": "stdout",
     "output_type": "stream",
     "text": [
      "Aggregation\n",
      "['Genus', 'Genus', 'Genus', 'Genus', 'Genus', 'Genus', 'Genus', 'Genus', 'Genus']\n",
      "Base:\n",
      "[0.7576621525302922, 0.8333333333333334, 0.6997354497354498, 0.6681034482758621, 0.5133928571428572, 0.6806249999999999, 0.5946745562130178, 0.666923076923077, 0.7477477477477479]\n",
      "DEBIAS-M:\n",
      "[0.7270135424091233, 0.8044444444444444, 0.6521164021164021, 0.757183908045977, 0.6160714285714286, 0.7162499999999999, 0.7181952662721893, 0.7248717948717949, 0.7462462462462464]\n"
     ]
    },
    {
     "name": "stderr",
     "output_type": "stream",
     "text": [
      "/Users/george/opt/anaconda3/envs/pl2/lib/python3.6/site-packages/pytorch_lightning/trainer/data_loading.py:133: UserWarning: The dataloader, val_dataloader 0, does not have many workers which may be a bottleneck. Consider increasing the value of the `num_workers` argument` (try 8 which is the number of cpus on this machine) in the `DataLoader` init to improve performance.\n",
      "  f\"The dataloader, {name}, does not have many workers which may be a bottleneck.\"\n",
      "/Users/george/opt/anaconda3/envs/pl2/lib/python3.6/site-packages/debiasm/torch_functions.py:75: UserWarning: Implicit dimension choice for softmax has been deprecated. Change the call to include dim=X as an argument.\n",
      "  y_hat = softmax(x)\n",
      "/Users/george/opt/anaconda3/envs/pl2/lib/python3.6/site-packages/pytorch_lightning/trainer/data_loading.py:133: UserWarning: The dataloader, train_dataloader, does not have many workers which may be a bottleneck. Consider increasing the value of the `num_workers` argument` (try 8 which is the number of cpus on this machine) in the `DataLoader` init to improve performance.\n",
      "  f\"The dataloader, {name}, does not have many workers which may be a bottleneck.\"\n",
      "/Users/george/opt/anaconda3/envs/pl2/lib/python3.6/site-packages/debiasm/torch_functions.py:22: FutureWarning: Support for multi-dimensional indexing (e.g. `obj[:, None]`) is deprecated and will be removed in a future version.  Convert to a numpy array before indexing instead.\n",
      "  return(xx/xx.sum(axis=1)[:, np.newaxis] )\n",
      "/Users/george/opt/anaconda3/envs/pl2/lib/python3.6/site-packages/pytorch_lightning/trainer/connectors/callback_connector.py:148: LightningDeprecationWarning: Setting `Trainer(checkpoint_callback=False)` is deprecated in v1.5 and will be removed in v1.7. Please consider using `Trainer(enable_checkpointing=False)`.\n",
      "  f\"Setting `Trainer(checkpoint_callback={checkpoint_callback})` is deprecated in v1.5 and will \"\n",
      "/Users/george/opt/anaconda3/envs/pl2/lib/python3.6/site-packages/pytorch_lightning/trainer/connectors/callback_connector.py:91: LightningDeprecationWarning: Setting `Trainer(progress_bar_refresh_rate=0)` is deprecated in v1.5 and will be removed in v1.7. Please pass `pytorch_lightning.callbacks.progress.TQDMProgressBar` with `refresh_rate` directly to the Trainer's `callbacks` argument instead. Or, to disable the progress bar pass `enable_progress_bar = False` to the Trainer.\n",
      "  f\"Setting `Trainer(progress_bar_refresh_rate={progress_bar_refresh_rate})` is deprecated in v1.5 and\"\n",
      "/Users/george/opt/anaconda3/envs/pl2/lib/python3.6/site-packages/pytorch_lightning/trainer/connectors/callback_connector.py:168: LightningDeprecationWarning: Setting `Trainer(weights_summary=None)` is deprecated in v1.5 and will be removed in v1.7. Please set `Trainer(enable_model_summary=False)` instead.\n",
      "  \"Setting `Trainer(weights_summary=None)` is deprecated in v1.5 and will be removed\"\n",
      "GPU available: False, used: False\n",
      "TPU available: False, using: 0 TPU cores\n",
      "IPU available: False, using: 0 IPUs\n"
     ]
    },
    {
     "name": "stdout",
     "output_type": "stream",
     "text": [
      "Aggregation\n",
      "['Genus', 'Genus', 'Genus', 'Genus', 'Genus', 'Genus', 'Genus', 'Genus', 'Genus', 'Genus']\n",
      "Base:\n",
      "[0.7576621525302922, 0.8333333333333334, 0.6997354497354498, 0.6681034482758621, 0.5133928571428572, 0.6806249999999999, 0.5946745562130178, 0.666923076923077, 0.7477477477477479, 0.7005876894525208]\n",
      "DEBIAS-M:\n",
      "[0.7270135424091233, 0.8044444444444444, 0.6521164021164021, 0.757183908045977, 0.6160714285714286, 0.7162499999999999, 0.7181952662721893, 0.7248717948717949, 0.7462462462462464, 0.8468914321064026]\n"
     ]
    },
    {
     "name": "stderr",
     "output_type": "stream",
     "text": [
      "/Users/george/opt/anaconda3/envs/pl2/lib/python3.6/site-packages/pytorch_lightning/trainer/data_loading.py:133: UserWarning: The dataloader, val_dataloader 0, does not have many workers which may be a bottleneck. Consider increasing the value of the `num_workers` argument` (try 8 which is the number of cpus on this machine) in the `DataLoader` init to improve performance.\n",
      "  f\"The dataloader, {name}, does not have many workers which may be a bottleneck.\"\n",
      "/Users/george/opt/anaconda3/envs/pl2/lib/python3.6/site-packages/debiasm/torch_functions.py:75: UserWarning: Implicit dimension choice for softmax has been deprecated. Change the call to include dim=X as an argument.\n",
      "  y_hat = softmax(x)\n",
      "/Users/george/opt/anaconda3/envs/pl2/lib/python3.6/site-packages/pytorch_lightning/trainer/data_loading.py:133: UserWarning: The dataloader, train_dataloader, does not have many workers which may be a bottleneck. Consider increasing the value of the `num_workers` argument` (try 8 which is the number of cpus on this machine) in the `DataLoader` init to improve performance.\n",
      "  f\"The dataloader, {name}, does not have many workers which may be a bottleneck.\"\n",
      "Trainer was signaled to stop but required minimum epochs (25) or minimum steps (None) has not been met. Training will continue...\n",
      "Trainer was signaled to stop but required minimum epochs (25) or minimum steps (None) has not been met. Training will continue...\n",
      "Trainer was signaled to stop but required minimum epochs (25) or minimum steps (None) has not been met. Training will continue...\n",
      "Trainer was signaled to stop but required minimum epochs (25) or minimum steps (None) has not been met. Training will continue...\n",
      "Trainer was signaled to stop but required minimum epochs (25) or minimum steps (None) has not been met. Training will continue...\n",
      "Trainer was signaled to stop but required minimum epochs (25) or minimum steps (None) has not been met. Training will continue...\n",
      "Trainer was signaled to stop but required minimum epochs (25) or minimum steps (None) has not been met. Training will continue...\n",
      "/Users/george/opt/anaconda3/envs/pl2/lib/python3.6/site-packages/pytorch_lightning/trainer/connectors/callback_connector.py:148: LightningDeprecationWarning: Setting `Trainer(checkpoint_callback=False)` is deprecated in v1.5 and will be removed in v1.7. Please consider using `Trainer(enable_checkpointing=False)`.\n",
      "  f\"Setting `Trainer(checkpoint_callback={checkpoint_callback})` is deprecated in v1.5 and will \"\n",
      "/Users/george/opt/anaconda3/envs/pl2/lib/python3.6/site-packages/pytorch_lightning/trainer/connectors/callback_connector.py:91: LightningDeprecationWarning: Setting `Trainer(progress_bar_refresh_rate=0)` is deprecated in v1.5 and will be removed in v1.7. Please pass `pytorch_lightning.callbacks.progress.TQDMProgressBar` with `refresh_rate` directly to the Trainer's `callbacks` argument instead. Or, to disable the progress bar pass `enable_progress_bar = False` to the Trainer.\n",
      "  f\"Setting `Trainer(progress_bar_refresh_rate={progress_bar_refresh_rate})` is deprecated in v1.5 and\"\n",
      "/Users/george/opt/anaconda3/envs/pl2/lib/python3.6/site-packages/pytorch_lightning/trainer/connectors/callback_connector.py:168: LightningDeprecationWarning: Setting `Trainer(weights_summary=None)` is deprecated in v1.5 and will be removed in v1.7. Please set `Trainer(enable_model_summary=False)` instead.\n",
      "  \"Setting `Trainer(weights_summary=None)` is deprecated in v1.5 and will be removed\"\n",
      "GPU available: False, used: False\n",
      "TPU available: False, using: 0 TPU cores\n",
      "IPU available: False, using: 0 IPUs\n"
     ]
    },
    {
     "name": "stdout",
     "output_type": "stream",
     "text": [
      "Aggregation\n",
      "['Genus', 'Genus', 'Genus', 'Genus', 'Genus', 'Genus', 'Genus', 'Genus', 'Genus', 'Genus', 'Family']\n",
      "Base:\n",
      "[0.7576621525302922, 0.8333333333333334, 0.6997354497354498, 0.6681034482758621, 0.5133928571428572, 0.6806249999999999, 0.5946745562130178, 0.666923076923077, 0.7477477477477479, 0.7005876894525208, 0.7063435495367071]\n",
      "DEBIAS-M:\n",
      "[0.7270135424091233, 0.8044444444444444, 0.6521164021164021, 0.757183908045977, 0.6160714285714286, 0.7162499999999999, 0.7181952662721893, 0.7248717948717949, 0.7462462462462464, 0.8468914321064026, 0.7088382038488952]\n"
     ]
    },
    {
     "name": "stderr",
     "output_type": "stream",
     "text": [
      "/Users/george/opt/anaconda3/envs/pl2/lib/python3.6/site-packages/pytorch_lightning/trainer/data_loading.py:133: UserWarning: The dataloader, val_dataloader 0, does not have many workers which may be a bottleneck. Consider increasing the value of the `num_workers` argument` (try 8 which is the number of cpus on this machine) in the `DataLoader` init to improve performance.\n",
      "  f\"The dataloader, {name}, does not have many workers which may be a bottleneck.\"\n",
      "/Users/george/opt/anaconda3/envs/pl2/lib/python3.6/site-packages/debiasm/torch_functions.py:75: UserWarning: Implicit dimension choice for softmax has been deprecated. Change the call to include dim=X as an argument.\n",
      "  y_hat = softmax(x)\n",
      "/Users/george/opt/anaconda3/envs/pl2/lib/python3.6/site-packages/pytorch_lightning/trainer/data_loading.py:133: UserWarning: The dataloader, train_dataloader, does not have many workers which may be a bottleneck. Consider increasing the value of the `num_workers` argument` (try 8 which is the number of cpus on this machine) in the `DataLoader` init to improve performance.\n",
      "  f\"The dataloader, {name}, does not have many workers which may be a bottleneck.\"\n",
      "Trainer was signaled to stop but required minimum epochs (25) or minimum steps (None) has not been met. Training will continue...\n",
      "Trainer was signaled to stop but required minimum epochs (25) or minimum steps (None) has not been met. Training will continue...\n",
      "Trainer was signaled to stop but required minimum epochs (25) or minimum steps (None) has not been met. Training will continue...\n",
      "Trainer was signaled to stop but required minimum epochs (25) or minimum steps (None) has not been met. Training will continue...\n",
      "Trainer was signaled to stop but required minimum epochs (25) or minimum steps (None) has not been met. Training will continue...\n",
      "Trainer was signaled to stop but required minimum epochs (25) or minimum steps (None) has not been met. Training will continue...\n",
      "Trainer was signaled to stop but required minimum epochs (25) or minimum steps (None) has not been met. Training will continue...\n",
      "Trainer was signaled to stop but required minimum epochs (25) or minimum steps (None) has not been met. Training will continue...\n",
      "Trainer was signaled to stop but required minimum epochs (25) or minimum steps (None) has not been met. Training will continue...\n",
      "Trainer was signaled to stop but required minimum epochs (25) or minimum steps (None) has not been met. Training will continue...\n",
      "/Users/george/opt/anaconda3/envs/pl2/lib/python3.6/site-packages/pytorch_lightning/trainer/connectors/callback_connector.py:148: LightningDeprecationWarning: Setting `Trainer(checkpoint_callback=False)` is deprecated in v1.5 and will be removed in v1.7. Please consider using `Trainer(enable_checkpointing=False)`.\n",
      "  f\"Setting `Trainer(checkpoint_callback={checkpoint_callback})` is deprecated in v1.5 and will \"\n",
      "/Users/george/opt/anaconda3/envs/pl2/lib/python3.6/site-packages/pytorch_lightning/trainer/connectors/callback_connector.py:91: LightningDeprecationWarning: Setting `Trainer(progress_bar_refresh_rate=0)` is deprecated in v1.5 and will be removed in v1.7. Please pass `pytorch_lightning.callbacks.progress.TQDMProgressBar` with `refresh_rate` directly to the Trainer's `callbacks` argument instead. Or, to disable the progress bar pass `enable_progress_bar = False` to the Trainer.\n",
      "  f\"Setting `Trainer(progress_bar_refresh_rate={progress_bar_refresh_rate})` is deprecated in v1.5 and\"\n",
      "/Users/george/opt/anaconda3/envs/pl2/lib/python3.6/site-packages/pytorch_lightning/trainer/connectors/callback_connector.py:168: LightningDeprecationWarning: Setting `Trainer(weights_summary=None)` is deprecated in v1.5 and will be removed in v1.7. Please set `Trainer(enable_model_summary=False)` instead.\n",
      "  \"Setting `Trainer(weights_summary=None)` is deprecated in v1.5 and will be removed\"\n",
      "GPU available: False, used: False\n",
      "TPU available: False, using: 0 TPU cores\n",
      "IPU available: False, using: 0 IPUs\n"
     ]
    },
    {
     "name": "stdout",
     "output_type": "stream",
     "text": [
      "Aggregation\n",
      "['Genus', 'Genus', 'Genus', 'Genus', 'Genus', 'Genus', 'Genus', 'Genus', 'Genus', 'Genus', 'Family', 'Family']\n",
      "Base:\n",
      "[0.7576621525302922, 0.8333333333333334, 0.6997354497354498, 0.6681034482758621, 0.5133928571428572, 0.6806249999999999, 0.5946745562130178, 0.666923076923077, 0.7477477477477479, 0.7005876894525208, 0.7063435495367071, 0.9011111111111111]\n",
      "DEBIAS-M:\n",
      "[0.7270135424091233, 0.8044444444444444, 0.6521164021164021, 0.757183908045977, 0.6160714285714286, 0.7162499999999999, 0.7181952662721893, 0.7248717948717949, 0.7462462462462464, 0.8468914321064026, 0.7088382038488952, 0.7977777777777778]\n"
     ]
    },
    {
     "name": "stderr",
     "output_type": "stream",
     "text": [
      "/Users/george/opt/anaconda3/envs/pl2/lib/python3.6/site-packages/pytorch_lightning/trainer/data_loading.py:133: UserWarning: The dataloader, val_dataloader 0, does not have many workers which may be a bottleneck. Consider increasing the value of the `num_workers` argument` (try 8 which is the number of cpus on this machine) in the `DataLoader` init to improve performance.\n",
      "  f\"The dataloader, {name}, does not have many workers which may be a bottleneck.\"\n",
      "/Users/george/opt/anaconda3/envs/pl2/lib/python3.6/site-packages/debiasm/torch_functions.py:75: UserWarning: Implicit dimension choice for softmax has been deprecated. Change the call to include dim=X as an argument.\n",
      "  y_hat = softmax(x)\n",
      "/Users/george/opt/anaconda3/envs/pl2/lib/python3.6/site-packages/pytorch_lightning/trainer/data_loading.py:133: UserWarning: The dataloader, train_dataloader, does not have many workers which may be a bottleneck. Consider increasing the value of the `num_workers` argument` (try 8 which is the number of cpus on this machine) in the `DataLoader` init to improve performance.\n",
      "  f\"The dataloader, {name}, does not have many workers which may be a bottleneck.\"\n",
      "/Users/george/opt/anaconda3/envs/pl2/lib/python3.6/site-packages/pytorch_lightning/trainer/connectors/callback_connector.py:148: LightningDeprecationWarning: Setting `Trainer(checkpoint_callback=False)` is deprecated in v1.5 and will be removed in v1.7. Please consider using `Trainer(enable_checkpointing=False)`.\n",
      "  f\"Setting `Trainer(checkpoint_callback={checkpoint_callback})` is deprecated in v1.5 and will \"\n",
      "/Users/george/opt/anaconda3/envs/pl2/lib/python3.6/site-packages/pytorch_lightning/trainer/connectors/callback_connector.py:91: LightningDeprecationWarning: Setting `Trainer(progress_bar_refresh_rate=0)` is deprecated in v1.5 and will be removed in v1.7. Please pass `pytorch_lightning.callbacks.progress.TQDMProgressBar` with `refresh_rate` directly to the Trainer's `callbacks` argument instead. Or, to disable the progress bar pass `enable_progress_bar = False` to the Trainer.\n",
      "  f\"Setting `Trainer(progress_bar_refresh_rate={progress_bar_refresh_rate})` is deprecated in v1.5 and\"\n",
      "/Users/george/opt/anaconda3/envs/pl2/lib/python3.6/site-packages/pytorch_lightning/trainer/connectors/callback_connector.py:168: LightningDeprecationWarning: Setting `Trainer(weights_summary=None)` is deprecated in v1.5 and will be removed in v1.7. Please set `Trainer(enable_model_summary=False)` instead.\n",
      "  \"Setting `Trainer(weights_summary=None)` is deprecated in v1.5 and will be removed\"\n",
      "GPU available: False, used: False\n",
      "TPU available: False, using: 0 TPU cores\n",
      "IPU available: False, using: 0 IPUs\n"
     ]
    },
    {
     "name": "stdout",
     "output_type": "stream",
     "text": [
      "Aggregation\n",
      "['Genus', 'Genus', 'Genus', 'Genus', 'Genus', 'Genus', 'Genus', 'Genus', 'Genus', 'Genus', 'Family', 'Family', 'Family']\n",
      "Base:\n",
      "[0.7576621525302922, 0.8333333333333334, 0.6997354497354498, 0.6681034482758621, 0.5133928571428572, 0.6806249999999999, 0.5946745562130178, 0.666923076923077, 0.7477477477477479, 0.7005876894525208, 0.7063435495367071, 0.9011111111111111, 0.6547619047619047]\n",
      "DEBIAS-M:\n",
      "[0.7270135424091233, 0.8044444444444444, 0.6521164021164021, 0.757183908045977, 0.6160714285714286, 0.7162499999999999, 0.7181952662721893, 0.7248717948717949, 0.7462462462462464, 0.8468914321064026, 0.7088382038488952, 0.7977777777777778, 0.7023809523809524]\n"
     ]
    },
    {
     "name": "stderr",
     "output_type": "stream",
     "text": [
      "/Users/george/opt/anaconda3/envs/pl2/lib/python3.6/site-packages/pytorch_lightning/trainer/data_loading.py:133: UserWarning: The dataloader, val_dataloader 0, does not have many workers which may be a bottleneck. Consider increasing the value of the `num_workers` argument` (try 8 which is the number of cpus on this machine) in the `DataLoader` init to improve performance.\n",
      "  f\"The dataloader, {name}, does not have many workers which may be a bottleneck.\"\n",
      "/Users/george/opt/anaconda3/envs/pl2/lib/python3.6/site-packages/debiasm/torch_functions.py:75: UserWarning: Implicit dimension choice for softmax has been deprecated. Change the call to include dim=X as an argument.\n",
      "  y_hat = softmax(x)\n",
      "/Users/george/opt/anaconda3/envs/pl2/lib/python3.6/site-packages/pytorch_lightning/trainer/data_loading.py:133: UserWarning: The dataloader, train_dataloader, does not have many workers which may be a bottleneck. Consider increasing the value of the `num_workers` argument` (try 8 which is the number of cpus on this machine) in the `DataLoader` init to improve performance.\n",
      "  f\"The dataloader, {name}, does not have many workers which may be a bottleneck.\"\n",
      "Trainer was signaled to stop but required minimum epochs (25) or minimum steps (None) has not been met. Training will continue...\n",
      "Trainer was signaled to stop but required minimum epochs (25) or minimum steps (None) has not been met. Training will continue...\n",
      "Trainer was signaled to stop but required minimum epochs (25) or minimum steps (None) has not been met. Training will continue...\n",
      "Trainer was signaled to stop but required minimum epochs (25) or minimum steps (None) has not been met. Training will continue...\n",
      "Trainer was signaled to stop but required minimum epochs (25) or minimum steps (None) has not been met. Training will continue...\n",
      "Trainer was signaled to stop but required minimum epochs (25) or minimum steps (None) has not been met. Training will continue...\n",
      "Trainer was signaled to stop but required minimum epochs (25) or minimum steps (None) has not been met. Training will continue...\n",
      "Trainer was signaled to stop but required minimum epochs (25) or minimum steps (None) has not been met. Training will continue...\n",
      "Trainer was signaled to stop but required minimum epochs (25) or minimum steps (None) has not been met. Training will continue...\n",
      "Trainer was signaled to stop but required minimum epochs (25) or minimum steps (None) has not been met. Training will continue...\n",
      "/Users/george/opt/anaconda3/envs/pl2/lib/python3.6/site-packages/pytorch_lightning/trainer/connectors/callback_connector.py:148: LightningDeprecationWarning: Setting `Trainer(checkpoint_callback=False)` is deprecated in v1.5 and will be removed in v1.7. Please consider using `Trainer(enable_checkpointing=False)`.\n",
      "  f\"Setting `Trainer(checkpoint_callback={checkpoint_callback})` is deprecated in v1.5 and will \"\n",
      "/Users/george/opt/anaconda3/envs/pl2/lib/python3.6/site-packages/pytorch_lightning/trainer/connectors/callback_connector.py:91: LightningDeprecationWarning: Setting `Trainer(progress_bar_refresh_rate=0)` is deprecated in v1.5 and will be removed in v1.7. Please pass `pytorch_lightning.callbacks.progress.TQDMProgressBar` with `refresh_rate` directly to the Trainer's `callbacks` argument instead. Or, to disable the progress bar pass `enable_progress_bar = False` to the Trainer.\n",
      "  f\"Setting `Trainer(progress_bar_refresh_rate={progress_bar_refresh_rate})` is deprecated in v1.5 and\"\n",
      "/Users/george/opt/anaconda3/envs/pl2/lib/python3.6/site-packages/pytorch_lightning/trainer/connectors/callback_connector.py:168: LightningDeprecationWarning: Setting `Trainer(weights_summary=None)` is deprecated in v1.5 and will be removed in v1.7. Please set `Trainer(enable_model_summary=False)` instead.\n",
      "  \"Setting `Trainer(weights_summary=None)` is deprecated in v1.5 and will be removed\"\n",
      "GPU available: False, used: False\n",
      "TPU available: False, using: 0 TPU cores\n",
      "IPU available: False, using: 0 IPUs\n"
     ]
    },
    {
     "name": "stdout",
     "output_type": "stream",
     "text": [
      "Aggregation\n",
      "['Genus', 'Genus', 'Genus', 'Genus', 'Genus', 'Genus', 'Genus', 'Genus', 'Genus', 'Genus', 'Family', 'Family', 'Family', 'Family']\n",
      "Base:\n",
      "[0.7576621525302922, 0.8333333333333334, 0.6997354497354498, 0.6681034482758621, 0.5133928571428572, 0.6806249999999999, 0.5946745562130178, 0.666923076923077, 0.7477477477477479, 0.7005876894525208, 0.7063435495367071, 0.9011111111111111, 0.6547619047619047, 0.8045977011494253]\n",
      "DEBIAS-M:\n",
      "[0.7270135424091233, 0.8044444444444444, 0.6521164021164021, 0.757183908045977, 0.6160714285714286, 0.7162499999999999, 0.7181952662721893, 0.7248717948717949, 0.7462462462462464, 0.8468914321064026, 0.7088382038488952, 0.7977777777777778, 0.7023809523809524, 0.7816091954022988]\n"
     ]
    },
    {
     "name": "stderr",
     "output_type": "stream",
     "text": [
      "/Users/george/opt/anaconda3/envs/pl2/lib/python3.6/site-packages/pytorch_lightning/trainer/data_loading.py:133: UserWarning: The dataloader, val_dataloader 0, does not have many workers which may be a bottleneck. Consider increasing the value of the `num_workers` argument` (try 8 which is the number of cpus on this machine) in the `DataLoader` init to improve performance.\n",
      "  f\"The dataloader, {name}, does not have many workers which may be a bottleneck.\"\n",
      "/Users/george/opt/anaconda3/envs/pl2/lib/python3.6/site-packages/debiasm/torch_functions.py:75: UserWarning: Implicit dimension choice for softmax has been deprecated. Change the call to include dim=X as an argument.\n",
      "  y_hat = softmax(x)\n",
      "/Users/george/opt/anaconda3/envs/pl2/lib/python3.6/site-packages/pytorch_lightning/trainer/data_loading.py:133: UserWarning: The dataloader, train_dataloader, does not have many workers which may be a bottleneck. Consider increasing the value of the `num_workers` argument` (try 8 which is the number of cpus on this machine) in the `DataLoader` init to improve performance.\n",
      "  f\"The dataloader, {name}, does not have many workers which may be a bottleneck.\"\n",
      "Trainer was signaled to stop but required minimum epochs (25) or minimum steps (None) has not been met. Training will continue...\n",
      "Trainer was signaled to stop but required minimum epochs (25) or minimum steps (None) has not been met. Training will continue...\n",
      "Trainer was signaled to stop but required minimum epochs (25) or minimum steps (None) has not been met. Training will continue...\n",
      "Trainer was signaled to stop but required minimum epochs (25) or minimum steps (None) has not been met. Training will continue...\n",
      "Trainer was signaled to stop but required minimum epochs (25) or minimum steps (None) has not been met. Training will continue...\n",
      "Trainer was signaled to stop but required minimum epochs (25) or minimum steps (None) has not been met. Training will continue...\n",
      "Trainer was signaled to stop but required minimum epochs (25) or minimum steps (None) has not been met. Training will continue...\n",
      "Trainer was signaled to stop but required minimum epochs (25) or minimum steps (None) has not been met. Training will continue...\n",
      "Trainer was signaled to stop but required minimum epochs (25) or minimum steps (None) has not been met. Training will continue...\n",
      "Trainer was signaled to stop but required minimum epochs (25) or minimum steps (None) has not been met. Training will continue...\n",
      "/Users/george/opt/anaconda3/envs/pl2/lib/python3.6/site-packages/pytorch_lightning/trainer/connectors/callback_connector.py:148: LightningDeprecationWarning: Setting `Trainer(checkpoint_callback=False)` is deprecated in v1.5 and will be removed in v1.7. Please consider using `Trainer(enable_checkpointing=False)`.\n",
      "  f\"Setting `Trainer(checkpoint_callback={checkpoint_callback})` is deprecated in v1.5 and will \"\n",
      "/Users/george/opt/anaconda3/envs/pl2/lib/python3.6/site-packages/pytorch_lightning/trainer/connectors/callback_connector.py:91: LightningDeprecationWarning: Setting `Trainer(progress_bar_refresh_rate=0)` is deprecated in v1.5 and will be removed in v1.7. Please pass `pytorch_lightning.callbacks.progress.TQDMProgressBar` with `refresh_rate` directly to the Trainer's `callbacks` argument instead. Or, to disable the progress bar pass `enable_progress_bar = False` to the Trainer.\n",
      "  f\"Setting `Trainer(progress_bar_refresh_rate={progress_bar_refresh_rate})` is deprecated in v1.5 and\"\n",
      "/Users/george/opt/anaconda3/envs/pl2/lib/python3.6/site-packages/pytorch_lightning/trainer/connectors/callback_connector.py:168: LightningDeprecationWarning: Setting `Trainer(weights_summary=None)` is deprecated in v1.5 and will be removed in v1.7. Please set `Trainer(enable_model_summary=False)` instead.\n",
      "  \"Setting `Trainer(weights_summary=None)` is deprecated in v1.5 and will be removed\"\n",
      "GPU available: False, used: False\n",
      "TPU available: False, using: 0 TPU cores\n",
      "IPU available: False, using: 0 IPUs\n"
     ]
    },
    {
     "name": "stdout",
     "output_type": "stream",
     "text": [
      "Aggregation\n",
      "['Genus', 'Genus', 'Genus', 'Genus', 'Genus', 'Genus', 'Genus', 'Genus', 'Genus', 'Genus', 'Family', 'Family', 'Family', 'Family', 'Family']\n",
      "Base:\n",
      "[0.7576621525302922, 0.8333333333333334, 0.6997354497354498, 0.6681034482758621, 0.5133928571428572, 0.6806249999999999, 0.5946745562130178, 0.666923076923077, 0.7477477477477479, 0.7005876894525208, 0.7063435495367071, 0.9011111111111111, 0.6547619047619047, 0.8045977011494253, 0.6261160714285715]\n",
      "DEBIAS-M:\n",
      "[0.7270135424091233, 0.8044444444444444, 0.6521164021164021, 0.757183908045977, 0.6160714285714286, 0.7162499999999999, 0.7181952662721893, 0.7248717948717949, 0.7462462462462464, 0.8468914321064026, 0.7088382038488952, 0.7977777777777778, 0.7023809523809524, 0.7816091954022988, 0.5703125]\n"
     ]
    },
    {
     "name": "stderr",
     "output_type": "stream",
     "text": [
      "/Users/george/opt/anaconda3/envs/pl2/lib/python3.6/site-packages/pytorch_lightning/trainer/data_loading.py:133: UserWarning: The dataloader, val_dataloader 0, does not have many workers which may be a bottleneck. Consider increasing the value of the `num_workers` argument` (try 8 which is the number of cpus on this machine) in the `DataLoader` init to improve performance.\n",
      "  f\"The dataloader, {name}, does not have many workers which may be a bottleneck.\"\n",
      "/Users/george/opt/anaconda3/envs/pl2/lib/python3.6/site-packages/debiasm/torch_functions.py:75: UserWarning: Implicit dimension choice for softmax has been deprecated. Change the call to include dim=X as an argument.\n",
      "  y_hat = softmax(x)\n",
      "/Users/george/opt/anaconda3/envs/pl2/lib/python3.6/site-packages/pytorch_lightning/trainer/data_loading.py:133: UserWarning: The dataloader, train_dataloader, does not have many workers which may be a bottleneck. Consider increasing the value of the `num_workers` argument` (try 8 which is the number of cpus on this machine) in the `DataLoader` init to improve performance.\n",
      "  f\"The dataloader, {name}, does not have many workers which may be a bottleneck.\"\n",
      "Trainer was signaled to stop but required minimum epochs (25) or minimum steps (None) has not been met. Training will continue...\n",
      "Trainer was signaled to stop but required minimum epochs (25) or minimum steps (None) has not been met. Training will continue...\n",
      "Trainer was signaled to stop but required minimum epochs (25) or minimum steps (None) has not been met. Training will continue...\n",
      "Trainer was signaled to stop but required minimum epochs (25) or minimum steps (None) has not been met. Training will continue...\n",
      "Trainer was signaled to stop but required minimum epochs (25) or minimum steps (None) has not been met. Training will continue...\n",
      "Trainer was signaled to stop but required minimum epochs (25) or minimum steps (None) has not been met. Training will continue...\n",
      "Trainer was signaled to stop but required minimum epochs (25) or minimum steps (None) has not been met. Training will continue...\n",
      "Trainer was signaled to stop but required minimum epochs (25) or minimum steps (None) has not been met. Training will continue...\n",
      "Trainer was signaled to stop but required minimum epochs (25) or minimum steps (None) has not been met. Training will continue...\n",
      "Trainer was signaled to stop but required minimum epochs (25) or minimum steps (None) has not been met. Training will continue...\n",
      "/Users/george/opt/anaconda3/envs/pl2/lib/python3.6/site-packages/pytorch_lightning/trainer/connectors/callback_connector.py:148: LightningDeprecationWarning: Setting `Trainer(checkpoint_callback=False)` is deprecated in v1.5 and will be removed in v1.7. Please consider using `Trainer(enable_checkpointing=False)`.\n",
      "  f\"Setting `Trainer(checkpoint_callback={checkpoint_callback})` is deprecated in v1.5 and will \"\n",
      "/Users/george/opt/anaconda3/envs/pl2/lib/python3.6/site-packages/pytorch_lightning/trainer/connectors/callback_connector.py:91: LightningDeprecationWarning: Setting `Trainer(progress_bar_refresh_rate=0)` is deprecated in v1.5 and will be removed in v1.7. Please pass `pytorch_lightning.callbacks.progress.TQDMProgressBar` with `refresh_rate` directly to the Trainer's `callbacks` argument instead. Or, to disable the progress bar pass `enable_progress_bar = False` to the Trainer.\n",
      "  f\"Setting `Trainer(progress_bar_refresh_rate={progress_bar_refresh_rate})` is deprecated in v1.5 and\"\n",
      "/Users/george/opt/anaconda3/envs/pl2/lib/python3.6/site-packages/pytorch_lightning/trainer/connectors/callback_connector.py:168: LightningDeprecationWarning: Setting `Trainer(weights_summary=None)` is deprecated in v1.5 and will be removed in v1.7. Please set `Trainer(enable_model_summary=False)` instead.\n",
      "  \"Setting `Trainer(weights_summary=None)` is deprecated in v1.5 and will be removed\"\n",
      "GPU available: False, used: False\n",
      "TPU available: False, using: 0 TPU cores\n",
      "IPU available: False, using: 0 IPUs\n"
     ]
    },
    {
     "name": "stdout",
     "output_type": "stream",
     "text": [
      "Aggregation\n",
      "['Genus', 'Genus', 'Genus', 'Genus', 'Genus', 'Genus', 'Genus', 'Genus', 'Genus', 'Genus', 'Family', 'Family', 'Family', 'Family', 'Family', 'Family']\n",
      "Base:\n",
      "[0.7576621525302922, 0.8333333333333334, 0.6997354497354498, 0.6681034482758621, 0.5133928571428572, 0.6806249999999999, 0.5946745562130178, 0.666923076923077, 0.7477477477477479, 0.7005876894525208, 0.7063435495367071, 0.9011111111111111, 0.6547619047619047, 0.8045977011494253, 0.6261160714285715, 0.713125]\n",
      "DEBIAS-M:\n",
      "[0.7270135424091233, 0.8044444444444444, 0.6521164021164021, 0.757183908045977, 0.6160714285714286, 0.7162499999999999, 0.7181952662721893, 0.7248717948717949, 0.7462462462462464, 0.8468914321064026, 0.7088382038488952, 0.7977777777777778, 0.7023809523809524, 0.7816091954022988, 0.5703125, 0.60125]\n"
     ]
    },
    {
     "name": "stderr",
     "output_type": "stream",
     "text": [
      "/Users/george/opt/anaconda3/envs/pl2/lib/python3.6/site-packages/pytorch_lightning/trainer/data_loading.py:133: UserWarning: The dataloader, val_dataloader 0, does not have many workers which may be a bottleneck. Consider increasing the value of the `num_workers` argument` (try 8 which is the number of cpus on this machine) in the `DataLoader` init to improve performance.\n",
      "  f\"The dataloader, {name}, does not have many workers which may be a bottleneck.\"\n",
      "/Users/george/opt/anaconda3/envs/pl2/lib/python3.6/site-packages/debiasm/torch_functions.py:75: UserWarning: Implicit dimension choice for softmax has been deprecated. Change the call to include dim=X as an argument.\n",
      "  y_hat = softmax(x)\n",
      "/Users/george/opt/anaconda3/envs/pl2/lib/python3.6/site-packages/pytorch_lightning/trainer/data_loading.py:133: UserWarning: The dataloader, train_dataloader, does not have many workers which may be a bottleneck. Consider increasing the value of the `num_workers` argument` (try 8 which is the number of cpus on this machine) in the `DataLoader` init to improve performance.\n",
      "  f\"The dataloader, {name}, does not have many workers which may be a bottleneck.\"\n",
      "/Users/george/opt/anaconda3/envs/pl2/lib/python3.6/site-packages/pytorch_lightning/trainer/connectors/callback_connector.py:148: LightningDeprecationWarning: Setting `Trainer(checkpoint_callback=False)` is deprecated in v1.5 and will be removed in v1.7. Please consider using `Trainer(enable_checkpointing=False)`.\n",
      "  f\"Setting `Trainer(checkpoint_callback={checkpoint_callback})` is deprecated in v1.5 and will \"\n",
      "/Users/george/opt/anaconda3/envs/pl2/lib/python3.6/site-packages/pytorch_lightning/trainer/connectors/callback_connector.py:91: LightningDeprecationWarning: Setting `Trainer(progress_bar_refresh_rate=0)` is deprecated in v1.5 and will be removed in v1.7. Please pass `pytorch_lightning.callbacks.progress.TQDMProgressBar` with `refresh_rate` directly to the Trainer's `callbacks` argument instead. Or, to disable the progress bar pass `enable_progress_bar = False` to the Trainer.\n",
      "  f\"Setting `Trainer(progress_bar_refresh_rate={progress_bar_refresh_rate})` is deprecated in v1.5 and\"\n",
      "/Users/george/opt/anaconda3/envs/pl2/lib/python3.6/site-packages/pytorch_lightning/trainer/connectors/callback_connector.py:168: LightningDeprecationWarning: Setting `Trainer(weights_summary=None)` is deprecated in v1.5 and will be removed in v1.7. Please set `Trainer(enable_model_summary=False)` instead.\n",
      "  \"Setting `Trainer(weights_summary=None)` is deprecated in v1.5 and will be removed\"\n",
      "GPU available: False, used: False\n",
      "TPU available: False, using: 0 TPU cores\n",
      "IPU available: False, using: 0 IPUs\n"
     ]
    },
    {
     "name": "stdout",
     "output_type": "stream",
     "text": [
      "Aggregation\n",
      "['Genus', 'Genus', 'Genus', 'Genus', 'Genus', 'Genus', 'Genus', 'Genus', 'Genus', 'Genus', 'Family', 'Family', 'Family', 'Family', 'Family', 'Family', 'Family']\n",
      "Base:\n",
      "[0.7576621525302922, 0.8333333333333334, 0.6997354497354498, 0.6681034482758621, 0.5133928571428572, 0.6806249999999999, 0.5946745562130178, 0.666923076923077, 0.7477477477477479, 0.7005876894525208, 0.7063435495367071, 0.9011111111111111, 0.6547619047619047, 0.8045977011494253, 0.6261160714285715, 0.713125, 0.6150147928994082]\n",
      "DEBIAS-M:\n",
      "[0.7270135424091233, 0.8044444444444444, 0.6521164021164021, 0.757183908045977, 0.6160714285714286, 0.7162499999999999, 0.7181952662721893, 0.7248717948717949, 0.7462462462462464, 0.8468914321064026, 0.7088382038488952, 0.7977777777777778, 0.7023809523809524, 0.7816091954022988, 0.5703125, 0.60125, 0.6375739644970414]\n"
     ]
    },
    {
     "name": "stderr",
     "output_type": "stream",
     "text": [
      "/Users/george/opt/anaconda3/envs/pl2/lib/python3.6/site-packages/pytorch_lightning/trainer/data_loading.py:133: UserWarning: The dataloader, val_dataloader 0, does not have many workers which may be a bottleneck. Consider increasing the value of the `num_workers` argument` (try 8 which is the number of cpus on this machine) in the `DataLoader` init to improve performance.\n",
      "  f\"The dataloader, {name}, does not have many workers which may be a bottleneck.\"\n",
      "/Users/george/opt/anaconda3/envs/pl2/lib/python3.6/site-packages/debiasm/torch_functions.py:75: UserWarning: Implicit dimension choice for softmax has been deprecated. Change the call to include dim=X as an argument.\n",
      "  y_hat = softmax(x)\n",
      "/Users/george/opt/anaconda3/envs/pl2/lib/python3.6/site-packages/pytorch_lightning/trainer/data_loading.py:133: UserWarning: The dataloader, train_dataloader, does not have many workers which may be a bottleneck. Consider increasing the value of the `num_workers` argument` (try 8 which is the number of cpus on this machine) in the `DataLoader` init to improve performance.\n",
      "  f\"The dataloader, {name}, does not have many workers which may be a bottleneck.\"\n",
      "/Users/george/opt/anaconda3/envs/pl2/lib/python3.6/site-packages/pytorch_lightning/trainer/connectors/callback_connector.py:148: LightningDeprecationWarning: Setting `Trainer(checkpoint_callback=False)` is deprecated in v1.5 and will be removed in v1.7. Please consider using `Trainer(enable_checkpointing=False)`.\n",
      "  f\"Setting `Trainer(checkpoint_callback={checkpoint_callback})` is deprecated in v1.5 and will \"\n",
      "/Users/george/opt/anaconda3/envs/pl2/lib/python3.6/site-packages/pytorch_lightning/trainer/connectors/callback_connector.py:91: LightningDeprecationWarning: Setting `Trainer(progress_bar_refresh_rate=0)` is deprecated in v1.5 and will be removed in v1.7. Please pass `pytorch_lightning.callbacks.progress.TQDMProgressBar` with `refresh_rate` directly to the Trainer's `callbacks` argument instead. Or, to disable the progress bar pass `enable_progress_bar = False` to the Trainer.\n",
      "  f\"Setting `Trainer(progress_bar_refresh_rate={progress_bar_refresh_rate})` is deprecated in v1.5 and\"\n",
      "/Users/george/opt/anaconda3/envs/pl2/lib/python3.6/site-packages/pytorch_lightning/trainer/connectors/callback_connector.py:168: LightningDeprecationWarning: Setting `Trainer(weights_summary=None)` is deprecated in v1.5 and will be removed in v1.7. Please set `Trainer(enable_model_summary=False)` instead.\n",
      "  \"Setting `Trainer(weights_summary=None)` is deprecated in v1.5 and will be removed\"\n",
      "GPU available: False, used: False\n",
      "TPU available: False, using: 0 TPU cores\n",
      "IPU available: False, using: 0 IPUs\n"
     ]
    },
    {
     "name": "stdout",
     "output_type": "stream",
     "text": [
      "Aggregation\n",
      "['Genus', 'Genus', 'Genus', 'Genus', 'Genus', 'Genus', 'Genus', 'Genus', 'Genus', 'Genus', 'Family', 'Family', 'Family', 'Family', 'Family', 'Family', 'Family', 'Family']\n",
      "Base:\n",
      "[0.7576621525302922, 0.8333333333333334, 0.6997354497354498, 0.6681034482758621, 0.5133928571428572, 0.6806249999999999, 0.5946745562130178, 0.666923076923077, 0.7477477477477479, 0.7005876894525208, 0.7063435495367071, 0.9011111111111111, 0.6547619047619047, 0.8045977011494253, 0.6261160714285715, 0.713125, 0.6150147928994082, 0.6820512820512821]\n",
      "DEBIAS-M:\n",
      "[0.7270135424091233, 0.8044444444444444, 0.6521164021164021, 0.757183908045977, 0.6160714285714286, 0.7162499999999999, 0.7181952662721893, 0.7248717948717949, 0.7462462462462464, 0.8468914321064026, 0.7088382038488952, 0.7977777777777778, 0.7023809523809524, 0.7816091954022988, 0.5703125, 0.60125, 0.6375739644970414, 0.6525641025641026]\n"
     ]
    },
    {
     "name": "stderr",
     "output_type": "stream",
     "text": [
      "/Users/george/opt/anaconda3/envs/pl2/lib/python3.6/site-packages/pytorch_lightning/trainer/data_loading.py:133: UserWarning: The dataloader, val_dataloader 0, does not have many workers which may be a bottleneck. Consider increasing the value of the `num_workers` argument` (try 8 which is the number of cpus on this machine) in the `DataLoader` init to improve performance.\n",
      "  f\"The dataloader, {name}, does not have many workers which may be a bottleneck.\"\n",
      "/Users/george/opt/anaconda3/envs/pl2/lib/python3.6/site-packages/debiasm/torch_functions.py:75: UserWarning: Implicit dimension choice for softmax has been deprecated. Change the call to include dim=X as an argument.\n",
      "  y_hat = softmax(x)\n",
      "/Users/george/opt/anaconda3/envs/pl2/lib/python3.6/site-packages/pytorch_lightning/trainer/data_loading.py:133: UserWarning: The dataloader, train_dataloader, does not have many workers which may be a bottleneck. Consider increasing the value of the `num_workers` argument` (try 8 which is the number of cpus on this machine) in the `DataLoader` init to improve performance.\n",
      "  f\"The dataloader, {name}, does not have many workers which may be a bottleneck.\"\n",
      "Trainer was signaled to stop but required minimum epochs (25) or minimum steps (None) has not been met. Training will continue...\n",
      "Trainer was signaled to stop but required minimum epochs (25) or minimum steps (None) has not been met. Training will continue...\n",
      "Trainer was signaled to stop but required minimum epochs (25) or minimum steps (None) has not been met. Training will continue...\n",
      "Trainer was signaled to stop but required minimum epochs (25) or minimum steps (None) has not been met. Training will continue...\n",
      "Trainer was signaled to stop but required minimum epochs (25) or minimum steps (None) has not been met. Training will continue...\n",
      "Trainer was signaled to stop but required minimum epochs (25) or minimum steps (None) has not been met. Training will continue...\n",
      "Trainer was signaled to stop but required minimum epochs (25) or minimum steps (None) has not been met. Training will continue...\n",
      "Trainer was signaled to stop but required minimum epochs (25) or minimum steps (None) has not been met. Training will continue...\n",
      "Trainer was signaled to stop but required minimum epochs (25) or minimum steps (None) has not been met. Training will continue...\n",
      "/Users/george/opt/anaconda3/envs/pl2/lib/python3.6/site-packages/pytorch_lightning/trainer/connectors/callback_connector.py:148: LightningDeprecationWarning: Setting `Trainer(checkpoint_callback=False)` is deprecated in v1.5 and will be removed in v1.7. Please consider using `Trainer(enable_checkpointing=False)`.\n",
      "  f\"Setting `Trainer(checkpoint_callback={checkpoint_callback})` is deprecated in v1.5 and will \"\n",
      "/Users/george/opt/anaconda3/envs/pl2/lib/python3.6/site-packages/pytorch_lightning/trainer/connectors/callback_connector.py:91: LightningDeprecationWarning: Setting `Trainer(progress_bar_refresh_rate=0)` is deprecated in v1.5 and will be removed in v1.7. Please pass `pytorch_lightning.callbacks.progress.TQDMProgressBar` with `refresh_rate` directly to the Trainer's `callbacks` argument instead. Or, to disable the progress bar pass `enable_progress_bar = False` to the Trainer.\n",
      "  f\"Setting `Trainer(progress_bar_refresh_rate={progress_bar_refresh_rate})` is deprecated in v1.5 and\"\n",
      "/Users/george/opt/anaconda3/envs/pl2/lib/python3.6/site-packages/pytorch_lightning/trainer/connectors/callback_connector.py:168: LightningDeprecationWarning: Setting `Trainer(weights_summary=None)` is deprecated in v1.5 and will be removed in v1.7. Please set `Trainer(enable_model_summary=False)` instead.\n",
      "  \"Setting `Trainer(weights_summary=None)` is deprecated in v1.5 and will be removed\"\n",
      "GPU available: False, used: False\n",
      "TPU available: False, using: 0 TPU cores\n",
      "IPU available: False, using: 0 IPUs\n"
     ]
    },
    {
     "name": "stdout",
     "output_type": "stream",
     "text": [
      "Aggregation\n",
      "['Genus', 'Genus', 'Genus', 'Genus', 'Genus', 'Genus', 'Genus', 'Genus', 'Genus', 'Genus', 'Family', 'Family', 'Family', 'Family', 'Family', 'Family', 'Family', 'Family', 'Family']\n",
      "Base:\n",
      "[0.7576621525302922, 0.8333333333333334, 0.6997354497354498, 0.6681034482758621, 0.5133928571428572, 0.6806249999999999, 0.5946745562130178, 0.666923076923077, 0.7477477477477479, 0.7005876894525208, 0.7063435495367071, 0.9011111111111111, 0.6547619047619047, 0.8045977011494253, 0.6261160714285715, 0.713125, 0.6150147928994082, 0.6820512820512821, 0.7240990990990991]\n",
      "DEBIAS-M:\n",
      "[0.7270135424091233, 0.8044444444444444, 0.6521164021164021, 0.757183908045977, 0.6160714285714286, 0.7162499999999999, 0.7181952662721893, 0.7248717948717949, 0.7462462462462464, 0.8468914321064026, 0.7088382038488952, 0.7977777777777778, 0.7023809523809524, 0.7816091954022988, 0.5703125, 0.60125, 0.6375739644970414, 0.6525641025641026, 0.5923423423423423]\n"
     ]
    },
    {
     "name": "stderr",
     "output_type": "stream",
     "text": [
      "/Users/george/opt/anaconda3/envs/pl2/lib/python3.6/site-packages/pytorch_lightning/trainer/data_loading.py:133: UserWarning: The dataloader, val_dataloader 0, does not have many workers which may be a bottleneck. Consider increasing the value of the `num_workers` argument` (try 8 which is the number of cpus on this machine) in the `DataLoader` init to improve performance.\n",
      "  f\"The dataloader, {name}, does not have many workers which may be a bottleneck.\"\n",
      "/Users/george/opt/anaconda3/envs/pl2/lib/python3.6/site-packages/debiasm/torch_functions.py:75: UserWarning: Implicit dimension choice for softmax has been deprecated. Change the call to include dim=X as an argument.\n",
      "  y_hat = softmax(x)\n",
      "/Users/george/opt/anaconda3/envs/pl2/lib/python3.6/site-packages/pytorch_lightning/trainer/data_loading.py:133: UserWarning: The dataloader, train_dataloader, does not have many workers which may be a bottleneck. Consider increasing the value of the `num_workers` argument` (try 8 which is the number of cpus on this machine) in the `DataLoader` init to improve performance.\n",
      "  f\"The dataloader, {name}, does not have many workers which may be a bottleneck.\"\n",
      "Trainer was signaled to stop but required minimum epochs (25) or minimum steps (None) has not been met. Training will continue...\n",
      "Trainer was signaled to stop but required minimum epochs (25) or minimum steps (None) has not been met. Training will continue...\n",
      "Trainer was signaled to stop but required minimum epochs (25) or minimum steps (None) has not been met. Training will continue...\n",
      "Trainer was signaled to stop but required minimum epochs (25) or minimum steps (None) has not been met. Training will continue...\n",
      "/Users/george/opt/anaconda3/envs/pl2/lib/python3.6/site-packages/debiasm/torch_functions.py:22: FutureWarning: Support for multi-dimensional indexing (e.g. `obj[:, None]`) is deprecated and will be removed in a future version.  Convert to a numpy array before indexing instead.\n",
      "  return(xx/xx.sum(axis=1)[:, np.newaxis] )\n",
      "/Users/george/opt/anaconda3/envs/pl2/lib/python3.6/site-packages/pytorch_lightning/trainer/connectors/callback_connector.py:148: LightningDeprecationWarning: Setting `Trainer(checkpoint_callback=False)` is deprecated in v1.5 and will be removed in v1.7. Please consider using `Trainer(enable_checkpointing=False)`.\n",
      "  f\"Setting `Trainer(checkpoint_callback={checkpoint_callback})` is deprecated in v1.5 and will \"\n",
      "/Users/george/opt/anaconda3/envs/pl2/lib/python3.6/site-packages/pytorch_lightning/trainer/connectors/callback_connector.py:91: LightningDeprecationWarning: Setting `Trainer(progress_bar_refresh_rate=0)` is deprecated in v1.5 and will be removed in v1.7. Please pass `pytorch_lightning.callbacks.progress.TQDMProgressBar` with `refresh_rate` directly to the Trainer's `callbacks` argument instead. Or, to disable the progress bar pass `enable_progress_bar = False` to the Trainer.\n",
      "  f\"Setting `Trainer(progress_bar_refresh_rate={progress_bar_refresh_rate})` is deprecated in v1.5 and\"\n",
      "/Users/george/opt/anaconda3/envs/pl2/lib/python3.6/site-packages/pytorch_lightning/trainer/connectors/callback_connector.py:168: LightningDeprecationWarning: Setting `Trainer(weights_summary=None)` is deprecated in v1.5 and will be removed in v1.7. Please set `Trainer(enable_model_summary=False)` instead.\n",
      "  \"Setting `Trainer(weights_summary=None)` is deprecated in v1.5 and will be removed\"\n",
      "GPU available: False, used: False\n",
      "TPU available: False, using: 0 TPU cores\n",
      "IPU available: False, using: 0 IPUs\n"
     ]
    },
    {
     "name": "stdout",
     "output_type": "stream",
     "text": [
      "Aggregation\n",
      "['Genus', 'Genus', 'Genus', 'Genus', 'Genus', 'Genus', 'Genus', 'Genus', 'Genus', 'Genus', 'Family', 'Family', 'Family', 'Family', 'Family', 'Family', 'Family', 'Family', 'Family', 'Family']\n",
      "Base:\n",
      "[0.7576621525302922, 0.8333333333333334, 0.6997354497354498, 0.6681034482758621, 0.5133928571428572, 0.6806249999999999, 0.5946745562130178, 0.666923076923077, 0.7477477477477479, 0.7005876894525208, 0.7063435495367071, 0.9011111111111111, 0.6547619047619047, 0.8045977011494253, 0.6261160714285715, 0.713125, 0.6150147928994082, 0.6820512820512821, 0.7240990990990991, 0.742653881843489]\n",
      "DEBIAS-M:\n",
      "[0.7270135424091233, 0.8044444444444444, 0.6521164021164021, 0.757183908045977, 0.6160714285714286, 0.7162499999999999, 0.7181952662721893, 0.7248717948717949, 0.7462462462462464, 0.8468914321064026, 0.7088382038488952, 0.7977777777777778, 0.7023809523809524, 0.7816091954022988, 0.5703125, 0.60125, 0.6375739644970414, 0.6525641025641026, 0.5923423423423423, 0.7967831735230436]\n"
     ]
    },
    {
     "name": "stderr",
     "output_type": "stream",
     "text": [
      "/Users/george/opt/anaconda3/envs/pl2/lib/python3.6/site-packages/pytorch_lightning/trainer/data_loading.py:133: UserWarning: The dataloader, val_dataloader 0, does not have many workers which may be a bottleneck. Consider increasing the value of the `num_workers` argument` (try 8 which is the number of cpus on this machine) in the `DataLoader` init to improve performance.\n",
      "  f\"The dataloader, {name}, does not have many workers which may be a bottleneck.\"\n",
      "/Users/george/opt/anaconda3/envs/pl2/lib/python3.6/site-packages/debiasm/torch_functions.py:75: UserWarning: Implicit dimension choice for softmax has been deprecated. Change the call to include dim=X as an argument.\n",
      "  y_hat = softmax(x)\n",
      "/Users/george/opt/anaconda3/envs/pl2/lib/python3.6/site-packages/pytorch_lightning/trainer/data_loading.py:133: UserWarning: The dataloader, train_dataloader, does not have many workers which may be a bottleneck. Consider increasing the value of the `num_workers` argument` (try 8 which is the number of cpus on this machine) in the `DataLoader` init to improve performance.\n",
      "  f\"The dataloader, {name}, does not have many workers which may be a bottleneck.\"\n",
      "Trainer was signaled to stop but required minimum epochs (25) or minimum steps (None) has not been met. Training will continue...\n",
      "Trainer was signaled to stop but required minimum epochs (25) or minimum steps (None) has not been met. Training will continue...\n",
      "Trainer was signaled to stop but required minimum epochs (25) or minimum steps (None) has not been met. Training will continue...\n",
      "Trainer was signaled to stop but required minimum epochs (25) or minimum steps (None) has not been met. Training will continue...\n",
      "Trainer was signaled to stop but required minimum epochs (25) or minimum steps (None) has not been met. Training will continue...\n",
      "Trainer was signaled to stop but required minimum epochs (25) or minimum steps (None) has not been met. Training will continue...\n",
      "Trainer was signaled to stop but required minimum epochs (25) or minimum steps (None) has not been met. Training will continue...\n",
      "Trainer was signaled to stop but required minimum epochs (25) or minimum steps (None) has not been met. Training will continue...\n",
      "Trainer was signaled to stop but required minimum epochs (25) or minimum steps (None) has not been met. Training will continue...\n",
      "Trainer was signaled to stop but required minimum epochs (25) or minimum steps (None) has not been met. Training will continue...\n",
      "/Users/george/opt/anaconda3/envs/pl2/lib/python3.6/site-packages/pytorch_lightning/trainer/connectors/callback_connector.py:148: LightningDeprecationWarning: Setting `Trainer(checkpoint_callback=False)` is deprecated in v1.5 and will be removed in v1.7. Please consider using `Trainer(enable_checkpointing=False)`.\n",
      "  f\"Setting `Trainer(checkpoint_callback={checkpoint_callback})` is deprecated in v1.5 and will \"\n",
      "/Users/george/opt/anaconda3/envs/pl2/lib/python3.6/site-packages/pytorch_lightning/trainer/connectors/callback_connector.py:91: LightningDeprecationWarning: Setting `Trainer(progress_bar_refresh_rate=0)` is deprecated in v1.5 and will be removed in v1.7. Please pass `pytorch_lightning.callbacks.progress.TQDMProgressBar` with `refresh_rate` directly to the Trainer's `callbacks` argument instead. Or, to disable the progress bar pass `enable_progress_bar = False` to the Trainer.\n",
      "  f\"Setting `Trainer(progress_bar_refresh_rate={progress_bar_refresh_rate})` is deprecated in v1.5 and\"\n",
      "/Users/george/opt/anaconda3/envs/pl2/lib/python3.6/site-packages/pytorch_lightning/trainer/connectors/callback_connector.py:168: LightningDeprecationWarning: Setting `Trainer(weights_summary=None)` is deprecated in v1.5 and will be removed in v1.7. Please set `Trainer(enable_model_summary=False)` instead.\n",
      "  \"Setting `Trainer(weights_summary=None)` is deprecated in v1.5 and will be removed\"\n",
      "GPU available: False, used: False\n",
      "TPU available: False, using: 0 TPU cores\n",
      "IPU available: False, using: 0 IPUs\n"
     ]
    },
    {
     "name": "stdout",
     "output_type": "stream",
     "text": [
      "Aggregation\n",
      "['Genus', 'Genus', 'Genus', 'Genus', 'Genus', 'Genus', 'Genus', 'Genus', 'Genus', 'Genus', 'Family', 'Family', 'Family', 'Family', 'Family', 'Family', 'Family', 'Family', 'Family', 'Family', 'Order']\n",
      "Base:\n",
      "[0.7576621525302922, 0.8333333333333334, 0.6997354497354498, 0.6681034482758621, 0.5133928571428572, 0.6806249999999999, 0.5946745562130178, 0.666923076923077, 0.7477477477477479, 0.7005876894525208, 0.7063435495367071, 0.9011111111111111, 0.6547619047619047, 0.8045977011494253, 0.6261160714285715, 0.713125, 0.6150147928994082, 0.6820512820512821, 0.7240990990990991, 0.742653881843489, 0.7120456165359943]\n",
      "DEBIAS-M:\n",
      "[0.7270135424091233, 0.8044444444444444, 0.6521164021164021, 0.757183908045977, 0.6160714285714286, 0.7162499999999999, 0.7181952662721893, 0.7248717948717949, 0.7462462462462464, 0.8468914321064026, 0.7088382038488952, 0.7977777777777778, 0.7023809523809524, 0.7816091954022988, 0.5703125, 0.60125, 0.6375739644970414, 0.6525641025641026, 0.5923423423423423, 0.7967831735230436, 0.6657163221667854]\n"
     ]
    },
    {
     "name": "stderr",
     "output_type": "stream",
     "text": [
      "/Users/george/opt/anaconda3/envs/pl2/lib/python3.6/site-packages/pytorch_lightning/trainer/data_loading.py:133: UserWarning: The dataloader, val_dataloader 0, does not have many workers which may be a bottleneck. Consider increasing the value of the `num_workers` argument` (try 8 which is the number of cpus on this machine) in the `DataLoader` init to improve performance.\n",
      "  f\"The dataloader, {name}, does not have many workers which may be a bottleneck.\"\n",
      "/Users/george/opt/anaconda3/envs/pl2/lib/python3.6/site-packages/debiasm/torch_functions.py:75: UserWarning: Implicit dimension choice for softmax has been deprecated. Change the call to include dim=X as an argument.\n",
      "  y_hat = softmax(x)\n",
      "/Users/george/opt/anaconda3/envs/pl2/lib/python3.6/site-packages/pytorch_lightning/trainer/data_loading.py:133: UserWarning: The dataloader, train_dataloader, does not have many workers which may be a bottleneck. Consider increasing the value of the `num_workers` argument` (try 8 which is the number of cpus on this machine) in the `DataLoader` init to improve performance.\n",
      "  f\"The dataloader, {name}, does not have many workers which may be a bottleneck.\"\n",
      "Trainer was signaled to stop but required minimum epochs (25) or minimum steps (None) has not been met. Training will continue...\n",
      "Trainer was signaled to stop but required minimum epochs (25) or minimum steps (None) has not been met. Training will continue...\n",
      "Trainer was signaled to stop but required minimum epochs (25) or minimum steps (None) has not been met. Training will continue...\n",
      "Trainer was signaled to stop but required minimum epochs (25) or minimum steps (None) has not been met. Training will continue...\n",
      "Trainer was signaled to stop but required minimum epochs (25) or minimum steps (None) has not been met. Training will continue...\n",
      "Trainer was signaled to stop but required minimum epochs (25) or minimum steps (None) has not been met. Training will continue...\n",
      "Trainer was signaled to stop but required minimum epochs (25) or minimum steps (None) has not been met. Training will continue...\n",
      "Trainer was signaled to stop but required minimum epochs (25) or minimum steps (None) has not been met. Training will continue...\n",
      "Trainer was signaled to stop but required minimum epochs (25) or minimum steps (None) has not been met. Training will continue...\n",
      "Trainer was signaled to stop but required minimum epochs (25) or minimum steps (None) has not been met. Training will continue...\n",
      "/Users/george/opt/anaconda3/envs/pl2/lib/python3.6/site-packages/pytorch_lightning/trainer/connectors/callback_connector.py:148: LightningDeprecationWarning: Setting `Trainer(checkpoint_callback=False)` is deprecated in v1.5 and will be removed in v1.7. Please consider using `Trainer(enable_checkpointing=False)`.\n",
      "  f\"Setting `Trainer(checkpoint_callback={checkpoint_callback})` is deprecated in v1.5 and will \"\n",
      "/Users/george/opt/anaconda3/envs/pl2/lib/python3.6/site-packages/pytorch_lightning/trainer/connectors/callback_connector.py:91: LightningDeprecationWarning: Setting `Trainer(progress_bar_refresh_rate=0)` is deprecated in v1.5 and will be removed in v1.7. Please pass `pytorch_lightning.callbacks.progress.TQDMProgressBar` with `refresh_rate` directly to the Trainer's `callbacks` argument instead. Or, to disable the progress bar pass `enable_progress_bar = False` to the Trainer.\n",
      "  f\"Setting `Trainer(progress_bar_refresh_rate={progress_bar_refresh_rate})` is deprecated in v1.5 and\"\n",
      "/Users/george/opt/anaconda3/envs/pl2/lib/python3.6/site-packages/pytorch_lightning/trainer/connectors/callback_connector.py:168: LightningDeprecationWarning: Setting `Trainer(weights_summary=None)` is deprecated in v1.5 and will be removed in v1.7. Please set `Trainer(enable_model_summary=False)` instead.\n",
      "  \"Setting `Trainer(weights_summary=None)` is deprecated in v1.5 and will be removed\"\n",
      "GPU available: False, used: False\n",
      "TPU available: False, using: 0 TPU cores\n",
      "IPU available: False, using: 0 IPUs\n"
     ]
    },
    {
     "name": "stdout",
     "output_type": "stream",
     "text": [
      "Aggregation\n",
      "['Genus', 'Genus', 'Genus', 'Genus', 'Genus', 'Genus', 'Genus', 'Genus', 'Genus', 'Genus', 'Family', 'Family', 'Family', 'Family', 'Family', 'Family', 'Family', 'Family', 'Family', 'Family', 'Order', 'Order']\n",
      "Base:\n",
      "[0.7576621525302922, 0.8333333333333334, 0.6997354497354498, 0.6681034482758621, 0.5133928571428572, 0.6806249999999999, 0.5946745562130178, 0.666923076923077, 0.7477477477477479, 0.7005876894525208, 0.7063435495367071, 0.9011111111111111, 0.6547619047619047, 0.8045977011494253, 0.6261160714285715, 0.713125, 0.6150147928994082, 0.6820512820512821, 0.7240990990990991, 0.742653881843489, 0.7120456165359943, 0.8633333333333333]\n",
      "DEBIAS-M:\n",
      "[0.7270135424091233, 0.8044444444444444, 0.6521164021164021, 0.757183908045977, 0.6160714285714286, 0.7162499999999999, 0.7181952662721893, 0.7248717948717949, 0.7462462462462464, 0.8468914321064026, 0.7088382038488952, 0.7977777777777778, 0.7023809523809524, 0.7816091954022988, 0.5703125, 0.60125, 0.6375739644970414, 0.6525641025641026, 0.5923423423423423, 0.7967831735230436, 0.6657163221667854, 0.6877777777777777]\n"
     ]
    },
    {
     "name": "stderr",
     "output_type": "stream",
     "text": [
      "/Users/george/opt/anaconda3/envs/pl2/lib/python3.6/site-packages/pytorch_lightning/trainer/data_loading.py:133: UserWarning: The dataloader, val_dataloader 0, does not have many workers which may be a bottleneck. Consider increasing the value of the `num_workers` argument` (try 8 which is the number of cpus on this machine) in the `DataLoader` init to improve performance.\n",
      "  f\"The dataloader, {name}, does not have many workers which may be a bottleneck.\"\n",
      "/Users/george/opt/anaconda3/envs/pl2/lib/python3.6/site-packages/debiasm/torch_functions.py:75: UserWarning: Implicit dimension choice for softmax has been deprecated. Change the call to include dim=X as an argument.\n",
      "  y_hat = softmax(x)\n",
      "/Users/george/opt/anaconda3/envs/pl2/lib/python3.6/site-packages/pytorch_lightning/trainer/data_loading.py:133: UserWarning: The dataloader, train_dataloader, does not have many workers which may be a bottleneck. Consider increasing the value of the `num_workers` argument` (try 8 which is the number of cpus on this machine) in the `DataLoader` init to improve performance.\n",
      "  f\"The dataloader, {name}, does not have many workers which may be a bottleneck.\"\n",
      "/Users/george/opt/anaconda3/envs/pl2/lib/python3.6/site-packages/pytorch_lightning/trainer/connectors/callback_connector.py:148: LightningDeprecationWarning: Setting `Trainer(checkpoint_callback=False)` is deprecated in v1.5 and will be removed in v1.7. Please consider using `Trainer(enable_checkpointing=False)`.\n",
      "  f\"Setting `Trainer(checkpoint_callback={checkpoint_callback})` is deprecated in v1.5 and will \"\n",
      "/Users/george/opt/anaconda3/envs/pl2/lib/python3.6/site-packages/pytorch_lightning/trainer/connectors/callback_connector.py:91: LightningDeprecationWarning: Setting `Trainer(progress_bar_refresh_rate=0)` is deprecated in v1.5 and will be removed in v1.7. Please pass `pytorch_lightning.callbacks.progress.TQDMProgressBar` with `refresh_rate` directly to the Trainer's `callbacks` argument instead. Or, to disable the progress bar pass `enable_progress_bar = False` to the Trainer.\n",
      "  f\"Setting `Trainer(progress_bar_refresh_rate={progress_bar_refresh_rate})` is deprecated in v1.5 and\"\n",
      "/Users/george/opt/anaconda3/envs/pl2/lib/python3.6/site-packages/pytorch_lightning/trainer/connectors/callback_connector.py:168: LightningDeprecationWarning: Setting `Trainer(weights_summary=None)` is deprecated in v1.5 and will be removed in v1.7. Please set `Trainer(enable_model_summary=False)` instead.\n",
      "  \"Setting `Trainer(weights_summary=None)` is deprecated in v1.5 and will be removed\"\n",
      "GPU available: False, used: False\n",
      "TPU available: False, using: 0 TPU cores\n",
      "IPU available: False, using: 0 IPUs\n"
     ]
    },
    {
     "name": "stdout",
     "output_type": "stream",
     "text": [
      "Aggregation\n",
      "['Genus', 'Genus', 'Genus', 'Genus', 'Genus', 'Genus', 'Genus', 'Genus', 'Genus', 'Genus', 'Family', 'Family', 'Family', 'Family', 'Family', 'Family', 'Family', 'Family', 'Family', 'Family', 'Order', 'Order', 'Order']\n",
      "Base:\n",
      "[0.7576621525302922, 0.8333333333333334, 0.6997354497354498, 0.6681034482758621, 0.5133928571428572, 0.6806249999999999, 0.5946745562130178, 0.666923076923077, 0.7477477477477479, 0.7005876894525208, 0.7063435495367071, 0.9011111111111111, 0.6547619047619047, 0.8045977011494253, 0.6261160714285715, 0.713125, 0.6150147928994082, 0.6820512820512821, 0.7240990990990991, 0.742653881843489, 0.7120456165359943, 0.8633333333333333, 0.6084656084656084]\n",
      "DEBIAS-M:\n",
      "[0.7270135424091233, 0.8044444444444444, 0.6521164021164021, 0.757183908045977, 0.6160714285714286, 0.7162499999999999, 0.7181952662721893, 0.7248717948717949, 0.7462462462462464, 0.8468914321064026, 0.7088382038488952, 0.7977777777777778, 0.7023809523809524, 0.7816091954022988, 0.5703125, 0.60125, 0.6375739644970414, 0.6525641025641026, 0.5923423423423423, 0.7967831735230436, 0.6657163221667854, 0.6877777777777777, 0.6865079365079365]\n"
     ]
    },
    {
     "name": "stderr",
     "output_type": "stream",
     "text": [
      "/Users/george/opt/anaconda3/envs/pl2/lib/python3.6/site-packages/pytorch_lightning/trainer/data_loading.py:133: UserWarning: The dataloader, val_dataloader 0, does not have many workers which may be a bottleneck. Consider increasing the value of the `num_workers` argument` (try 8 which is the number of cpus on this machine) in the `DataLoader` init to improve performance.\n",
      "  f\"The dataloader, {name}, does not have many workers which may be a bottleneck.\"\n",
      "/Users/george/opt/anaconda3/envs/pl2/lib/python3.6/site-packages/debiasm/torch_functions.py:75: UserWarning: Implicit dimension choice for softmax has been deprecated. Change the call to include dim=X as an argument.\n",
      "  y_hat = softmax(x)\n",
      "/Users/george/opt/anaconda3/envs/pl2/lib/python3.6/site-packages/pytorch_lightning/trainer/data_loading.py:133: UserWarning: The dataloader, train_dataloader, does not have many workers which may be a bottleneck. Consider increasing the value of the `num_workers` argument` (try 8 which is the number of cpus on this machine) in the `DataLoader` init to improve performance.\n",
      "  f\"The dataloader, {name}, does not have many workers which may be a bottleneck.\"\n",
      "Trainer was signaled to stop but required minimum epochs (25) or minimum steps (None) has not been met. Training will continue...\n",
      "Trainer was signaled to stop but required minimum epochs (25) or minimum steps (None) has not been met. Training will continue...\n",
      "Trainer was signaled to stop but required minimum epochs (25) or minimum steps (None) has not been met. Training will continue...\n",
      "Trainer was signaled to stop but required minimum epochs (25) or minimum steps (None) has not been met. Training will continue...\n",
      "Trainer was signaled to stop but required minimum epochs (25) or minimum steps (None) has not been met. Training will continue...\n",
      "Trainer was signaled to stop but required minimum epochs (25) or minimum steps (None) has not been met. Training will continue...\n",
      "Trainer was signaled to stop but required minimum epochs (25) or minimum steps (None) has not been met. Training will continue...\n",
      "Trainer was signaled to stop but required minimum epochs (25) or minimum steps (None) has not been met. Training will continue...\n",
      "Trainer was signaled to stop but required minimum epochs (25) or minimum steps (None) has not been met. Training will continue...\n",
      "Trainer was signaled to stop but required minimum epochs (25) or minimum steps (None) has not been met. Training will continue...\n",
      "/Users/george/opt/anaconda3/envs/pl2/lib/python3.6/site-packages/pytorch_lightning/trainer/connectors/callback_connector.py:148: LightningDeprecationWarning: Setting `Trainer(checkpoint_callback=False)` is deprecated in v1.5 and will be removed in v1.7. Please consider using `Trainer(enable_checkpointing=False)`.\n",
      "  f\"Setting `Trainer(checkpoint_callback={checkpoint_callback})` is deprecated in v1.5 and will \"\n",
      "/Users/george/opt/anaconda3/envs/pl2/lib/python3.6/site-packages/pytorch_lightning/trainer/connectors/callback_connector.py:91: LightningDeprecationWarning: Setting `Trainer(progress_bar_refresh_rate=0)` is deprecated in v1.5 and will be removed in v1.7. Please pass `pytorch_lightning.callbacks.progress.TQDMProgressBar` with `refresh_rate` directly to the Trainer's `callbacks` argument instead. Or, to disable the progress bar pass `enable_progress_bar = False` to the Trainer.\n",
      "  f\"Setting `Trainer(progress_bar_refresh_rate={progress_bar_refresh_rate})` is deprecated in v1.5 and\"\n",
      "/Users/george/opt/anaconda3/envs/pl2/lib/python3.6/site-packages/pytorch_lightning/trainer/connectors/callback_connector.py:168: LightningDeprecationWarning: Setting `Trainer(weights_summary=None)` is deprecated in v1.5 and will be removed in v1.7. Please set `Trainer(enable_model_summary=False)` instead.\n",
      "  \"Setting `Trainer(weights_summary=None)` is deprecated in v1.5 and will be removed\"\n",
      "GPU available: False, used: False\n",
      "TPU available: False, using: 0 TPU cores\n",
      "IPU available: False, using: 0 IPUs\n"
     ]
    },
    {
     "name": "stdout",
     "output_type": "stream",
     "text": [
      "Aggregation\n",
      "['Genus', 'Genus', 'Genus', 'Genus', 'Genus', 'Genus', 'Genus', 'Genus', 'Genus', 'Genus', 'Family', 'Family', 'Family', 'Family', 'Family', 'Family', 'Family', 'Family', 'Family', 'Family', 'Order', 'Order', 'Order', 'Order']\n",
      "Base:\n",
      "[0.7576621525302922, 0.8333333333333334, 0.6997354497354498, 0.6681034482758621, 0.5133928571428572, 0.6806249999999999, 0.5946745562130178, 0.666923076923077, 0.7477477477477479, 0.7005876894525208, 0.7063435495367071, 0.9011111111111111, 0.6547619047619047, 0.8045977011494253, 0.6261160714285715, 0.713125, 0.6150147928994082, 0.6820512820512821, 0.7240990990990991, 0.742653881843489, 0.7120456165359943, 0.8633333333333333, 0.6084656084656084, 0.6522988505747126]\n",
      "DEBIAS-M:\n",
      "[0.7270135424091233, 0.8044444444444444, 0.6521164021164021, 0.757183908045977, 0.6160714285714286, 0.7162499999999999, 0.7181952662721893, 0.7248717948717949, 0.7462462462462464, 0.8468914321064026, 0.7088382038488952, 0.7977777777777778, 0.7023809523809524, 0.7816091954022988, 0.5703125, 0.60125, 0.6375739644970414, 0.6525641025641026, 0.5923423423423423, 0.7967831735230436, 0.6657163221667854, 0.6877777777777777, 0.6865079365079365, 0.6537356321839081]\n"
     ]
    },
    {
     "name": "stderr",
     "output_type": "stream",
     "text": [
      "/Users/george/opt/anaconda3/envs/pl2/lib/python3.6/site-packages/pytorch_lightning/trainer/data_loading.py:133: UserWarning: The dataloader, val_dataloader 0, does not have many workers which may be a bottleneck. Consider increasing the value of the `num_workers` argument` (try 8 which is the number of cpus on this machine) in the `DataLoader` init to improve performance.\n",
      "  f\"The dataloader, {name}, does not have many workers which may be a bottleneck.\"\n",
      "/Users/george/opt/anaconda3/envs/pl2/lib/python3.6/site-packages/debiasm/torch_functions.py:75: UserWarning: Implicit dimension choice for softmax has been deprecated. Change the call to include dim=X as an argument.\n",
      "  y_hat = softmax(x)\n",
      "/Users/george/opt/anaconda3/envs/pl2/lib/python3.6/site-packages/pytorch_lightning/trainer/data_loading.py:133: UserWarning: The dataloader, train_dataloader, does not have many workers which may be a bottleneck. Consider increasing the value of the `num_workers` argument` (try 8 which is the number of cpus on this machine) in the `DataLoader` init to improve performance.\n",
      "  f\"The dataloader, {name}, does not have many workers which may be a bottleneck.\"\n",
      "Trainer was signaled to stop but required minimum epochs (25) or minimum steps (None) has not been met. Training will continue...\n",
      "Trainer was signaled to stop but required minimum epochs (25) or minimum steps (None) has not been met. Training will continue...\n",
      "Trainer was signaled to stop but required minimum epochs (25) or minimum steps (None) has not been met. Training will continue...\n",
      "Trainer was signaled to stop but required minimum epochs (25) or minimum steps (None) has not been met. Training will continue...\n",
      "Trainer was signaled to stop but required minimum epochs (25) or minimum steps (None) has not been met. Training will continue...\n",
      "Trainer was signaled to stop but required minimum epochs (25) or minimum steps (None) has not been met. Training will continue...\n",
      "Trainer was signaled to stop but required minimum epochs (25) or minimum steps (None) has not been met. Training will continue...\n",
      "Trainer was signaled to stop but required minimum epochs (25) or minimum steps (None) has not been met. Training will continue...\n",
      "Trainer was signaled to stop but required minimum epochs (25) or minimum steps (None) has not been met. Training will continue...\n",
      "Trainer was signaled to stop but required minimum epochs (25) or minimum steps (None) has not been met. Training will continue...\n",
      "/Users/george/opt/anaconda3/envs/pl2/lib/python3.6/site-packages/pytorch_lightning/trainer/connectors/callback_connector.py:148: LightningDeprecationWarning: Setting `Trainer(checkpoint_callback=False)` is deprecated in v1.5 and will be removed in v1.7. Please consider using `Trainer(enable_checkpointing=False)`.\n",
      "  f\"Setting `Trainer(checkpoint_callback={checkpoint_callback})` is deprecated in v1.5 and will \"\n",
      "/Users/george/opt/anaconda3/envs/pl2/lib/python3.6/site-packages/pytorch_lightning/trainer/connectors/callback_connector.py:91: LightningDeprecationWarning: Setting `Trainer(progress_bar_refresh_rate=0)` is deprecated in v1.5 and will be removed in v1.7. Please pass `pytorch_lightning.callbacks.progress.TQDMProgressBar` with `refresh_rate` directly to the Trainer's `callbacks` argument instead. Or, to disable the progress bar pass `enable_progress_bar = False` to the Trainer.\n",
      "  f\"Setting `Trainer(progress_bar_refresh_rate={progress_bar_refresh_rate})` is deprecated in v1.5 and\"\n",
      "/Users/george/opt/anaconda3/envs/pl2/lib/python3.6/site-packages/pytorch_lightning/trainer/connectors/callback_connector.py:168: LightningDeprecationWarning: Setting `Trainer(weights_summary=None)` is deprecated in v1.5 and will be removed in v1.7. Please set `Trainer(enable_model_summary=False)` instead.\n",
      "  \"Setting `Trainer(weights_summary=None)` is deprecated in v1.5 and will be removed\"\n",
      "GPU available: False, used: False\n",
      "TPU available: False, using: 0 TPU cores\n",
      "IPU available: False, using: 0 IPUs\n"
     ]
    },
    {
     "name": "stdout",
     "output_type": "stream",
     "text": [
      "Aggregation\n",
      "['Genus', 'Genus', 'Genus', 'Genus', 'Genus', 'Genus', 'Genus', 'Genus', 'Genus', 'Genus', 'Family', 'Family', 'Family', 'Family', 'Family', 'Family', 'Family', 'Family', 'Family', 'Family', 'Order', 'Order', 'Order', 'Order', 'Order']\n",
      "Base:\n",
      "[0.7576621525302922, 0.8333333333333334, 0.6997354497354498, 0.6681034482758621, 0.5133928571428572, 0.6806249999999999, 0.5946745562130178, 0.666923076923077, 0.7477477477477479, 0.7005876894525208, 0.7063435495367071, 0.9011111111111111, 0.6547619047619047, 0.8045977011494253, 0.6261160714285715, 0.713125, 0.6150147928994082, 0.6820512820512821, 0.7240990990990991, 0.742653881843489, 0.7120456165359943, 0.8633333333333333, 0.6084656084656084, 0.6522988505747126, 0.6071428571428572]\n",
      "DEBIAS-M:\n",
      "[0.7270135424091233, 0.8044444444444444, 0.6521164021164021, 0.757183908045977, 0.6160714285714286, 0.7162499999999999, 0.7181952662721893, 0.7248717948717949, 0.7462462462462464, 0.8468914321064026, 0.7088382038488952, 0.7977777777777778, 0.7023809523809524, 0.7816091954022988, 0.5703125, 0.60125, 0.6375739644970414, 0.6525641025641026, 0.5923423423423423, 0.7967831735230436, 0.6657163221667854, 0.6877777777777777, 0.6865079365079365, 0.6537356321839081, 0.5189732142857143]\n"
     ]
    },
    {
     "name": "stderr",
     "output_type": "stream",
     "text": [
      "/Users/george/opt/anaconda3/envs/pl2/lib/python3.6/site-packages/pytorch_lightning/trainer/data_loading.py:133: UserWarning: The dataloader, val_dataloader 0, does not have many workers which may be a bottleneck. Consider increasing the value of the `num_workers` argument` (try 8 which is the number of cpus on this machine) in the `DataLoader` init to improve performance.\n",
      "  f\"The dataloader, {name}, does not have many workers which may be a bottleneck.\"\n",
      "/Users/george/opt/anaconda3/envs/pl2/lib/python3.6/site-packages/debiasm/torch_functions.py:75: UserWarning: Implicit dimension choice for softmax has been deprecated. Change the call to include dim=X as an argument.\n",
      "  y_hat = softmax(x)\n",
      "/Users/george/opt/anaconda3/envs/pl2/lib/python3.6/site-packages/pytorch_lightning/trainer/data_loading.py:133: UserWarning: The dataloader, train_dataloader, does not have many workers which may be a bottleneck. Consider increasing the value of the `num_workers` argument` (try 8 which is the number of cpus on this machine) in the `DataLoader` init to improve performance.\n",
      "  f\"The dataloader, {name}, does not have many workers which may be a bottleneck.\"\n",
      "Trainer was signaled to stop but required minimum epochs (25) or minimum steps (None) has not been met. Training will continue...\n",
      "Trainer was signaled to stop but required minimum epochs (25) or minimum steps (None) has not been met. Training will continue...\n",
      "Trainer was signaled to stop but required minimum epochs (25) or minimum steps (None) has not been met. Training will continue...\n",
      "Trainer was signaled to stop but required minimum epochs (25) or minimum steps (None) has not been met. Training will continue...\n",
      "Trainer was signaled to stop but required minimum epochs (25) or minimum steps (None) has not been met. Training will continue...\n",
      "Trainer was signaled to stop but required minimum epochs (25) or minimum steps (None) has not been met. Training will continue...\n",
      "Trainer was signaled to stop but required minimum epochs (25) or minimum steps (None) has not been met. Training will continue...\n",
      "Trainer was signaled to stop but required minimum epochs (25) or minimum steps (None) has not been met. Training will continue...\n",
      "Trainer was signaled to stop but required minimum epochs (25) or minimum steps (None) has not been met. Training will continue...\n",
      "Trainer was signaled to stop but required minimum epochs (25) or minimum steps (None) has not been met. Training will continue...\n",
      "/Users/george/opt/anaconda3/envs/pl2/lib/python3.6/site-packages/pytorch_lightning/trainer/connectors/callback_connector.py:148: LightningDeprecationWarning: Setting `Trainer(checkpoint_callback=False)` is deprecated in v1.5 and will be removed in v1.7. Please consider using `Trainer(enable_checkpointing=False)`.\n",
      "  f\"Setting `Trainer(checkpoint_callback={checkpoint_callback})` is deprecated in v1.5 and will \"\n",
      "/Users/george/opt/anaconda3/envs/pl2/lib/python3.6/site-packages/pytorch_lightning/trainer/connectors/callback_connector.py:91: LightningDeprecationWarning: Setting `Trainer(progress_bar_refresh_rate=0)` is deprecated in v1.5 and will be removed in v1.7. Please pass `pytorch_lightning.callbacks.progress.TQDMProgressBar` with `refresh_rate` directly to the Trainer's `callbacks` argument instead. Or, to disable the progress bar pass `enable_progress_bar = False` to the Trainer.\n",
      "  f\"Setting `Trainer(progress_bar_refresh_rate={progress_bar_refresh_rate})` is deprecated in v1.5 and\"\n",
      "/Users/george/opt/anaconda3/envs/pl2/lib/python3.6/site-packages/pytorch_lightning/trainer/connectors/callback_connector.py:168: LightningDeprecationWarning: Setting `Trainer(weights_summary=None)` is deprecated in v1.5 and will be removed in v1.7. Please set `Trainer(enable_model_summary=False)` instead.\n",
      "  \"Setting `Trainer(weights_summary=None)` is deprecated in v1.5 and will be removed\"\n",
      "GPU available: False, used: False\n",
      "TPU available: False, using: 0 TPU cores\n",
      "IPU available: False, using: 0 IPUs\n"
     ]
    },
    {
     "name": "stdout",
     "output_type": "stream",
     "text": [
      "Aggregation\n",
      "['Genus', 'Genus', 'Genus', 'Genus', 'Genus', 'Genus', 'Genus', 'Genus', 'Genus', 'Genus', 'Family', 'Family', 'Family', 'Family', 'Family', 'Family', 'Family', 'Family', 'Family', 'Family', 'Order', 'Order', 'Order', 'Order', 'Order', 'Order']\n",
      "Base:\n",
      "[0.7576621525302922, 0.8333333333333334, 0.6997354497354498, 0.6681034482758621, 0.5133928571428572, 0.6806249999999999, 0.5946745562130178, 0.666923076923077, 0.7477477477477479, 0.7005876894525208, 0.7063435495367071, 0.9011111111111111, 0.6547619047619047, 0.8045977011494253, 0.6261160714285715, 0.713125, 0.6150147928994082, 0.6820512820512821, 0.7240990990990991, 0.742653881843489, 0.7120456165359943, 0.8633333333333333, 0.6084656084656084, 0.6522988505747126, 0.6071428571428572, 0.7187500000000001]\n",
      "DEBIAS-M:\n",
      "[0.7270135424091233, 0.8044444444444444, 0.6521164021164021, 0.757183908045977, 0.6160714285714286, 0.7162499999999999, 0.7181952662721893, 0.7248717948717949, 0.7462462462462464, 0.8468914321064026, 0.7088382038488952, 0.7977777777777778, 0.7023809523809524, 0.7816091954022988, 0.5703125, 0.60125, 0.6375739644970414, 0.6525641025641026, 0.5923423423423423, 0.7967831735230436, 0.6657163221667854, 0.6877777777777777, 0.6865079365079365, 0.6537356321839081, 0.5189732142857143, 0.594375]\n"
     ]
    },
    {
     "name": "stderr",
     "output_type": "stream",
     "text": [
      "/Users/george/opt/anaconda3/envs/pl2/lib/python3.6/site-packages/pytorch_lightning/trainer/data_loading.py:133: UserWarning: The dataloader, val_dataloader 0, does not have many workers which may be a bottleneck. Consider increasing the value of the `num_workers` argument` (try 8 which is the number of cpus on this machine) in the `DataLoader` init to improve performance.\n",
      "  f\"The dataloader, {name}, does not have many workers which may be a bottleneck.\"\n",
      "/Users/george/opt/anaconda3/envs/pl2/lib/python3.6/site-packages/debiasm/torch_functions.py:75: UserWarning: Implicit dimension choice for softmax has been deprecated. Change the call to include dim=X as an argument.\n",
      "  y_hat = softmax(x)\n",
      "/Users/george/opt/anaconda3/envs/pl2/lib/python3.6/site-packages/pytorch_lightning/trainer/data_loading.py:133: UserWarning: The dataloader, train_dataloader, does not have many workers which may be a bottleneck. Consider increasing the value of the `num_workers` argument` (try 8 which is the number of cpus on this machine) in the `DataLoader` init to improve performance.\n",
      "  f\"The dataloader, {name}, does not have many workers which may be a bottleneck.\"\n",
      "/Users/george/opt/anaconda3/envs/pl2/lib/python3.6/site-packages/pytorch_lightning/trainer/connectors/callback_connector.py:148: LightningDeprecationWarning: Setting `Trainer(checkpoint_callback=False)` is deprecated in v1.5 and will be removed in v1.7. Please consider using `Trainer(enable_checkpointing=False)`.\n",
      "  f\"Setting `Trainer(checkpoint_callback={checkpoint_callback})` is deprecated in v1.5 and will \"\n",
      "/Users/george/opt/anaconda3/envs/pl2/lib/python3.6/site-packages/pytorch_lightning/trainer/connectors/callback_connector.py:91: LightningDeprecationWarning: Setting `Trainer(progress_bar_refresh_rate=0)` is deprecated in v1.5 and will be removed in v1.7. Please pass `pytorch_lightning.callbacks.progress.TQDMProgressBar` with `refresh_rate` directly to the Trainer's `callbacks` argument instead. Or, to disable the progress bar pass `enable_progress_bar = False` to the Trainer.\n",
      "  f\"Setting `Trainer(progress_bar_refresh_rate={progress_bar_refresh_rate})` is deprecated in v1.5 and\"\n",
      "/Users/george/opt/anaconda3/envs/pl2/lib/python3.6/site-packages/pytorch_lightning/trainer/connectors/callback_connector.py:168: LightningDeprecationWarning: Setting `Trainer(weights_summary=None)` is deprecated in v1.5 and will be removed in v1.7. Please set `Trainer(enable_model_summary=False)` instead.\n",
      "  \"Setting `Trainer(weights_summary=None)` is deprecated in v1.5 and will be removed\"\n",
      "GPU available: False, used: False\n",
      "TPU available: False, using: 0 TPU cores\n",
      "IPU available: False, using: 0 IPUs\n"
     ]
    },
    {
     "name": "stdout",
     "output_type": "stream",
     "text": [
      "Aggregation\n",
      "['Genus', 'Genus', 'Genus', 'Genus', 'Genus', 'Genus', 'Genus', 'Genus', 'Genus', 'Genus', 'Family', 'Family', 'Family', 'Family', 'Family', 'Family', 'Family', 'Family', 'Family', 'Family', 'Order', 'Order', 'Order', 'Order', 'Order', 'Order', 'Order']\n",
      "Base:\n",
      "[0.7576621525302922, 0.8333333333333334, 0.6997354497354498, 0.6681034482758621, 0.5133928571428572, 0.6806249999999999, 0.5946745562130178, 0.666923076923077, 0.7477477477477479, 0.7005876894525208, 0.7063435495367071, 0.9011111111111111, 0.6547619047619047, 0.8045977011494253, 0.6261160714285715, 0.713125, 0.6150147928994082, 0.6820512820512821, 0.7240990990990991, 0.742653881843489, 0.7120456165359943, 0.8633333333333333, 0.6084656084656084, 0.6522988505747126, 0.6071428571428572, 0.7187500000000001, 0.6427514792899409]\n",
      "DEBIAS-M:\n",
      "[0.7270135424091233, 0.8044444444444444, 0.6521164021164021, 0.757183908045977, 0.6160714285714286, 0.7162499999999999, 0.7181952662721893, 0.7248717948717949, 0.7462462462462464, 0.8468914321064026, 0.7088382038488952, 0.7977777777777778, 0.7023809523809524, 0.7816091954022988, 0.5703125, 0.60125, 0.6375739644970414, 0.6525641025641026, 0.5923423423423423, 0.7967831735230436, 0.6657163221667854, 0.6877777777777777, 0.6865079365079365, 0.6537356321839081, 0.5189732142857143, 0.594375, 0.6446005917159763]\n"
     ]
    },
    {
     "name": "stderr",
     "output_type": "stream",
     "text": [
      "/Users/george/opt/anaconda3/envs/pl2/lib/python3.6/site-packages/pytorch_lightning/trainer/data_loading.py:133: UserWarning: The dataloader, val_dataloader 0, does not have many workers which may be a bottleneck. Consider increasing the value of the `num_workers` argument` (try 8 which is the number of cpus on this machine) in the `DataLoader` init to improve performance.\n",
      "  f\"The dataloader, {name}, does not have many workers which may be a bottleneck.\"\n",
      "/Users/george/opt/anaconda3/envs/pl2/lib/python3.6/site-packages/debiasm/torch_functions.py:75: UserWarning: Implicit dimension choice for softmax has been deprecated. Change the call to include dim=X as an argument.\n",
      "  y_hat = softmax(x)\n",
      "/Users/george/opt/anaconda3/envs/pl2/lib/python3.6/site-packages/pytorch_lightning/trainer/data_loading.py:133: UserWarning: The dataloader, train_dataloader, does not have many workers which may be a bottleneck. Consider increasing the value of the `num_workers` argument` (try 8 which is the number of cpus on this machine) in the `DataLoader` init to improve performance.\n",
      "  f\"The dataloader, {name}, does not have many workers which may be a bottleneck.\"\n",
      "/Users/george/opt/anaconda3/envs/pl2/lib/python3.6/site-packages/pytorch_lightning/trainer/connectors/callback_connector.py:148: LightningDeprecationWarning: Setting `Trainer(checkpoint_callback=False)` is deprecated in v1.5 and will be removed in v1.7. Please consider using `Trainer(enable_checkpointing=False)`.\n",
      "  f\"Setting `Trainer(checkpoint_callback={checkpoint_callback})` is deprecated in v1.5 and will \"\n",
      "/Users/george/opt/anaconda3/envs/pl2/lib/python3.6/site-packages/pytorch_lightning/trainer/connectors/callback_connector.py:91: LightningDeprecationWarning: Setting `Trainer(progress_bar_refresh_rate=0)` is deprecated in v1.5 and will be removed in v1.7. Please pass `pytorch_lightning.callbacks.progress.TQDMProgressBar` with `refresh_rate` directly to the Trainer's `callbacks` argument instead. Or, to disable the progress bar pass `enable_progress_bar = False` to the Trainer.\n",
      "  f\"Setting `Trainer(progress_bar_refresh_rate={progress_bar_refresh_rate})` is deprecated in v1.5 and\"\n",
      "/Users/george/opt/anaconda3/envs/pl2/lib/python3.6/site-packages/pytorch_lightning/trainer/connectors/callback_connector.py:168: LightningDeprecationWarning: Setting `Trainer(weights_summary=None)` is deprecated in v1.5 and will be removed in v1.7. Please set `Trainer(enable_model_summary=False)` instead.\n",
      "  \"Setting `Trainer(weights_summary=None)` is deprecated in v1.5 and will be removed\"\n",
      "GPU available: False, used: False\n",
      "TPU available: False, using: 0 TPU cores\n",
      "IPU available: False, using: 0 IPUs\n"
     ]
    },
    {
     "name": "stdout",
     "output_type": "stream",
     "text": [
      "Aggregation\n",
      "['Genus', 'Genus', 'Genus', 'Genus', 'Genus', 'Genus', 'Genus', 'Genus', 'Genus', 'Genus', 'Family', 'Family', 'Family', 'Family', 'Family', 'Family', 'Family', 'Family', 'Family', 'Family', 'Order', 'Order', 'Order', 'Order', 'Order', 'Order', 'Order', 'Order']\n",
      "Base:\n",
      "[0.7576621525302922, 0.8333333333333334, 0.6997354497354498, 0.6681034482758621, 0.5133928571428572, 0.6806249999999999, 0.5946745562130178, 0.666923076923077, 0.7477477477477479, 0.7005876894525208, 0.7063435495367071, 0.9011111111111111, 0.6547619047619047, 0.8045977011494253, 0.6261160714285715, 0.713125, 0.6150147928994082, 0.6820512820512821, 0.7240990990990991, 0.742653881843489, 0.7120456165359943, 0.8633333333333333, 0.6084656084656084, 0.6522988505747126, 0.6071428571428572, 0.7187500000000001, 0.6427514792899409, 0.6641025641025642]\n",
      "DEBIAS-M:\n",
      "[0.7270135424091233, 0.8044444444444444, 0.6521164021164021, 0.757183908045977, 0.6160714285714286, 0.7162499999999999, 0.7181952662721893, 0.7248717948717949, 0.7462462462462464, 0.8468914321064026, 0.7088382038488952, 0.7977777777777778, 0.7023809523809524, 0.7816091954022988, 0.5703125, 0.60125, 0.6375739644970414, 0.6525641025641026, 0.5923423423423423, 0.7967831735230436, 0.6657163221667854, 0.6877777777777777, 0.6865079365079365, 0.6537356321839081, 0.5189732142857143, 0.594375, 0.6446005917159763, 0.6356410256410256]\n"
     ]
    },
    {
     "name": "stderr",
     "output_type": "stream",
     "text": [
      "/Users/george/opt/anaconda3/envs/pl2/lib/python3.6/site-packages/pytorch_lightning/trainer/data_loading.py:133: UserWarning: The dataloader, val_dataloader 0, does not have many workers which may be a bottleneck. Consider increasing the value of the `num_workers` argument` (try 8 which is the number of cpus on this machine) in the `DataLoader` init to improve performance.\n",
      "  f\"The dataloader, {name}, does not have many workers which may be a bottleneck.\"\n",
      "/Users/george/opt/anaconda3/envs/pl2/lib/python3.6/site-packages/debiasm/torch_functions.py:75: UserWarning: Implicit dimension choice for softmax has been deprecated. Change the call to include dim=X as an argument.\n",
      "  y_hat = softmax(x)\n",
      "/Users/george/opt/anaconda3/envs/pl2/lib/python3.6/site-packages/pytorch_lightning/trainer/data_loading.py:133: UserWarning: The dataloader, train_dataloader, does not have many workers which may be a bottleneck. Consider increasing the value of the `num_workers` argument` (try 8 which is the number of cpus on this machine) in the `DataLoader` init to improve performance.\n",
      "  f\"The dataloader, {name}, does not have many workers which may be a bottleneck.\"\n",
      "Trainer was signaled to stop but required minimum epochs (25) or minimum steps (None) has not been met. Training will continue...\n",
      "Trainer was signaled to stop but required minimum epochs (25) or minimum steps (None) has not been met. Training will continue...\n",
      "Trainer was signaled to stop but required minimum epochs (25) or minimum steps (None) has not been met. Training will continue...\n",
      "Trainer was signaled to stop but required minimum epochs (25) or minimum steps (None) has not been met. Training will continue...\n",
      "Trainer was signaled to stop but required minimum epochs (25) or minimum steps (None) has not been met. Training will continue...\n",
      "Trainer was signaled to stop but required minimum epochs (25) or minimum steps (None) has not been met. Training will continue...\n",
      "Trainer was signaled to stop but required minimum epochs (25) or minimum steps (None) has not been met. Training will continue...\n",
      "Trainer was signaled to stop but required minimum epochs (25) or minimum steps (None) has not been met. Training will continue...\n",
      "Trainer was signaled to stop but required minimum epochs (25) or minimum steps (None) has not been met. Training will continue...\n",
      "/Users/george/opt/anaconda3/envs/pl2/lib/python3.6/site-packages/pytorch_lightning/trainer/connectors/callback_connector.py:148: LightningDeprecationWarning: Setting `Trainer(checkpoint_callback=False)` is deprecated in v1.5 and will be removed in v1.7. Please consider using `Trainer(enable_checkpointing=False)`.\n",
      "  f\"Setting `Trainer(checkpoint_callback={checkpoint_callback})` is deprecated in v1.5 and will \"\n",
      "/Users/george/opt/anaconda3/envs/pl2/lib/python3.6/site-packages/pytorch_lightning/trainer/connectors/callback_connector.py:91: LightningDeprecationWarning: Setting `Trainer(progress_bar_refresh_rate=0)` is deprecated in v1.5 and will be removed in v1.7. Please pass `pytorch_lightning.callbacks.progress.TQDMProgressBar` with `refresh_rate` directly to the Trainer's `callbacks` argument instead. Or, to disable the progress bar pass `enable_progress_bar = False` to the Trainer.\n",
      "  f\"Setting `Trainer(progress_bar_refresh_rate={progress_bar_refresh_rate})` is deprecated in v1.5 and\"\n",
      "/Users/george/opt/anaconda3/envs/pl2/lib/python3.6/site-packages/pytorch_lightning/trainer/connectors/callback_connector.py:168: LightningDeprecationWarning: Setting `Trainer(weights_summary=None)` is deprecated in v1.5 and will be removed in v1.7. Please set `Trainer(enable_model_summary=False)` instead.\n",
      "  \"Setting `Trainer(weights_summary=None)` is deprecated in v1.5 and will be removed\"\n",
      "GPU available: False, used: False\n",
      "TPU available: False, using: 0 TPU cores\n",
      "IPU available: False, using: 0 IPUs\n"
     ]
    },
    {
     "name": "stdout",
     "output_type": "stream",
     "text": [
      "Aggregation\n",
      "['Genus', 'Genus', 'Genus', 'Genus', 'Genus', 'Genus', 'Genus', 'Genus', 'Genus', 'Genus', 'Family', 'Family', 'Family', 'Family', 'Family', 'Family', 'Family', 'Family', 'Family', 'Family', 'Order', 'Order', 'Order', 'Order', 'Order', 'Order', 'Order', 'Order', 'Order']\n",
      "Base:\n",
      "[0.7576621525302922, 0.8333333333333334, 0.6997354497354498, 0.6681034482758621, 0.5133928571428572, 0.6806249999999999, 0.5946745562130178, 0.666923076923077, 0.7477477477477479, 0.7005876894525208, 0.7063435495367071, 0.9011111111111111, 0.6547619047619047, 0.8045977011494253, 0.6261160714285715, 0.713125, 0.6150147928994082, 0.6820512820512821, 0.7240990990990991, 0.742653881843489, 0.7120456165359943, 0.8633333333333333, 0.6084656084656084, 0.6522988505747126, 0.6071428571428572, 0.7187500000000001, 0.6427514792899409, 0.6641025641025642, 0.7291041041041042]\n",
      "DEBIAS-M:\n",
      "[0.7270135424091233, 0.8044444444444444, 0.6521164021164021, 0.757183908045977, 0.6160714285714286, 0.7162499999999999, 0.7181952662721893, 0.7248717948717949, 0.7462462462462464, 0.8468914321064026, 0.7088382038488952, 0.7977777777777778, 0.7023809523809524, 0.7816091954022988, 0.5703125, 0.60125, 0.6375739644970414, 0.6525641025641026, 0.5923423423423423, 0.7967831735230436, 0.6657163221667854, 0.6877777777777777, 0.6865079365079365, 0.6537356321839081, 0.5189732142857143, 0.594375, 0.6446005917159763, 0.6356410256410256, 0.5880880880880881]\n"
     ]
    },
    {
     "name": "stderr",
     "output_type": "stream",
     "text": [
      "/Users/george/opt/anaconda3/envs/pl2/lib/python3.6/site-packages/pytorch_lightning/trainer/data_loading.py:133: UserWarning: The dataloader, val_dataloader 0, does not have many workers which may be a bottleneck. Consider increasing the value of the `num_workers` argument` (try 8 which is the number of cpus on this machine) in the `DataLoader` init to improve performance.\n",
      "  f\"The dataloader, {name}, does not have many workers which may be a bottleneck.\"\n",
      "/Users/george/opt/anaconda3/envs/pl2/lib/python3.6/site-packages/debiasm/torch_functions.py:75: UserWarning: Implicit dimension choice for softmax has been deprecated. Change the call to include dim=X as an argument.\n",
      "  y_hat = softmax(x)\n",
      "/Users/george/opt/anaconda3/envs/pl2/lib/python3.6/site-packages/pytorch_lightning/trainer/data_loading.py:133: UserWarning: The dataloader, train_dataloader, does not have many workers which may be a bottleneck. Consider increasing the value of the `num_workers` argument` (try 8 which is the number of cpus on this machine) in the `DataLoader` init to improve performance.\n",
      "  f\"The dataloader, {name}, does not have many workers which may be a bottleneck.\"\n",
      "/Users/george/opt/anaconda3/envs/pl2/lib/python3.6/site-packages/debiasm/torch_functions.py:22: FutureWarning: Support for multi-dimensional indexing (e.g. `obj[:, None]`) is deprecated and will be removed in a future version.  Convert to a numpy array before indexing instead.\n",
      "  return(xx/xx.sum(axis=1)[:, np.newaxis] )\n",
      "/Users/george/opt/anaconda3/envs/pl2/lib/python3.6/site-packages/pytorch_lightning/trainer/connectors/callback_connector.py:148: LightningDeprecationWarning: Setting `Trainer(checkpoint_callback=False)` is deprecated in v1.5 and will be removed in v1.7. Please consider using `Trainer(enable_checkpointing=False)`.\n",
      "  f\"Setting `Trainer(checkpoint_callback={checkpoint_callback})` is deprecated in v1.5 and will \"\n",
      "/Users/george/opt/anaconda3/envs/pl2/lib/python3.6/site-packages/pytorch_lightning/trainer/connectors/callback_connector.py:91: LightningDeprecationWarning: Setting `Trainer(progress_bar_refresh_rate=0)` is deprecated in v1.5 and will be removed in v1.7. Please pass `pytorch_lightning.callbacks.progress.TQDMProgressBar` with `refresh_rate` directly to the Trainer's `callbacks` argument instead. Or, to disable the progress bar pass `enable_progress_bar = False` to the Trainer.\n",
      "  f\"Setting `Trainer(progress_bar_refresh_rate={progress_bar_refresh_rate})` is deprecated in v1.5 and\"\n",
      "/Users/george/opt/anaconda3/envs/pl2/lib/python3.6/site-packages/pytorch_lightning/trainer/connectors/callback_connector.py:168: LightningDeprecationWarning: Setting `Trainer(weights_summary=None)` is deprecated in v1.5 and will be removed in v1.7. Please set `Trainer(enable_model_summary=False)` instead.\n",
      "  \"Setting `Trainer(weights_summary=None)` is deprecated in v1.5 and will be removed\"\n",
      "GPU available: False, used: False\n",
      "TPU available: False, using: 0 TPU cores\n",
      "IPU available: False, using: 0 IPUs\n"
     ]
    },
    {
     "name": "stdout",
     "output_type": "stream",
     "text": [
      "Aggregation\n",
      "['Genus', 'Genus', 'Genus', 'Genus', 'Genus', 'Genus', 'Genus', 'Genus', 'Genus', 'Genus', 'Family', 'Family', 'Family', 'Family', 'Family', 'Family', 'Family', 'Family', 'Family', 'Family', 'Order', 'Order', 'Order', 'Order', 'Order', 'Order', 'Order', 'Order', 'Order', 'Order']\n",
      "Base:\n",
      "[0.7576621525302922, 0.8333333333333334, 0.6997354497354498, 0.6681034482758621, 0.5133928571428572, 0.6806249999999999, 0.5946745562130178, 0.666923076923077, 0.7477477477477479, 0.7005876894525208, 0.7063435495367071, 0.9011111111111111, 0.6547619047619047, 0.8045977011494253, 0.6261160714285715, 0.713125, 0.6150147928994082, 0.6820512820512821, 0.7240990990990991, 0.742653881843489, 0.7120456165359943, 0.8633333333333333, 0.6084656084656084, 0.6522988505747126, 0.6071428571428572, 0.7187500000000001, 0.6427514792899409, 0.6641025641025642, 0.7291041041041042, 0.7868852459016393]\n",
      "DEBIAS-M:\n",
      "[0.7270135424091233, 0.8044444444444444, 0.6521164021164021, 0.757183908045977, 0.6160714285714286, 0.7162499999999999, 0.7181952662721893, 0.7248717948717949, 0.7462462462462464, 0.8468914321064026, 0.7088382038488952, 0.7977777777777778, 0.7023809523809524, 0.7816091954022988, 0.5703125, 0.60125, 0.6375739644970414, 0.6525641025641026, 0.5923423423423423, 0.7967831735230436, 0.6657163221667854, 0.6877777777777777, 0.6865079365079365, 0.6537356321839081, 0.5189732142857143, 0.594375, 0.6446005917159763, 0.6356410256410256, 0.5880880880880881, 0.801113516857408]\n"
     ]
    },
    {
     "name": "stderr",
     "output_type": "stream",
     "text": [
      "/Users/george/opt/anaconda3/envs/pl2/lib/python3.6/site-packages/pytorch_lightning/trainer/data_loading.py:133: UserWarning: The dataloader, val_dataloader 0, does not have many workers which may be a bottleneck. Consider increasing the value of the `num_workers` argument` (try 8 which is the number of cpus on this machine) in the `DataLoader` init to improve performance.\n",
      "  f\"The dataloader, {name}, does not have many workers which may be a bottleneck.\"\n",
      "/Users/george/opt/anaconda3/envs/pl2/lib/python3.6/site-packages/debiasm/torch_functions.py:75: UserWarning: Implicit dimension choice for softmax has been deprecated. Change the call to include dim=X as an argument.\n",
      "  y_hat = softmax(x)\n",
      "/Users/george/opt/anaconda3/envs/pl2/lib/python3.6/site-packages/pytorch_lightning/trainer/data_loading.py:133: UserWarning: The dataloader, train_dataloader, does not have many workers which may be a bottleneck. Consider increasing the value of the `num_workers` argument` (try 8 which is the number of cpus on this machine) in the `DataLoader` init to improve performance.\n",
      "  f\"The dataloader, {name}, does not have many workers which may be a bottleneck.\"\n",
      "Trainer was signaled to stop but required minimum epochs (25) or minimum steps (None) has not been met. Training will continue...\n",
      "Trainer was signaled to stop but required minimum epochs (25) or minimum steps (None) has not been met. Training will continue...\n",
      "Trainer was signaled to stop but required minimum epochs (25) or minimum steps (None) has not been met. Training will continue...\n",
      "Trainer was signaled to stop but required minimum epochs (25) or minimum steps (None) has not been met. Training will continue...\n",
      "Trainer was signaled to stop but required minimum epochs (25) or minimum steps (None) has not been met. Training will continue...\n",
      "Trainer was signaled to stop but required minimum epochs (25) or minimum steps (None) has not been met. Training will continue...\n",
      "Trainer was signaled to stop but required minimum epochs (25) or minimum steps (None) has not been met. Training will continue...\n",
      "Trainer was signaled to stop but required minimum epochs (25) or minimum steps (None) has not been met. Training will continue...\n",
      "Trainer was signaled to stop but required minimum epochs (25) or minimum steps (None) has not been met. Training will continue...\n",
      "Trainer was signaled to stop but required minimum epochs (25) or minimum steps (None) has not been met. Training will continue...\n",
      "/Users/george/opt/anaconda3/envs/pl2/lib/python3.6/site-packages/pytorch_lightning/trainer/connectors/callback_connector.py:148: LightningDeprecationWarning: Setting `Trainer(checkpoint_callback=False)` is deprecated in v1.5 and will be removed in v1.7. Please consider using `Trainer(enable_checkpointing=False)`.\n",
      "  f\"Setting `Trainer(checkpoint_callback={checkpoint_callback})` is deprecated in v1.5 and will \"\n",
      "/Users/george/opt/anaconda3/envs/pl2/lib/python3.6/site-packages/pytorch_lightning/trainer/connectors/callback_connector.py:91: LightningDeprecationWarning: Setting `Trainer(progress_bar_refresh_rate=0)` is deprecated in v1.5 and will be removed in v1.7. Please pass `pytorch_lightning.callbacks.progress.TQDMProgressBar` with `refresh_rate` directly to the Trainer's `callbacks` argument instead. Or, to disable the progress bar pass `enable_progress_bar = False` to the Trainer.\n",
      "  f\"Setting `Trainer(progress_bar_refresh_rate={progress_bar_refresh_rate})` is deprecated in v1.5 and\"\n",
      "/Users/george/opt/anaconda3/envs/pl2/lib/python3.6/site-packages/pytorch_lightning/trainer/connectors/callback_connector.py:168: LightningDeprecationWarning: Setting `Trainer(weights_summary=None)` is deprecated in v1.5 and will be removed in v1.7. Please set `Trainer(enable_model_summary=False)` instead.\n",
      "  \"Setting `Trainer(weights_summary=None)` is deprecated in v1.5 and will be removed\"\n",
      "GPU available: False, used: False\n",
      "TPU available: False, using: 0 TPU cores\n",
      "IPU available: False, using: 0 IPUs\n"
     ]
    },
    {
     "name": "stdout",
     "output_type": "stream",
     "text": [
      "Aggregation\n",
      "['Genus', 'Genus', 'Genus', 'Genus', 'Genus', 'Genus', 'Genus', 'Genus', 'Genus', 'Genus', 'Family', 'Family', 'Family', 'Family', 'Family', 'Family', 'Family', 'Family', 'Family', 'Family', 'Order', 'Order', 'Order', 'Order', 'Order', 'Order', 'Order', 'Order', 'Order', 'Order', 'Class']\n",
      "Base:\n",
      "[0.7576621525302922, 0.8333333333333334, 0.6997354497354498, 0.6681034482758621, 0.5133928571428572, 0.6806249999999999, 0.5946745562130178, 0.666923076923077, 0.7477477477477479, 0.7005876894525208, 0.7063435495367071, 0.9011111111111111, 0.6547619047619047, 0.8045977011494253, 0.6261160714285715, 0.713125, 0.6150147928994082, 0.6820512820512821, 0.7240990990990991, 0.742653881843489, 0.7120456165359943, 0.8633333333333333, 0.6084656084656084, 0.6522988505747126, 0.6071428571428572, 0.7187500000000001, 0.6427514792899409, 0.6641025641025642, 0.7291041041041042, 0.7868852459016393, 0.7377049180327869]\n",
      "DEBIAS-M:\n",
      "[0.7270135424091233, 0.8044444444444444, 0.6521164021164021, 0.757183908045977, 0.6160714285714286, 0.7162499999999999, 0.7181952662721893, 0.7248717948717949, 0.7462462462462464, 0.8468914321064026, 0.7088382038488952, 0.7977777777777778, 0.7023809523809524, 0.7816091954022988, 0.5703125, 0.60125, 0.6375739644970414, 0.6525641025641026, 0.5923423423423423, 0.7967831735230436, 0.6657163221667854, 0.6877777777777777, 0.6865079365079365, 0.6537356321839081, 0.5189732142857143, 0.594375, 0.6446005917159763, 0.6356410256410256, 0.5880880880880881, 0.801113516857408, 0.6664290805416964]\n"
     ]
    },
    {
     "name": "stderr",
     "output_type": "stream",
     "text": [
      "/Users/george/opt/anaconda3/envs/pl2/lib/python3.6/site-packages/pytorch_lightning/trainer/data_loading.py:133: UserWarning: The dataloader, val_dataloader 0, does not have many workers which may be a bottleneck. Consider increasing the value of the `num_workers` argument` (try 8 which is the number of cpus on this machine) in the `DataLoader` init to improve performance.\n",
      "  f\"The dataloader, {name}, does not have many workers which may be a bottleneck.\"\n",
      "/Users/george/opt/anaconda3/envs/pl2/lib/python3.6/site-packages/debiasm/torch_functions.py:75: UserWarning: Implicit dimension choice for softmax has been deprecated. Change the call to include dim=X as an argument.\n",
      "  y_hat = softmax(x)\n",
      "/Users/george/opt/anaconda3/envs/pl2/lib/python3.6/site-packages/pytorch_lightning/trainer/data_loading.py:133: UserWarning: The dataloader, train_dataloader, does not have many workers which may be a bottleneck. Consider increasing the value of the `num_workers` argument` (try 8 which is the number of cpus on this machine) in the `DataLoader` init to improve performance.\n",
      "  f\"The dataloader, {name}, does not have many workers which may be a bottleneck.\"\n",
      "Trainer was signaled to stop but required minimum epochs (25) or minimum steps (None) has not been met. Training will continue...\n",
      "Trainer was signaled to stop but required minimum epochs (25) or minimum steps (None) has not been met. Training will continue...\n",
      "Trainer was signaled to stop but required minimum epochs (25) or minimum steps (None) has not been met. Training will continue...\n",
      "Trainer was signaled to stop but required minimum epochs (25) or minimum steps (None) has not been met. Training will continue...\n",
      "Trainer was signaled to stop but required minimum epochs (25) or minimum steps (None) has not been met. Training will continue...\n",
      "Trainer was signaled to stop but required minimum epochs (25) or minimum steps (None) has not been met. Training will continue...\n",
      "Trainer was signaled to stop but required minimum epochs (25) or minimum steps (None) has not been met. Training will continue...\n",
      "Trainer was signaled to stop but required minimum epochs (25) or minimum steps (None) has not been met. Training will continue...\n",
      "Trainer was signaled to stop but required minimum epochs (25) or minimum steps (None) has not been met. Training will continue...\n",
      "Trainer was signaled to stop but required minimum epochs (25) or minimum steps (None) has not been met. Training will continue...\n",
      "/Users/george/opt/anaconda3/envs/pl2/lib/python3.6/site-packages/pytorch_lightning/trainer/connectors/callback_connector.py:148: LightningDeprecationWarning: Setting `Trainer(checkpoint_callback=False)` is deprecated in v1.5 and will be removed in v1.7. Please consider using `Trainer(enable_checkpointing=False)`.\n",
      "  f\"Setting `Trainer(checkpoint_callback={checkpoint_callback})` is deprecated in v1.5 and will \"\n",
      "/Users/george/opt/anaconda3/envs/pl2/lib/python3.6/site-packages/pytorch_lightning/trainer/connectors/callback_connector.py:91: LightningDeprecationWarning: Setting `Trainer(progress_bar_refresh_rate=0)` is deprecated in v1.5 and will be removed in v1.7. Please pass `pytorch_lightning.callbacks.progress.TQDMProgressBar` with `refresh_rate` directly to the Trainer's `callbacks` argument instead. Or, to disable the progress bar pass `enable_progress_bar = False` to the Trainer.\n",
      "  f\"Setting `Trainer(progress_bar_refresh_rate={progress_bar_refresh_rate})` is deprecated in v1.5 and\"\n",
      "/Users/george/opt/anaconda3/envs/pl2/lib/python3.6/site-packages/pytorch_lightning/trainer/connectors/callback_connector.py:168: LightningDeprecationWarning: Setting `Trainer(weights_summary=None)` is deprecated in v1.5 and will be removed in v1.7. Please set `Trainer(enable_model_summary=False)` instead.\n",
      "  \"Setting `Trainer(weights_summary=None)` is deprecated in v1.5 and will be removed\"\n",
      "GPU available: False, used: False\n",
      "TPU available: False, using: 0 TPU cores\n",
      "IPU available: False, using: 0 IPUs\n"
     ]
    },
    {
     "name": "stdout",
     "output_type": "stream",
     "text": [
      "Aggregation\n",
      "['Genus', 'Genus', 'Genus', 'Genus', 'Genus', 'Genus', 'Genus', 'Genus', 'Genus', 'Genus', 'Family', 'Family', 'Family', 'Family', 'Family', 'Family', 'Family', 'Family', 'Family', 'Family', 'Order', 'Order', 'Order', 'Order', 'Order', 'Order', 'Order', 'Order', 'Order', 'Order', 'Class', 'Class']\n",
      "Base:\n",
      "[0.7576621525302922, 0.8333333333333334, 0.6997354497354498, 0.6681034482758621, 0.5133928571428572, 0.6806249999999999, 0.5946745562130178, 0.666923076923077, 0.7477477477477479, 0.7005876894525208, 0.7063435495367071, 0.9011111111111111, 0.6547619047619047, 0.8045977011494253, 0.6261160714285715, 0.713125, 0.6150147928994082, 0.6820512820512821, 0.7240990990990991, 0.742653881843489, 0.7120456165359943, 0.8633333333333333, 0.6084656084656084, 0.6522988505747126, 0.6071428571428572, 0.7187500000000001, 0.6427514792899409, 0.6641025641025642, 0.7291041041041042, 0.7868852459016393, 0.7377049180327869, 0.7511111111111111]\n",
      "DEBIAS-M:\n",
      "[0.7270135424091233, 0.8044444444444444, 0.6521164021164021, 0.757183908045977, 0.6160714285714286, 0.7162499999999999, 0.7181952662721893, 0.7248717948717949, 0.7462462462462464, 0.8468914321064026, 0.7088382038488952, 0.7977777777777778, 0.7023809523809524, 0.7816091954022988, 0.5703125, 0.60125, 0.6375739644970414, 0.6525641025641026, 0.5923423423423423, 0.7967831735230436, 0.6657163221667854, 0.6877777777777777, 0.6865079365079365, 0.6537356321839081, 0.5189732142857143, 0.594375, 0.6446005917159763, 0.6356410256410256, 0.5880880880880881, 0.801113516857408, 0.6664290805416964, 0.6666666666666666]\n"
     ]
    },
    {
     "name": "stderr",
     "output_type": "stream",
     "text": [
      "/Users/george/opt/anaconda3/envs/pl2/lib/python3.6/site-packages/pytorch_lightning/trainer/data_loading.py:133: UserWarning: The dataloader, val_dataloader 0, does not have many workers which may be a bottleneck. Consider increasing the value of the `num_workers` argument` (try 8 which is the number of cpus on this machine) in the `DataLoader` init to improve performance.\n",
      "  f\"The dataloader, {name}, does not have many workers which may be a bottleneck.\"\n",
      "/Users/george/opt/anaconda3/envs/pl2/lib/python3.6/site-packages/debiasm/torch_functions.py:75: UserWarning: Implicit dimension choice for softmax has been deprecated. Change the call to include dim=X as an argument.\n",
      "  y_hat = softmax(x)\n",
      "/Users/george/opt/anaconda3/envs/pl2/lib/python3.6/site-packages/pytorch_lightning/trainer/data_loading.py:133: UserWarning: The dataloader, train_dataloader, does not have many workers which may be a bottleneck. Consider increasing the value of the `num_workers` argument` (try 8 which is the number of cpus on this machine) in the `DataLoader` init to improve performance.\n",
      "  f\"The dataloader, {name}, does not have many workers which may be a bottleneck.\"\n",
      "Trainer was signaled to stop but required minimum epochs (25) or minimum steps (None) has not been met. Training will continue...\n",
      "Trainer was signaled to stop but required minimum epochs (25) or minimum steps (None) has not been met. Training will continue...\n",
      "Trainer was signaled to stop but required minimum epochs (25) or minimum steps (None) has not been met. Training will continue...\n",
      "/Users/george/opt/anaconda3/envs/pl2/lib/python3.6/site-packages/pytorch_lightning/trainer/connectors/callback_connector.py:148: LightningDeprecationWarning: Setting `Trainer(checkpoint_callback=False)` is deprecated in v1.5 and will be removed in v1.7. Please consider using `Trainer(enable_checkpointing=False)`.\n",
      "  f\"Setting `Trainer(checkpoint_callback={checkpoint_callback})` is deprecated in v1.5 and will \"\n",
      "/Users/george/opt/anaconda3/envs/pl2/lib/python3.6/site-packages/pytorch_lightning/trainer/connectors/callback_connector.py:91: LightningDeprecationWarning: Setting `Trainer(progress_bar_refresh_rate=0)` is deprecated in v1.5 and will be removed in v1.7. Please pass `pytorch_lightning.callbacks.progress.TQDMProgressBar` with `refresh_rate` directly to the Trainer's `callbacks` argument instead. Or, to disable the progress bar pass `enable_progress_bar = False` to the Trainer.\n",
      "  f\"Setting `Trainer(progress_bar_refresh_rate={progress_bar_refresh_rate})` is deprecated in v1.5 and\"\n",
      "/Users/george/opt/anaconda3/envs/pl2/lib/python3.6/site-packages/pytorch_lightning/trainer/connectors/callback_connector.py:168: LightningDeprecationWarning: Setting `Trainer(weights_summary=None)` is deprecated in v1.5 and will be removed in v1.7. Please set `Trainer(enable_model_summary=False)` instead.\n",
      "  \"Setting `Trainer(weights_summary=None)` is deprecated in v1.5 and will be removed\"\n",
      "GPU available: False, used: False\n",
      "TPU available: False, using: 0 TPU cores\n",
      "IPU available: False, using: 0 IPUs\n"
     ]
    },
    {
     "name": "stdout",
     "output_type": "stream",
     "text": [
      "Aggregation\n",
      "['Genus', 'Genus', 'Genus', 'Genus', 'Genus', 'Genus', 'Genus', 'Genus', 'Genus', 'Genus', 'Family', 'Family', 'Family', 'Family', 'Family', 'Family', 'Family', 'Family', 'Family', 'Family', 'Order', 'Order', 'Order', 'Order', 'Order', 'Order', 'Order', 'Order', 'Order', 'Order', 'Class', 'Class', 'Class']\n",
      "Base:\n",
      "[0.7576621525302922, 0.8333333333333334, 0.6997354497354498, 0.6681034482758621, 0.5133928571428572, 0.6806249999999999, 0.5946745562130178, 0.666923076923077, 0.7477477477477479, 0.7005876894525208, 0.7063435495367071, 0.9011111111111111, 0.6547619047619047, 0.8045977011494253, 0.6261160714285715, 0.713125, 0.6150147928994082, 0.6820512820512821, 0.7240990990990991, 0.742653881843489, 0.7120456165359943, 0.8633333333333333, 0.6084656084656084, 0.6522988505747126, 0.6071428571428572, 0.7187500000000001, 0.6427514792899409, 0.6641025641025642, 0.7291041041041042, 0.7868852459016393, 0.7377049180327869, 0.7511111111111111, 0.5965608465608465]\n",
      "DEBIAS-M:\n",
      "[0.7270135424091233, 0.8044444444444444, 0.6521164021164021, 0.757183908045977, 0.6160714285714286, 0.7162499999999999, 0.7181952662721893, 0.7248717948717949, 0.7462462462462464, 0.8468914321064026, 0.7088382038488952, 0.7977777777777778, 0.7023809523809524, 0.7816091954022988, 0.5703125, 0.60125, 0.6375739644970414, 0.6525641025641026, 0.5923423423423423, 0.7967831735230436, 0.6657163221667854, 0.6877777777777777, 0.6865079365079365, 0.6537356321839081, 0.5189732142857143, 0.594375, 0.6446005917159763, 0.6356410256410256, 0.5880880880880881, 0.801113516857408, 0.6664290805416964, 0.6666666666666666, 0.5806878306878307]\n"
     ]
    },
    {
     "name": "stderr",
     "output_type": "stream",
     "text": [
      "/Users/george/opt/anaconda3/envs/pl2/lib/python3.6/site-packages/pytorch_lightning/trainer/data_loading.py:133: UserWarning: The dataloader, val_dataloader 0, does not have many workers which may be a bottleneck. Consider increasing the value of the `num_workers` argument` (try 8 which is the number of cpus on this machine) in the `DataLoader` init to improve performance.\n",
      "  f\"The dataloader, {name}, does not have many workers which may be a bottleneck.\"\n",
      "/Users/george/opt/anaconda3/envs/pl2/lib/python3.6/site-packages/debiasm/torch_functions.py:75: UserWarning: Implicit dimension choice for softmax has been deprecated. Change the call to include dim=X as an argument.\n",
      "  y_hat = softmax(x)\n",
      "/Users/george/opt/anaconda3/envs/pl2/lib/python3.6/site-packages/pytorch_lightning/trainer/data_loading.py:133: UserWarning: The dataloader, train_dataloader, does not have many workers which may be a bottleneck. Consider increasing the value of the `num_workers` argument` (try 8 which is the number of cpus on this machine) in the `DataLoader` init to improve performance.\n",
      "  f\"The dataloader, {name}, does not have many workers which may be a bottleneck.\"\n",
      "Trainer was signaled to stop but required minimum epochs (25) or minimum steps (None) has not been met. Training will continue...\n",
      "Trainer was signaled to stop but required minimum epochs (25) or minimum steps (None) has not been met. Training will continue...\n",
      "Trainer was signaled to stop but required minimum epochs (25) or minimum steps (None) has not been met. Training will continue...\n",
      "Trainer was signaled to stop but required minimum epochs (25) or minimum steps (None) has not been met. Training will continue...\n",
      "Trainer was signaled to stop but required minimum epochs (25) or minimum steps (None) has not been met. Training will continue...\n",
      "Trainer was signaled to stop but required minimum epochs (25) or minimum steps (None) has not been met. Training will continue...\n",
      "Trainer was signaled to stop but required minimum epochs (25) or minimum steps (None) has not been met. Training will continue...\n",
      "Trainer was signaled to stop but required minimum epochs (25) or minimum steps (None) has not been met. Training will continue...\n",
      "Trainer was signaled to stop but required minimum epochs (25) or minimum steps (None) has not been met. Training will continue...\n",
      "Trainer was signaled to stop but required minimum epochs (25) or minimum steps (None) has not been met. Training will continue...\n",
      "/Users/george/opt/anaconda3/envs/pl2/lib/python3.6/site-packages/pytorch_lightning/trainer/connectors/callback_connector.py:148: LightningDeprecationWarning: Setting `Trainer(checkpoint_callback=False)` is deprecated in v1.5 and will be removed in v1.7. Please consider using `Trainer(enable_checkpointing=False)`.\n",
      "  f\"Setting `Trainer(checkpoint_callback={checkpoint_callback})` is deprecated in v1.5 and will \"\n",
      "/Users/george/opt/anaconda3/envs/pl2/lib/python3.6/site-packages/pytorch_lightning/trainer/connectors/callback_connector.py:91: LightningDeprecationWarning: Setting `Trainer(progress_bar_refresh_rate=0)` is deprecated in v1.5 and will be removed in v1.7. Please pass `pytorch_lightning.callbacks.progress.TQDMProgressBar` with `refresh_rate` directly to the Trainer's `callbacks` argument instead. Or, to disable the progress bar pass `enable_progress_bar = False` to the Trainer.\n",
      "  f\"Setting `Trainer(progress_bar_refresh_rate={progress_bar_refresh_rate})` is deprecated in v1.5 and\"\n",
      "/Users/george/opt/anaconda3/envs/pl2/lib/python3.6/site-packages/pytorch_lightning/trainer/connectors/callback_connector.py:168: LightningDeprecationWarning: Setting `Trainer(weights_summary=None)` is deprecated in v1.5 and will be removed in v1.7. Please set `Trainer(enable_model_summary=False)` instead.\n",
      "  \"Setting `Trainer(weights_summary=None)` is deprecated in v1.5 and will be removed\"\n",
      "GPU available: False, used: False\n",
      "TPU available: False, using: 0 TPU cores\n",
      "IPU available: False, using: 0 IPUs\n"
     ]
    },
    {
     "name": "stdout",
     "output_type": "stream",
     "text": [
      "Aggregation\n",
      "['Genus', 'Genus', 'Genus', 'Genus', 'Genus', 'Genus', 'Genus', 'Genus', 'Genus', 'Genus', 'Family', 'Family', 'Family', 'Family', 'Family', 'Family', 'Family', 'Family', 'Family', 'Family', 'Order', 'Order', 'Order', 'Order', 'Order', 'Order', 'Order', 'Order', 'Order', 'Order', 'Class', 'Class', 'Class', 'Class']\n",
      "Base:\n",
      "[0.7576621525302922, 0.8333333333333334, 0.6997354497354498, 0.6681034482758621, 0.5133928571428572, 0.6806249999999999, 0.5946745562130178, 0.666923076923077, 0.7477477477477479, 0.7005876894525208, 0.7063435495367071, 0.9011111111111111, 0.6547619047619047, 0.8045977011494253, 0.6261160714285715, 0.713125, 0.6150147928994082, 0.6820512820512821, 0.7240990990990991, 0.742653881843489, 0.7120456165359943, 0.8633333333333333, 0.6084656084656084, 0.6522988505747126, 0.6071428571428572, 0.7187500000000001, 0.6427514792899409, 0.6641025641025642, 0.7291041041041042, 0.7868852459016393, 0.7377049180327869, 0.7511111111111111, 0.5965608465608465, 0.6724137931034483]\n",
      "DEBIAS-M:\n",
      "[0.7270135424091233, 0.8044444444444444, 0.6521164021164021, 0.757183908045977, 0.6160714285714286, 0.7162499999999999, 0.7181952662721893, 0.7248717948717949, 0.7462462462462464, 0.8468914321064026, 0.7088382038488952, 0.7977777777777778, 0.7023809523809524, 0.7816091954022988, 0.5703125, 0.60125, 0.6375739644970414, 0.6525641025641026, 0.5923423423423423, 0.7967831735230436, 0.6657163221667854, 0.6877777777777777, 0.6865079365079365, 0.6537356321839081, 0.5189732142857143, 0.594375, 0.6446005917159763, 0.6356410256410256, 0.5880880880880881, 0.801113516857408, 0.6664290805416964, 0.6666666666666666, 0.5806878306878307, 0.6422413793103448]\n"
     ]
    },
    {
     "name": "stderr",
     "output_type": "stream",
     "text": [
      "/Users/george/opt/anaconda3/envs/pl2/lib/python3.6/site-packages/pytorch_lightning/trainer/data_loading.py:133: UserWarning: The dataloader, val_dataloader 0, does not have many workers which may be a bottleneck. Consider increasing the value of the `num_workers` argument` (try 8 which is the number of cpus on this machine) in the `DataLoader` init to improve performance.\n",
      "  f\"The dataloader, {name}, does not have many workers which may be a bottleneck.\"\n",
      "/Users/george/opt/anaconda3/envs/pl2/lib/python3.6/site-packages/debiasm/torch_functions.py:75: UserWarning: Implicit dimension choice for softmax has been deprecated. Change the call to include dim=X as an argument.\n",
      "  y_hat = softmax(x)\n",
      "/Users/george/opt/anaconda3/envs/pl2/lib/python3.6/site-packages/pytorch_lightning/trainer/data_loading.py:133: UserWarning: The dataloader, train_dataloader, does not have many workers which may be a bottleneck. Consider increasing the value of the `num_workers` argument` (try 8 which is the number of cpus on this machine) in the `DataLoader` init to improve performance.\n",
      "  f\"The dataloader, {name}, does not have many workers which may be a bottleneck.\"\n",
      "Trainer was signaled to stop but required minimum epochs (25) or minimum steps (None) has not been met. Training will continue...\n",
      "Trainer was signaled to stop but required minimum epochs (25) or minimum steps (None) has not been met. Training will continue...\n",
      "Trainer was signaled to stop but required minimum epochs (25) or minimum steps (None) has not been met. Training will continue...\n",
      "Trainer was signaled to stop but required minimum epochs (25) or minimum steps (None) has not been met. Training will continue...\n",
      "Trainer was signaled to stop but required minimum epochs (25) or minimum steps (None) has not been met. Training will continue...\n",
      "Trainer was signaled to stop but required minimum epochs (25) or minimum steps (None) has not been met. Training will continue...\n",
      "Trainer was signaled to stop but required minimum epochs (25) or minimum steps (None) has not been met. Training will continue...\n",
      "Trainer was signaled to stop but required minimum epochs (25) or minimum steps (None) has not been met. Training will continue...\n",
      "Trainer was signaled to stop but required minimum epochs (25) or minimum steps (None) has not been met. Training will continue...\n",
      "Trainer was signaled to stop but required minimum epochs (25) or minimum steps (None) has not been met. Training will continue...\n",
      "/Users/george/opt/anaconda3/envs/pl2/lib/python3.6/site-packages/pytorch_lightning/trainer/connectors/callback_connector.py:148: LightningDeprecationWarning: Setting `Trainer(checkpoint_callback=False)` is deprecated in v1.5 and will be removed in v1.7. Please consider using `Trainer(enable_checkpointing=False)`.\n",
      "  f\"Setting `Trainer(checkpoint_callback={checkpoint_callback})` is deprecated in v1.5 and will \"\n",
      "/Users/george/opt/anaconda3/envs/pl2/lib/python3.6/site-packages/pytorch_lightning/trainer/connectors/callback_connector.py:91: LightningDeprecationWarning: Setting `Trainer(progress_bar_refresh_rate=0)` is deprecated in v1.5 and will be removed in v1.7. Please pass `pytorch_lightning.callbacks.progress.TQDMProgressBar` with `refresh_rate` directly to the Trainer's `callbacks` argument instead. Or, to disable the progress bar pass `enable_progress_bar = False` to the Trainer.\n",
      "  f\"Setting `Trainer(progress_bar_refresh_rate={progress_bar_refresh_rate})` is deprecated in v1.5 and\"\n",
      "/Users/george/opt/anaconda3/envs/pl2/lib/python3.6/site-packages/pytorch_lightning/trainer/connectors/callback_connector.py:168: LightningDeprecationWarning: Setting `Trainer(weights_summary=None)` is deprecated in v1.5 and will be removed in v1.7. Please set `Trainer(enable_model_summary=False)` instead.\n",
      "  \"Setting `Trainer(weights_summary=None)` is deprecated in v1.5 and will be removed\"\n",
      "GPU available: False, used: False\n",
      "TPU available: False, using: 0 TPU cores\n",
      "IPU available: False, using: 0 IPUs\n"
     ]
    },
    {
     "name": "stdout",
     "output_type": "stream",
     "text": [
      "Aggregation\n",
      "['Genus', 'Genus', 'Genus', 'Genus', 'Genus', 'Genus', 'Genus', 'Genus', 'Genus', 'Genus', 'Family', 'Family', 'Family', 'Family', 'Family', 'Family', 'Family', 'Family', 'Family', 'Family', 'Order', 'Order', 'Order', 'Order', 'Order', 'Order', 'Order', 'Order', 'Order', 'Order', 'Class', 'Class', 'Class', 'Class', 'Class']\n",
      "Base:\n",
      "[0.7576621525302922, 0.8333333333333334, 0.6997354497354498, 0.6681034482758621, 0.5133928571428572, 0.6806249999999999, 0.5946745562130178, 0.666923076923077, 0.7477477477477479, 0.7005876894525208, 0.7063435495367071, 0.9011111111111111, 0.6547619047619047, 0.8045977011494253, 0.6261160714285715, 0.713125, 0.6150147928994082, 0.6820512820512821, 0.7240990990990991, 0.742653881843489, 0.7120456165359943, 0.8633333333333333, 0.6084656084656084, 0.6522988505747126, 0.6071428571428572, 0.7187500000000001, 0.6427514792899409, 0.6641025641025642, 0.7291041041041042, 0.7868852459016393, 0.7377049180327869, 0.7511111111111111, 0.5965608465608465, 0.6724137931034483, 0.6160714285714286]\n",
      "DEBIAS-M:\n",
      "[0.7270135424091233, 0.8044444444444444, 0.6521164021164021, 0.757183908045977, 0.6160714285714286, 0.7162499999999999, 0.7181952662721893, 0.7248717948717949, 0.7462462462462464, 0.8468914321064026, 0.7088382038488952, 0.7977777777777778, 0.7023809523809524, 0.7816091954022988, 0.5703125, 0.60125, 0.6375739644970414, 0.6525641025641026, 0.5923423423423423, 0.7967831735230436, 0.6657163221667854, 0.6877777777777777, 0.6865079365079365, 0.6537356321839081, 0.5189732142857143, 0.594375, 0.6446005917159763, 0.6356410256410256, 0.5880880880880881, 0.801113516857408, 0.6664290805416964, 0.6666666666666666, 0.5806878306878307, 0.6422413793103448, 0.5078125]\n"
     ]
    },
    {
     "name": "stderr",
     "output_type": "stream",
     "text": [
      "/Users/george/opt/anaconda3/envs/pl2/lib/python3.6/site-packages/pytorch_lightning/trainer/data_loading.py:133: UserWarning: The dataloader, val_dataloader 0, does not have many workers which may be a bottleneck. Consider increasing the value of the `num_workers` argument` (try 8 which is the number of cpus on this machine) in the `DataLoader` init to improve performance.\n",
      "  f\"The dataloader, {name}, does not have many workers which may be a bottleneck.\"\n",
      "/Users/george/opt/anaconda3/envs/pl2/lib/python3.6/site-packages/debiasm/torch_functions.py:75: UserWarning: Implicit dimension choice for softmax has been deprecated. Change the call to include dim=X as an argument.\n",
      "  y_hat = softmax(x)\n",
      "/Users/george/opt/anaconda3/envs/pl2/lib/python3.6/site-packages/pytorch_lightning/trainer/data_loading.py:133: UserWarning: The dataloader, train_dataloader, does not have many workers which may be a bottleneck. Consider increasing the value of the `num_workers` argument` (try 8 which is the number of cpus on this machine) in the `DataLoader` init to improve performance.\n",
      "  f\"The dataloader, {name}, does not have many workers which may be a bottleneck.\"\n",
      "Trainer was signaled to stop but required minimum epochs (25) or minimum steps (None) has not been met. Training will continue...\n",
      "Trainer was signaled to stop but required minimum epochs (25) or minimum steps (None) has not been met. Training will continue...\n",
      "Trainer was signaled to stop but required minimum epochs (25) or minimum steps (None) has not been met. Training will continue...\n",
      "Trainer was signaled to stop but required minimum epochs (25) or minimum steps (None) has not been met. Training will continue...\n",
      "Trainer was signaled to stop but required minimum epochs (25) or minimum steps (None) has not been met. Training will continue...\n",
      "Trainer was signaled to stop but required minimum epochs (25) or minimum steps (None) has not been met. Training will continue...\n",
      "Trainer was signaled to stop but required minimum epochs (25) or minimum steps (None) has not been met. Training will continue...\n",
      "Trainer was signaled to stop but required minimum epochs (25) or minimum steps (None) has not been met. Training will continue...\n",
      "Trainer was signaled to stop but required minimum epochs (25) or minimum steps (None) has not been met. Training will continue...\n",
      "Trainer was signaled to stop but required minimum epochs (25) or minimum steps (None) has not been met. Training will continue...\n",
      "/Users/george/opt/anaconda3/envs/pl2/lib/python3.6/site-packages/pytorch_lightning/trainer/connectors/callback_connector.py:148: LightningDeprecationWarning: Setting `Trainer(checkpoint_callback=False)` is deprecated in v1.5 and will be removed in v1.7. Please consider using `Trainer(enable_checkpointing=False)`.\n",
      "  f\"Setting `Trainer(checkpoint_callback={checkpoint_callback})` is deprecated in v1.5 and will \"\n",
      "/Users/george/opt/anaconda3/envs/pl2/lib/python3.6/site-packages/pytorch_lightning/trainer/connectors/callback_connector.py:91: LightningDeprecationWarning: Setting `Trainer(progress_bar_refresh_rate=0)` is deprecated in v1.5 and will be removed in v1.7. Please pass `pytorch_lightning.callbacks.progress.TQDMProgressBar` with `refresh_rate` directly to the Trainer's `callbacks` argument instead. Or, to disable the progress bar pass `enable_progress_bar = False` to the Trainer.\n",
      "  f\"Setting `Trainer(progress_bar_refresh_rate={progress_bar_refresh_rate})` is deprecated in v1.5 and\"\n",
      "/Users/george/opt/anaconda3/envs/pl2/lib/python3.6/site-packages/pytorch_lightning/trainer/connectors/callback_connector.py:168: LightningDeprecationWarning: Setting `Trainer(weights_summary=None)` is deprecated in v1.5 and will be removed in v1.7. Please set `Trainer(enable_model_summary=False)` instead.\n",
      "  \"Setting `Trainer(weights_summary=None)` is deprecated in v1.5 and will be removed\"\n",
      "GPU available: False, used: False\n",
      "TPU available: False, using: 0 TPU cores\n",
      "IPU available: False, using: 0 IPUs\n"
     ]
    },
    {
     "name": "stdout",
     "output_type": "stream",
     "text": [
      "Aggregation\n",
      "['Genus', 'Genus', 'Genus', 'Genus', 'Genus', 'Genus', 'Genus', 'Genus', 'Genus', 'Genus', 'Family', 'Family', 'Family', 'Family', 'Family', 'Family', 'Family', 'Family', 'Family', 'Family', 'Order', 'Order', 'Order', 'Order', 'Order', 'Order', 'Order', 'Order', 'Order', 'Order', 'Class', 'Class', 'Class', 'Class', 'Class', 'Class']\n",
      "Base:\n",
      "[0.7576621525302922, 0.8333333333333334, 0.6997354497354498, 0.6681034482758621, 0.5133928571428572, 0.6806249999999999, 0.5946745562130178, 0.666923076923077, 0.7477477477477479, 0.7005876894525208, 0.7063435495367071, 0.9011111111111111, 0.6547619047619047, 0.8045977011494253, 0.6261160714285715, 0.713125, 0.6150147928994082, 0.6820512820512821, 0.7240990990990991, 0.742653881843489, 0.7120456165359943, 0.8633333333333333, 0.6084656084656084, 0.6522988505747126, 0.6071428571428572, 0.7187500000000001, 0.6427514792899409, 0.6641025641025642, 0.7291041041041042, 0.7868852459016393, 0.7377049180327869, 0.7511111111111111, 0.5965608465608465, 0.6724137931034483, 0.6160714285714286, 0.64875]\n",
      "DEBIAS-M:\n",
      "[0.7270135424091233, 0.8044444444444444, 0.6521164021164021, 0.757183908045977, 0.6160714285714286, 0.7162499999999999, 0.7181952662721893, 0.7248717948717949, 0.7462462462462464, 0.8468914321064026, 0.7088382038488952, 0.7977777777777778, 0.7023809523809524, 0.7816091954022988, 0.5703125, 0.60125, 0.6375739644970414, 0.6525641025641026, 0.5923423423423423, 0.7967831735230436, 0.6657163221667854, 0.6877777777777777, 0.6865079365079365, 0.6537356321839081, 0.5189732142857143, 0.594375, 0.6446005917159763, 0.6356410256410256, 0.5880880880880881, 0.801113516857408, 0.6664290805416964, 0.6666666666666666, 0.5806878306878307, 0.6422413793103448, 0.5078125, 0.57375]\n"
     ]
    },
    {
     "name": "stderr",
     "output_type": "stream",
     "text": [
      "/Users/george/opt/anaconda3/envs/pl2/lib/python3.6/site-packages/pytorch_lightning/trainer/data_loading.py:133: UserWarning: The dataloader, val_dataloader 0, does not have many workers which may be a bottleneck. Consider increasing the value of the `num_workers` argument` (try 8 which is the number of cpus on this machine) in the `DataLoader` init to improve performance.\n",
      "  f\"The dataloader, {name}, does not have many workers which may be a bottleneck.\"\n",
      "/Users/george/opt/anaconda3/envs/pl2/lib/python3.6/site-packages/debiasm/torch_functions.py:75: UserWarning: Implicit dimension choice for softmax has been deprecated. Change the call to include dim=X as an argument.\n",
      "  y_hat = softmax(x)\n",
      "/Users/george/opt/anaconda3/envs/pl2/lib/python3.6/site-packages/pytorch_lightning/trainer/data_loading.py:133: UserWarning: The dataloader, train_dataloader, does not have many workers which may be a bottleneck. Consider increasing the value of the `num_workers` argument` (try 8 which is the number of cpus on this machine) in the `DataLoader` init to improve performance.\n",
      "  f\"The dataloader, {name}, does not have many workers which may be a bottleneck.\"\n",
      "/Users/george/opt/anaconda3/envs/pl2/lib/python3.6/site-packages/pytorch_lightning/trainer/connectors/callback_connector.py:148: LightningDeprecationWarning: Setting `Trainer(checkpoint_callback=False)` is deprecated in v1.5 and will be removed in v1.7. Please consider using `Trainer(enable_checkpointing=False)`.\n",
      "  f\"Setting `Trainer(checkpoint_callback={checkpoint_callback})` is deprecated in v1.5 and will \"\n",
      "/Users/george/opt/anaconda3/envs/pl2/lib/python3.6/site-packages/pytorch_lightning/trainer/connectors/callback_connector.py:91: LightningDeprecationWarning: Setting `Trainer(progress_bar_refresh_rate=0)` is deprecated in v1.5 and will be removed in v1.7. Please pass `pytorch_lightning.callbacks.progress.TQDMProgressBar` with `refresh_rate` directly to the Trainer's `callbacks` argument instead. Or, to disable the progress bar pass `enable_progress_bar = False` to the Trainer.\n",
      "  f\"Setting `Trainer(progress_bar_refresh_rate={progress_bar_refresh_rate})` is deprecated in v1.5 and\"\n",
      "/Users/george/opt/anaconda3/envs/pl2/lib/python3.6/site-packages/pytorch_lightning/trainer/connectors/callback_connector.py:168: LightningDeprecationWarning: Setting `Trainer(weights_summary=None)` is deprecated in v1.5 and will be removed in v1.7. Please set `Trainer(enable_model_summary=False)` instead.\n",
      "  \"Setting `Trainer(weights_summary=None)` is deprecated in v1.5 and will be removed\"\n",
      "GPU available: False, used: False\n",
      "TPU available: False, using: 0 TPU cores\n",
      "IPU available: False, using: 0 IPUs\n"
     ]
    },
    {
     "name": "stdout",
     "output_type": "stream",
     "text": [
      "Aggregation\n",
      "['Genus', 'Genus', 'Genus', 'Genus', 'Genus', 'Genus', 'Genus', 'Genus', 'Genus', 'Genus', 'Family', 'Family', 'Family', 'Family', 'Family', 'Family', 'Family', 'Family', 'Family', 'Family', 'Order', 'Order', 'Order', 'Order', 'Order', 'Order', 'Order', 'Order', 'Order', 'Order', 'Class', 'Class', 'Class', 'Class', 'Class', 'Class', 'Class']\n",
      "Base:\n",
      "[0.7576621525302922, 0.8333333333333334, 0.6997354497354498, 0.6681034482758621, 0.5133928571428572, 0.6806249999999999, 0.5946745562130178, 0.666923076923077, 0.7477477477477479, 0.7005876894525208, 0.7063435495367071, 0.9011111111111111, 0.6547619047619047, 0.8045977011494253, 0.6261160714285715, 0.713125, 0.6150147928994082, 0.6820512820512821, 0.7240990990990991, 0.742653881843489, 0.7120456165359943, 0.8633333333333333, 0.6084656084656084, 0.6522988505747126, 0.6071428571428572, 0.7187500000000001, 0.6427514792899409, 0.6641025641025642, 0.7291041041041042, 0.7868852459016393, 0.7377049180327869, 0.7511111111111111, 0.5965608465608465, 0.6724137931034483, 0.6160714285714286, 0.64875, 0.6231508875739644]\n",
      "DEBIAS-M:\n",
      "[0.7270135424091233, 0.8044444444444444, 0.6521164021164021, 0.757183908045977, 0.6160714285714286, 0.7162499999999999, 0.7181952662721893, 0.7248717948717949, 0.7462462462462464, 0.8468914321064026, 0.7088382038488952, 0.7977777777777778, 0.7023809523809524, 0.7816091954022988, 0.5703125, 0.60125, 0.6375739644970414, 0.6525641025641026, 0.5923423423423423, 0.7967831735230436, 0.6657163221667854, 0.6877777777777777, 0.6865079365079365, 0.6537356321839081, 0.5189732142857143, 0.594375, 0.6446005917159763, 0.6356410256410256, 0.5880880880880881, 0.801113516857408, 0.6664290805416964, 0.6666666666666666, 0.5806878306878307, 0.6422413793103448, 0.5078125, 0.57375, 0.6035502958579881]\n"
     ]
    },
    {
     "name": "stderr",
     "output_type": "stream",
     "text": [
      "/Users/george/opt/anaconda3/envs/pl2/lib/python3.6/site-packages/pytorch_lightning/trainer/data_loading.py:133: UserWarning: The dataloader, val_dataloader 0, does not have many workers which may be a bottleneck. Consider increasing the value of the `num_workers` argument` (try 8 which is the number of cpus on this machine) in the `DataLoader` init to improve performance.\n",
      "  f\"The dataloader, {name}, does not have many workers which may be a bottleneck.\"\n",
      "/Users/george/opt/anaconda3/envs/pl2/lib/python3.6/site-packages/debiasm/torch_functions.py:75: UserWarning: Implicit dimension choice for softmax has been deprecated. Change the call to include dim=X as an argument.\n",
      "  y_hat = softmax(x)\n",
      "/Users/george/opt/anaconda3/envs/pl2/lib/python3.6/site-packages/pytorch_lightning/trainer/data_loading.py:133: UserWarning: The dataloader, train_dataloader, does not have many workers which may be a bottleneck. Consider increasing the value of the `num_workers` argument` (try 8 which is the number of cpus on this machine) in the `DataLoader` init to improve performance.\n",
      "  f\"The dataloader, {name}, does not have many workers which may be a bottleneck.\"\n",
      "/Users/george/opt/anaconda3/envs/pl2/lib/python3.6/site-packages/pytorch_lightning/trainer/connectors/callback_connector.py:148: LightningDeprecationWarning: Setting `Trainer(checkpoint_callback=False)` is deprecated in v1.5 and will be removed in v1.7. Please consider using `Trainer(enable_checkpointing=False)`.\n",
      "  f\"Setting `Trainer(checkpoint_callback={checkpoint_callback})` is deprecated in v1.5 and will \"\n",
      "/Users/george/opt/anaconda3/envs/pl2/lib/python3.6/site-packages/pytorch_lightning/trainer/connectors/callback_connector.py:91: LightningDeprecationWarning: Setting `Trainer(progress_bar_refresh_rate=0)` is deprecated in v1.5 and will be removed in v1.7. Please pass `pytorch_lightning.callbacks.progress.TQDMProgressBar` with `refresh_rate` directly to the Trainer's `callbacks` argument instead. Or, to disable the progress bar pass `enable_progress_bar = False` to the Trainer.\n",
      "  f\"Setting `Trainer(progress_bar_refresh_rate={progress_bar_refresh_rate})` is deprecated in v1.5 and\"\n",
      "/Users/george/opt/anaconda3/envs/pl2/lib/python3.6/site-packages/pytorch_lightning/trainer/connectors/callback_connector.py:168: LightningDeprecationWarning: Setting `Trainer(weights_summary=None)` is deprecated in v1.5 and will be removed in v1.7. Please set `Trainer(enable_model_summary=False)` instead.\n",
      "  \"Setting `Trainer(weights_summary=None)` is deprecated in v1.5 and will be removed\"\n",
      "GPU available: False, used: False\n",
      "TPU available: False, using: 0 TPU cores\n",
      "IPU available: False, using: 0 IPUs\n"
     ]
    },
    {
     "name": "stdout",
     "output_type": "stream",
     "text": [
      "Aggregation\n",
      "['Genus', 'Genus', 'Genus', 'Genus', 'Genus', 'Genus', 'Genus', 'Genus', 'Genus', 'Genus', 'Family', 'Family', 'Family', 'Family', 'Family', 'Family', 'Family', 'Family', 'Family', 'Family', 'Order', 'Order', 'Order', 'Order', 'Order', 'Order', 'Order', 'Order', 'Order', 'Order', 'Class', 'Class', 'Class', 'Class', 'Class', 'Class', 'Class', 'Class']\n",
      "Base:\n",
      "[0.7576621525302922, 0.8333333333333334, 0.6997354497354498, 0.6681034482758621, 0.5133928571428572, 0.6806249999999999, 0.5946745562130178, 0.666923076923077, 0.7477477477477479, 0.7005876894525208, 0.7063435495367071, 0.9011111111111111, 0.6547619047619047, 0.8045977011494253, 0.6261160714285715, 0.713125, 0.6150147928994082, 0.6820512820512821, 0.7240990990990991, 0.742653881843489, 0.7120456165359943, 0.8633333333333333, 0.6084656084656084, 0.6522988505747126, 0.6071428571428572, 0.7187500000000001, 0.6427514792899409, 0.6641025641025642, 0.7291041041041042, 0.7868852459016393, 0.7377049180327869, 0.7511111111111111, 0.5965608465608465, 0.6724137931034483, 0.6160714285714286, 0.64875, 0.6231508875739644, 0.6133333333333333]\n",
      "DEBIAS-M:\n",
      "[0.7270135424091233, 0.8044444444444444, 0.6521164021164021, 0.757183908045977, 0.6160714285714286, 0.7162499999999999, 0.7181952662721893, 0.7248717948717949, 0.7462462462462464, 0.8468914321064026, 0.7088382038488952, 0.7977777777777778, 0.7023809523809524, 0.7816091954022988, 0.5703125, 0.60125, 0.6375739644970414, 0.6525641025641026, 0.5923423423423423, 0.7967831735230436, 0.6657163221667854, 0.6877777777777777, 0.6865079365079365, 0.6537356321839081, 0.5189732142857143, 0.594375, 0.6446005917159763, 0.6356410256410256, 0.5880880880880881, 0.801113516857408, 0.6664290805416964, 0.6666666666666666, 0.5806878306878307, 0.6422413793103448, 0.5078125, 0.57375, 0.6035502958579881, 0.6097435897435897]\n"
     ]
    },
    {
     "name": "stderr",
     "output_type": "stream",
     "text": [
      "/Users/george/opt/anaconda3/envs/pl2/lib/python3.6/site-packages/pytorch_lightning/trainer/data_loading.py:133: UserWarning: The dataloader, val_dataloader 0, does not have many workers which may be a bottleneck. Consider increasing the value of the `num_workers` argument` (try 8 which is the number of cpus on this machine) in the `DataLoader` init to improve performance.\n",
      "  f\"The dataloader, {name}, does not have many workers which may be a bottleneck.\"\n",
      "/Users/george/opt/anaconda3/envs/pl2/lib/python3.6/site-packages/debiasm/torch_functions.py:75: UserWarning: Implicit dimension choice for softmax has been deprecated. Change the call to include dim=X as an argument.\n",
      "  y_hat = softmax(x)\n",
      "/Users/george/opt/anaconda3/envs/pl2/lib/python3.6/site-packages/pytorch_lightning/trainer/data_loading.py:133: UserWarning: The dataloader, train_dataloader, does not have many workers which may be a bottleneck. Consider increasing the value of the `num_workers` argument` (try 8 which is the number of cpus on this machine) in the `DataLoader` init to improve performance.\n",
      "  f\"The dataloader, {name}, does not have many workers which may be a bottleneck.\"\n",
      "Trainer was signaled to stop but required minimum epochs (25) or minimum steps (None) has not been met. Training will continue...\n",
      "Trainer was signaled to stop but required minimum epochs (25) or minimum steps (None) has not been met. Training will continue...\n",
      "Trainer was signaled to stop but required minimum epochs (25) or minimum steps (None) has not been met. Training will continue...\n",
      "Trainer was signaled to stop but required minimum epochs (25) or minimum steps (None) has not been met. Training will continue...\n",
      "Trainer was signaled to stop but required minimum epochs (25) or minimum steps (None) has not been met. Training will continue...\n",
      "Trainer was signaled to stop but required minimum epochs (25) or minimum steps (None) has not been met. Training will continue...\n",
      "Trainer was signaled to stop but required minimum epochs (25) or minimum steps (None) has not been met. Training will continue...\n",
      "Trainer was signaled to stop but required minimum epochs (25) or minimum steps (None) has not been met. Training will continue...\n",
      "Trainer was signaled to stop but required minimum epochs (25) or minimum steps (None) has not been met. Training will continue...\n",
      "/Users/george/opt/anaconda3/envs/pl2/lib/python3.6/site-packages/pytorch_lightning/trainer/connectors/callback_connector.py:148: LightningDeprecationWarning: Setting `Trainer(checkpoint_callback=False)` is deprecated in v1.5 and will be removed in v1.7. Please consider using `Trainer(enable_checkpointing=False)`.\n",
      "  f\"Setting `Trainer(checkpoint_callback={checkpoint_callback})` is deprecated in v1.5 and will \"\n",
      "/Users/george/opt/anaconda3/envs/pl2/lib/python3.6/site-packages/pytorch_lightning/trainer/connectors/callback_connector.py:91: LightningDeprecationWarning: Setting `Trainer(progress_bar_refresh_rate=0)` is deprecated in v1.5 and will be removed in v1.7. Please pass `pytorch_lightning.callbacks.progress.TQDMProgressBar` with `refresh_rate` directly to the Trainer's `callbacks` argument instead. Or, to disable the progress bar pass `enable_progress_bar = False` to the Trainer.\n",
      "  f\"Setting `Trainer(progress_bar_refresh_rate={progress_bar_refresh_rate})` is deprecated in v1.5 and\"\n",
      "/Users/george/opt/anaconda3/envs/pl2/lib/python3.6/site-packages/pytorch_lightning/trainer/connectors/callback_connector.py:168: LightningDeprecationWarning: Setting `Trainer(weights_summary=None)` is deprecated in v1.5 and will be removed in v1.7. Please set `Trainer(enable_model_summary=False)` instead.\n",
      "  \"Setting `Trainer(weights_summary=None)` is deprecated in v1.5 and will be removed\"\n",
      "GPU available: False, used: False\n",
      "TPU available: False, using: 0 TPU cores\n",
      "IPU available: False, using: 0 IPUs\n"
     ]
    },
    {
     "name": "stdout",
     "output_type": "stream",
     "text": [
      "Aggregation\n",
      "['Genus', 'Genus', 'Genus', 'Genus', 'Genus', 'Genus', 'Genus', 'Genus', 'Genus', 'Genus', 'Family', 'Family', 'Family', 'Family', 'Family', 'Family', 'Family', 'Family', 'Family', 'Family', 'Order', 'Order', 'Order', 'Order', 'Order', 'Order', 'Order', 'Order', 'Order', 'Order', 'Class', 'Class', 'Class', 'Class', 'Class', 'Class', 'Class', 'Class', 'Class']\n",
      "Base:\n",
      "[0.7576621525302922, 0.8333333333333334, 0.6997354497354498, 0.6681034482758621, 0.5133928571428572, 0.6806249999999999, 0.5946745562130178, 0.666923076923077, 0.7477477477477479, 0.7005876894525208, 0.7063435495367071, 0.9011111111111111, 0.6547619047619047, 0.8045977011494253, 0.6261160714285715, 0.713125, 0.6150147928994082, 0.6820512820512821, 0.7240990990990991, 0.742653881843489, 0.7120456165359943, 0.8633333333333333, 0.6084656084656084, 0.6522988505747126, 0.6071428571428572, 0.7187500000000001, 0.6427514792899409, 0.6641025641025642, 0.7291041041041042, 0.7868852459016393, 0.7377049180327869, 0.7511111111111111, 0.5965608465608465, 0.6724137931034483, 0.6160714285714286, 0.64875, 0.6231508875739644, 0.6133333333333333, 0.7085835835835835]\n",
      "DEBIAS-M:\n",
      "[0.7270135424091233, 0.8044444444444444, 0.6521164021164021, 0.757183908045977, 0.6160714285714286, 0.7162499999999999, 0.7181952662721893, 0.7248717948717949, 0.7462462462462464, 0.8468914321064026, 0.7088382038488952, 0.7977777777777778, 0.7023809523809524, 0.7816091954022988, 0.5703125, 0.60125, 0.6375739644970414, 0.6525641025641026, 0.5923423423423423, 0.7967831735230436, 0.6657163221667854, 0.6877777777777777, 0.6865079365079365, 0.6537356321839081, 0.5189732142857143, 0.594375, 0.6446005917159763, 0.6356410256410256, 0.5880880880880881, 0.801113516857408, 0.6664290805416964, 0.6666666666666666, 0.5806878306878307, 0.6422413793103448, 0.5078125, 0.57375, 0.6035502958579881, 0.6097435897435897, 0.5768268268268268]\n"
     ]
    },
    {
     "name": "stderr",
     "output_type": "stream",
     "text": [
      "/Users/george/opt/anaconda3/envs/pl2/lib/python3.6/site-packages/pytorch_lightning/trainer/data_loading.py:133: UserWarning: The dataloader, val_dataloader 0, does not have many workers which may be a bottleneck. Consider increasing the value of the `num_workers` argument` (try 8 which is the number of cpus on this machine) in the `DataLoader` init to improve performance.\n",
      "  f\"The dataloader, {name}, does not have many workers which may be a bottleneck.\"\n",
      "/Users/george/opt/anaconda3/envs/pl2/lib/python3.6/site-packages/debiasm/torch_functions.py:75: UserWarning: Implicit dimension choice for softmax has been deprecated. Change the call to include dim=X as an argument.\n",
      "  y_hat = softmax(x)\n",
      "/Users/george/opt/anaconda3/envs/pl2/lib/python3.6/site-packages/pytorch_lightning/trainer/data_loading.py:133: UserWarning: The dataloader, train_dataloader, does not have many workers which may be a bottleneck. Consider increasing the value of the `num_workers` argument` (try 8 which is the number of cpus on this machine) in the `DataLoader` init to improve performance.\n",
      "  f\"The dataloader, {name}, does not have many workers which may be a bottleneck.\"\n"
     ]
    },
    {
     "name": "stdout",
     "output_type": "stream",
     "text": [
      "Aggregation\n",
      "['Genus', 'Genus', 'Genus', 'Genus', 'Genus', 'Genus', 'Genus', 'Genus', 'Genus', 'Genus', 'Family', 'Family', 'Family', 'Family', 'Family', 'Family', 'Family', 'Family', 'Family', 'Family', 'Order', 'Order', 'Order', 'Order', 'Order', 'Order', 'Order', 'Order', 'Order', 'Order', 'Class', 'Class', 'Class', 'Class', 'Class', 'Class', 'Class', 'Class', 'Class', 'Class']\n",
      "Base:\n",
      "[0.7576621525302922, 0.8333333333333334, 0.6997354497354498, 0.6681034482758621, 0.5133928571428572, 0.6806249999999999, 0.5946745562130178, 0.666923076923077, 0.7477477477477479, 0.7005876894525208, 0.7063435495367071, 0.9011111111111111, 0.6547619047619047, 0.8045977011494253, 0.6261160714285715, 0.713125, 0.6150147928994082, 0.6820512820512821, 0.7240990990990991, 0.742653881843489, 0.7120456165359943, 0.8633333333333333, 0.6084656084656084, 0.6522988505747126, 0.6071428571428572, 0.7187500000000001, 0.6427514792899409, 0.6641025641025642, 0.7291041041041042, 0.7868852459016393, 0.7377049180327869, 0.7511111111111111, 0.5965608465608465, 0.6724137931034483, 0.6160714285714286, 0.64875, 0.6231508875739644, 0.6133333333333333, 0.7085835835835835, 0.7788431797092483]\n",
      "DEBIAS-M:\n",
      "[0.7270135424091233, 0.8044444444444444, 0.6521164021164021, 0.757183908045977, 0.6160714285714286, 0.7162499999999999, 0.7181952662721893, 0.7248717948717949, 0.7462462462462464, 0.8468914321064026, 0.7088382038488952, 0.7977777777777778, 0.7023809523809524, 0.7816091954022988, 0.5703125, 0.60125, 0.6375739644970414, 0.6525641025641026, 0.5923423423423423, 0.7967831735230436, 0.6657163221667854, 0.6877777777777777, 0.6865079365079365, 0.6537356321839081, 0.5189732142857143, 0.594375, 0.6446005917159763, 0.6356410256410256, 0.5880880880880881, 0.801113516857408, 0.6664290805416964, 0.6666666666666666, 0.5806878306878307, 0.6422413793103448, 0.5078125, 0.57375, 0.6035502958579881, 0.6097435897435897, 0.5768268268268268, 0.7800804206619238]\n"
     ]
    }
   ],
   "source": [
    "logo = LeaveOneGroupOut()\n",
    "all_base_rocs=[]\n",
    "all_dm_rocs=[]\n",
    "all_groupings=[]\n",
    "\n",
    "seed=123\n",
    "\n",
    "for grouping in aggregated_dfs:\n",
    "    \n",
    "    df = aggregated_dfs[grouping]\n",
    "    df_with_batch = pd.concat([pd.Series( pd.Categorical(md.Study).codes, \n",
    "                                         index=md.index), df], axis=1)    \n",
    "    df_relabund=rescale(df)\n",
    "    \n",
    "    for train_inds, test_inds in logo.split(df, md, md.Study):\n",
    "\n",
    "            np.random.seed(seed)\n",
    "            torch.manual_seed(seed)\n",
    "\n",
    "            dmc=DebiasMClassifier(x_val=df_with_batch.loc[df.index[test_inds]].values,\n",
    "                                  batch_str=batch_weight_feature_and_nbatchpairs_scaling(1e4, \n",
    "                                                                                         df_with_batch))\n",
    "            dmc.fit(df_with_batch.loc[df.index[train_inds]].values,\n",
    "                     md.loc[md.index[train_inds]].label.values\n",
    "                    )\n",
    "            preds = dmc.predict_proba( df_with_batch.loc[df.index[test_inds]].values )\n",
    "\n",
    "            all_dm_rocs.append(roc_auc_score(\n",
    "                                            md.loc[md.index[test_inds]].label.values, \n",
    "                                            preds[:, 1]\n",
    "                                            ) )\n",
    "            \n",
    "            \n",
    "\n",
    "            np.random.seed(seed)\n",
    "            lr=LogisticRegression(penalty='none', \n",
    "                                  solver='newton-cg',\n",
    "                                  max_iter=1000)\n",
    "            \n",
    "            lr.fit(df_relabund.loc[df.index[train_inds]].values, \n",
    "                   md.loc[md.index[train_inds]].label.values\n",
    "                  )\n",
    "            \n",
    "            preds = lr.predict_proba(df_relabund.loc[df.index[test_inds]].values)\n",
    "            \n",
    "            all_base_rocs.append(roc_auc_score(\n",
    "                                            md.loc[md.index[test_inds]].label.values, \n",
    "                                            preds[:, 1]\n",
    "                                            ) )\n",
    "            \n",
    "            all_groupings.append(grouping)\n",
    "\n",
    "            \n",
    "            print('Aggregation')\n",
    "            print(all_groupings)\n",
    "            print('Base:')\n",
    "            print(all_base_rocs)\n",
    "            print('DEBIAS-M:')\n",
    "            print(all_dm_rocs)"
   ]
  },
  {
   "cell_type": "code",
   "execution_count": 8,
   "id": "7c5bdb38",
   "metadata": {},
   "outputs": [],
   "source": [
    "order = ['Species', 'Genus', 'Family'][::-1]"
   ]
  },
  {
   "cell_type": "code",
   "execution_count": 9,
   "id": "550f06ee",
   "metadata": {},
   "outputs": [],
   "source": [
    "test_sds=[]\n",
    "for train_inds, test_inds in logo.split(df_with_batch, y, md.Study):\n",
    "    if y[test_inds].nunique()>1:\n",
    "        test_sds.append( df_with_batch.values[test_inds][0, 0] )\n",
    "        \n",
    "base_dm_otu_rocs = list( pd.read_csv('../results/CRC/auroc-boxplot-linear.csv')\\\n",
    "                                    .query(\"Group=='debias-m'\").auROC.values )\n",
    "\n",
    "base_dm_otu_rocs=list( pd.DataFrame({'auc':base_dm_otu_rocs, \n",
    "                'ord':[a for a in df_with_batch[0].unique() if a in test_sds]\n",
    "                }).sort_values('ord').auc.values )\n",
    "\n",
    "base_reg_otu_rocs = list( pd.read_csv('../results/CRC/auroc-boxplot-linear.csv')\\\n",
    "                                    .query(\"Group=='linear'\").auROC.values )\n",
    "\n",
    "base_reg_otu_rocs=list( pd.DataFrame({'auc':base_reg_otu_rocs, \n",
    "                'ord':[a for a in df_with_batch[0].unique() if a in test_sds]\n",
    "                }).sort_values('ord').auc.values )\n",
    "\n",
    "\n",
    "all_results = pd.DataFrame({'auROC':all_base_rocs + all_dm_rocs, \n",
    "                            'Group':['Raw']*len(all_base_rocs) + ['DEBIAS-M']*len(all_dm_rocs),\n",
    "                            'Aggregation':all_groupings*2\n",
    "                            })\n",
    "\n",
    "pal=plotting.global_palette\n",
    "pal['Raw'] = pal['linear']\n",
    "pal['DEBIAS-M'] = pal['debias-m']\n",
    "\n",
    "gran_base_results = pd.DataFrame({'auROC':base_reg_otu_rocs + base_dm_otu_rocs, \n",
    "                            'Group':['Raw']*len(base_reg_otu_rocs) + ['DEBIAS-M']*len(base_dm_otu_rocs),\n",
    "                            'Aggregation':'Species'\n",
    "                            })\n",
    "\n",
    "all_results = pd.concat([all_results, gran_base_results])"
   ]
  },
  {
   "cell_type": "code",
   "execution_count": 11,
   "id": "fe6a4454",
   "metadata": {},
   "outputs": [],
   "source": [
    "# all_results"
   ]
  },
  {
   "cell_type": "code",
   "execution_count": 13,
   "id": "fa82a2b5",
   "metadata": {},
   "outputs": [
    {
     "data": {
      "text/plain": [
       "Order      20\n",
       "Class      20\n",
       "Genus      20\n",
       "Family     20\n",
       "Species    20\n",
       "Name: Aggregation, dtype: int64"
      ]
     },
     "execution_count": 13,
     "metadata": {},
     "output_type": "execute_result"
    }
   ],
   "source": [
    "all_results.Aggregation.value_counts()"
   ]
  },
  {
   "cell_type": "code",
   "execution_count": 12,
   "id": "34bb8fbe",
   "metadata": {},
   "outputs": [],
   "source": [
    "pal=plotting.global_palette\n",
    "pal['Raw'] = pal['linear']\n",
    "pal['DEBIAS-M'] = pal['debias-m']"
   ]
  },
  {
   "cell_type": "code",
   "execution_count": 22,
   "id": "820c36fa",
   "metadata": {},
   "outputs": [
    {
     "data": {
      "image/png": "[encoded data removed]",
      "text/plain": [
       "<Figure size 576x576 with 1 Axes>"
      ]
     },
     "metadata": {},
     "output_type": "display_data"
    }
   ],
   "source": [
    "plt.figure(figsize=(8,8))\n",
    "ax=sns.boxplot(y='auROC', \n",
    "               x='Aggregation',\n",
    "               hue='Group', \n",
    "               data = all_results, \n",
    "               fliersize=0,\n",
    "               order=order[-3:],\n",
    "               palette=pal\n",
    "               )\n",
    "\n",
    "handles, labels = ax.get_legend_handles_labels()\n",
    "\n",
    "sns.swarmplot(hue='Group', \n",
    "              y='auROC', \n",
    "              x='Aggregation',\n",
    "              data = all_results,\n",
    "              color='black',\n",
    "              s=5,\n",
    "              order=order[-3:], \n",
    "              dodge=True, \n",
    "              )\n",
    "\n",
    "\n",
    "ax.legend(handles[:2], labels[:2])\n",
    "plt.legend().remove()\n",
    "plt.yticks([.2, .4, .6, .8, 1])\n",
    "plt.ylim(0.1, 1)\n",
    "plt.title('DEBIAS-M predicts CRC better\\nat granular aggregations')\n",
    "\n",
    "plt.savefig('../results/taxonomy-aggregation/agg-CRC-results.pdf', \n",
    "            format='pdf', \n",
    "            dpi=900, \n",
    "            bbox_inches='tight'\n",
    "            )\n",
    "\n",
    "plt.show()"
   ]
  },
  {
   "cell_type": "code",
   "execution_count": 23,
   "id": "1e529a5a",
   "metadata": {},
   "outputs": [
    {
     "data": {
      "text/plain": [
       "{'Genus': WilcoxonResult(statistic=11.0, pvalue=0.10546875),\n",
       " 'Family': WilcoxonResult(statistic=14.0, pvalue=0.193359375),\n",
       " 'Order': WilcoxonResult(statistic=12.0, pvalue=0.130859375),\n",
       " 'Class': WilcoxonResult(statistic=1.0, pvalue=0.00390625),\n",
       " 'Species': WilcoxonResult(statistic=3.0, pvalue=0.009765625)}"
      ]
     },
     "execution_count": 23,
     "metadata": {},
     "output_type": "execute_result"
    }
   ],
   "source": [
    "from scipy.stats import wilcoxon\n",
    "\n",
    "{a: wilcoxon(\n",
    "    all_results.loc[(all_results.Group=='Raw')&\\\n",
    "                    (all_results.Aggregation==a)].auROC, \n",
    "    all_results.loc[(all_results.Group=='DEBIAS-M')&\\\n",
    "                    (all_results.Aggregation==a)].auROC )\n",
    " for a in all_results.Aggregation.unique() }"
   ]
  },
  {
   "cell_type": "code",
   "execution_count": 24,
   "id": "d6e640fe",
   "metadata": {},
   "outputs": [
    {
     "data": {
      "text/plain": [
       "[\"{('Family', 'Genus'): WilcoxonResult(statistic=9.0, pvalue=0.064453125), ('Order', 'Genus'): WilcoxonResult(statistic=1.0, pvalue=0.00390625), ('Class', 'Genus'): WilcoxonResult(statistic=0.0, pvalue=0.001953125), ('Species', 'Genus'): WilcoxonResult(statistic=24.0, pvalue=0.76953125)}\",\n",
       " \"{('Genus', 'Family'): WilcoxonResult(statistic=9.0, pvalue=0.064453125), ('Order', 'Family'): WilcoxonResult(statistic=6.0, pvalue=0.02734375), ('Class', 'Family'): WilcoxonResult(statistic=0.0, pvalue=0.001953125), ('Species', 'Family'): WilcoxonResult(statistic=11.0, pvalue=0.10546875)}\",\n",
       " \"{('Genus', 'Order'): WilcoxonResult(statistic=1.0, pvalue=0.00390625), ('Family', 'Order'): WilcoxonResult(statistic=6.0, pvalue=0.02734375), ('Class', 'Order'): WilcoxonResult(statistic=1.0, pvalue=0.00390625), ('Species', 'Order'): WilcoxonResult(statistic=8.0, pvalue=0.048828125)}\",\n",
       " \"{('Genus', 'Class'): WilcoxonResult(statistic=0.0, pvalue=0.001953125), ('Family', 'Class'): WilcoxonResult(statistic=0.0, pvalue=0.001953125), ('Order', 'Class'): WilcoxonResult(statistic=1.0, pvalue=0.00390625), ('Species', 'Class'): WilcoxonResult(statistic=1.0, pvalue=0.00390625)}\",\n",
       " \"{('Genus', 'Species'): WilcoxonResult(statistic=24.0, pvalue=0.76953125), ('Family', 'Species'): WilcoxonResult(statistic=11.0, pvalue=0.10546875), ('Order', 'Species'): WilcoxonResult(statistic=8.0, pvalue=0.048828125), ('Class', 'Species'): WilcoxonResult(statistic=1.0, pvalue=0.00390625)}\"]"
      ]
     },
     "execution_count": 24,
     "metadata": {},
     "output_type": "execute_result"
    }
   ],
   "source": [
    "[ str({(a,b): wilcoxon(\n",
    "            all_results.loc[(all_results.Group=='DEBIAS-M')&\\\n",
    "                            (all_results.Aggregation==a)].auROC, \n",
    "            all_results.loc[(all_results.Group=='DEBIAS-M')&\\\n",
    "                            (all_results.Aggregation==b)].auROC )\n",
    "         for a in all_results.Aggregation.unique() if a !=b })\n",
    "                  \n",
    "          for b in all_results.Aggregation.unique()]"
   ]
  }
 ],
 "metadata": {
  "kernelspec": {
   "display_name": "pl2",
   "language": "python",
   "name": "pl2"
  },
  "language_info": {
   "codemirror_mode": {
    "name": "ipython",
    "version": 3
   },
   "file_extension": ".py",
   "mimetype": "text/x-python",
   "name": "python",
   "nbconvert_exporter": "python",
   "pygments_lexer": "ipython3",
   "version": "3.6.15"
  }
 },
 "nbformat": 4,
 "nbformat_minor": 5
}
